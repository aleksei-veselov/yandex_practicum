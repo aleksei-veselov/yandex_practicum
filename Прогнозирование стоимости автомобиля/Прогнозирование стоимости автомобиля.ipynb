{
 "cells": [
  {
   "cell_type": "markdown",
   "metadata": {
    "id": "bIjjz6UF1zkz"
   },
   "source": [
    "# Определение стоимости автомобилей"
   ]
  },
  {
   "cell_type": "markdown",
   "metadata": {
    "id": "dg59lAK_1zk0"
   },
   "source": [
    "Сервис по продаже автомобилей с пробегом «Не бит, не крашен» разрабатывает приложение для привлечения новых клиентов. В нём можно быстро узнать рыночную стоимость своего автомобиля. В вашем распоряжении исторические данные: технические характеристики, комплектации и цены автомобилей. Вам нужно построить модель для определения стоимости.\n",
    "\n",
    "Заказчику важны:\n",
    "\n",
    "- качество предсказания;\n",
    "- скорость предсказания;\n",
    "- время обучения."
   ]
  },
  {
   "cell_type": "markdown",
   "metadata": {
    "id": "8wFp-Epf1zk0"
   },
   "source": [
    "**Описание данных:**\n",
    "\n",
    "Признаки:\n",
    "- DateCrawled — дата скачивания анкеты из базы;\n",
    "- VehicleType — тип автомобильного кузова;\n",
    "- RegistrationYear — год регистрации автомобиля;\n",
    "- Gearbox — тип коробки передач;\n",
    "- Power — мощность (л. с.);\n",
    "- Model — модель автомобиля;\n",
    "- Kilometer — пробег (км);\n",
    "- RegistrationMonth — месяц регистрации автомобиля;\n",
    "- FuelType — тип топлива;\n",
    "- Brand — марка автомобиля;\n",
    "- Repaired — была машина в ремонте или нет;\n",
    "- DateCreated — дата создания анкеты;\n",
    "- NumberOfPictures — количество фотографий автомобиля;\n",
    "- PostalCode — почтовый индекс владельца анкеты (пользователя);\n",
    "- LastSeen — дата последней активности пользователя.\n",
    "\n",
    "Целевой признак:\n",
    "- Price — цена (евро)."
   ]
  },
  {
   "cell_type": "markdown",
   "metadata": {
    "id": "42s1cspE1zk1"
   },
   "source": [
    "## Подготовка данных"
   ]
  },
  {
   "cell_type": "code",
   "execution_count": 1,
   "metadata": {
    "colab": {
     "base_uri": "https://localhost:8080/"
    },
    "id": "l5wtcbxL1zk2",
    "outputId": "05bf7e07-150c-4e06-c9f4-80d3ecc97f97"
   },
   "outputs": [
    {
     "name": "stdout",
     "output_type": "stream",
     "text": [
      "Collecting category_encoders\n",
      "  Downloading category_encoders-2.6.1-py2.py3-none-any.whl (81 kB)\n",
      "\u001b[K     |████████████████████████████████| 81 kB 30 kB/s  eta 0:00:01\n",
      "\u001b[?25hRequirement already satisfied: scikit-learn>=0.20.0 in /opt/conda/lib/python3.9/site-packages (from category_encoders) (0.24.1)\n",
      "Requirement already satisfied: patsy>=0.5.1 in /opt/conda/lib/python3.9/site-packages (from category_encoders) (0.5.2)\n",
      "Requirement already satisfied: statsmodels>=0.9.0 in /opt/conda/lib/python3.9/site-packages (from category_encoders) (0.13.2)\n",
      "Requirement already satisfied: pandas>=1.0.5 in /opt/conda/lib/python3.9/site-packages (from category_encoders) (1.2.4)\n",
      "Requirement already satisfied: scipy>=1.0.0 in /opt/conda/lib/python3.9/site-packages (from category_encoders) (1.9.1)\n",
      "Requirement already satisfied: numpy>=1.14.0 in /opt/conda/lib/python3.9/site-packages (from category_encoders) (1.21.1)\n",
      "Requirement already satisfied: python-dateutil>=2.7.3 in /opt/conda/lib/python3.9/site-packages (from pandas>=1.0.5->category_encoders) (2.8.1)\n",
      "Requirement already satisfied: pytz>=2017.3 in /opt/conda/lib/python3.9/site-packages (from pandas>=1.0.5->category_encoders) (2021.1)\n",
      "Requirement already satisfied: six in /opt/conda/lib/python3.9/site-packages (from patsy>=0.5.1->category_encoders) (1.16.0)\n",
      "Requirement already satisfied: joblib>=0.11 in /opt/conda/lib/python3.9/site-packages (from scikit-learn>=0.20.0->category_encoders) (1.1.0)\n",
      "Requirement already satisfied: threadpoolctl>=2.0.0 in /opt/conda/lib/python3.9/site-packages (from scikit-learn>=0.20.0->category_encoders) (3.1.0)\n",
      "Requirement already satisfied: packaging>=21.3 in /opt/conda/lib/python3.9/site-packages (from statsmodels>=0.9.0->category_encoders) (21.3)\n",
      "Requirement already satisfied: pyparsing!=3.0.5,>=2.0.2 in /opt/conda/lib/python3.9/site-packages (from packaging>=21.3->statsmodels>=0.9.0->category_encoders) (2.4.7)\n",
      "Installing collected packages: category-encoders\n",
      "Successfully installed category-encoders-2.6.1\n",
      "Requirement already satisfied: scikit-learn in /opt/conda/lib/python3.9/site-packages (0.24.1)\n",
      "Collecting scikit-learn\n",
      "  Downloading scikit_learn-1.2.2-cp39-cp39-manylinux_2_17_x86_64.manylinux2014_x86_64.whl (9.6 MB)\n",
      "\u001b[K     |████████████████████████████████| 9.6 MB 1.2 MB/s eta 0:00:01\n",
      "\u001b[?25hRequirement already satisfied: scipy>=1.3.2 in /opt/conda/lib/python3.9/site-packages (from scikit-learn) (1.9.1)\n",
      "Collecting joblib>=1.1.1\n",
      "  Downloading joblib-1.2.0-py3-none-any.whl (297 kB)\n",
      "\u001b[K     |████████████████████████████████| 297 kB 78.7 MB/s eta 0:00:01\n",
      "\u001b[?25hRequirement already satisfied: threadpoolctl>=2.0.0 in /opt/conda/lib/python3.9/site-packages (from scikit-learn) (3.1.0)\n",
      "Requirement already satisfied: numpy>=1.17.3 in /opt/conda/lib/python3.9/site-packages (from scikit-learn) (1.21.1)\n",
      "Installing collected packages: joblib, scikit-learn\n",
      "Successfully installed joblib-1.2.0 scikit-learn-1.2.2\n"
     ]
    }
   ],
   "source": [
    "import pandas as pd\n",
    "import seaborn as sns\n",
    "import numpy as np\n",
    "import time\n",
    "from sklearn.compose import make_column_transformer\n",
    "from sklearn.ensemble import RandomForestRegressor\n",
    "from sklearn.linear_model import Ridge\n",
    "from sklearn.metrics import mean_squared_error\n",
    "from sklearn.model_selection import (\n",
    "    GridSearchCV,\n",
    "    RandomizedSearchCV,\n",
    "    train_test_split\n",
    ")\n",
    "from sklearn.pipeline import make_pipeline\n",
    "from sklearn.preprocessing import (\n",
    "    OrdinalEncoder,\n",
    "    StandardScaler\n",
    ")\n",
    "!pip install category_encoders\n",
    "import category_encoders as ce\n",
    "from lightgbm import LGBMRegressor\n",
    "!pip install -U --user scikit-learn"
   ]
  },
  {
   "cell_type": "code",
   "execution_count": null,
   "metadata": {
    "id": "9GQ6-l4z1zk4"
   },
   "outputs": [],
   "source": []
  },
  {
   "cell_type": "code",
   "execution_count": 2,
   "metadata": {
    "id": "piXkQR5w1zk6"
   },
   "outputs": [],
   "source": [
    "def get_df_info(df):\n",
    "    display(df.sample(5))\n",
    "    display(df.info())\n",
    "    display(df.describe())\n",
    "    display(df.describe(include='all'))"
   ]
  },
  {
   "cell_type": "code",
   "execution_count": 3,
   "metadata": {
    "id": "2wCkDfji1zk6"
   },
   "outputs": [],
   "source": [
    "try:\n",
    "    df = pd.read_csv('/datasets/autos.csv')\n",
    "except:\n",
    "    df = pd.read_csv('/content/autos.csv')"
   ]
  },
  {
   "cell_type": "code",
   "execution_count": 4,
   "metadata": {
    "colab": {
     "base_uri": "https://localhost:8080/",
     "height": 1000
    },
    "id": "e0kPNmZ21zk9",
    "outputId": "f8b76a9a-6322-4c35-8db2-e2e753237ce9"
   },
   "outputs": [
    {
     "data": {
      "text/html": [
       "<div>\n",
       "<style scoped>\n",
       "    .dataframe tbody tr th:only-of-type {\n",
       "        vertical-align: middle;\n",
       "    }\n",
       "\n",
       "    .dataframe tbody tr th {\n",
       "        vertical-align: top;\n",
       "    }\n",
       "\n",
       "    .dataframe thead th {\n",
       "        text-align: right;\n",
       "    }\n",
       "</style>\n",
       "<table border=\"1\" class=\"dataframe\">\n",
       "  <thead>\n",
       "    <tr style=\"text-align: right;\">\n",
       "      <th></th>\n",
       "      <th>DateCrawled</th>\n",
       "      <th>Price</th>\n",
       "      <th>VehicleType</th>\n",
       "      <th>RegistrationYear</th>\n",
       "      <th>Gearbox</th>\n",
       "      <th>Power</th>\n",
       "      <th>Model</th>\n",
       "      <th>Kilometer</th>\n",
       "      <th>RegistrationMonth</th>\n",
       "      <th>FuelType</th>\n",
       "      <th>Brand</th>\n",
       "      <th>Repaired</th>\n",
       "      <th>DateCreated</th>\n",
       "      <th>NumberOfPictures</th>\n",
       "      <th>PostalCode</th>\n",
       "      <th>LastSeen</th>\n",
       "    </tr>\n",
       "  </thead>\n",
       "  <tbody>\n",
       "    <tr>\n",
       "      <th>55843</th>\n",
       "      <td>2016-03-21 16:37:00</td>\n",
       "      <td>3700</td>\n",
       "      <td>sedan</td>\n",
       "      <td>2001</td>\n",
       "      <td>manual</td>\n",
       "      <td>170</td>\n",
       "      <td>3er</td>\n",
       "      <td>150000</td>\n",
       "      <td>8</td>\n",
       "      <td>petrol</td>\n",
       "      <td>bmw</td>\n",
       "      <td>no</td>\n",
       "      <td>2016-03-21 00:00:00</td>\n",
       "      <td>0</td>\n",
       "      <td>60439</td>\n",
       "      <td>2016-03-23 13:29:49</td>\n",
       "    </tr>\n",
       "    <tr>\n",
       "      <th>173443</th>\n",
       "      <td>2016-03-28 12:52:14</td>\n",
       "      <td>1500</td>\n",
       "      <td>wagon</td>\n",
       "      <td>2000</td>\n",
       "      <td>manual</td>\n",
       "      <td>81</td>\n",
       "      <td>octavia</td>\n",
       "      <td>150000</td>\n",
       "      <td>0</td>\n",
       "      <td>gasoline</td>\n",
       "      <td>skoda</td>\n",
       "      <td>NaN</td>\n",
       "      <td>2016-03-28 00:00:00</td>\n",
       "      <td>0</td>\n",
       "      <td>79280</td>\n",
       "      <td>2016-03-30 03:18:02</td>\n",
       "    </tr>\n",
       "    <tr>\n",
       "      <th>351937</th>\n",
       "      <td>2016-03-08 18:52:12</td>\n",
       "      <td>250</td>\n",
       "      <td>small</td>\n",
       "      <td>1997</td>\n",
       "      <td>manual</td>\n",
       "      <td>0</td>\n",
       "      <td>1_reihe</td>\n",
       "      <td>90000</td>\n",
       "      <td>3</td>\n",
       "      <td>petrol</td>\n",
       "      <td>peugeot</td>\n",
       "      <td>no</td>\n",
       "      <td>2016-03-08 00:00:00</td>\n",
       "      <td>0</td>\n",
       "      <td>15234</td>\n",
       "      <td>2016-03-12 04:45:51</td>\n",
       "    </tr>\n",
       "    <tr>\n",
       "      <th>293765</th>\n",
       "      <td>2016-03-20 10:51:20</td>\n",
       "      <td>5490</td>\n",
       "      <td>sedan</td>\n",
       "      <td>2005</td>\n",
       "      <td>manual</td>\n",
       "      <td>140</td>\n",
       "      <td>a_klasse</td>\n",
       "      <td>150000</td>\n",
       "      <td>2</td>\n",
       "      <td>gasoline</td>\n",
       "      <td>mercedes_benz</td>\n",
       "      <td>no</td>\n",
       "      <td>2016-03-20 00:00:00</td>\n",
       "      <td>0</td>\n",
       "      <td>34628</td>\n",
       "      <td>2016-03-21 13:15:18</td>\n",
       "    </tr>\n",
       "    <tr>\n",
       "      <th>152260</th>\n",
       "      <td>2016-03-22 12:48:10</td>\n",
       "      <td>11000</td>\n",
       "      <td>wagon</td>\n",
       "      <td>2009</td>\n",
       "      <td>manual</td>\n",
       "      <td>170</td>\n",
       "      <td>a4</td>\n",
       "      <td>150000</td>\n",
       "      <td>11</td>\n",
       "      <td>gasoline</td>\n",
       "      <td>audi</td>\n",
       "      <td>NaN</td>\n",
       "      <td>2016-03-22 00:00:00</td>\n",
       "      <td>0</td>\n",
       "      <td>99706</td>\n",
       "      <td>2016-04-06 01:17:45</td>\n",
       "    </tr>\n",
       "  </tbody>\n",
       "</table>\n",
       "</div>"
      ],
      "text/plain": [
       "                DateCrawled  Price VehicleType  RegistrationYear Gearbox  \\\n",
       "55843   2016-03-21 16:37:00   3700       sedan              2001  manual   \n",
       "173443  2016-03-28 12:52:14   1500       wagon              2000  manual   \n",
       "351937  2016-03-08 18:52:12    250       small              1997  manual   \n",
       "293765  2016-03-20 10:51:20   5490       sedan              2005  manual   \n",
       "152260  2016-03-22 12:48:10  11000       wagon              2009  manual   \n",
       "\n",
       "        Power     Model  Kilometer  RegistrationMonth  FuelType  \\\n",
       "55843     170       3er     150000                  8    petrol   \n",
       "173443     81   octavia     150000                  0  gasoline   \n",
       "351937      0   1_reihe      90000                  3    petrol   \n",
       "293765    140  a_klasse     150000                  2  gasoline   \n",
       "152260    170        a4     150000                 11  gasoline   \n",
       "\n",
       "                Brand Repaired          DateCreated  NumberOfPictures  \\\n",
       "55843             bmw       no  2016-03-21 00:00:00                 0   \n",
       "173443          skoda      NaN  2016-03-28 00:00:00                 0   \n",
       "351937        peugeot       no  2016-03-08 00:00:00                 0   \n",
       "293765  mercedes_benz       no  2016-03-20 00:00:00                 0   \n",
       "152260           audi      NaN  2016-03-22 00:00:00                 0   \n",
       "\n",
       "        PostalCode             LastSeen  \n",
       "55843        60439  2016-03-23 13:29:49  \n",
       "173443       79280  2016-03-30 03:18:02  \n",
       "351937       15234  2016-03-12 04:45:51  \n",
       "293765       34628  2016-03-21 13:15:18  \n",
       "152260       99706  2016-04-06 01:17:45  "
      ]
     },
     "metadata": {},
     "output_type": "display_data"
    },
    {
     "name": "stdout",
     "output_type": "stream",
     "text": [
      "<class 'pandas.core.frame.DataFrame'>\n",
      "RangeIndex: 354369 entries, 0 to 354368\n",
      "Data columns (total 16 columns):\n",
      " #   Column             Non-Null Count   Dtype \n",
      "---  ------             --------------   ----- \n",
      " 0   DateCrawled        354369 non-null  object\n",
      " 1   Price              354369 non-null  int64 \n",
      " 2   VehicleType        316879 non-null  object\n",
      " 3   RegistrationYear   354369 non-null  int64 \n",
      " 4   Gearbox            334536 non-null  object\n",
      " 5   Power              354369 non-null  int64 \n",
      " 6   Model              334664 non-null  object\n",
      " 7   Kilometer          354369 non-null  int64 \n",
      " 8   RegistrationMonth  354369 non-null  int64 \n",
      " 9   FuelType           321474 non-null  object\n",
      " 10  Brand              354369 non-null  object\n",
      " 11  Repaired           283215 non-null  object\n",
      " 12  DateCreated        354369 non-null  object\n",
      " 13  NumberOfPictures   354369 non-null  int64 \n",
      " 14  PostalCode         354369 non-null  int64 \n",
      " 15  LastSeen           354369 non-null  object\n",
      "dtypes: int64(7), object(9)\n",
      "memory usage: 43.3+ MB\n"
     ]
    },
    {
     "data": {
      "text/plain": [
       "None"
      ]
     },
     "metadata": {},
     "output_type": "display_data"
    },
    {
     "data": {
      "text/html": [
       "<div>\n",
       "<style scoped>\n",
       "    .dataframe tbody tr th:only-of-type {\n",
       "        vertical-align: middle;\n",
       "    }\n",
       "\n",
       "    .dataframe tbody tr th {\n",
       "        vertical-align: top;\n",
       "    }\n",
       "\n",
       "    .dataframe thead th {\n",
       "        text-align: right;\n",
       "    }\n",
       "</style>\n",
       "<table border=\"1\" class=\"dataframe\">\n",
       "  <thead>\n",
       "    <tr style=\"text-align: right;\">\n",
       "      <th></th>\n",
       "      <th>Price</th>\n",
       "      <th>RegistrationYear</th>\n",
       "      <th>Power</th>\n",
       "      <th>Kilometer</th>\n",
       "      <th>RegistrationMonth</th>\n",
       "      <th>NumberOfPictures</th>\n",
       "      <th>PostalCode</th>\n",
       "    </tr>\n",
       "  </thead>\n",
       "  <tbody>\n",
       "    <tr>\n",
       "      <th>count</th>\n",
       "      <td>354369.000000</td>\n",
       "      <td>354369.000000</td>\n",
       "      <td>354369.000000</td>\n",
       "      <td>354369.000000</td>\n",
       "      <td>354369.000000</td>\n",
       "      <td>354369.0</td>\n",
       "      <td>354369.000000</td>\n",
       "    </tr>\n",
       "    <tr>\n",
       "      <th>mean</th>\n",
       "      <td>4416.656776</td>\n",
       "      <td>2004.234448</td>\n",
       "      <td>110.094337</td>\n",
       "      <td>128211.172535</td>\n",
       "      <td>5.714645</td>\n",
       "      <td>0.0</td>\n",
       "      <td>50508.689087</td>\n",
       "    </tr>\n",
       "    <tr>\n",
       "      <th>std</th>\n",
       "      <td>4514.158514</td>\n",
       "      <td>90.227958</td>\n",
       "      <td>189.850405</td>\n",
       "      <td>37905.341530</td>\n",
       "      <td>3.726421</td>\n",
       "      <td>0.0</td>\n",
       "      <td>25783.096248</td>\n",
       "    </tr>\n",
       "    <tr>\n",
       "      <th>min</th>\n",
       "      <td>0.000000</td>\n",
       "      <td>1000.000000</td>\n",
       "      <td>0.000000</td>\n",
       "      <td>5000.000000</td>\n",
       "      <td>0.000000</td>\n",
       "      <td>0.0</td>\n",
       "      <td>1067.000000</td>\n",
       "    </tr>\n",
       "    <tr>\n",
       "      <th>25%</th>\n",
       "      <td>1050.000000</td>\n",
       "      <td>1999.000000</td>\n",
       "      <td>69.000000</td>\n",
       "      <td>125000.000000</td>\n",
       "      <td>3.000000</td>\n",
       "      <td>0.0</td>\n",
       "      <td>30165.000000</td>\n",
       "    </tr>\n",
       "    <tr>\n",
       "      <th>50%</th>\n",
       "      <td>2700.000000</td>\n",
       "      <td>2003.000000</td>\n",
       "      <td>105.000000</td>\n",
       "      <td>150000.000000</td>\n",
       "      <td>6.000000</td>\n",
       "      <td>0.0</td>\n",
       "      <td>49413.000000</td>\n",
       "    </tr>\n",
       "    <tr>\n",
       "      <th>75%</th>\n",
       "      <td>6400.000000</td>\n",
       "      <td>2008.000000</td>\n",
       "      <td>143.000000</td>\n",
       "      <td>150000.000000</td>\n",
       "      <td>9.000000</td>\n",
       "      <td>0.0</td>\n",
       "      <td>71083.000000</td>\n",
       "    </tr>\n",
       "    <tr>\n",
       "      <th>max</th>\n",
       "      <td>20000.000000</td>\n",
       "      <td>9999.000000</td>\n",
       "      <td>20000.000000</td>\n",
       "      <td>150000.000000</td>\n",
       "      <td>12.000000</td>\n",
       "      <td>0.0</td>\n",
       "      <td>99998.000000</td>\n",
       "    </tr>\n",
       "  </tbody>\n",
       "</table>\n",
       "</div>"
      ],
      "text/plain": [
       "               Price  RegistrationYear          Power      Kilometer  \\\n",
       "count  354369.000000     354369.000000  354369.000000  354369.000000   \n",
       "mean     4416.656776       2004.234448     110.094337  128211.172535   \n",
       "std      4514.158514         90.227958     189.850405   37905.341530   \n",
       "min         0.000000       1000.000000       0.000000    5000.000000   \n",
       "25%      1050.000000       1999.000000      69.000000  125000.000000   \n",
       "50%      2700.000000       2003.000000     105.000000  150000.000000   \n",
       "75%      6400.000000       2008.000000     143.000000  150000.000000   \n",
       "max     20000.000000       9999.000000   20000.000000  150000.000000   \n",
       "\n",
       "       RegistrationMonth  NumberOfPictures     PostalCode  \n",
       "count      354369.000000          354369.0  354369.000000  \n",
       "mean            5.714645               0.0   50508.689087  \n",
       "std             3.726421               0.0   25783.096248  \n",
       "min             0.000000               0.0    1067.000000  \n",
       "25%             3.000000               0.0   30165.000000  \n",
       "50%             6.000000               0.0   49413.000000  \n",
       "75%             9.000000               0.0   71083.000000  \n",
       "max            12.000000               0.0   99998.000000  "
      ]
     },
     "metadata": {},
     "output_type": "display_data"
    },
    {
     "data": {
      "text/html": [
       "<div>\n",
       "<style scoped>\n",
       "    .dataframe tbody tr th:only-of-type {\n",
       "        vertical-align: middle;\n",
       "    }\n",
       "\n",
       "    .dataframe tbody tr th {\n",
       "        vertical-align: top;\n",
       "    }\n",
       "\n",
       "    .dataframe thead th {\n",
       "        text-align: right;\n",
       "    }\n",
       "</style>\n",
       "<table border=\"1\" class=\"dataframe\">\n",
       "  <thead>\n",
       "    <tr style=\"text-align: right;\">\n",
       "      <th></th>\n",
       "      <th>DateCrawled</th>\n",
       "      <th>Price</th>\n",
       "      <th>VehicleType</th>\n",
       "      <th>RegistrationYear</th>\n",
       "      <th>Gearbox</th>\n",
       "      <th>Power</th>\n",
       "      <th>Model</th>\n",
       "      <th>Kilometer</th>\n",
       "      <th>RegistrationMonth</th>\n",
       "      <th>FuelType</th>\n",
       "      <th>Brand</th>\n",
       "      <th>Repaired</th>\n",
       "      <th>DateCreated</th>\n",
       "      <th>NumberOfPictures</th>\n",
       "      <th>PostalCode</th>\n",
       "      <th>LastSeen</th>\n",
       "    </tr>\n",
       "  </thead>\n",
       "  <tbody>\n",
       "    <tr>\n",
       "      <th>count</th>\n",
       "      <td>354369</td>\n",
       "      <td>354369.000000</td>\n",
       "      <td>316879</td>\n",
       "      <td>354369.000000</td>\n",
       "      <td>334536</td>\n",
       "      <td>354369.000000</td>\n",
       "      <td>334664</td>\n",
       "      <td>354369.000000</td>\n",
       "      <td>354369.000000</td>\n",
       "      <td>321474</td>\n",
       "      <td>354369</td>\n",
       "      <td>283215</td>\n",
       "      <td>354369</td>\n",
       "      <td>354369.0</td>\n",
       "      <td>354369.000000</td>\n",
       "      <td>354369</td>\n",
       "    </tr>\n",
       "    <tr>\n",
       "      <th>unique</th>\n",
       "      <td>271174</td>\n",
       "      <td>NaN</td>\n",
       "      <td>8</td>\n",
       "      <td>NaN</td>\n",
       "      <td>2</td>\n",
       "      <td>NaN</td>\n",
       "      <td>250</td>\n",
       "      <td>NaN</td>\n",
       "      <td>NaN</td>\n",
       "      <td>7</td>\n",
       "      <td>40</td>\n",
       "      <td>2</td>\n",
       "      <td>109</td>\n",
       "      <td>NaN</td>\n",
       "      <td>NaN</td>\n",
       "      <td>179150</td>\n",
       "    </tr>\n",
       "    <tr>\n",
       "      <th>top</th>\n",
       "      <td>2016-03-24 14:49:47</td>\n",
       "      <td>NaN</td>\n",
       "      <td>sedan</td>\n",
       "      <td>NaN</td>\n",
       "      <td>manual</td>\n",
       "      <td>NaN</td>\n",
       "      <td>golf</td>\n",
       "      <td>NaN</td>\n",
       "      <td>NaN</td>\n",
       "      <td>petrol</td>\n",
       "      <td>volkswagen</td>\n",
       "      <td>no</td>\n",
       "      <td>2016-04-03 00:00:00</td>\n",
       "      <td>NaN</td>\n",
       "      <td>NaN</td>\n",
       "      <td>2016-04-06 13:45:54</td>\n",
       "    </tr>\n",
       "    <tr>\n",
       "      <th>freq</th>\n",
       "      <td>7</td>\n",
       "      <td>NaN</td>\n",
       "      <td>91457</td>\n",
       "      <td>NaN</td>\n",
       "      <td>268251</td>\n",
       "      <td>NaN</td>\n",
       "      <td>29232</td>\n",
       "      <td>NaN</td>\n",
       "      <td>NaN</td>\n",
       "      <td>216352</td>\n",
       "      <td>77013</td>\n",
       "      <td>247161</td>\n",
       "      <td>13719</td>\n",
       "      <td>NaN</td>\n",
       "      <td>NaN</td>\n",
       "      <td>17</td>\n",
       "    </tr>\n",
       "    <tr>\n",
       "      <th>mean</th>\n",
       "      <td>NaN</td>\n",
       "      <td>4416.656776</td>\n",
       "      <td>NaN</td>\n",
       "      <td>2004.234448</td>\n",
       "      <td>NaN</td>\n",
       "      <td>110.094337</td>\n",
       "      <td>NaN</td>\n",
       "      <td>128211.172535</td>\n",
       "      <td>5.714645</td>\n",
       "      <td>NaN</td>\n",
       "      <td>NaN</td>\n",
       "      <td>NaN</td>\n",
       "      <td>NaN</td>\n",
       "      <td>0.0</td>\n",
       "      <td>50508.689087</td>\n",
       "      <td>NaN</td>\n",
       "    </tr>\n",
       "    <tr>\n",
       "      <th>std</th>\n",
       "      <td>NaN</td>\n",
       "      <td>4514.158514</td>\n",
       "      <td>NaN</td>\n",
       "      <td>90.227958</td>\n",
       "      <td>NaN</td>\n",
       "      <td>189.850405</td>\n",
       "      <td>NaN</td>\n",
       "      <td>37905.341530</td>\n",
       "      <td>3.726421</td>\n",
       "      <td>NaN</td>\n",
       "      <td>NaN</td>\n",
       "      <td>NaN</td>\n",
       "      <td>NaN</td>\n",
       "      <td>0.0</td>\n",
       "      <td>25783.096248</td>\n",
       "      <td>NaN</td>\n",
       "    </tr>\n",
       "    <tr>\n",
       "      <th>min</th>\n",
       "      <td>NaN</td>\n",
       "      <td>0.000000</td>\n",
       "      <td>NaN</td>\n",
       "      <td>1000.000000</td>\n",
       "      <td>NaN</td>\n",
       "      <td>0.000000</td>\n",
       "      <td>NaN</td>\n",
       "      <td>5000.000000</td>\n",
       "      <td>0.000000</td>\n",
       "      <td>NaN</td>\n",
       "      <td>NaN</td>\n",
       "      <td>NaN</td>\n",
       "      <td>NaN</td>\n",
       "      <td>0.0</td>\n",
       "      <td>1067.000000</td>\n",
       "      <td>NaN</td>\n",
       "    </tr>\n",
       "    <tr>\n",
       "      <th>25%</th>\n",
       "      <td>NaN</td>\n",
       "      <td>1050.000000</td>\n",
       "      <td>NaN</td>\n",
       "      <td>1999.000000</td>\n",
       "      <td>NaN</td>\n",
       "      <td>69.000000</td>\n",
       "      <td>NaN</td>\n",
       "      <td>125000.000000</td>\n",
       "      <td>3.000000</td>\n",
       "      <td>NaN</td>\n",
       "      <td>NaN</td>\n",
       "      <td>NaN</td>\n",
       "      <td>NaN</td>\n",
       "      <td>0.0</td>\n",
       "      <td>30165.000000</td>\n",
       "      <td>NaN</td>\n",
       "    </tr>\n",
       "    <tr>\n",
       "      <th>50%</th>\n",
       "      <td>NaN</td>\n",
       "      <td>2700.000000</td>\n",
       "      <td>NaN</td>\n",
       "      <td>2003.000000</td>\n",
       "      <td>NaN</td>\n",
       "      <td>105.000000</td>\n",
       "      <td>NaN</td>\n",
       "      <td>150000.000000</td>\n",
       "      <td>6.000000</td>\n",
       "      <td>NaN</td>\n",
       "      <td>NaN</td>\n",
       "      <td>NaN</td>\n",
       "      <td>NaN</td>\n",
       "      <td>0.0</td>\n",
       "      <td>49413.000000</td>\n",
       "      <td>NaN</td>\n",
       "    </tr>\n",
       "    <tr>\n",
       "      <th>75%</th>\n",
       "      <td>NaN</td>\n",
       "      <td>6400.000000</td>\n",
       "      <td>NaN</td>\n",
       "      <td>2008.000000</td>\n",
       "      <td>NaN</td>\n",
       "      <td>143.000000</td>\n",
       "      <td>NaN</td>\n",
       "      <td>150000.000000</td>\n",
       "      <td>9.000000</td>\n",
       "      <td>NaN</td>\n",
       "      <td>NaN</td>\n",
       "      <td>NaN</td>\n",
       "      <td>NaN</td>\n",
       "      <td>0.0</td>\n",
       "      <td>71083.000000</td>\n",
       "      <td>NaN</td>\n",
       "    </tr>\n",
       "    <tr>\n",
       "      <th>max</th>\n",
       "      <td>NaN</td>\n",
       "      <td>20000.000000</td>\n",
       "      <td>NaN</td>\n",
       "      <td>9999.000000</td>\n",
       "      <td>NaN</td>\n",
       "      <td>20000.000000</td>\n",
       "      <td>NaN</td>\n",
       "      <td>150000.000000</td>\n",
       "      <td>12.000000</td>\n",
       "      <td>NaN</td>\n",
       "      <td>NaN</td>\n",
       "      <td>NaN</td>\n",
       "      <td>NaN</td>\n",
       "      <td>0.0</td>\n",
       "      <td>99998.000000</td>\n",
       "      <td>NaN</td>\n",
       "    </tr>\n",
       "  </tbody>\n",
       "</table>\n",
       "</div>"
      ],
      "text/plain": [
       "                DateCrawled          Price VehicleType  RegistrationYear  \\\n",
       "count                354369  354369.000000      316879     354369.000000   \n",
       "unique               271174            NaN           8               NaN   \n",
       "top     2016-03-24 14:49:47            NaN       sedan               NaN   \n",
       "freq                      7            NaN       91457               NaN   \n",
       "mean                    NaN    4416.656776         NaN       2004.234448   \n",
       "std                     NaN    4514.158514         NaN         90.227958   \n",
       "min                     NaN       0.000000         NaN       1000.000000   \n",
       "25%                     NaN    1050.000000         NaN       1999.000000   \n",
       "50%                     NaN    2700.000000         NaN       2003.000000   \n",
       "75%                     NaN    6400.000000         NaN       2008.000000   \n",
       "max                     NaN   20000.000000         NaN       9999.000000   \n",
       "\n",
       "       Gearbox          Power   Model      Kilometer  RegistrationMonth  \\\n",
       "count   334536  354369.000000  334664  354369.000000      354369.000000   \n",
       "unique       2            NaN     250            NaN                NaN   \n",
       "top     manual            NaN    golf            NaN                NaN   \n",
       "freq    268251            NaN   29232            NaN                NaN   \n",
       "mean       NaN     110.094337     NaN  128211.172535           5.714645   \n",
       "std        NaN     189.850405     NaN   37905.341530           3.726421   \n",
       "min        NaN       0.000000     NaN    5000.000000           0.000000   \n",
       "25%        NaN      69.000000     NaN  125000.000000           3.000000   \n",
       "50%        NaN     105.000000     NaN  150000.000000           6.000000   \n",
       "75%        NaN     143.000000     NaN  150000.000000           9.000000   \n",
       "max        NaN   20000.000000     NaN  150000.000000          12.000000   \n",
       "\n",
       "       FuelType       Brand Repaired          DateCreated  NumberOfPictures  \\\n",
       "count    321474      354369   283215               354369          354369.0   \n",
       "unique        7          40        2                  109               NaN   \n",
       "top      petrol  volkswagen       no  2016-04-03 00:00:00               NaN   \n",
       "freq     216352       77013   247161                13719               NaN   \n",
       "mean        NaN         NaN      NaN                  NaN               0.0   \n",
       "std         NaN         NaN      NaN                  NaN               0.0   \n",
       "min         NaN         NaN      NaN                  NaN               0.0   \n",
       "25%         NaN         NaN      NaN                  NaN               0.0   \n",
       "50%         NaN         NaN      NaN                  NaN               0.0   \n",
       "75%         NaN         NaN      NaN                  NaN               0.0   \n",
       "max         NaN         NaN      NaN                  NaN               0.0   \n",
       "\n",
       "           PostalCode             LastSeen  \n",
       "count   354369.000000               354369  \n",
       "unique            NaN               179150  \n",
       "top               NaN  2016-04-06 13:45:54  \n",
       "freq              NaN                   17  \n",
       "mean     50508.689087                  NaN  \n",
       "std      25783.096248                  NaN  \n",
       "min       1067.000000                  NaN  \n",
       "25%      30165.000000                  NaN  \n",
       "50%      49413.000000                  NaN  \n",
       "75%      71083.000000                  NaN  \n",
       "max      99998.000000                  NaN  "
      ]
     },
     "metadata": {},
     "output_type": "display_data"
    }
   ],
   "source": [
    "get_df_info(df)"
   ]
  },
  {
   "cell_type": "markdown",
   "metadata": {
    "id": "AtviVXvn1zk_"
   },
   "source": [
    "Проверим датасет на наличие явных дубликатов"
   ]
  },
  {
   "cell_type": "code",
   "execution_count": 5,
   "metadata": {
    "colab": {
     "base_uri": "https://localhost:8080/"
    },
    "id": "2F55nuVu1zk_",
    "outputId": "004025e6-d834-420b-ac7a-31f8f69e4c2a"
   },
   "outputs": [
    {
     "data": {
      "text/plain": [
       "4"
      ]
     },
     "execution_count": 5,
     "metadata": {},
     "output_type": "execute_result"
    }
   ],
   "source": [
    "df.duplicated().sum()"
   ]
  },
  {
   "cell_type": "markdown",
   "metadata": {
    "id": "wLcG7xPA1zlA"
   },
   "source": [
    "Посмотрим на явные дубликаты"
   ]
  },
  {
   "cell_type": "code",
   "execution_count": 6,
   "metadata": {
    "colab": {
     "base_uri": "https://localhost:8080/",
     "height": 377
    },
    "id": "N2ztK7XU1zlB",
    "outputId": "36519e99-f3b2-4209-c9c7-3f94caa376c6"
   },
   "outputs": [
    {
     "data": {
      "text/html": [
       "<div>\n",
       "<style scoped>\n",
       "    .dataframe tbody tr th:only-of-type {\n",
       "        vertical-align: middle;\n",
       "    }\n",
       "\n",
       "    .dataframe tbody tr th {\n",
       "        vertical-align: top;\n",
       "    }\n",
       "\n",
       "    .dataframe thead th {\n",
       "        text-align: right;\n",
       "    }\n",
       "</style>\n",
       "<table border=\"1\" class=\"dataframe\">\n",
       "  <thead>\n",
       "    <tr style=\"text-align: right;\">\n",
       "      <th></th>\n",
       "      <th>DateCrawled</th>\n",
       "      <th>Price</th>\n",
       "      <th>VehicleType</th>\n",
       "      <th>RegistrationYear</th>\n",
       "      <th>Gearbox</th>\n",
       "      <th>Power</th>\n",
       "      <th>Model</th>\n",
       "      <th>Kilometer</th>\n",
       "      <th>RegistrationMonth</th>\n",
       "      <th>FuelType</th>\n",
       "      <th>Brand</th>\n",
       "      <th>Repaired</th>\n",
       "      <th>DateCreated</th>\n",
       "      <th>NumberOfPictures</th>\n",
       "      <th>PostalCode</th>\n",
       "      <th>LastSeen</th>\n",
       "    </tr>\n",
       "  </thead>\n",
       "  <tbody>\n",
       "    <tr>\n",
       "      <th>171088</th>\n",
       "      <td>2016-03-08 18:42:48</td>\n",
       "      <td>1799</td>\n",
       "      <td>coupe</td>\n",
       "      <td>1999</td>\n",
       "      <td>auto</td>\n",
       "      <td>193</td>\n",
       "      <td>clk</td>\n",
       "      <td>20000</td>\n",
       "      <td>7</td>\n",
       "      <td>petrol</td>\n",
       "      <td>mercedes_benz</td>\n",
       "      <td>no</td>\n",
       "      <td>2016-03-08 00:00:00</td>\n",
       "      <td>0</td>\n",
       "      <td>89518</td>\n",
       "      <td>2016-03-09 09:46:57</td>\n",
       "    </tr>\n",
       "    <tr>\n",
       "      <th>231258</th>\n",
       "      <td>2016-03-28 00:56:10</td>\n",
       "      <td>1000</td>\n",
       "      <td>small</td>\n",
       "      <td>2002</td>\n",
       "      <td>manual</td>\n",
       "      <td>83</td>\n",
       "      <td>other</td>\n",
       "      <td>150000</td>\n",
       "      <td>1</td>\n",
       "      <td>petrol</td>\n",
       "      <td>suzuki</td>\n",
       "      <td>no</td>\n",
       "      <td>2016-03-28 00:00:00</td>\n",
       "      <td>0</td>\n",
       "      <td>66589</td>\n",
       "      <td>2016-03-28 08:46:21</td>\n",
       "    </tr>\n",
       "    <tr>\n",
       "      <th>258109</th>\n",
       "      <td>2016-04-03 09:01:15</td>\n",
       "      <td>4699</td>\n",
       "      <td>coupe</td>\n",
       "      <td>2003</td>\n",
       "      <td>auto</td>\n",
       "      <td>218</td>\n",
       "      <td>clk</td>\n",
       "      <td>125000</td>\n",
       "      <td>6</td>\n",
       "      <td>petrol</td>\n",
       "      <td>mercedes_benz</td>\n",
       "      <td>yes</td>\n",
       "      <td>2016-04-03 00:00:00</td>\n",
       "      <td>0</td>\n",
       "      <td>75196</td>\n",
       "      <td>2016-04-07 09:44:54</td>\n",
       "    </tr>\n",
       "    <tr>\n",
       "      <th>325651</th>\n",
       "      <td>2016-03-18 18:46:15</td>\n",
       "      <td>1999</td>\n",
       "      <td>wagon</td>\n",
       "      <td>2001</td>\n",
       "      <td>manual</td>\n",
       "      <td>131</td>\n",
       "      <td>passat</td>\n",
       "      <td>150000</td>\n",
       "      <td>7</td>\n",
       "      <td>gasoline</td>\n",
       "      <td>volkswagen</td>\n",
       "      <td>no</td>\n",
       "      <td>2016-03-18 00:00:00</td>\n",
       "      <td>0</td>\n",
       "      <td>36391</td>\n",
       "      <td>2016-03-18 18:46:15</td>\n",
       "    </tr>\n",
       "  </tbody>\n",
       "</table>\n",
       "</div>"
      ],
      "text/plain": [
       "                DateCrawled  Price VehicleType  RegistrationYear Gearbox  \\\n",
       "171088  2016-03-08 18:42:48   1799       coupe              1999    auto   \n",
       "231258  2016-03-28 00:56:10   1000       small              2002  manual   \n",
       "258109  2016-04-03 09:01:15   4699       coupe              2003    auto   \n",
       "325651  2016-03-18 18:46:15   1999       wagon              2001  manual   \n",
       "\n",
       "        Power   Model  Kilometer  RegistrationMonth  FuelType          Brand  \\\n",
       "171088    193     clk      20000                  7    petrol  mercedes_benz   \n",
       "231258     83   other     150000                  1    petrol         suzuki   \n",
       "258109    218     clk     125000                  6    petrol  mercedes_benz   \n",
       "325651    131  passat     150000                  7  gasoline     volkswagen   \n",
       "\n",
       "       Repaired          DateCreated  NumberOfPictures  PostalCode  \\\n",
       "171088       no  2016-03-08 00:00:00                 0       89518   \n",
       "231258       no  2016-03-28 00:00:00                 0       66589   \n",
       "258109      yes  2016-04-03 00:00:00                 0       75196   \n",
       "325651       no  2016-03-18 00:00:00                 0       36391   \n",
       "\n",
       "                   LastSeen  \n",
       "171088  2016-03-09 09:46:57  \n",
       "231258  2016-03-28 08:46:21  \n",
       "258109  2016-04-07 09:44:54  \n",
       "325651  2016-03-18 18:46:15  "
      ]
     },
     "execution_count": 6,
     "metadata": {},
     "output_type": "execute_result"
    }
   ],
   "source": [
    "df[df.duplicated()]"
   ]
  },
  {
   "cell_type": "markdown",
   "metadata": {
    "id": "0dntfSQV1zlB"
   },
   "source": [
    "При просмотре явных дубликатов нельзя сказать, что они дублируют друг друга, оставим их без изменения."
   ]
  },
  {
   "cell_type": "markdown",
   "metadata": {
    "id": "zz4Q-iR91zlC"
   },
   "source": [
    "Посмотрим на количесство уникальных значений некоторых признаков"
   ]
  },
  {
   "cell_type": "code",
   "execution_count": 7,
   "metadata": {
    "colab": {
     "base_uri": "https://localhost:8080/"
    },
    "id": "aqGmhnV21zlC",
    "outputId": "7670bdc9-7539-4bcb-d0f7-8e33456ea2dc",
    "scrolled": true
   },
   "outputs": [
    {
     "name": "stdout",
     "output_type": "stream",
     "text": [
      "             VehicleType\n",
      "sedan              91457\n",
      "small              79831\n",
      "wagon              65166\n",
      "bus                28775\n",
      "convertible        20203\n",
      "coupe              16163\n",
      "suv                11996\n",
      "other               3288\n",
      "------------------------------\n",
      "        Gearbox\n",
      "manual   268251\n",
      "auto      66285\n",
      "------------------------------\n",
      "                    Model\n",
      "golf                29232\n",
      "other               24421\n",
      "3er                 19761\n",
      "polo                13066\n",
      "corsa               12570\n",
      "...                   ...\n",
      "serie_2                 8\n",
      "serie_3                 4\n",
      "rangerover              4\n",
      "range_rover_evoque      2\n",
      "serie_1                 2\n",
      "\n",
      "[250 rows x 1 columns]\n",
      "------------------------------\n",
      "          FuelType\n",
      "petrol      216352\n",
      "gasoline     98720\n",
      "lpg           5310\n",
      "cng            565\n",
      "hybrid         233\n",
      "other          204\n",
      "electric        90\n",
      "------------------------------\n",
      "                Brand\n",
      "volkswagen      77013\n",
      "opel            39931\n",
      "bmw             36914\n",
      "mercedes_benz   32046\n",
      "audi            29456\n",
      "ford            25179\n",
      "renault         17927\n",
      "peugeot         10998\n",
      "fiat             9643\n",
      "seat             6907\n",
      "mazda            5615\n",
      "skoda            5500\n",
      "smart            5246\n",
      "citroen          5148\n",
      "nissan           4941\n",
      "toyota           4606\n",
      "hyundai          3587\n",
      "sonstige_autos   3374\n",
      "volvo            3210\n",
      "mini             3202\n",
      "mitsubishi       3022\n",
      "honda            2817\n",
      "kia              2465\n",
      "suzuki           2323\n",
      "alfa_romeo       2314\n",
      "chevrolet        1754\n",
      "chrysler         1439\n",
      "dacia             900\n",
      "daihatsu          806\n",
      "subaru            762\n",
      "porsche           758\n",
      "jeep              677\n",
      "trabant           589\n",
      "land_rover        545\n",
      "daewoo            542\n",
      "saab              526\n",
      "jaguar            505\n",
      "rover             486\n",
      "lancia            471\n",
      "lada              225\n",
      "------------------------------\n",
      "     Repaired\n",
      "no     247161\n",
      "yes     36054\n",
      "------------------------------\n"
     ]
    }
   ],
   "source": [
    "l = ['VehicleType','Gearbox', 'Model', 'FuelType', 'Brand', 'Repaired']\n",
    "for i in l:\n",
    "    print(df[i].value_counts().to_frame())\n",
    "    print(\"---\"*10)"
   ]
  },
  {
   "cell_type": "markdown",
   "metadata": {
    "id": "Br7hWgea1zlD"
   },
   "source": [
    "Проведя предварительный анализ основных харектерстик датафрейма, можно сделать следующие выводы:\n",
    "\n",
    "1) Обнаружены колонки, которые не влияют на стоимость авто: DateCrawled, DateCreated, NumberOfPictures,  PostalCode, LastSeen:\n",
    "\n",
    "- DateCrawled (не содержит данные, которые влияют на стоимость авто), но сначала провеерим, когда была скачана последняя анкета, апотом удалим;\n",
    "- DateCreated (не содержит данные, которые влияют на стоимость авто);\n",
    "- NumberOfPictures (содержит значение 0, следовательно не будет влиять на стоимсоть);\n",
    "- PostalCode (почтовый индекс не оказывает влияние на стоимость авто);\n",
    "- LastSeen (по последней дате активности пользователя нельзя однозначно казать, как может повлять на стоимость).\n",
    "\n",
    "Такие признаки будут удалены, как не представляющие ценности для прогнозирования моделями стоимости,а также будут уменьшать скорость, следовательно будеть увеличиваться время, а для заказчика это один из важых факторов.\n",
    "\n",
    "\n",
    "2) В признаках: VehicleType, Gearbox, Model, FuelType, Repaired обнаржены пропуски. При дальнейшей предобработке, данные признаки будут детально анализироваться и по мере возможности будут заполняться пропуски или удаляться.\n",
    "\n",
    "3) В целевои признаке Price обнаружен автомобили со стоимостью авто равные \"0\" и значительное отличие среднего арифметического и медианы, следовательно есть выбросы.\n",
    "\n",
    "4) Обнаружены нереалистичные значения года регистрации транспортного средства.\n",
    "\n",
    "5) Обнаружены нереалистичные значения мощности автомобиля."
   ]
  },
  {
   "cell_type": "markdown",
   "metadata": {
    "id": "Zla0EVcU1zlE"
   },
   "source": [
    "### Предобработка данных"
   ]
  },
  {
   "cell_type": "markdown",
   "metadata": {
    "id": "Prb5EWDc1zlE"
   },
   "source": [
    "Удалим колнки DateCrawled, DateCreated, NumberOfPictures,RegistrationMonth, PostalCode, LastSeen из датафрейма"
   ]
  },
  {
   "cell_type": "code",
   "execution_count": 8,
   "metadata": {
    "id": "cR4UwyN31zlE"
   },
   "outputs": [],
   "source": [
    "df = df.drop(['DateCreated','RegistrationMonth', 'NumberOfPictures', 'PostalCode', 'LastSeen'], axis=1)"
   ]
  },
  {
   "cell_type": "code",
   "execution_count": 9,
   "metadata": {
    "colab": {
     "base_uri": "https://localhost:8080/"
    },
    "id": "w1BkVMuU1zlF",
    "outputId": "88940bf6-8ac6-439f-e5bb-59f8407a64f3"
   },
   "outputs": [
    {
     "name": "stdout",
     "output_type": "stream",
     "text": [
      "<class 'pandas.core.frame.DataFrame'>\n",
      "RangeIndex: 354369 entries, 0 to 354368\n",
      "Data columns (total 11 columns):\n",
      " #   Column            Non-Null Count   Dtype \n",
      "---  ------            --------------   ----- \n",
      " 0   DateCrawled       354369 non-null  object\n",
      " 1   Price             354369 non-null  int64 \n",
      " 2   VehicleType       316879 non-null  object\n",
      " 3   RegistrationYear  354369 non-null  int64 \n",
      " 4   Gearbox           334536 non-null  object\n",
      " 5   Power             354369 non-null  int64 \n",
      " 6   Model             334664 non-null  object\n",
      " 7   Kilometer         354369 non-null  int64 \n",
      " 8   FuelType          321474 non-null  object\n",
      " 9   Brand             354369 non-null  object\n",
      " 10  Repaired          283215 non-null  object\n",
      "dtypes: int64(4), object(7)\n",
      "memory usage: 29.7+ MB\n"
     ]
    }
   ],
   "source": [
    "df.info()"
   ]
  },
  {
   "cell_type": "markdown",
   "metadata": {
    "id": "E73TYhno1zlF"
   },
   "source": [
    "#### Рассмотрение аномалий (выбросов)"
   ]
  },
  {
   "cell_type": "markdown",
   "metadata": {
    "id": "VGeRQOXV1zlG"
   },
   "source": [
    "##### Целевой признак Price"
   ]
  },
  {
   "cell_type": "code",
   "execution_count": 10,
   "metadata": {
    "colab": {
     "base_uri": "https://localhost:8080/"
    },
    "id": "ojUeTMT61zlG",
    "outputId": "a7f08ce5-bda3-47d5-f252-85366f7ffc6b"
   },
   "outputs": [
    {
     "data": {
      "text/plain": [
       "count    354369.000000\n",
       "mean       4416.656776\n",
       "std        4514.158514\n",
       "min           0.000000\n",
       "25%        1050.000000\n",
       "50%        2700.000000\n",
       "75%        6400.000000\n",
       "max       20000.000000\n",
       "Name: Price, dtype: float64"
      ]
     },
     "execution_count": 10,
     "metadata": {},
     "output_type": "execute_result"
    }
   ],
   "source": [
    "df['Price'].describe()"
   ]
  },
  {
   "cell_type": "code",
   "execution_count": 11,
   "metadata": {
    "colab": {
     "base_uri": "https://localhost:8080/",
     "height": 206
    },
    "id": "HK8RzXM_1zlG",
    "outputId": "4376b115-a629-417d-b1f0-ac0321958216"
   },
   "outputs": [
    {
     "data": {
      "text/html": [
       "<style  type=\"text/css\" >\n",
       "</style><table id=\"T_a53b9_\" ><thead>    <tr>        <th class=\"blank level0\" ></th>        <th class=\"col_heading level0 col0\" >Price</th>    </tr></thead><tbody>\n",
       "                <tr>\n",
       "                        <th id=\"T_a53b9_level0_row0\" class=\"row_heading level0 row0\" >0.0012</th>\n",
       "                        <td id=\"T_a53b9_row0_col0\" class=\"data row0 col0\" >0.00</td>\n",
       "            </tr>\n",
       "            <tr>\n",
       "                        <th id=\"T_a53b9_level0_row1\" class=\"row_heading level0 row1\" >0.01</th>\n",
       "                        <td id=\"T_a53b9_row1_col0\" class=\"data row1 col0\" >0.00</td>\n",
       "            </tr>\n",
       "            <tr>\n",
       "                        <th id=\"T_a53b9_level0_row2\" class=\"row_heading level0 row2\" >0.5</th>\n",
       "                        <td id=\"T_a53b9_row2_col0\" class=\"data row2 col0\" >2,700.00</td>\n",
       "            </tr>\n",
       "            <tr>\n",
       "                        <th id=\"T_a53b9_level0_row3\" class=\"row_heading level0 row3\" >0.99</th>\n",
       "                        <td id=\"T_a53b9_row3_col0\" class=\"data row3 col0\" >18,800.00</td>\n",
       "            </tr>\n",
       "            <tr>\n",
       "                        <th id=\"T_a53b9_level0_row4\" class=\"row_heading level0 row4\" >0.9988</th>\n",
       "                        <td id=\"T_a53b9_row4_col0\" class=\"data row4 col0\" >19,999.00</td>\n",
       "            </tr>\n",
       "    </tbody></table>"
      ],
      "text/plain": [
       "<pandas.io.formats.style.Styler at 0x7f916b32ed00>"
      ]
     },
     "execution_count": 11,
     "metadata": {},
     "output_type": "execute_result"
    }
   ],
   "source": [
    " (\n",
    "    df[['Price']]\n",
    "    .quantile([0.0012, 0.01, .5, .99, .9988])\n",
    "    .style.format(\"{:,.2f}\")\n",
    " )"
   ]
  },
  {
   "cell_type": "code",
   "execution_count": 12,
   "metadata": {
    "colab": {
     "base_uri": "https://localhost:8080/",
     "height": 1000
    },
    "id": "nTBtXbjk1zlH",
    "outputId": "9a981a23-840a-46cc-e5a7-2e71eb1e8845"
   },
   "outputs": [
    {
     "data": {
      "image/png": "[encoded data removed]",
      "text/plain": [
       "<Figure size 720x1080 with 1 Axes>"
      ]
     },
     "metadata": {
      "needs_background": "light"
     },
     "output_type": "display_data"
    }
   ],
   "source": [
    "df.plot (y ='Price',\n",
    "         kind ='hist',\n",
    "         bins = 100,\n",
    "         grid=True,\n",
    "         figsize = (10,15),\n",
    "         range = (0,2700)\n",
    "        ).set(\n",
    "    title='Гистограмма распределния Price от 0 до 2700 евро');"
   ]
  },
  {
   "cell_type": "markdown",
   "metadata": {
    "id": "HAlEPjmJ1zlH"
   },
   "source": [
    "Рассмотрим более детально левый хвост распределения"
   ]
  },
  {
   "cell_type": "code",
   "execution_count": 13,
   "metadata": {
    "colab": {
     "base_uri": "https://localhost:8080/",
     "height": 1000
    },
    "id": "rDEZDMBB1zlH",
    "outputId": "dca7f984-f197-4bc0-8ec0-61466aa5f545"
   },
   "outputs": [
    {
     "data": {
      "image/png": "[encoded data removed]",
      "text/plain": [
       "<Figure size 720x1080 with 1 Axes>"
      ]
     },
     "metadata": {
      "needs_background": "light"
     },
     "output_type": "display_data"
    }
   ],
   "source": [
    "df.plot (y ='Price',\n",
    "         kind ='hist',\n",
    "         bins = 100,\n",
    "         grid=True,\n",
    "         figsize = (10,15),\n",
    "         range = (0,200)\n",
    "        ).set(\n",
    "    title='Гистограмма распределния Price от 0 до 200 евро');"
   ]
  },
  {
   "cell_type": "markdown",
   "metadata": {
    "id": "Pb110Tkm1zlI"
   },
   "source": [
    "При анализе гистограммы обнаружено достаточно большое кол-во объявлений с нулевым значением цены."
   ]
  },
  {
   "cell_type": "code",
   "execution_count": 14,
   "metadata": {
    "colab": {
     "base_uri": "https://localhost:8080/",
     "height": 1000
    },
    "id": "Su09BAJI1zlI",
    "outputId": "7e159a18-32c7-4cb5-fa40-031532e8dbb9"
   },
   "outputs": [
    {
     "data": {
      "image/png": "[encoded data removed]",
      "text/plain": [
       "<Figure size 720x1080 with 1 Axes>"
      ]
     },
     "metadata": {
      "needs_background": "light"
     },
     "output_type": "display_data"
    }
   ],
   "source": [
    "df.plot (y ='Price',\n",
    "         kind ='hist',\n",
    "         bins = 100,\n",
    "         grid=True,\n",
    "         figsize = (10,15),\n",
    "         range = (2700,20000)\n",
    "        ).set(\n",
    "    title='Гистограмма распределния Price от 2700 до 20000 евро');"
   ]
  },
  {
   "cell_type": "markdown",
   "metadata": {
    "id": "-WJSVg5h1zlT"
   },
   "source": [
    "Посмотрим на случайные 15 строк со стоимость авто более 19500 евро."
   ]
  },
  {
   "cell_type": "code",
   "execution_count": 15,
   "metadata": {
    "colab": {
     "base_uri": "https://localhost:8080/",
     "height": 519
    },
    "id": "0DOVmfZ_1zlT",
    "outputId": "8842f0b0-c4dd-4210-be79-ff34c05b00e7"
   },
   "outputs": [
    {
     "data": {
      "text/html": [
       "<div>\n",
       "<style scoped>\n",
       "    .dataframe tbody tr th:only-of-type {\n",
       "        vertical-align: middle;\n",
       "    }\n",
       "\n",
       "    .dataframe tbody tr th {\n",
       "        vertical-align: top;\n",
       "    }\n",
       "\n",
       "    .dataframe thead th {\n",
       "        text-align: right;\n",
       "    }\n",
       "</style>\n",
       "<table border=\"1\" class=\"dataframe\">\n",
       "  <thead>\n",
       "    <tr style=\"text-align: right;\">\n",
       "      <th></th>\n",
       "      <th>DateCrawled</th>\n",
       "      <th>Price</th>\n",
       "      <th>VehicleType</th>\n",
       "      <th>RegistrationYear</th>\n",
       "      <th>Gearbox</th>\n",
       "      <th>Power</th>\n",
       "      <th>Model</th>\n",
       "      <th>Kilometer</th>\n",
       "      <th>FuelType</th>\n",
       "      <th>Brand</th>\n",
       "      <th>Repaired</th>\n",
       "    </tr>\n",
       "  </thead>\n",
       "  <tbody>\n",
       "    <tr>\n",
       "      <th>214371</th>\n",
       "      <td>2016-03-08 15:50:26</td>\n",
       "      <td>19900</td>\n",
       "      <td>sedan</td>\n",
       "      <td>2015</td>\n",
       "      <td>manual</td>\n",
       "      <td>125</td>\n",
       "      <td>golf</td>\n",
       "      <td>20000</td>\n",
       "      <td>petrol</td>\n",
       "      <td>volkswagen</td>\n",
       "      <td>no</td>\n",
       "    </tr>\n",
       "    <tr>\n",
       "      <th>319901</th>\n",
       "      <td>2016-03-23 10:54:58</td>\n",
       "      <td>19950</td>\n",
       "      <td>wagon</td>\n",
       "      <td>2012</td>\n",
       "      <td>auto</td>\n",
       "      <td>204</td>\n",
       "      <td>a6</td>\n",
       "      <td>150000</td>\n",
       "      <td>gasoline</td>\n",
       "      <td>audi</td>\n",
       "      <td>no</td>\n",
       "    </tr>\n",
       "    <tr>\n",
       "      <th>147513</th>\n",
       "      <td>2016-03-25 15:52:53</td>\n",
       "      <td>20000</td>\n",
       "      <td>suv</td>\n",
       "      <td>2010</td>\n",
       "      <td>auto</td>\n",
       "      <td>218</td>\n",
       "      <td>grand</td>\n",
       "      <td>100000</td>\n",
       "      <td>gasoline</td>\n",
       "      <td>jeep</td>\n",
       "      <td>no</td>\n",
       "    </tr>\n",
       "    <tr>\n",
       "      <th>77857</th>\n",
       "      <td>2016-03-20 20:50:59</td>\n",
       "      <td>20000</td>\n",
       "      <td>bus</td>\n",
       "      <td>2013</td>\n",
       "      <td>auto</td>\n",
       "      <td>122</td>\n",
       "      <td>b_klasse</td>\n",
       "      <td>20000</td>\n",
       "      <td>petrol</td>\n",
       "      <td>mercedes_benz</td>\n",
       "      <td>no</td>\n",
       "    </tr>\n",
       "    <tr>\n",
       "      <th>177771</th>\n",
       "      <td>2016-03-25 19:36:56</td>\n",
       "      <td>19999</td>\n",
       "      <td>sedan</td>\n",
       "      <td>2007</td>\n",
       "      <td>auto</td>\n",
       "      <td>258</td>\n",
       "      <td>3er</td>\n",
       "      <td>40000</td>\n",
       "      <td>petrol</td>\n",
       "      <td>bmw</td>\n",
       "      <td>no</td>\n",
       "    </tr>\n",
       "    <tr>\n",
       "      <th>286240</th>\n",
       "      <td>2016-03-14 23:52:27</td>\n",
       "      <td>19666</td>\n",
       "      <td>convertible</td>\n",
       "      <td>2013</td>\n",
       "      <td>manual</td>\n",
       "      <td>105</td>\n",
       "      <td>beetle</td>\n",
       "      <td>20000</td>\n",
       "      <td>petrol</td>\n",
       "      <td>volkswagen</td>\n",
       "      <td>no</td>\n",
       "    </tr>\n",
       "    <tr>\n",
       "      <th>68185</th>\n",
       "      <td>2016-03-25 14:48:15</td>\n",
       "      <td>19900</td>\n",
       "      <td>convertible</td>\n",
       "      <td>1932</td>\n",
       "      <td>manual</td>\n",
       "      <td>18</td>\n",
       "      <td>other</td>\n",
       "      <td>5000</td>\n",
       "      <td>petrol</td>\n",
       "      <td>bmw</td>\n",
       "      <td>no</td>\n",
       "    </tr>\n",
       "    <tr>\n",
       "      <th>28521</th>\n",
       "      <td>2016-03-22 18:57:40</td>\n",
       "      <td>20000</td>\n",
       "      <td>wagon</td>\n",
       "      <td>2012</td>\n",
       "      <td>auto</td>\n",
       "      <td>156</td>\n",
       "      <td>c_klasse</td>\n",
       "      <td>50000</td>\n",
       "      <td>petrol</td>\n",
       "      <td>mercedes_benz</td>\n",
       "      <td>no</td>\n",
       "    </tr>\n",
       "    <tr>\n",
       "      <th>254128</th>\n",
       "      <td>2016-03-14 09:51:04</td>\n",
       "      <td>19900</td>\n",
       "      <td>convertible</td>\n",
       "      <td>2009</td>\n",
       "      <td>manual</td>\n",
       "      <td>170</td>\n",
       "      <td>tt</td>\n",
       "      <td>125000</td>\n",
       "      <td>gasoline</td>\n",
       "      <td>audi</td>\n",
       "      <td>no</td>\n",
       "    </tr>\n",
       "    <tr>\n",
       "      <th>310142</th>\n",
       "      <td>2016-03-11 17:48:43</td>\n",
       "      <td>19999</td>\n",
       "      <td>sedan</td>\n",
       "      <td>2006</td>\n",
       "      <td>auto</td>\n",
       "      <td>0</td>\n",
       "      <td>s_klasse</td>\n",
       "      <td>90000</td>\n",
       "      <td>NaN</td>\n",
       "      <td>mercedes_benz</td>\n",
       "      <td>no</td>\n",
       "    </tr>\n",
       "    <tr>\n",
       "      <th>315921</th>\n",
       "      <td>2016-04-04 19:49:43</td>\n",
       "      <td>19900</td>\n",
       "      <td>convertible</td>\n",
       "      <td>2008</td>\n",
       "      <td>manual</td>\n",
       "      <td>170</td>\n",
       "      <td>3er</td>\n",
       "      <td>20000</td>\n",
       "      <td>petrol</td>\n",
       "      <td>bmw</td>\n",
       "      <td>no</td>\n",
       "    </tr>\n",
       "    <tr>\n",
       "      <th>296264</th>\n",
       "      <td>2016-03-16 15:57:57</td>\n",
       "      <td>19999</td>\n",
       "      <td>convertible</td>\n",
       "      <td>2008</td>\n",
       "      <td>manual</td>\n",
       "      <td>200</td>\n",
       "      <td>tt</td>\n",
       "      <td>80000</td>\n",
       "      <td>petrol</td>\n",
       "      <td>audi</td>\n",
       "      <td>no</td>\n",
       "    </tr>\n",
       "    <tr>\n",
       "      <th>192612</th>\n",
       "      <td>2016-03-19 21:06:20</td>\n",
       "      <td>19900</td>\n",
       "      <td>wagon</td>\n",
       "      <td>2012</td>\n",
       "      <td>auto</td>\n",
       "      <td>204</td>\n",
       "      <td>c_klasse</td>\n",
       "      <td>125000</td>\n",
       "      <td>gasoline</td>\n",
       "      <td>mercedes_benz</td>\n",
       "      <td>no</td>\n",
       "    </tr>\n",
       "    <tr>\n",
       "      <th>2128</th>\n",
       "      <td>2016-03-30 09:50:58</td>\n",
       "      <td>20000</td>\n",
       "      <td>sedan</td>\n",
       "      <td>2014</td>\n",
       "      <td>manual</td>\n",
       "      <td>135</td>\n",
       "      <td>ceed</td>\n",
       "      <td>30000</td>\n",
       "      <td>petrol</td>\n",
       "      <td>kia</td>\n",
       "      <td>no</td>\n",
       "    </tr>\n",
       "    <tr>\n",
       "      <th>200643</th>\n",
       "      <td>2016-03-17 11:37:34</td>\n",
       "      <td>19900</td>\n",
       "      <td>sedan</td>\n",
       "      <td>2009</td>\n",
       "      <td>auto</td>\n",
       "      <td>231</td>\n",
       "      <td>c_klasse</td>\n",
       "      <td>50000</td>\n",
       "      <td>petrol</td>\n",
       "      <td>mercedes_benz</td>\n",
       "      <td>no</td>\n",
       "    </tr>\n",
       "  </tbody>\n",
       "</table>\n",
       "</div>"
      ],
      "text/plain": [
       "                DateCrawled  Price  VehicleType  RegistrationYear Gearbox  \\\n",
       "214371  2016-03-08 15:50:26  19900        sedan              2015  manual   \n",
       "319901  2016-03-23 10:54:58  19950        wagon              2012    auto   \n",
       "147513  2016-03-25 15:52:53  20000          suv              2010    auto   \n",
       "77857   2016-03-20 20:50:59  20000          bus              2013    auto   \n",
       "177771  2016-03-25 19:36:56  19999        sedan              2007    auto   \n",
       "286240  2016-03-14 23:52:27  19666  convertible              2013  manual   \n",
       "68185   2016-03-25 14:48:15  19900  convertible              1932  manual   \n",
       "28521   2016-03-22 18:57:40  20000        wagon              2012    auto   \n",
       "254128  2016-03-14 09:51:04  19900  convertible              2009  manual   \n",
       "310142  2016-03-11 17:48:43  19999        sedan              2006    auto   \n",
       "315921  2016-04-04 19:49:43  19900  convertible              2008  manual   \n",
       "296264  2016-03-16 15:57:57  19999  convertible              2008  manual   \n",
       "192612  2016-03-19 21:06:20  19900        wagon              2012    auto   \n",
       "2128    2016-03-30 09:50:58  20000        sedan              2014  manual   \n",
       "200643  2016-03-17 11:37:34  19900        sedan              2009    auto   \n",
       "\n",
       "        Power     Model  Kilometer  FuelType          Brand Repaired  \n",
       "214371    125      golf      20000    petrol     volkswagen       no  \n",
       "319901    204        a6     150000  gasoline           audi       no  \n",
       "147513    218     grand     100000  gasoline           jeep       no  \n",
       "77857     122  b_klasse      20000    petrol  mercedes_benz       no  \n",
       "177771    258       3er      40000    petrol            bmw       no  \n",
       "286240    105    beetle      20000    petrol     volkswagen       no  \n",
       "68185      18     other       5000    petrol            bmw       no  \n",
       "28521     156  c_klasse      50000    petrol  mercedes_benz       no  \n",
       "254128    170        tt     125000  gasoline           audi       no  \n",
       "310142      0  s_klasse      90000       NaN  mercedes_benz       no  \n",
       "315921    170       3er      20000    petrol            bmw       no  \n",
       "296264    200        tt      80000    petrol           audi       no  \n",
       "192612    204  c_klasse     125000  gasoline  mercedes_benz       no  \n",
       "2128      135      ceed      30000    petrol            kia       no  \n",
       "200643    231  c_klasse      50000    petrol  mercedes_benz       no  "
      ]
     },
     "execution_count": 15,
     "metadata": {},
     "output_type": "execute_result"
    }
   ],
   "source": [
    "df.loc[df['Price'] > 19500].sample(15)"
   ]
  },
  {
   "cell_type": "markdown",
   "metadata": {
    "id": "oG0Ua1MQ1zlT"
   },
   "source": [
    "По результатам анализа, можно сделать вывод о том, что высокая стоимость авто действительно оправдана,т.к. там представлены премиальные автомобили."
   ]
  },
  {
   "cell_type": "markdown",
   "metadata": {
    "id": "tXMXH1c_1zlU"
   },
   "source": [
    "Поскольку необходимо построить модель для максимально точного определения стоимости автомобилей, следовательно для обучения модели необходимо отобрать только достоверные (адекватные) данные, иначе модель не будет отличаться качеством, о чем указано в техническом задании (далее - ТЗ) и модель будет строиться не на ценах, зафиксированных в договорах купли-продажи, а на предложениях цены, указанных владельцами в объявлениях (ведь поле признака успешной продажи отсутствует), то необходимо избавится от неадекватных цен (зачастую владельцы автомобилей указывают нулевые цены, т.к. они их не знают,следовательно хотят определить по результату переговоров с потенциальным покупателем после публикации объявления).\n",
    "\n",
    "Поэтому, считаю необходимым, ограничить стоимсоть авто только менее 50 евро."
   ]
  },
  {
   "cell_type": "code",
   "execution_count": 16,
   "metadata": {
    "colab": {
     "base_uri": "https://localhost:8080/"
    },
    "id": "dOxtjFvX1zlU",
    "outputId": "b51edf79-0851-4266-b95b-edce8ac7fea9"
   },
   "outputs": [
    {
     "data": {
      "text/plain": [
       "count    341946.000000\n",
       "mean       4577.082788\n",
       "std        4514.843482\n",
       "min          50.000000\n",
       "25%        1200.000000\n",
       "50%        2900.000000\n",
       "75%        6500.000000\n",
       "max       20000.000000\n",
       "Name: Price, dtype: float64"
      ]
     },
     "execution_count": 16,
     "metadata": {},
     "output_type": "execute_result"
    }
   ],
   "source": [
    "df = df.loc[df['Price'] >= 50]\n",
    "df['Price'].describe()"
   ]
  },
  {
   "cell_type": "markdown",
   "metadata": {
    "id": "iAUDvGTW1zlV"
   },
   "source": [
    "##### Признак Power"
   ]
  },
  {
   "cell_type": "code",
   "execution_count": 17,
   "metadata": {
    "colab": {
     "base_uri": "https://localhost:8080/"
    },
    "id": "vyegJP901zlW",
    "outputId": "92939a54-0281-4710-e23b-d18a3884f437"
   },
   "outputs": [
    {
     "data": {
      "text/plain": [
       "count    341946.000000\n",
       "mean        111.207240\n",
       "std         188.253725\n",
       "min           0.000000\n",
       "25%          69.000000\n",
       "50%         105.000000\n",
       "75%         143.000000\n",
       "max       20000.000000\n",
       "Name: Power, dtype: float64"
      ]
     },
     "execution_count": 17,
     "metadata": {},
     "output_type": "execute_result"
    }
   ],
   "source": [
    "df['Power'].describe()"
   ]
  },
  {
   "cell_type": "code",
   "execution_count": 18,
   "metadata": {
    "colab": {
     "base_uri": "https://localhost:8080/",
     "height": 206
    },
    "id": "nxj2GsBm1zlW",
    "outputId": "5730025d-6f2f-4359-a172-dbbd535836fa"
   },
   "outputs": [
    {
     "data": {
      "text/html": [
       "<style  type=\"text/css\" >\n",
       "</style><table id=\"T_d5715_\" ><thead>    <tr>        <th class=\"blank level0\" ></th>        <th class=\"col_heading level0 col0\" >Power</th>    </tr></thead><tbody>\n",
       "                <tr>\n",
       "                        <th id=\"T_d5715_level0_row0\" class=\"row_heading level0 row0\" >0.0012</th>\n",
       "                        <td id=\"T_d5715_row0_col0\" class=\"data row0 col0\" >0.00</td>\n",
       "            </tr>\n",
       "            <tr>\n",
       "                        <th id=\"T_d5715_level0_row1\" class=\"row_heading level0 row1\" >0.01</th>\n",
       "                        <td id=\"T_d5715_row1_col0\" class=\"data row1 col0\" >0.00</td>\n",
       "            </tr>\n",
       "            <tr>\n",
       "                        <th id=\"T_d5715_level0_row2\" class=\"row_heading level0 row2\" >0.5</th>\n",
       "                        <td id=\"T_d5715_row2_col0\" class=\"data row2 col0\" >105.00</td>\n",
       "            </tr>\n",
       "            <tr>\n",
       "                        <th id=\"T_d5715_level0_row3\" class=\"row_heading level0 row3\" >0.99</th>\n",
       "                        <td id=\"T_d5715_row3_col0\" class=\"data row3 col0\" >300.00</td>\n",
       "            </tr>\n",
       "            <tr>\n",
       "                        <th id=\"T_d5715_level0_row4\" class=\"row_heading level0 row4\" >0.9988</th>\n",
       "                        <td id=\"T_d5715_row4_col0\" class=\"data row4 col0\" >507.00</td>\n",
       "            </tr>\n",
       "    </tbody></table>"
      ],
      "text/plain": [
       "<pandas.io.formats.style.Styler at 0x7f916b215bb0>"
      ]
     },
     "execution_count": 18,
     "metadata": {},
     "output_type": "execute_result"
    }
   ],
   "source": [
    "(\n",
    "    df[['Power']]\n",
    "    .quantile([0.0012, 0.01, .5, .99, .9988])\n",
    "    .style.format(\"{:,.2f}\")\n",
    " )"
   ]
  },
  {
   "cell_type": "code",
   "execution_count": 19,
   "metadata": {
    "colab": {
     "base_uri": "https://localhost:8080/",
     "height": 1000
    },
    "id": "bV8ZFIYv1zlX",
    "outputId": "48aaff4f-8e18-4d1f-98d1-e9f33917e445"
   },
   "outputs": [
    {
     "data": {
      "image/png": "[encoded data removed]",
      "text/plain": [
       "<Figure size 720x1080 with 1 Axes>"
      ]
     },
     "metadata": {
      "needs_background": "light"
     },
     "output_type": "display_data"
    }
   ],
   "source": [
    "df.plot (y ='Power',\n",
    "         kind ='hist',\n",
    "         bins = 50,\n",
    "         grid=True,\n",
    "         figsize = (10,15),\n",
    "         range = (0,100)\n",
    "        ).set(\n",
    "    title='Гистограмма распределния Power от 0 до 100 л.с.');"
   ]
  },
  {
   "cell_type": "markdown",
   "metadata": {
    "id": "k0-CaOck1zlX"
   },
   "source": [
    "Рассмотрим более детально распределение мощности в дипазоне от 0 до 40 л.с."
   ]
  },
  {
   "cell_type": "code",
   "execution_count": 20,
   "metadata": {
    "colab": {
     "base_uri": "https://localhost:8080/",
     "height": 1000
    },
    "id": "opYDNyU91zlY",
    "outputId": "ab1b5513-8bcd-4b49-803a-d870a0c4d2e0"
   },
   "outputs": [
    {
     "data": {
      "image/png": "[encoded data removed]",
      "text/plain": [
       "<Figure size 720x1080 with 1 Axes>"
      ]
     },
     "metadata": {
      "needs_background": "light"
     },
     "output_type": "display_data"
    }
   ],
   "source": [
    "df.plot (y ='Power',\n",
    "         kind ='hist',\n",
    "         bins = 40,\n",
    "         grid=True,\n",
    "         figsize = (10,15),\n",
    "         range = (0,40)\n",
    "        ).set(\n",
    "    title='Гистограмма распределния Power от 0 до 40 л.с.');"
   ]
  },
  {
   "cell_type": "markdown",
   "metadata": {
    "id": "AlMR7__Z1zlY"
   },
   "source": [
    "Рассмотрим случайные 15 объявлений при мощномти авто =\"0\" л.с."
   ]
  },
  {
   "cell_type": "code",
   "execution_count": 21,
   "metadata": {
    "colab": {
     "base_uri": "https://localhost:8080/",
     "height": 519
    },
    "id": "IjIyK8dv1zlZ",
    "outputId": "9e8e7910-c0a4-4095-e230-42180db2e027",
    "scrolled": true
   },
   "outputs": [
    {
     "data": {
      "text/html": [
       "<div>\n",
       "<style scoped>\n",
       "    .dataframe tbody tr th:only-of-type {\n",
       "        vertical-align: middle;\n",
       "    }\n",
       "\n",
       "    .dataframe tbody tr th {\n",
       "        vertical-align: top;\n",
       "    }\n",
       "\n",
       "    .dataframe thead th {\n",
       "        text-align: right;\n",
       "    }\n",
       "</style>\n",
       "<table border=\"1\" class=\"dataframe\">\n",
       "  <thead>\n",
       "    <tr style=\"text-align: right;\">\n",
       "      <th></th>\n",
       "      <th>DateCrawled</th>\n",
       "      <th>Price</th>\n",
       "      <th>VehicleType</th>\n",
       "      <th>RegistrationYear</th>\n",
       "      <th>Gearbox</th>\n",
       "      <th>Power</th>\n",
       "      <th>Model</th>\n",
       "      <th>Kilometer</th>\n",
       "      <th>FuelType</th>\n",
       "      <th>Brand</th>\n",
       "      <th>Repaired</th>\n",
       "    </tr>\n",
       "  </thead>\n",
       "  <tbody>\n",
       "    <tr>\n",
       "      <th>67357</th>\n",
       "      <td>2016-03-20 16:51:51</td>\n",
       "      <td>600</td>\n",
       "      <td>wagon</td>\n",
       "      <td>2000</td>\n",
       "      <td>NaN</td>\n",
       "      <td>0</td>\n",
       "      <td>golf</td>\n",
       "      <td>150000</td>\n",
       "      <td>gasoline</td>\n",
       "      <td>volkswagen</td>\n",
       "      <td>NaN</td>\n",
       "    </tr>\n",
       "    <tr>\n",
       "      <th>177320</th>\n",
       "      <td>2016-03-15 16:50:20</td>\n",
       "      <td>4990</td>\n",
       "      <td>suv</td>\n",
       "      <td>2012</td>\n",
       "      <td>NaN</td>\n",
       "      <td>0</td>\n",
       "      <td>tiguan</td>\n",
       "      <td>100000</td>\n",
       "      <td>gasoline</td>\n",
       "      <td>volkswagen</td>\n",
       "      <td>no</td>\n",
       "    </tr>\n",
       "    <tr>\n",
       "      <th>187109</th>\n",
       "      <td>2016-03-19 15:47:17</td>\n",
       "      <td>3600</td>\n",
       "      <td>sedan</td>\n",
       "      <td>2005</td>\n",
       "      <td>manual</td>\n",
       "      <td>0</td>\n",
       "      <td>a3</td>\n",
       "      <td>150000</td>\n",
       "      <td>gasoline</td>\n",
       "      <td>audi</td>\n",
       "      <td>NaN</td>\n",
       "    </tr>\n",
       "    <tr>\n",
       "      <th>33141</th>\n",
       "      <td>2016-03-25 14:53:55</td>\n",
       "      <td>1250</td>\n",
       "      <td>sedan</td>\n",
       "      <td>1997</td>\n",
       "      <td>NaN</td>\n",
       "      <td>0</td>\n",
       "      <td>other</td>\n",
       "      <td>20000</td>\n",
       "      <td>NaN</td>\n",
       "      <td>mercedes_benz</td>\n",
       "      <td>no</td>\n",
       "    </tr>\n",
       "    <tr>\n",
       "      <th>9783</th>\n",
       "      <td>2016-03-11 18:49:27</td>\n",
       "      <td>800</td>\n",
       "      <td>bus</td>\n",
       "      <td>1995</td>\n",
       "      <td>manual</td>\n",
       "      <td>0</td>\n",
       "      <td>other</td>\n",
       "      <td>150000</td>\n",
       "      <td>gasoline</td>\n",
       "      <td>volkswagen</td>\n",
       "      <td>NaN</td>\n",
       "    </tr>\n",
       "    <tr>\n",
       "      <th>326808</th>\n",
       "      <td>2016-03-28 11:52:19</td>\n",
       "      <td>4490</td>\n",
       "      <td>wagon</td>\n",
       "      <td>2010</td>\n",
       "      <td>auto</td>\n",
       "      <td>0</td>\n",
       "      <td>passat</td>\n",
       "      <td>5000</td>\n",
       "      <td>NaN</td>\n",
       "      <td>volkswagen</td>\n",
       "      <td>NaN</td>\n",
       "    </tr>\n",
       "    <tr>\n",
       "      <th>92265</th>\n",
       "      <td>2016-03-26 17:06:24</td>\n",
       "      <td>1599</td>\n",
       "      <td>sedan</td>\n",
       "      <td>1998</td>\n",
       "      <td>manual</td>\n",
       "      <td>0</td>\n",
       "      <td>5er</td>\n",
       "      <td>150000</td>\n",
       "      <td>NaN</td>\n",
       "      <td>bmw</td>\n",
       "      <td>no</td>\n",
       "    </tr>\n",
       "    <tr>\n",
       "      <th>264900</th>\n",
       "      <td>2016-03-26 09:51:07</td>\n",
       "      <td>400</td>\n",
       "      <td>NaN</td>\n",
       "      <td>1985</td>\n",
       "      <td>NaN</td>\n",
       "      <td>0</td>\n",
       "      <td>kaefer</td>\n",
       "      <td>150000</td>\n",
       "      <td>NaN</td>\n",
       "      <td>volkswagen</td>\n",
       "      <td>NaN</td>\n",
       "    </tr>\n",
       "    <tr>\n",
       "      <th>81386</th>\n",
       "      <td>2016-03-07 13:25:22</td>\n",
       "      <td>799</td>\n",
       "      <td>small</td>\n",
       "      <td>1999</td>\n",
       "      <td>manual</td>\n",
       "      <td>0</td>\n",
       "      <td>corsa</td>\n",
       "      <td>150000</td>\n",
       "      <td>petrol</td>\n",
       "      <td>opel</td>\n",
       "      <td>yes</td>\n",
       "    </tr>\n",
       "    <tr>\n",
       "      <th>292233</th>\n",
       "      <td>2016-03-11 04:03:17</td>\n",
       "      <td>1650</td>\n",
       "      <td>wagon</td>\n",
       "      <td>2001</td>\n",
       "      <td>manual</td>\n",
       "      <td>0</td>\n",
       "      <td>golf</td>\n",
       "      <td>150000</td>\n",
       "      <td>petrol</td>\n",
       "      <td>volkswagen</td>\n",
       "      <td>NaN</td>\n",
       "    </tr>\n",
       "    <tr>\n",
       "      <th>82839</th>\n",
       "      <td>2016-03-14 09:36:59</td>\n",
       "      <td>1200</td>\n",
       "      <td>small</td>\n",
       "      <td>2001</td>\n",
       "      <td>manual</td>\n",
       "      <td>0</td>\n",
       "      <td>corsa</td>\n",
       "      <td>150000</td>\n",
       "      <td>petrol</td>\n",
       "      <td>opel</td>\n",
       "      <td>no</td>\n",
       "    </tr>\n",
       "    <tr>\n",
       "      <th>189357</th>\n",
       "      <td>2016-04-02 19:56:13</td>\n",
       "      <td>2000</td>\n",
       "      <td>wagon</td>\n",
       "      <td>2004</td>\n",
       "      <td>NaN</td>\n",
       "      <td>0</td>\n",
       "      <td>passat</td>\n",
       "      <td>150000</td>\n",
       "      <td>gasoline</td>\n",
       "      <td>volkswagen</td>\n",
       "      <td>NaN</td>\n",
       "    </tr>\n",
       "    <tr>\n",
       "      <th>352201</th>\n",
       "      <td>2016-03-07 14:47:04</td>\n",
       "      <td>599</td>\n",
       "      <td>small</td>\n",
       "      <td>1995</td>\n",
       "      <td>manual</td>\n",
       "      <td>0</td>\n",
       "      <td>golf</td>\n",
       "      <td>150000</td>\n",
       "      <td>NaN</td>\n",
       "      <td>volkswagen</td>\n",
       "      <td>no</td>\n",
       "    </tr>\n",
       "    <tr>\n",
       "      <th>94041</th>\n",
       "      <td>2016-03-23 11:46:43</td>\n",
       "      <td>3600</td>\n",
       "      <td>suv</td>\n",
       "      <td>2002</td>\n",
       "      <td>manual</td>\n",
       "      <td>0</td>\n",
       "      <td>rav</td>\n",
       "      <td>150000</td>\n",
       "      <td>gasoline</td>\n",
       "      <td>toyota</td>\n",
       "      <td>no</td>\n",
       "    </tr>\n",
       "    <tr>\n",
       "      <th>58139</th>\n",
       "      <td>2016-04-04 19:46:43</td>\n",
       "      <td>3000</td>\n",
       "      <td>sedan</td>\n",
       "      <td>1983</td>\n",
       "      <td>manual</td>\n",
       "      <td>0</td>\n",
       "      <td>NaN</td>\n",
       "      <td>60000</td>\n",
       "      <td>petrol</td>\n",
       "      <td>sonstige_autos</td>\n",
       "      <td>no</td>\n",
       "    </tr>\n",
       "  </tbody>\n",
       "</table>\n",
       "</div>"
      ],
      "text/plain": [
       "                DateCrawled  Price VehicleType  RegistrationYear Gearbox  \\\n",
       "67357   2016-03-20 16:51:51    600       wagon              2000     NaN   \n",
       "177320  2016-03-15 16:50:20   4990         suv              2012     NaN   \n",
       "187109  2016-03-19 15:47:17   3600       sedan              2005  manual   \n",
       "33141   2016-03-25 14:53:55   1250       sedan              1997     NaN   \n",
       "9783    2016-03-11 18:49:27    800         bus              1995  manual   \n",
       "326808  2016-03-28 11:52:19   4490       wagon              2010    auto   \n",
       "92265   2016-03-26 17:06:24   1599       sedan              1998  manual   \n",
       "264900  2016-03-26 09:51:07    400         NaN              1985     NaN   \n",
       "81386   2016-03-07 13:25:22    799       small              1999  manual   \n",
       "292233  2016-03-11 04:03:17   1650       wagon              2001  manual   \n",
       "82839   2016-03-14 09:36:59   1200       small              2001  manual   \n",
       "189357  2016-04-02 19:56:13   2000       wagon              2004     NaN   \n",
       "352201  2016-03-07 14:47:04    599       small              1995  manual   \n",
       "94041   2016-03-23 11:46:43   3600         suv              2002  manual   \n",
       "58139   2016-04-04 19:46:43   3000       sedan              1983  manual   \n",
       "\n",
       "        Power   Model  Kilometer  FuelType           Brand Repaired  \n",
       "67357       0    golf     150000  gasoline      volkswagen      NaN  \n",
       "177320      0  tiguan     100000  gasoline      volkswagen       no  \n",
       "187109      0      a3     150000  gasoline            audi      NaN  \n",
       "33141       0   other      20000       NaN   mercedes_benz       no  \n",
       "9783        0   other     150000  gasoline      volkswagen      NaN  \n",
       "326808      0  passat       5000       NaN      volkswagen      NaN  \n",
       "92265       0     5er     150000       NaN             bmw       no  \n",
       "264900      0  kaefer     150000       NaN      volkswagen      NaN  \n",
       "81386       0   corsa     150000    petrol            opel      yes  \n",
       "292233      0    golf     150000    petrol      volkswagen      NaN  \n",
       "82839       0   corsa     150000    petrol            opel       no  \n",
       "189357      0  passat     150000  gasoline      volkswagen      NaN  \n",
       "352201      0    golf     150000       NaN      volkswagen       no  \n",
       "94041       0     rav     150000  gasoline          toyota       no  \n",
       "58139       0     NaN      60000    petrol  sonstige_autos       no  "
      ]
     },
     "execution_count": 21,
     "metadata": {},
     "output_type": "execute_result"
    }
   ],
   "source": [
    "df.loc[df['Power'] == 0].sample(15)"
   ]
  },
  {
   "cell_type": "markdown",
   "metadata": {
    "id": "ORVHczjp1zlZ"
   },
   "source": [
    "Рассмотрим распределение мощности в диапазоне от 500 до 20000 л.с."
   ]
  },
  {
   "cell_type": "code",
   "execution_count": 22,
   "metadata": {
    "colab": {
     "base_uri": "https://localhost:8080/",
     "height": 1000
    },
    "id": "4JotyFUT1zla",
    "outputId": "db23c7bd-b933-4808-d95a-df15c39a6ba4"
   },
   "outputs": [
    {
     "data": {
      "image/png": "[encoded data removed]",
      "text/plain": [
       "<Figure size 720x1080 with 1 Axes>"
      ]
     },
     "metadata": {
      "needs_background": "light"
     },
     "output_type": "display_data"
    }
   ],
   "source": [
    "df.plot (y ='Power',\n",
    "         kind ='hist',\n",
    "         bins = 100,\n",
    "         grid=True,\n",
    "         figsize = (10,15),\n",
    "         range = (500,20000)\n",
    "        ).set(\n",
    "    title='Гистограмма распределния Power от 500 до 20000 л.с.');"
   ]
  },
  {
   "cell_type": "markdown",
   "metadata": {
    "id": "g3SFw_pb1zla"
   },
   "source": [
    "Рассмотрим распределение мощности авто в диапазоне от 500 до 1500 л.с., т.к. это серийно выпускаемые и достаточно мощные автомобили по оценке некоторых сайтов о технических характеристик автомобилей."
   ]
  },
  {
   "cell_type": "code",
   "execution_count": 23,
   "metadata": {
    "colab": {
     "base_uri": "https://localhost:8080/",
     "height": 1000
    },
    "id": "9PAmh6yK1zlb",
    "outputId": "d75366f1-a2eb-4e46-e7fe-8ab626fd2990"
   },
   "outputs": [
    {
     "data": {
      "image/png": "[encoded data removed]",
      "text/plain": [
       "<Figure size 720x1080 with 1 Axes>"
      ]
     },
     "metadata": {
      "needs_background": "light"
     },
     "output_type": "display_data"
    }
   ],
   "source": [
    "df.plot (y ='Power',\n",
    "         kind ='hist',\n",
    "         bins = 100,\n",
    "         grid=True,\n",
    "         figsize = (10,15),\n",
    "         range = (500,1500)\n",
    "        ).set(\n",
    "    title='Гистограмма распределния Power от 500 до 1500 л.с.');"
   ]
  },
  {
   "cell_type": "code",
   "execution_count": 24,
   "metadata": {
    "colab": {
     "base_uri": "https://localhost:8080/",
     "height": 519
    },
    "id": "47fX-tbm1zlc",
    "outputId": "7ab0ebb6-08ca-434e-9de9-1a11bbc683bd"
   },
   "outputs": [
    {
     "data": {
      "text/html": [
       "<div>\n",
       "<style scoped>\n",
       "    .dataframe tbody tr th:only-of-type {\n",
       "        vertical-align: middle;\n",
       "    }\n",
       "\n",
       "    .dataframe tbody tr th {\n",
       "        vertical-align: top;\n",
       "    }\n",
       "\n",
       "    .dataframe thead th {\n",
       "        text-align: right;\n",
       "    }\n",
       "</style>\n",
       "<table border=\"1\" class=\"dataframe\">\n",
       "  <thead>\n",
       "    <tr style=\"text-align: right;\">\n",
       "      <th></th>\n",
       "      <th>DateCrawled</th>\n",
       "      <th>Price</th>\n",
       "      <th>VehicleType</th>\n",
       "      <th>RegistrationYear</th>\n",
       "      <th>Gearbox</th>\n",
       "      <th>Power</th>\n",
       "      <th>Model</th>\n",
       "      <th>Kilometer</th>\n",
       "      <th>FuelType</th>\n",
       "      <th>Brand</th>\n",
       "      <th>Repaired</th>\n",
       "    </tr>\n",
       "  </thead>\n",
       "  <tbody>\n",
       "    <tr>\n",
       "      <th>158083</th>\n",
       "      <td>2016-03-16 15:55:23</td>\n",
       "      <td>16000</td>\n",
       "      <td>suv</td>\n",
       "      <td>2006</td>\n",
       "      <td>auto</td>\n",
       "      <td>510</td>\n",
       "      <td>m_klasse</td>\n",
       "      <td>125000</td>\n",
       "      <td>petrol</td>\n",
       "      <td>mercedes_benz</td>\n",
       "      <td>yes</td>\n",
       "    </tr>\n",
       "    <tr>\n",
       "      <th>177451</th>\n",
       "      <td>2016-04-01 07:37:20</td>\n",
       "      <td>11999</td>\n",
       "      <td>wagon</td>\n",
       "      <td>2002</td>\n",
       "      <td>auto</td>\n",
       "      <td>505</td>\n",
       "      <td>other</td>\n",
       "      <td>150000</td>\n",
       "      <td>petrol</td>\n",
       "      <td>audi</td>\n",
       "      <td>no</td>\n",
       "    </tr>\n",
       "    <tr>\n",
       "      <th>121124</th>\n",
       "      <td>2016-03-31 18:50:55</td>\n",
       "      <td>650</td>\n",
       "      <td>wagon</td>\n",
       "      <td>1997</td>\n",
       "      <td>auto</td>\n",
       "      <td>3199</td>\n",
       "      <td>e_klasse</td>\n",
       "      <td>30000</td>\n",
       "      <td>petrol</td>\n",
       "      <td>mercedes_benz</td>\n",
       "      <td>NaN</td>\n",
       "    </tr>\n",
       "    <tr>\n",
       "      <th>234099</th>\n",
       "      <td>2016-03-21 18:56:11</td>\n",
       "      <td>1290</td>\n",
       "      <td>sedan</td>\n",
       "      <td>2000</td>\n",
       "      <td>auto</td>\n",
       "      <td>1800</td>\n",
       "      <td>toledo</td>\n",
       "      <td>150000</td>\n",
       "      <td>petrol</td>\n",
       "      <td>seat</td>\n",
       "      <td>no</td>\n",
       "    </tr>\n",
       "    <tr>\n",
       "      <th>307044</th>\n",
       "      <td>2016-03-27 23:47:42</td>\n",
       "      <td>1500</td>\n",
       "      <td>sedan</td>\n",
       "      <td>1999</td>\n",
       "      <td>manual</td>\n",
       "      <td>1001</td>\n",
       "      <td>astra</td>\n",
       "      <td>125000</td>\n",
       "      <td>petrol</td>\n",
       "      <td>opel</td>\n",
       "      <td>no</td>\n",
       "    </tr>\n",
       "    <tr>\n",
       "      <th>217321</th>\n",
       "      <td>2016-03-28 10:51:46</td>\n",
       "      <td>2798</td>\n",
       "      <td>convertible</td>\n",
       "      <td>2005</td>\n",
       "      <td>NaN</td>\n",
       "      <td>1082</td>\n",
       "      <td>2_reihe</td>\n",
       "      <td>150000</td>\n",
       "      <td>petrol</td>\n",
       "      <td>peugeot</td>\n",
       "      <td>NaN</td>\n",
       "    </tr>\n",
       "    <tr>\n",
       "      <th>91568</th>\n",
       "      <td>2016-03-29 16:37:20</td>\n",
       "      <td>3800</td>\n",
       "      <td>sedan</td>\n",
       "      <td>2006</td>\n",
       "      <td>manual</td>\n",
       "      <td>1223</td>\n",
       "      <td>1er</td>\n",
       "      <td>150000</td>\n",
       "      <td>gasoline</td>\n",
       "      <td>bmw</td>\n",
       "      <td>yes</td>\n",
       "    </tr>\n",
       "    <tr>\n",
       "      <th>294479</th>\n",
       "      <td>2016-03-14 15:50:17</td>\n",
       "      <td>7200</td>\n",
       "      <td>small</td>\n",
       "      <td>2010</td>\n",
       "      <td>manual</td>\n",
       "      <td>1016</td>\n",
       "      <td>yaris</td>\n",
       "      <td>30000</td>\n",
       "      <td>petrol</td>\n",
       "      <td>toyota</td>\n",
       "      <td>NaN</td>\n",
       "    </tr>\n",
       "    <tr>\n",
       "      <th>92455</th>\n",
       "      <td>2016-03-15 22:53:58</td>\n",
       "      <td>6900</td>\n",
       "      <td>sedan</td>\n",
       "      <td>2007</td>\n",
       "      <td>manual</td>\n",
       "      <td>1968</td>\n",
       "      <td>passat</td>\n",
       "      <td>150000</td>\n",
       "      <td>gasoline</td>\n",
       "      <td>volkswagen</td>\n",
       "      <td>no</td>\n",
       "    </tr>\n",
       "    <tr>\n",
       "      <th>335429</th>\n",
       "      <td>2016-03-27 01:00:18</td>\n",
       "      <td>1444</td>\n",
       "      <td>wagon</td>\n",
       "      <td>1997</td>\n",
       "      <td>manual</td>\n",
       "      <td>1012</td>\n",
       "      <td>passat</td>\n",
       "      <td>150000</td>\n",
       "      <td>petrol</td>\n",
       "      <td>volkswagen</td>\n",
       "      <td>no</td>\n",
       "    </tr>\n",
       "    <tr>\n",
       "      <th>310883</th>\n",
       "      <td>2016-03-24 11:51:57</td>\n",
       "      <td>9900</td>\n",
       "      <td>bus</td>\n",
       "      <td>2011</td>\n",
       "      <td>manual</td>\n",
       "      <td>1400</td>\n",
       "      <td>touran</td>\n",
       "      <td>150000</td>\n",
       "      <td>NaN</td>\n",
       "      <td>volkswagen</td>\n",
       "      <td>no</td>\n",
       "    </tr>\n",
       "    <tr>\n",
       "      <th>33590</th>\n",
       "      <td>2016-03-10 11:53:22</td>\n",
       "      <td>300</td>\n",
       "      <td>coupe</td>\n",
       "      <td>2002</td>\n",
       "      <td>manual</td>\n",
       "      <td>551</td>\n",
       "      <td>NaN</td>\n",
       "      <td>5000</td>\n",
       "      <td>petrol</td>\n",
       "      <td>sonstige_autos</td>\n",
       "      <td>NaN</td>\n",
       "    </tr>\n",
       "    <tr>\n",
       "      <th>173074</th>\n",
       "      <td>2016-03-07 14:53:33</td>\n",
       "      <td>11900</td>\n",
       "      <td>suv</td>\n",
       "      <td>2006</td>\n",
       "      <td>auto</td>\n",
       "      <td>521</td>\n",
       "      <td>cayenne</td>\n",
       "      <td>125000</td>\n",
       "      <td>petrol</td>\n",
       "      <td>porsche</td>\n",
       "      <td>yes</td>\n",
       "    </tr>\n",
       "    <tr>\n",
       "      <th>218406</th>\n",
       "      <td>2016-03-05 14:39:12</td>\n",
       "      <td>14500</td>\n",
       "      <td>wagon</td>\n",
       "      <td>2004</td>\n",
       "      <td>auto</td>\n",
       "      <td>510</td>\n",
       "      <td>other</td>\n",
       "      <td>150000</td>\n",
       "      <td>petrol</td>\n",
       "      <td>audi</td>\n",
       "      <td>no</td>\n",
       "    </tr>\n",
       "    <tr>\n",
       "      <th>6504</th>\n",
       "      <td>2016-03-14 15:54:34</td>\n",
       "      <td>3000</td>\n",
       "      <td>small</td>\n",
       "      <td>2009</td>\n",
       "      <td>manual</td>\n",
       "      <td>771</td>\n",
       "      <td>punto</td>\n",
       "      <td>125000</td>\n",
       "      <td>petrol</td>\n",
       "      <td>fiat</td>\n",
       "      <td>NaN</td>\n",
       "    </tr>\n",
       "  </tbody>\n",
       "</table>\n",
       "</div>"
      ],
      "text/plain": [
       "                DateCrawled  Price  VehicleType  RegistrationYear Gearbox  \\\n",
       "158083  2016-03-16 15:55:23  16000          suv              2006    auto   \n",
       "177451  2016-04-01 07:37:20  11999        wagon              2002    auto   \n",
       "121124  2016-03-31 18:50:55    650        wagon              1997    auto   \n",
       "234099  2016-03-21 18:56:11   1290        sedan              2000    auto   \n",
       "307044  2016-03-27 23:47:42   1500        sedan              1999  manual   \n",
       "217321  2016-03-28 10:51:46   2798  convertible              2005     NaN   \n",
       "91568   2016-03-29 16:37:20   3800        sedan              2006  manual   \n",
       "294479  2016-03-14 15:50:17   7200        small              2010  manual   \n",
       "92455   2016-03-15 22:53:58   6900        sedan              2007  manual   \n",
       "335429  2016-03-27 01:00:18   1444        wagon              1997  manual   \n",
       "310883  2016-03-24 11:51:57   9900          bus              2011  manual   \n",
       "33590   2016-03-10 11:53:22    300        coupe              2002  manual   \n",
       "173074  2016-03-07 14:53:33  11900          suv              2006    auto   \n",
       "218406  2016-03-05 14:39:12  14500        wagon              2004    auto   \n",
       "6504    2016-03-14 15:54:34   3000        small              2009  manual   \n",
       "\n",
       "        Power     Model  Kilometer  FuelType           Brand Repaired  \n",
       "158083    510  m_klasse     125000    petrol   mercedes_benz      yes  \n",
       "177451    505     other     150000    petrol            audi       no  \n",
       "121124   3199  e_klasse      30000    petrol   mercedes_benz      NaN  \n",
       "234099   1800    toledo     150000    petrol            seat       no  \n",
       "307044   1001     astra     125000    petrol            opel       no  \n",
       "217321   1082   2_reihe     150000    petrol         peugeot      NaN  \n",
       "91568    1223       1er     150000  gasoline             bmw      yes  \n",
       "294479   1016     yaris      30000    petrol          toyota      NaN  \n",
       "92455    1968    passat     150000  gasoline      volkswagen       no  \n",
       "335429   1012    passat     150000    petrol      volkswagen       no  \n",
       "310883   1400    touran     150000       NaN      volkswagen       no  \n",
       "33590     551       NaN       5000    petrol  sonstige_autos      NaN  \n",
       "173074    521   cayenne     125000    petrol         porsche      yes  \n",
       "218406    510     other     150000    petrol            audi       no  \n",
       "6504      771     punto     125000    petrol            fiat      NaN  "
      ]
     },
     "execution_count": 24,
     "metadata": {},
     "output_type": "execute_result"
    }
   ],
   "source": [
    "df.loc[df['Power'] > 500].sample(15)"
   ]
  },
  {
   "cell_type": "markdown",
   "metadata": {
    "id": "bwfJoJ7X1zlc"
   },
   "source": [
    "Введу того, что мощность автомобиля равные \"0\" у автомобилей, у которых пользователь скорее всего ее не указал. Считаю необходимым удалить такие данные, даже не смотря на то, что они составляют более 35000 объявлений из-за того, что нельзя правильно заполнить нужными значениями. Мощность авто может зависеть от многообразия факторов, такие как: марка, модель, тип коробки передачь (далее   КПП), года выпуска, типа двигателя внутреннего сгорания (ДВС) или электродвигателя, также могут выпускать различные модели в одинаковый год  и даже день. При заполнении таких значений, мы можем получить недостоверные данные, которые могут в послеедствии при предсказании моделью не правильно определять стоимость автомобиля.\n",
    "\n",
    "Данные, у которых мощность авто превышает 1500 л.с. и менее 40 л.с., считаю необходимым в удалении, скорее всего в таких данных допущены ошибки при вводе (не правильно интерпретирована пользователем размерность, в которой указывается мощность или ошибки при вводе).\n",
    "\n",
    "Необходимо рекомендовать команде разработчиков, создать механизм, который не позволил бы опубликовывать \"такие\" объявления без заполнения определенных данных и ограничем по мощности."
   ]
  },
  {
   "cell_type": "code",
   "execution_count": 25,
   "metadata": {
    "id": "FmXXW5NT1zld"
   },
   "outputs": [],
   "source": [
    "df = df.loc[(df['Power'] >= 40) & (df['Power'] <= 1500)]"
   ]
  },
  {
   "cell_type": "code",
   "execution_count": 26,
   "metadata": {
    "colab": {
     "base_uri": "https://localhost:8080/"
    },
    "id": "_yv5VgqK1zld",
    "outputId": "1782658d-5f6b-4a07-be65-7bbfbd87a50c"
   },
   "outputs": [
    {
     "data": {
      "text/plain": [
       "count    304885.000000\n",
       "mean        121.123440\n",
       "std          57.939412\n",
       "min          40.000000\n",
       "25%          75.000000\n",
       "50%         110.000000\n",
       "75%         150.000000\n",
       "max        1500.000000\n",
       "Name: Power, dtype: float64"
      ]
     },
     "execution_count": 26,
     "metadata": {},
     "output_type": "execute_result"
    }
   ],
   "source": [
    "df['Power'].describe()"
   ]
  },
  {
   "cell_type": "markdown",
   "metadata": {
    "id": "vlYUCpwW1zle"
   },
   "source": [
    "##### Признак RegistrationYear"
   ]
  },
  {
   "cell_type": "code",
   "execution_count": 27,
   "metadata": {
    "colab": {
     "base_uri": "https://localhost:8080/"
    },
    "id": "--fCwBoe1zle",
    "outputId": "ace6a5fc-4b04-4626-87e6-5a7b743e9ade"
   },
   "outputs": [
    {
     "data": {
      "text/plain": [
       "count    304885.000000\n",
       "mean       2003.559962\n",
       "std          29.595721\n",
       "min        1000.000000\n",
       "25%        1999.000000\n",
       "50%        2003.000000\n",
       "75%        2008.000000\n",
       "max        9999.000000\n",
       "Name: RegistrationYear, dtype: float64"
      ]
     },
     "execution_count": 27,
     "metadata": {},
     "output_type": "execute_result"
    }
   ],
   "source": [
    "df['RegistrationYear'].describe()"
   ]
  },
  {
   "cell_type": "code",
   "execution_count": 28,
   "metadata": {
    "colab": {
     "base_uri": "https://localhost:8080/",
     "height": 206
    },
    "id": "6yraQlr21zle",
    "outputId": "2eab6aa4-7ef5-462a-e65a-2dc4f9aaa527"
   },
   "outputs": [
    {
     "data": {
      "text/html": [
       "<div>\n",
       "<style scoped>\n",
       "    .dataframe tbody tr th:only-of-type {\n",
       "        vertical-align: middle;\n",
       "    }\n",
       "\n",
       "    .dataframe tbody tr th {\n",
       "        vertical-align: top;\n",
       "    }\n",
       "\n",
       "    .dataframe thead th {\n",
       "        text-align: right;\n",
       "    }\n",
       "</style>\n",
       "<table border=\"1\" class=\"dataframe\">\n",
       "  <thead>\n",
       "    <tr style=\"text-align: right;\">\n",
       "      <th></th>\n",
       "      <th>RegistrationYear</th>\n",
       "    </tr>\n",
       "  </thead>\n",
       "  <tbody>\n",
       "    <tr>\n",
       "      <th>0.0012</th>\n",
       "      <td>1967.0</td>\n",
       "    </tr>\n",
       "    <tr>\n",
       "      <th>0.0100</th>\n",
       "      <td>1984.0</td>\n",
       "    </tr>\n",
       "    <tr>\n",
       "      <th>0.5000</th>\n",
       "      <td>2003.0</td>\n",
       "    </tr>\n",
       "    <tr>\n",
       "      <th>0.9900</th>\n",
       "      <td>2017.0</td>\n",
       "    </tr>\n",
       "    <tr>\n",
       "      <th>0.9988</th>\n",
       "      <td>2018.0</td>\n",
       "    </tr>\n",
       "  </tbody>\n",
       "</table>\n",
       "</div>"
      ],
      "text/plain": [
       "        RegistrationYear\n",
       "0.0012            1967.0\n",
       "0.0100            1984.0\n",
       "0.5000            2003.0\n",
       "0.9900            2017.0\n",
       "0.9988            2018.0"
      ]
     },
     "execution_count": 28,
     "metadata": {},
     "output_type": "execute_result"
    }
   ],
   "source": [
    "(\n",
    "    df[['RegistrationYear']]\n",
    "    .quantile([0.0012, 0.01, .5, .99, .9988])\n",
    " )"
   ]
  },
  {
   "cell_type": "code",
   "execution_count": 29,
   "metadata": {
    "colab": {
     "base_uri": "https://localhost:8080/",
     "height": 1000
    },
    "id": "WtFVABL-1zlf",
    "outputId": "68773c36-fc5d-4679-f7ae-bfa635a6ce04"
   },
   "outputs": [
    {
     "data": {
      "image/png": "[encoded data removed]",
      "text/plain": [
       "<Figure size 720x1080 with 1 Axes>"
      ]
     },
     "metadata": {
      "needs_background": "light"
     },
     "output_type": "display_data"
    }
   ],
   "source": [
    "df.plot (y ='RegistrationYear',\n",
    "         kind ='hist',\n",
    "         bins = 25,\n",
    "         grid=True,\n",
    "         figsize = (10,15),\n",
    "         range = (1930,1965)\n",
    "        ).set(\n",
    "    title='Гистограмма распределния RegistrationYear от 1930 до 1965 г.');"
   ]
  },
  {
   "cell_type": "code",
   "execution_count": 30,
   "metadata": {
    "colab": {
     "base_uri": "https://localhost:8080/",
     "height": 519
    },
    "id": "45zHG9rs1zlf",
    "outputId": "8e46d6d4-7822-4097-d8fe-a573eaecbe76"
   },
   "outputs": [
    {
     "data": {
      "text/html": [
       "<div>\n",
       "<style scoped>\n",
       "    .dataframe tbody tr th:only-of-type {\n",
       "        vertical-align: middle;\n",
       "    }\n",
       "\n",
       "    .dataframe tbody tr th {\n",
       "        vertical-align: top;\n",
       "    }\n",
       "\n",
       "    .dataframe thead th {\n",
       "        text-align: right;\n",
       "    }\n",
       "</style>\n",
       "<table border=\"1\" class=\"dataframe\">\n",
       "  <thead>\n",
       "    <tr style=\"text-align: right;\">\n",
       "      <th></th>\n",
       "      <th>DateCrawled</th>\n",
       "      <th>Price</th>\n",
       "      <th>VehicleType</th>\n",
       "      <th>RegistrationYear</th>\n",
       "      <th>Gearbox</th>\n",
       "      <th>Power</th>\n",
       "      <th>Model</th>\n",
       "      <th>Kilometer</th>\n",
       "      <th>FuelType</th>\n",
       "      <th>Brand</th>\n",
       "      <th>Repaired</th>\n",
       "    </tr>\n",
       "  </thead>\n",
       "  <tbody>\n",
       "    <tr>\n",
       "      <th>312964</th>\n",
       "      <td>2016-03-20 07:56:03</td>\n",
       "      <td>16900</td>\n",
       "      <td>sedan</td>\n",
       "      <td>1964</td>\n",
       "      <td>auto</td>\n",
       "      <td>368</td>\n",
       "      <td>NaN</td>\n",
       "      <td>90000</td>\n",
       "      <td>petrol</td>\n",
       "      <td>sonstige_autos</td>\n",
       "      <td>no</td>\n",
       "    </tr>\n",
       "    <tr>\n",
       "      <th>256532</th>\n",
       "      <td>2016-03-05 17:44:47</td>\n",
       "      <td>12500</td>\n",
       "      <td>NaN</td>\n",
       "      <td>1000</td>\n",
       "      <td>NaN</td>\n",
       "      <td>200</td>\n",
       "      <td>golf</td>\n",
       "      <td>5000</td>\n",
       "      <td>NaN</td>\n",
       "      <td>volkswagen</td>\n",
       "      <td>NaN</td>\n",
       "    </tr>\n",
       "    <tr>\n",
       "      <th>39823</th>\n",
       "      <td>2016-03-17 00:59:19</td>\n",
       "      <td>16800</td>\n",
       "      <td>coupe</td>\n",
       "      <td>1958</td>\n",
       "      <td>auto</td>\n",
       "      <td>275</td>\n",
       "      <td>other</td>\n",
       "      <td>150000</td>\n",
       "      <td>petrol</td>\n",
       "      <td>ford</td>\n",
       "      <td>no</td>\n",
       "    </tr>\n",
       "    <tr>\n",
       "      <th>270661</th>\n",
       "      <td>2016-03-28 12:59:22</td>\n",
       "      <td>17200</td>\n",
       "      <td>coupe</td>\n",
       "      <td>1959</td>\n",
       "      <td>auto</td>\n",
       "      <td>230</td>\n",
       "      <td>other</td>\n",
       "      <td>150000</td>\n",
       "      <td>petrol</td>\n",
       "      <td>ford</td>\n",
       "      <td>no</td>\n",
       "    </tr>\n",
       "    <tr>\n",
       "      <th>174225</th>\n",
       "      <td>2016-03-23 20:45:07</td>\n",
       "      <td>17900</td>\n",
       "      <td>coupe</td>\n",
       "      <td>1956</td>\n",
       "      <td>auto</td>\n",
       "      <td>205</td>\n",
       "      <td>NaN</td>\n",
       "      <td>100000</td>\n",
       "      <td>petrol</td>\n",
       "      <td>sonstige_autos</td>\n",
       "      <td>no</td>\n",
       "    </tr>\n",
       "    <tr>\n",
       "      <th>289549</th>\n",
       "      <td>2016-04-03 10:46:31</td>\n",
       "      <td>16500</td>\n",
       "      <td>sedan</td>\n",
       "      <td>1963</td>\n",
       "      <td>auto</td>\n",
       "      <td>272</td>\n",
       "      <td>NaN</td>\n",
       "      <td>100000</td>\n",
       "      <td>petrol</td>\n",
       "      <td>sonstige_autos</td>\n",
       "      <td>no</td>\n",
       "    </tr>\n",
       "    <tr>\n",
       "      <th>55746</th>\n",
       "      <td>2016-03-27 19:57:50</td>\n",
       "      <td>12450</td>\n",
       "      <td>convertible</td>\n",
       "      <td>1962</td>\n",
       "      <td>manual</td>\n",
       "      <td>105</td>\n",
       "      <td>other</td>\n",
       "      <td>150000</td>\n",
       "      <td>petrol</td>\n",
       "      <td>mercedes_benz</td>\n",
       "      <td>no</td>\n",
       "    </tr>\n",
       "    <tr>\n",
       "      <th>77582</th>\n",
       "      <td>2016-03-12 14:44:50</td>\n",
       "      <td>14990</td>\n",
       "      <td>suv</td>\n",
       "      <td>1960</td>\n",
       "      <td>manual</td>\n",
       "      <td>69</td>\n",
       "      <td>serie_2</td>\n",
       "      <td>5000</td>\n",
       "      <td>petrol</td>\n",
       "      <td>land_rover</td>\n",
       "      <td>no</td>\n",
       "    </tr>\n",
       "    <tr>\n",
       "      <th>346046</th>\n",
       "      <td>2016-03-26 16:45:28</td>\n",
       "      <td>18900</td>\n",
       "      <td>suv</td>\n",
       "      <td>1943</td>\n",
       "      <td>manual</td>\n",
       "      <td>60</td>\n",
       "      <td>other</td>\n",
       "      <td>150000</td>\n",
       "      <td>petrol</td>\n",
       "      <td>volkswagen</td>\n",
       "      <td>no</td>\n",
       "    </tr>\n",
       "    <tr>\n",
       "      <th>144077</th>\n",
       "      <td>2016-04-04 19:52:35</td>\n",
       "      <td>8200</td>\n",
       "      <td>sedan</td>\n",
       "      <td>1961</td>\n",
       "      <td>manual</td>\n",
       "      <td>50</td>\n",
       "      <td>kaefer</td>\n",
       "      <td>5000</td>\n",
       "      <td>petrol</td>\n",
       "      <td>volkswagen</td>\n",
       "      <td>no</td>\n",
       "    </tr>\n",
       "    <tr>\n",
       "      <th>70316</th>\n",
       "      <td>2016-03-19 19:56:10</td>\n",
       "      <td>11300</td>\n",
       "      <td>other</td>\n",
       "      <td>1960</td>\n",
       "      <td>manual</td>\n",
       "      <td>60</td>\n",
       "      <td>other</td>\n",
       "      <td>125000</td>\n",
       "      <td>petrol</td>\n",
       "      <td>volvo</td>\n",
       "      <td>no</td>\n",
       "    </tr>\n",
       "    <tr>\n",
       "      <th>184546</th>\n",
       "      <td>2016-03-26 16:57:26</td>\n",
       "      <td>5000</td>\n",
       "      <td>small</td>\n",
       "      <td>1959</td>\n",
       "      <td>manual</td>\n",
       "      <td>44</td>\n",
       "      <td>other</td>\n",
       "      <td>20000</td>\n",
       "      <td>petrol</td>\n",
       "      <td>audi</td>\n",
       "      <td>no</td>\n",
       "    </tr>\n",
       "    <tr>\n",
       "      <th>273078</th>\n",
       "      <td>2016-03-10 12:57:52</td>\n",
       "      <td>1500</td>\n",
       "      <td>NaN</td>\n",
       "      <td>1960</td>\n",
       "      <td>manual</td>\n",
       "      <td>90</td>\n",
       "      <td>golf</td>\n",
       "      <td>150000</td>\n",
       "      <td>petrol</td>\n",
       "      <td>volkswagen</td>\n",
       "      <td>no</td>\n",
       "    </tr>\n",
       "    <tr>\n",
       "      <th>116759</th>\n",
       "      <td>2016-04-04 21:37:58</td>\n",
       "      <td>6666</td>\n",
       "      <td>sedan</td>\n",
       "      <td>1964</td>\n",
       "      <td>manual</td>\n",
       "      <td>60</td>\n",
       "      <td>other</td>\n",
       "      <td>150000</td>\n",
       "      <td>gasoline</td>\n",
       "      <td>mercedes_benz</td>\n",
       "      <td>no</td>\n",
       "    </tr>\n",
       "    <tr>\n",
       "      <th>23750</th>\n",
       "      <td>2016-03-16 19:58:34</td>\n",
       "      <td>3900</td>\n",
       "      <td>wagon</td>\n",
       "      <td>1910</td>\n",
       "      <td>manual</td>\n",
       "      <td>90</td>\n",
       "      <td>passat</td>\n",
       "      <td>150000</td>\n",
       "      <td>petrol</td>\n",
       "      <td>volkswagen</td>\n",
       "      <td>NaN</td>\n",
       "    </tr>\n",
       "  </tbody>\n",
       "</table>\n",
       "</div>"
      ],
      "text/plain": [
       "                DateCrawled  Price  VehicleType  RegistrationYear Gearbox  \\\n",
       "312964  2016-03-20 07:56:03  16900        sedan              1964    auto   \n",
       "256532  2016-03-05 17:44:47  12500          NaN              1000     NaN   \n",
       "39823   2016-03-17 00:59:19  16800        coupe              1958    auto   \n",
       "270661  2016-03-28 12:59:22  17200        coupe              1959    auto   \n",
       "174225  2016-03-23 20:45:07  17900        coupe              1956    auto   \n",
       "289549  2016-04-03 10:46:31  16500        sedan              1963    auto   \n",
       "55746   2016-03-27 19:57:50  12450  convertible              1962  manual   \n",
       "77582   2016-03-12 14:44:50  14990          suv              1960  manual   \n",
       "346046  2016-03-26 16:45:28  18900          suv              1943  manual   \n",
       "144077  2016-04-04 19:52:35   8200        sedan              1961  manual   \n",
       "70316   2016-03-19 19:56:10  11300        other              1960  manual   \n",
       "184546  2016-03-26 16:57:26   5000        small              1959  manual   \n",
       "273078  2016-03-10 12:57:52   1500          NaN              1960  manual   \n",
       "116759  2016-04-04 21:37:58   6666        sedan              1964  manual   \n",
       "23750   2016-03-16 19:58:34   3900        wagon              1910  manual   \n",
       "\n",
       "        Power    Model  Kilometer  FuelType           Brand Repaired  \n",
       "312964    368      NaN      90000    petrol  sonstige_autos       no  \n",
       "256532    200     golf       5000       NaN      volkswagen      NaN  \n",
       "39823     275    other     150000    petrol            ford       no  \n",
       "270661    230    other     150000    petrol            ford       no  \n",
       "174225    205      NaN     100000    petrol  sonstige_autos       no  \n",
       "289549    272      NaN     100000    petrol  sonstige_autos       no  \n",
       "55746     105    other     150000    petrol   mercedes_benz       no  \n",
       "77582      69  serie_2       5000    petrol      land_rover       no  \n",
       "346046     60    other     150000    petrol      volkswagen       no  \n",
       "144077     50   kaefer       5000    petrol      volkswagen       no  \n",
       "70316      60    other     125000    petrol           volvo       no  \n",
       "184546     44    other      20000    petrol            audi       no  \n",
       "273078     90     golf     150000    petrol      volkswagen       no  \n",
       "116759     60    other     150000  gasoline   mercedes_benz       no  \n",
       "23750      90   passat     150000    petrol      volkswagen      NaN  "
      ]
     },
     "execution_count": 30,
     "metadata": {},
     "output_type": "execute_result"
    }
   ],
   "source": [
    "df.loc[df['RegistrationYear'] < 1965].sample(15)"
   ]
  },
  {
   "cell_type": "markdown",
   "metadata": {
    "id": "-sW95l6V1zlg"
   },
   "source": [
    "Считаю необходимыи удалить строки, где автоболи с датой регестрации менее 1940 года. Т.к. в таких данных скорее всего допущены ошибки."
   ]
  },
  {
   "cell_type": "markdown",
   "metadata": {
    "id": "U9CudtMB1zlg"
   },
   "source": [
    "Проверим, последнююю дату выгрузки анкеты из базы."
   ]
  },
  {
   "cell_type": "code",
   "execution_count": 31,
   "metadata": {
    "colab": {
     "base_uri": "https://localhost:8080/"
    },
    "id": "4VyrXBsW1zlg",
    "outputId": "6287006f-7d7b-4cb0-ab14-d2a9a1b3d161"
   },
   "outputs": [
    {
     "data": {
      "text/plain": [
       "329497    2016-03-05 14:06:22\n",
       "220583    2016-03-05 14:06:23\n",
       "324763    2016-03-05 14:06:24\n",
       "99885     2016-03-05 14:06:24\n",
       "176823    2016-03-05 14:06:24\n",
       "                 ...         \n",
       "204218    2016-04-07 14:36:53\n",
       "53739     2016-04-07 14:36:54\n",
       "301030    2016-04-07 14:36:55\n",
       "339649    2016-04-07 14:36:56\n",
       "90713     2016-04-07 14:36:58\n",
       "Name: DateCrawled, Length: 304885, dtype: object"
      ]
     },
     "execution_count": 31,
     "metadata": {},
     "output_type": "execute_result"
    }
   ],
   "source": [
    "df['DateCrawled'].sort_values()"
   ]
  },
  {
   "cell_type": "markdown",
   "metadata": {
    "id": "BwgIi8El1zlh"
   },
   "source": [
    "Т.к. последняя анкета датируется 2016 годом, то сделаем вывод о том, что машины с датой регоистрации более 2016 года невозможны, т.е. удалим такие значения."
   ]
  },
  {
   "cell_type": "code",
   "execution_count": 32,
   "metadata": {
    "id": "cXtcXUdp1zlh"
   },
   "outputs": [],
   "source": [
    "df = df.loc[(df['RegistrationYear'] >= 1940) & (df['RegistrationYear'] <= 2016)]"
   ]
  },
  {
   "cell_type": "code",
   "execution_count": 33,
   "metadata": {
    "colab": {
     "base_uri": "https://localhost:8080/"
    },
    "id": "WoDIq1PB1zli",
    "outputId": "177f0854-2848-436b-a33f-b07dea6e1598"
   },
   "outputs": [
    {
     "data": {
      "text/plain": [
       "count    294649.000000\n",
       "mean       2002.895336\n",
       "std           6.369382\n",
       "min        1941.000000\n",
       "25%        1999.000000\n",
       "50%        2003.000000\n",
       "75%        2007.000000\n",
       "max        2016.000000\n",
       "Name: RegistrationYear, dtype: float64"
      ]
     },
     "execution_count": 33,
     "metadata": {},
     "output_type": "execute_result"
    }
   ],
   "source": [
    "df['RegistrationYear'].describe()"
   ]
  },
  {
   "cell_type": "markdown",
   "metadata": {
    "id": "68vMHbFK1zli"
   },
   "source": [
    "Удалим не используемый в дальнейшем признак RegistrationYear."
   ]
  },
  {
   "cell_type": "code",
   "execution_count": 34,
   "metadata": {
    "id": "Oj9H0zIW1zlj"
   },
   "outputs": [],
   "source": [
    "df = df.drop(['DateCrawled'], axis=1)"
   ]
  },
  {
   "cell_type": "markdown",
   "metadata": {
    "id": "q4Q9Twm71zlj"
   },
   "source": [
    "#### Борьба с пропусками"
   ]
  },
  {
   "cell_type": "code",
   "execution_count": 35,
   "metadata": {
    "id": "A0QubnxD1zlj"
   },
   "outputs": [],
   "source": [
    "def pass_value_barh(df):\n",
    "    try:\n",
    "        (\n",
    "            (df.isna().sum())\n",
    "            .to_frame()\n",
    "            .rename(columns = {0:'space'})\n",
    "            .query('space > 0')\n",
    "            .sort_values(by = 'space', ascending = True)\n",
    "            .plot(kind = 'barh', figsize = (19,6), rot = -5, legend = False, fontsize = 16)\n",
    "            .set_title('Кол-во пропусков' + \"\\n\", fontsize = 22)\n",
    "        );\n",
    "    except:\n",
    "        print('пропусков не осталось :) или произошла ошибка в первой части функции ')"
   ]
  },
  {
   "cell_type": "code",
   "execution_count": 36,
   "metadata": {
    "colab": {
     "base_uri": "https://localhost:8080/",
     "height": 450
    },
    "id": "NdgP_LUe1zlk",
    "outputId": "7bc9d9d8-bc48-478a-f5c6-1e64afbf591c"
   },
   "outputs": [
    {
     "data": {
      "image/png": "[encoded data removed]",
      "text/plain": [
       "<Figure size 1368x432 with 1 Axes>"
      ]
     },
     "metadata": {
      "needs_background": "light"
     },
     "output_type": "display_data"
    }
   ],
   "source": [
    "pass_value_barh(df)"
   ]
  },
  {
   "cell_type": "markdown",
   "metadata": {
    "id": "9tlA0P0l1zlk"
   },
   "source": [
    "При предварительном анализе пропусков, выявлено достаточное большое количество. Удалять огромное количество датасета считаю не целесообразным, рассмотрим каждый признак по отдельности."
   ]
  },
  {
   "cell_type": "markdown",
   "metadata": {
    "id": "bL2bCF5t1zlk"
   },
   "source": [
    "#####  Признак Repaired"
   ]
  },
  {
   "cell_type": "code",
   "execution_count": 37,
   "metadata": {
    "colab": {
     "base_uri": "https://localhost:8080/",
     "height": 423
    },
    "id": "QqXDQl2t1zll",
    "outputId": "c657b8ac-bd6a-4597-b289-89642c6517e7"
   },
   "outputs": [
    {
     "data": {
      "text/html": [
       "<div>\n",
       "<style scoped>\n",
       "    .dataframe tbody tr th:only-of-type {\n",
       "        vertical-align: middle;\n",
       "    }\n",
       "\n",
       "    .dataframe tbody tr th {\n",
       "        vertical-align: top;\n",
       "    }\n",
       "\n",
       "    .dataframe thead th {\n",
       "        text-align: right;\n",
       "    }\n",
       "</style>\n",
       "<table border=\"1\" class=\"dataframe\">\n",
       "  <thead>\n",
       "    <tr style=\"text-align: right;\">\n",
       "      <th></th>\n",
       "      <th>Price</th>\n",
       "      <th>VehicleType</th>\n",
       "      <th>RegistrationYear</th>\n",
       "      <th>Gearbox</th>\n",
       "      <th>Power</th>\n",
       "      <th>Model</th>\n",
       "      <th>Kilometer</th>\n",
       "      <th>FuelType</th>\n",
       "      <th>Brand</th>\n",
       "      <th>Repaired</th>\n",
       "    </tr>\n",
       "  </thead>\n",
       "  <tbody>\n",
       "    <tr>\n",
       "      <th>2</th>\n",
       "      <td>9800</td>\n",
       "      <td>suv</td>\n",
       "      <td>2004</td>\n",
       "      <td>auto</td>\n",
       "      <td>163</td>\n",
       "      <td>grand</td>\n",
       "      <td>125000</td>\n",
       "      <td>gasoline</td>\n",
       "      <td>jeep</td>\n",
       "      <td>NaN</td>\n",
       "    </tr>\n",
       "    <tr>\n",
       "      <th>8</th>\n",
       "      <td>14500</td>\n",
       "      <td>bus</td>\n",
       "      <td>2014</td>\n",
       "      <td>manual</td>\n",
       "      <td>125</td>\n",
       "      <td>c_max</td>\n",
       "      <td>30000</td>\n",
       "      <td>petrol</td>\n",
       "      <td>ford</td>\n",
       "      <td>NaN</td>\n",
       "    </tr>\n",
       "    <tr>\n",
       "      <th>9</th>\n",
       "      <td>999</td>\n",
       "      <td>small</td>\n",
       "      <td>1998</td>\n",
       "      <td>manual</td>\n",
       "      <td>101</td>\n",
       "      <td>golf</td>\n",
       "      <td>150000</td>\n",
       "      <td>NaN</td>\n",
       "      <td>volkswagen</td>\n",
       "      <td>NaN</td>\n",
       "    </tr>\n",
       "    <tr>\n",
       "      <th>12</th>\n",
       "      <td>999</td>\n",
       "      <td>wagon</td>\n",
       "      <td>1995</td>\n",
       "      <td>manual</td>\n",
       "      <td>115</td>\n",
       "      <td>passat</td>\n",
       "      <td>150000</td>\n",
       "      <td>petrol</td>\n",
       "      <td>volkswagen</td>\n",
       "      <td>NaN</td>\n",
       "    </tr>\n",
       "    <tr>\n",
       "      <th>16</th>\n",
       "      <td>300</td>\n",
       "      <td>NaN</td>\n",
       "      <td>2016</td>\n",
       "      <td>NaN</td>\n",
       "      <td>60</td>\n",
       "      <td>polo</td>\n",
       "      <td>150000</td>\n",
       "      <td>petrol</td>\n",
       "      <td>volkswagen</td>\n",
       "      <td>NaN</td>\n",
       "    </tr>\n",
       "    <tr>\n",
       "      <th>...</th>\n",
       "      <td>...</td>\n",
       "      <td>...</td>\n",
       "      <td>...</td>\n",
       "      <td>...</td>\n",
       "      <td>...</td>\n",
       "      <td>...</td>\n",
       "      <td>...</td>\n",
       "      <td>...</td>\n",
       "      <td>...</td>\n",
       "      <td>...</td>\n",
       "    </tr>\n",
       "    <tr>\n",
       "      <th>354341</th>\n",
       "      <td>699</td>\n",
       "      <td>sedan</td>\n",
       "      <td>1999</td>\n",
       "      <td>manual</td>\n",
       "      <td>101</td>\n",
       "      <td>vectra</td>\n",
       "      <td>150000</td>\n",
       "      <td>petrol</td>\n",
       "      <td>opel</td>\n",
       "      <td>NaN</td>\n",
       "    </tr>\n",
       "    <tr>\n",
       "      <th>354349</th>\n",
       "      <td>5999</td>\n",
       "      <td>wagon</td>\n",
       "      <td>2005</td>\n",
       "      <td>manual</td>\n",
       "      <td>140</td>\n",
       "      <td>a4</td>\n",
       "      <td>150000</td>\n",
       "      <td>gasoline</td>\n",
       "      <td>audi</td>\n",
       "      <td>NaN</td>\n",
       "    </tr>\n",
       "    <tr>\n",
       "      <th>354356</th>\n",
       "      <td>999</td>\n",
       "      <td>convertible</td>\n",
       "      <td>2000</td>\n",
       "      <td>manual</td>\n",
       "      <td>95</td>\n",
       "      <td>megane</td>\n",
       "      <td>150000</td>\n",
       "      <td>petrol</td>\n",
       "      <td>renault</td>\n",
       "      <td>NaN</td>\n",
       "    </tr>\n",
       "    <tr>\n",
       "      <th>354357</th>\n",
       "      <td>1690</td>\n",
       "      <td>wagon</td>\n",
       "      <td>2004</td>\n",
       "      <td>manual</td>\n",
       "      <td>55</td>\n",
       "      <td>fabia</td>\n",
       "      <td>150000</td>\n",
       "      <td>petrol</td>\n",
       "      <td>skoda</td>\n",
       "      <td>NaN</td>\n",
       "    </tr>\n",
       "    <tr>\n",
       "      <th>354368</th>\n",
       "      <td>3400</td>\n",
       "      <td>wagon</td>\n",
       "      <td>2002</td>\n",
       "      <td>manual</td>\n",
       "      <td>100</td>\n",
       "      <td>golf</td>\n",
       "      <td>150000</td>\n",
       "      <td>gasoline</td>\n",
       "      <td>volkswagen</td>\n",
       "      <td>NaN</td>\n",
       "    </tr>\n",
       "  </tbody>\n",
       "</table>\n",
       "<p>42392 rows × 10 columns</p>\n",
       "</div>"
      ],
      "text/plain": [
       "        Price  VehicleType  RegistrationYear Gearbox  Power   Model  \\\n",
       "2        9800          suv              2004    auto    163   grand   \n",
       "8       14500          bus              2014  manual    125   c_max   \n",
       "9         999        small              1998  manual    101    golf   \n",
       "12        999        wagon              1995  manual    115  passat   \n",
       "16        300          NaN              2016     NaN     60    polo   \n",
       "...       ...          ...               ...     ...    ...     ...   \n",
       "354341    699        sedan              1999  manual    101  vectra   \n",
       "354349   5999        wagon              2005  manual    140      a4   \n",
       "354356    999  convertible              2000  manual     95  megane   \n",
       "354357   1690        wagon              2004  manual     55   fabia   \n",
       "354368   3400        wagon              2002  manual    100    golf   \n",
       "\n",
       "        Kilometer  FuelType       Brand Repaired  \n",
       "2          125000  gasoline        jeep      NaN  \n",
       "8           30000    petrol        ford      NaN  \n",
       "9          150000       NaN  volkswagen      NaN  \n",
       "12         150000    petrol  volkswagen      NaN  \n",
       "16         150000    petrol  volkswagen      NaN  \n",
       "...           ...       ...         ...      ...  \n",
       "354341     150000    petrol        opel      NaN  \n",
       "354349     150000  gasoline        audi      NaN  \n",
       "354356     150000    petrol     renault      NaN  \n",
       "354357     150000    petrol       skoda      NaN  \n",
       "354368     150000  gasoline  volkswagen      NaN  \n",
       "\n",
       "[42392 rows x 10 columns]"
      ]
     },
     "execution_count": 37,
     "metadata": {},
     "output_type": "execute_result"
    }
   ],
   "source": [
    "df[df['Repaired'].isna()]"
   ]
  },
  {
   "cell_type": "markdown",
   "metadata": {
    "id": "sJFOLVfT1zll"
   },
   "source": [
    "Определить был автомобиль в ремеонте или нет, однозначно сказть невозможно. В данных не сказано, что является критерием к отнесению автомобиля, который был в рмонте, да и ремонт бывает разный, напрмер: \"замена стоек стабилизатора или капитальный ремонт ДВС, или тотальное восстановление кузовных элементов автомобиля\" - это все ремонт, но у него разная степень воздействия на разные части автомобиля, которые по разному влияют на безопасность и надежность агрегатов. ПОэтому оставшуюсячасть пропусков заменим значением \"unknown\"."
   ]
  },
  {
   "cell_type": "code",
   "execution_count": 38,
   "metadata": {
    "id": "21Rmu9fD1zll"
   },
   "outputs": [],
   "source": [
    "df['Repaired'].fillna('unknown', inplace = True)"
   ]
  },
  {
   "cell_type": "code",
   "execution_count": 39,
   "metadata": {
    "colab": {
     "base_uri": "https://localhost:8080/"
    },
    "id": "QMvhbk931zlm",
    "outputId": "cf5a466f-ec93-4816-dc64-1d6ce9d75131"
   },
   "outputs": [
    {
     "data": {
      "text/plain": [
       "0"
      ]
     },
     "execution_count": 39,
     "metadata": {},
     "output_type": "execute_result"
    }
   ],
   "source": [
    "df['Repaired'].isna().sum()"
   ]
  },
  {
   "cell_type": "markdown",
   "metadata": {
    "id": "gqwkvVdt1zlm"
   },
   "source": [
    "#####  Признак VehicleType"
   ]
  },
  {
   "cell_type": "code",
   "execution_count": 40,
   "metadata": {
    "colab": {
     "base_uri": "https://localhost:8080/",
     "height": 519
    },
    "id": "stJIPjn21zlm",
    "outputId": "81c2bb02-1f56-4e08-bbac-5b07775e3103"
   },
   "outputs": [
    {
     "data": {
      "text/html": [
       "<div>\n",
       "<style scoped>\n",
       "    .dataframe tbody tr th:only-of-type {\n",
       "        vertical-align: middle;\n",
       "    }\n",
       "\n",
       "    .dataframe tbody tr th {\n",
       "        vertical-align: top;\n",
       "    }\n",
       "\n",
       "    .dataframe thead th {\n",
       "        text-align: right;\n",
       "    }\n",
       "</style>\n",
       "<table border=\"1\" class=\"dataframe\">\n",
       "  <thead>\n",
       "    <tr style=\"text-align: right;\">\n",
       "      <th></th>\n",
       "      <th>Price</th>\n",
       "      <th>VehicleType</th>\n",
       "      <th>RegistrationYear</th>\n",
       "      <th>Gearbox</th>\n",
       "      <th>Power</th>\n",
       "      <th>Model</th>\n",
       "      <th>Kilometer</th>\n",
       "      <th>FuelType</th>\n",
       "      <th>Brand</th>\n",
       "      <th>Repaired</th>\n",
       "    </tr>\n",
       "  </thead>\n",
       "  <tbody>\n",
       "    <tr>\n",
       "      <th>52078</th>\n",
       "      <td>1250</td>\n",
       "      <td>NaN</td>\n",
       "      <td>2000</td>\n",
       "      <td>manual</td>\n",
       "      <td>75</td>\n",
       "      <td>golf</td>\n",
       "      <td>150000</td>\n",
       "      <td>NaN</td>\n",
       "      <td>volkswagen</td>\n",
       "      <td>no</td>\n",
       "    </tr>\n",
       "    <tr>\n",
       "      <th>83618</th>\n",
       "      <td>1450</td>\n",
       "      <td>NaN</td>\n",
       "      <td>2016</td>\n",
       "      <td>manual</td>\n",
       "      <td>101</td>\n",
       "      <td>a3</td>\n",
       "      <td>150000</td>\n",
       "      <td>NaN</td>\n",
       "      <td>audi</td>\n",
       "      <td>no</td>\n",
       "    </tr>\n",
       "    <tr>\n",
       "      <th>333409</th>\n",
       "      <td>6300</td>\n",
       "      <td>NaN</td>\n",
       "      <td>2011</td>\n",
       "      <td>manual</td>\n",
       "      <td>105</td>\n",
       "      <td>ibiza</td>\n",
       "      <td>150000</td>\n",
       "      <td>gasoline</td>\n",
       "      <td>seat</td>\n",
       "      <td>no</td>\n",
       "    </tr>\n",
       "    <tr>\n",
       "      <th>240917</th>\n",
       "      <td>1500</td>\n",
       "      <td>NaN</td>\n",
       "      <td>2016</td>\n",
       "      <td>manual</td>\n",
       "      <td>101</td>\n",
       "      <td>golf</td>\n",
       "      <td>150000</td>\n",
       "      <td>petrol</td>\n",
       "      <td>volkswagen</td>\n",
       "      <td>unknown</td>\n",
       "    </tr>\n",
       "    <tr>\n",
       "      <th>213091</th>\n",
       "      <td>2450</td>\n",
       "      <td>NaN</td>\n",
       "      <td>1995</td>\n",
       "      <td>manual</td>\n",
       "      <td>350</td>\n",
       "      <td>astra</td>\n",
       "      <td>150000</td>\n",
       "      <td>NaN</td>\n",
       "      <td>opel</td>\n",
       "      <td>yes</td>\n",
       "    </tr>\n",
       "    <tr>\n",
       "      <th>321709</th>\n",
       "      <td>1150</td>\n",
       "      <td>NaN</td>\n",
       "      <td>2016</td>\n",
       "      <td>manual</td>\n",
       "      <td>75</td>\n",
       "      <td>focus</td>\n",
       "      <td>5000</td>\n",
       "      <td>petrol</td>\n",
       "      <td>ford</td>\n",
       "      <td>unknown</td>\n",
       "    </tr>\n",
       "    <tr>\n",
       "      <th>99765</th>\n",
       "      <td>300</td>\n",
       "      <td>NaN</td>\n",
       "      <td>2000</td>\n",
       "      <td>manual</td>\n",
       "      <td>58</td>\n",
       "      <td>twingo</td>\n",
       "      <td>150000</td>\n",
       "      <td>NaN</td>\n",
       "      <td>renault</td>\n",
       "      <td>no</td>\n",
       "    </tr>\n",
       "    <tr>\n",
       "      <th>242799</th>\n",
       "      <td>4000</td>\n",
       "      <td>NaN</td>\n",
       "      <td>2016</td>\n",
       "      <td>manual</td>\n",
       "      <td>102</td>\n",
       "      <td>a3</td>\n",
       "      <td>150000</td>\n",
       "      <td>lpg</td>\n",
       "      <td>audi</td>\n",
       "      <td>unknown</td>\n",
       "    </tr>\n",
       "    <tr>\n",
       "      <th>15974</th>\n",
       "      <td>7000</td>\n",
       "      <td>NaN</td>\n",
       "      <td>2016</td>\n",
       "      <td>auto</td>\n",
       "      <td>140</td>\n",
       "      <td>passat</td>\n",
       "      <td>150000</td>\n",
       "      <td>gasoline</td>\n",
       "      <td>volkswagen</td>\n",
       "      <td>no</td>\n",
       "    </tr>\n",
       "    <tr>\n",
       "      <th>215061</th>\n",
       "      <td>299</td>\n",
       "      <td>NaN</td>\n",
       "      <td>1990</td>\n",
       "      <td>manual</td>\n",
       "      <td>90</td>\n",
       "      <td>polo</td>\n",
       "      <td>20000</td>\n",
       "      <td>NaN</td>\n",
       "      <td>volkswagen</td>\n",
       "      <td>unknown</td>\n",
       "    </tr>\n",
       "    <tr>\n",
       "      <th>296077</th>\n",
       "      <td>50</td>\n",
       "      <td>NaN</td>\n",
       "      <td>2000</td>\n",
       "      <td>manual</td>\n",
       "      <td>193</td>\n",
       "      <td>3er</td>\n",
       "      <td>150000</td>\n",
       "      <td>petrol</td>\n",
       "      <td>bmw</td>\n",
       "      <td>unknown</td>\n",
       "    </tr>\n",
       "    <tr>\n",
       "      <th>290362</th>\n",
       "      <td>3799</td>\n",
       "      <td>NaN</td>\n",
       "      <td>2005</td>\n",
       "      <td>manual</td>\n",
       "      <td>116</td>\n",
       "      <td>almera</td>\n",
       "      <td>80000</td>\n",
       "      <td>NaN</td>\n",
       "      <td>nissan</td>\n",
       "      <td>no</td>\n",
       "    </tr>\n",
       "    <tr>\n",
       "      <th>169606</th>\n",
       "      <td>1600</td>\n",
       "      <td>NaN</td>\n",
       "      <td>2016</td>\n",
       "      <td>manual</td>\n",
       "      <td>101</td>\n",
       "      <td>golf</td>\n",
       "      <td>150000</td>\n",
       "      <td>petrol</td>\n",
       "      <td>volkswagen</td>\n",
       "      <td>no</td>\n",
       "    </tr>\n",
       "    <tr>\n",
       "      <th>305170</th>\n",
       "      <td>1050</td>\n",
       "      <td>NaN</td>\n",
       "      <td>2000</td>\n",
       "      <td>manual</td>\n",
       "      <td>60</td>\n",
       "      <td>polo</td>\n",
       "      <td>150000</td>\n",
       "      <td>petrol</td>\n",
       "      <td>volkswagen</td>\n",
       "      <td>unknown</td>\n",
       "    </tr>\n",
       "    <tr>\n",
       "      <th>265234</th>\n",
       "      <td>6500</td>\n",
       "      <td>NaN</td>\n",
       "      <td>2016</td>\n",
       "      <td>manual</td>\n",
       "      <td>67</td>\n",
       "      <td>other</td>\n",
       "      <td>80000</td>\n",
       "      <td>NaN</td>\n",
       "      <td>daihatsu</td>\n",
       "      <td>no</td>\n",
       "    </tr>\n",
       "  </tbody>\n",
       "</table>\n",
       "</div>"
      ],
      "text/plain": [
       "        Price VehicleType  RegistrationYear Gearbox  Power   Model  Kilometer  \\\n",
       "52078    1250         NaN              2000  manual     75    golf     150000   \n",
       "83618    1450         NaN              2016  manual    101      a3     150000   \n",
       "333409   6300         NaN              2011  manual    105   ibiza     150000   \n",
       "240917   1500         NaN              2016  manual    101    golf     150000   \n",
       "213091   2450         NaN              1995  manual    350   astra     150000   \n",
       "321709   1150         NaN              2016  manual     75   focus       5000   \n",
       "99765     300         NaN              2000  manual     58  twingo     150000   \n",
       "242799   4000         NaN              2016  manual    102      a3     150000   \n",
       "15974    7000         NaN              2016    auto    140  passat     150000   \n",
       "215061    299         NaN              1990  manual     90    polo      20000   \n",
       "296077     50         NaN              2000  manual    193     3er     150000   \n",
       "290362   3799         NaN              2005  manual    116  almera      80000   \n",
       "169606   1600         NaN              2016  manual    101    golf     150000   \n",
       "305170   1050         NaN              2000  manual     60    polo     150000   \n",
       "265234   6500         NaN              2016  manual     67   other      80000   \n",
       "\n",
       "        FuelType       Brand Repaired  \n",
       "52078        NaN  volkswagen       no  \n",
       "83618        NaN        audi       no  \n",
       "333409  gasoline        seat       no  \n",
       "240917    petrol  volkswagen  unknown  \n",
       "213091       NaN        opel      yes  \n",
       "321709    petrol        ford  unknown  \n",
       "99765        NaN     renault       no  \n",
       "242799       lpg        audi  unknown  \n",
       "15974   gasoline  volkswagen       no  \n",
       "215061       NaN  volkswagen  unknown  \n",
       "296077    petrol         bmw  unknown  \n",
       "290362       NaN      nissan       no  \n",
       "169606    petrol  volkswagen       no  \n",
       "305170    petrol  volkswagen  unknown  \n",
       "265234       NaN    daihatsu       no  "
      ]
     },
     "execution_count": 40,
     "metadata": {},
     "output_type": "execute_result"
    }
   ],
   "source": [
    "df[df['VehicleType'].isna()].sample(15)"
   ]
  },
  {
   "cell_type": "code",
   "execution_count": 41,
   "metadata": {
    "colab": {
     "base_uri": "https://localhost:8080/"
    },
    "id": "H8sdv_Lv1zln",
    "outputId": "b787565f-c2ec-4520-fdca-e5c40d57f73f"
   },
   "outputs": [
    {
     "data": {
      "text/plain": [
       "sedan          82686\n",
       "small          69387\n",
       "wagon          59079\n",
       "bus            26163\n",
       "convertible    18659\n",
       "coupe          14544\n",
       "suv            10927\n",
       "NaN            10811\n",
       "other           2393\n",
       "Name: VehicleType, dtype: int64"
      ]
     },
     "execution_count": 41,
     "metadata": {},
     "output_type": "execute_result"
    }
   ],
   "source": [
    "df['VehicleType'].value_counts(dropna=False)"
   ]
  },
  {
   "cell_type": "markdown",
   "metadata": {
    "id": "11DzhT0U1zlo"
   },
   "source": [
    "Т.к. тип кузова для одинаковых моделей может быть различным и также могут отличаться годом выпуска, то принимаю решение о заполении пропущенных значений \"unknown\"."
   ]
  },
  {
   "cell_type": "code",
   "execution_count": 42,
   "metadata": {
    "id": "IhA0lTuv1zlv"
   },
   "outputs": [],
   "source": [
    "df['VehicleType'].fillna('unknown', inplace = True)"
   ]
  },
  {
   "cell_type": "code",
   "execution_count": 43,
   "metadata": {
    "colab": {
     "base_uri": "https://localhost:8080/"
    },
    "id": "aEZJ6IIX1zlv",
    "outputId": "3f7762ff-1404-4549-8173-0d422263eaea"
   },
   "outputs": [
    {
     "data": {
      "text/plain": [
       "0"
      ]
     },
     "execution_count": 43,
     "metadata": {},
     "output_type": "execute_result"
    }
   ],
   "source": [
    "df['VehicleType'].isna().sum()"
   ]
  },
  {
   "cell_type": "markdown",
   "metadata": {
    "id": "ZGm5ubSg1zlw"
   },
   "source": [
    "#####  Признак FuelType"
   ]
  },
  {
   "cell_type": "code",
   "execution_count": 44,
   "metadata": {
    "colab": {
     "base_uri": "https://localhost:8080/"
    },
    "id": "nvriHRs91zlx",
    "outputId": "81bcfc4e-a877-4404-ce1b-01fe41dcb1a1"
   },
   "outputs": [
    {
     "data": {
      "text/plain": [
       "petrol      186276\n",
       "gasoline     87629\n",
       "lpg           4677\n",
       "cng            481\n",
       "hybrid         201\n",
       "other           56\n",
       "electric        37\n",
       "Name: FuelType, dtype: int64"
      ]
     },
     "execution_count": 44,
     "metadata": {},
     "output_type": "execute_result"
    }
   ],
   "source": [
    "df['FuelType'].value_counts()"
   ]
  },
  {
   "cell_type": "markdown",
   "metadata": {
    "id": "b8o6sbcQ1zly"
   },
   "source": [
    "Т.к. в нашаем датасете цена указана в евро, то следовательно продажа машин осуществлялась в Европейском союзе (далее - ЕС). Рассматривая типы топлива в странах ЕС, то можно заметить, что для в разных странах могут отличаться названия. Нпример может gasoline, а может и diesel. Также, автовладельцы могут изменять вид топлива в машине, например могут перевести с бензина на газ, а газ в свою очередь двух типов: lpg и cng. Поэтому точно определить вид топлива для автомобиля не представляется возможным, тчобы избежать ошибок, принимаю решение о заполнении пропущенных значений \"unknown\"."
   ]
  },
  {
   "cell_type": "code",
   "execution_count": 45,
   "metadata": {
    "id": "tLxGQU6r1zlz"
   },
   "outputs": [],
   "source": [
    "df['FuelType'].fillna('unknown', inplace = True)"
   ]
  },
  {
   "cell_type": "code",
   "execution_count": 46,
   "metadata": {
    "colab": {
     "base_uri": "https://localhost:8080/"
    },
    "id": "8SmBrIX61zlz",
    "outputId": "69ced0b8-cdc8-4678-bcfb-7d6edb779d48"
   },
   "outputs": [
    {
     "data": {
      "text/plain": [
       "0"
      ]
     },
     "execution_count": 46,
     "metadata": {},
     "output_type": "execute_result"
    }
   ],
   "source": [
    "df['FuelType'].isna().sum()"
   ]
  },
  {
   "cell_type": "markdown",
   "metadata": {
    "id": "jq-8rDDs1zl0"
   },
   "source": [
    "#####  Признак Model"
   ]
  },
  {
   "cell_type": "code",
   "execution_count": 47,
   "metadata": {
    "colab": {
     "base_uri": "https://localhost:8080/"
    },
    "id": "dFb1sXln1zl0",
    "outputId": "b4078ba5-eb2c-417e-a28b-41d1de7e9fb7"
   },
   "outputs": [
    {
     "data": {
      "text/plain": [
       "golf                  24663\n",
       "other                 20088\n",
       "3er                   17334\n",
       "polo                  10641\n",
       "corsa                 10071\n",
       "                      ...  \n",
       "kalina                    5\n",
       "601                       3\n",
       "serie_3                   3\n",
       "rangerover                2\n",
       "range_rover_evoque        2\n",
       "Name: Model, Length: 249, dtype: int64"
      ]
     },
     "execution_count": 47,
     "metadata": {},
     "output_type": "execute_result"
    }
   ],
   "source": [
    "df['Model'].value_counts()"
   ]
  },
  {
   "cell_type": "markdown",
   "metadata": {
    "id": "sQkZniY21zl1"
   },
   "source": [
    "Среди марок автомобиля достаточно много автомобилей, которые будут схожи техническими характеристиками (тип ДВС, объем ДВС, тип КПП), поэтому однозначно и точно утверждать, что автомобиль этой марки и именно этой модели по схожим техническим характеристикам нельзя. Поэтому, принимаю решение о заполнении пропущенных значенией \"unknown\"."
   ]
  },
  {
   "cell_type": "code",
   "execution_count": 48,
   "metadata": {
    "id": "SpE1hEbY1zl1"
   },
   "outputs": [],
   "source": [
    "df['Model'].fillna('unknown', inplace = True)"
   ]
  },
  {
   "cell_type": "code",
   "execution_count": 49,
   "metadata": {
    "colab": {
     "base_uri": "https://localhost:8080/"
    },
    "id": "15bFo5kN1zl1",
    "outputId": "a099c9c1-e816-4a26-cc0a-0bdf5aa1c2cb"
   },
   "outputs": [
    {
     "data": {
      "text/plain": [
       "0"
      ]
     },
     "execution_count": 49,
     "metadata": {},
     "output_type": "execute_result"
    }
   ],
   "source": [
    "df['Model'].isna().sum()"
   ]
  },
  {
   "cell_type": "markdown",
   "metadata": {
    "id": "GDvSJtgw1zl2"
   },
   "source": [
    "#####  Признак Gearbox"
   ]
  },
  {
   "cell_type": "code",
   "execution_count": 50,
   "metadata": {
    "colab": {
     "base_uri": "https://localhost:8080/"
    },
    "id": "sVWyG0oA1zl2",
    "outputId": "87671bc5-21f8-4000-ef07-ccdb7d2e22df"
   },
   "outputs": [
    {
     "data": {
      "text/plain": [
       "manual    230789\n",
       "auto       58640\n",
       "Name: Gearbox, dtype: int64"
      ]
     },
     "execution_count": 50,
     "metadata": {},
     "output_type": "execute_result"
    }
   ],
   "source": [
    "df['Gearbox'].value_counts()"
   ]
  },
  {
   "cell_type": "markdown",
   "metadata": {
    "id": "prjaR8tw1zl2"
   },
   "source": [
    "Однозначно сказать какой тип КПП для одинаковых марок и моделей автомобилей достаточно сложно, поэтому буду заполнять пропущенных значения \"unknown\"."
   ]
  },
  {
   "cell_type": "code",
   "execution_count": 51,
   "metadata": {
    "id": "p9QUw8eP1zl3"
   },
   "outputs": [],
   "source": [
    "df['Gearbox'].fillna('unknown', inplace = True)"
   ]
  },
  {
   "cell_type": "code",
   "execution_count": 52,
   "metadata": {
    "colab": {
     "base_uri": "https://localhost:8080/"
    },
    "id": "3_HAC2V21zl3",
    "outputId": "9f2f1933-f768-4a0e-fea0-9c4ce967c63d"
   },
   "outputs": [
    {
     "data": {
      "text/plain": [
       "0"
      ]
     },
     "execution_count": 52,
     "metadata": {},
     "output_type": "execute_result"
    }
   ],
   "source": [
    "df['Gearbox'].isna().sum()"
   ]
  },
  {
   "cell_type": "markdown",
   "metadata": {
    "id": "sn9oVS0b1zl4"
   },
   "source": [
    "Проверим на наличие пропусков весь датасет."
   ]
  },
  {
   "cell_type": "code",
   "execution_count": 53,
   "metadata": {
    "colab": {
     "base_uri": "https://localhost:8080/"
    },
    "id": "KV9LBdhZ1zl4",
    "outputId": "656a0517-4d49-4022-fcb8-965ef477006c"
   },
   "outputs": [
    {
     "data": {
      "text/plain": [
       "Price               0\n",
       "VehicleType         0\n",
       "RegistrationYear    0\n",
       "Gearbox             0\n",
       "Power               0\n",
       "Model               0\n",
       "Kilometer           0\n",
       "FuelType            0\n",
       "Brand               0\n",
       "Repaired            0\n",
       "dtype: int64"
      ]
     },
     "execution_count": 53,
     "metadata": {},
     "output_type": "execute_result"
    }
   ],
   "source": [
    "df.isna().sum()"
   ]
  },
  {
   "cell_type": "code",
   "execution_count": 54,
   "metadata": {
    "colab": {
     "base_uri": "https://localhost:8080/",
     "height": 1000
    },
    "id": "fC8ET6tG1zl4",
    "outputId": "6aacd9ee-c6ab-45af-d7df-6124b1c14464"
   },
   "outputs": [
    {
     "data": {
      "text/html": [
       "<div>\n",
       "<style scoped>\n",
       "    .dataframe tbody tr th:only-of-type {\n",
       "        vertical-align: middle;\n",
       "    }\n",
       "\n",
       "    .dataframe tbody tr th {\n",
       "        vertical-align: top;\n",
       "    }\n",
       "\n",
       "    .dataframe thead th {\n",
       "        text-align: right;\n",
       "    }\n",
       "</style>\n",
       "<table border=\"1\" class=\"dataframe\">\n",
       "  <thead>\n",
       "    <tr style=\"text-align: right;\">\n",
       "      <th></th>\n",
       "      <th>Price</th>\n",
       "      <th>VehicleType</th>\n",
       "      <th>RegistrationYear</th>\n",
       "      <th>Gearbox</th>\n",
       "      <th>Power</th>\n",
       "      <th>Model</th>\n",
       "      <th>Kilometer</th>\n",
       "      <th>FuelType</th>\n",
       "      <th>Brand</th>\n",
       "      <th>Repaired</th>\n",
       "    </tr>\n",
       "  </thead>\n",
       "  <tbody>\n",
       "    <tr>\n",
       "      <th>338632</th>\n",
       "      <td>2700</td>\n",
       "      <td>small</td>\n",
       "      <td>2002</td>\n",
       "      <td>manual</td>\n",
       "      <td>64</td>\n",
       "      <td>polo</td>\n",
       "      <td>150000</td>\n",
       "      <td>petrol</td>\n",
       "      <td>volkswagen</td>\n",
       "      <td>no</td>\n",
       "    </tr>\n",
       "    <tr>\n",
       "      <th>107246</th>\n",
       "      <td>890</td>\n",
       "      <td>bus</td>\n",
       "      <td>1996</td>\n",
       "      <td>manual</td>\n",
       "      <td>174</td>\n",
       "      <td>sharan</td>\n",
       "      <td>150000</td>\n",
       "      <td>petrol</td>\n",
       "      <td>volkswagen</td>\n",
       "      <td>no</td>\n",
       "    </tr>\n",
       "    <tr>\n",
       "      <th>106618</th>\n",
       "      <td>9500</td>\n",
       "      <td>wagon</td>\n",
       "      <td>2008</td>\n",
       "      <td>manual</td>\n",
       "      <td>116</td>\n",
       "      <td>b_klasse</td>\n",
       "      <td>125000</td>\n",
       "      <td>petrol</td>\n",
       "      <td>mercedes_benz</td>\n",
       "      <td>no</td>\n",
       "    </tr>\n",
       "    <tr>\n",
       "      <th>128041</th>\n",
       "      <td>9900</td>\n",
       "      <td>small</td>\n",
       "      <td>2011</td>\n",
       "      <td>manual</td>\n",
       "      <td>105</td>\n",
       "      <td>polo</td>\n",
       "      <td>40000</td>\n",
       "      <td>gasoline</td>\n",
       "      <td>volkswagen</td>\n",
       "      <td>no</td>\n",
       "    </tr>\n",
       "    <tr>\n",
       "      <th>310867</th>\n",
       "      <td>2850</td>\n",
       "      <td>small</td>\n",
       "      <td>2006</td>\n",
       "      <td>manual</td>\n",
       "      <td>65</td>\n",
       "      <td>clio</td>\n",
       "      <td>90000</td>\n",
       "      <td>petrol</td>\n",
       "      <td>renault</td>\n",
       "      <td>no</td>\n",
       "    </tr>\n",
       "  </tbody>\n",
       "</table>\n",
       "</div>"
      ],
      "text/plain": [
       "        Price VehicleType  RegistrationYear Gearbox  Power     Model  \\\n",
       "338632   2700       small              2002  manual     64      polo   \n",
       "107246    890         bus              1996  manual    174    sharan   \n",
       "106618   9500       wagon              2008  manual    116  b_klasse   \n",
       "128041   9900       small              2011  manual    105      polo   \n",
       "310867   2850       small              2006  manual     65      clio   \n",
       "\n",
       "        Kilometer  FuelType          Brand Repaired  \n",
       "338632     150000    petrol     volkswagen       no  \n",
       "107246     150000    petrol     volkswagen       no  \n",
       "106618     125000    petrol  mercedes_benz       no  \n",
       "128041      40000  gasoline     volkswagen       no  \n",
       "310867      90000    petrol        renault       no  "
      ]
     },
     "metadata": {},
     "output_type": "display_data"
    },
    {
     "name": "stdout",
     "output_type": "stream",
     "text": [
      "<class 'pandas.core.frame.DataFrame'>\n",
      "Int64Index: 294649 entries, 1 to 354368\n",
      "Data columns (total 10 columns):\n",
      " #   Column            Non-Null Count   Dtype \n",
      "---  ------            --------------   ----- \n",
      " 0   Price             294649 non-null  int64 \n",
      " 1   VehicleType       294649 non-null  object\n",
      " 2   RegistrationYear  294649 non-null  int64 \n",
      " 3   Gearbox           294649 non-null  object\n",
      " 4   Power             294649 non-null  int64 \n",
      " 5   Model             294649 non-null  object\n",
      " 6   Kilometer         294649 non-null  int64 \n",
      " 7   FuelType          294649 non-null  object\n",
      " 8   Brand             294649 non-null  object\n",
      " 9   Repaired          294649 non-null  object\n",
      "dtypes: int64(4), object(6)\n",
      "memory usage: 24.7+ MB\n"
     ]
    },
    {
     "data": {
      "text/plain": [
       "None"
      ]
     },
     "metadata": {},
     "output_type": "display_data"
    },
    {
     "data": {
      "text/html": [
       "<div>\n",
       "<style scoped>\n",
       "    .dataframe tbody tr th:only-of-type {\n",
       "        vertical-align: middle;\n",
       "    }\n",
       "\n",
       "    .dataframe tbody tr th {\n",
       "        vertical-align: top;\n",
       "    }\n",
       "\n",
       "    .dataframe thead th {\n",
       "        text-align: right;\n",
       "    }\n",
       "</style>\n",
       "<table border=\"1\" class=\"dataframe\">\n",
       "  <thead>\n",
       "    <tr style=\"text-align: right;\">\n",
       "      <th></th>\n",
       "      <th>Price</th>\n",
       "      <th>RegistrationYear</th>\n",
       "      <th>Power</th>\n",
       "      <th>Kilometer</th>\n",
       "    </tr>\n",
       "  </thead>\n",
       "  <tbody>\n",
       "    <tr>\n",
       "      <th>count</th>\n",
       "      <td>294649.000000</td>\n",
       "      <td>294649.000000</td>\n",
       "      <td>294649.000000</td>\n",
       "      <td>294649.000000</td>\n",
       "    </tr>\n",
       "    <tr>\n",
       "      <th>mean</th>\n",
       "      <td>4871.219631</td>\n",
       "      <td>2002.895336</td>\n",
       "      <td>121.474541</td>\n",
       "      <td>128493.631406</td>\n",
       "    </tr>\n",
       "    <tr>\n",
       "      <th>std</th>\n",
       "      <td>4613.716593</td>\n",
       "      <td>6.369382</td>\n",
       "      <td>57.785259</td>\n",
       "      <td>36538.980926</td>\n",
       "    </tr>\n",
       "    <tr>\n",
       "      <th>min</th>\n",
       "      <td>50.000000</td>\n",
       "      <td>1941.000000</td>\n",
       "      <td>40.000000</td>\n",
       "      <td>5000.000000</td>\n",
       "    </tr>\n",
       "    <tr>\n",
       "      <th>25%</th>\n",
       "      <td>1350.000000</td>\n",
       "      <td>1999.000000</td>\n",
       "      <td>77.000000</td>\n",
       "      <td>125000.000000</td>\n",
       "    </tr>\n",
       "    <tr>\n",
       "      <th>50%</th>\n",
       "      <td>3200.000000</td>\n",
       "      <td>2003.000000</td>\n",
       "      <td>113.000000</td>\n",
       "      <td>150000.000000</td>\n",
       "    </tr>\n",
       "    <tr>\n",
       "      <th>75%</th>\n",
       "      <td>6999.000000</td>\n",
       "      <td>2007.000000</td>\n",
       "      <td>150.000000</td>\n",
       "      <td>150000.000000</td>\n",
       "    </tr>\n",
       "    <tr>\n",
       "      <th>max</th>\n",
       "      <td>20000.000000</td>\n",
       "      <td>2016.000000</td>\n",
       "      <td>1500.000000</td>\n",
       "      <td>150000.000000</td>\n",
       "    </tr>\n",
       "  </tbody>\n",
       "</table>\n",
       "</div>"
      ],
      "text/plain": [
       "               Price  RegistrationYear          Power      Kilometer\n",
       "count  294649.000000     294649.000000  294649.000000  294649.000000\n",
       "mean     4871.219631       2002.895336     121.474541  128493.631406\n",
       "std      4613.716593          6.369382      57.785259   36538.980926\n",
       "min        50.000000       1941.000000      40.000000    5000.000000\n",
       "25%      1350.000000       1999.000000      77.000000  125000.000000\n",
       "50%      3200.000000       2003.000000     113.000000  150000.000000\n",
       "75%      6999.000000       2007.000000     150.000000  150000.000000\n",
       "max     20000.000000       2016.000000    1500.000000  150000.000000"
      ]
     },
     "metadata": {},
     "output_type": "display_data"
    },
    {
     "data": {
      "text/html": [
       "<div>\n",
       "<style scoped>\n",
       "    .dataframe tbody tr th:only-of-type {\n",
       "        vertical-align: middle;\n",
       "    }\n",
       "\n",
       "    .dataframe tbody tr th {\n",
       "        vertical-align: top;\n",
       "    }\n",
       "\n",
       "    .dataframe thead th {\n",
       "        text-align: right;\n",
       "    }\n",
       "</style>\n",
       "<table border=\"1\" class=\"dataframe\">\n",
       "  <thead>\n",
       "    <tr style=\"text-align: right;\">\n",
       "      <th></th>\n",
       "      <th>Price</th>\n",
       "      <th>VehicleType</th>\n",
       "      <th>RegistrationYear</th>\n",
       "      <th>Gearbox</th>\n",
       "      <th>Power</th>\n",
       "      <th>Model</th>\n",
       "      <th>Kilometer</th>\n",
       "      <th>FuelType</th>\n",
       "      <th>Brand</th>\n",
       "      <th>Repaired</th>\n",
       "    </tr>\n",
       "  </thead>\n",
       "  <tbody>\n",
       "    <tr>\n",
       "      <th>count</th>\n",
       "      <td>294649.000000</td>\n",
       "      <td>294649</td>\n",
       "      <td>294649.000000</td>\n",
       "      <td>294649</td>\n",
       "      <td>294649.000000</td>\n",
       "      <td>294649</td>\n",
       "      <td>294649.000000</td>\n",
       "      <td>294649</td>\n",
       "      <td>294649</td>\n",
       "      <td>294649</td>\n",
       "    </tr>\n",
       "    <tr>\n",
       "      <th>unique</th>\n",
       "      <td>NaN</td>\n",
       "      <td>9</td>\n",
       "      <td>NaN</td>\n",
       "      <td>3</td>\n",
       "      <td>NaN</td>\n",
       "      <td>250</td>\n",
       "      <td>NaN</td>\n",
       "      <td>8</td>\n",
       "      <td>40</td>\n",
       "      <td>3</td>\n",
       "    </tr>\n",
       "    <tr>\n",
       "      <th>top</th>\n",
       "      <td>NaN</td>\n",
       "      <td>sedan</td>\n",
       "      <td>NaN</td>\n",
       "      <td>manual</td>\n",
       "      <td>NaN</td>\n",
       "      <td>golf</td>\n",
       "      <td>NaN</td>\n",
       "      <td>petrol</td>\n",
       "      <td>volkswagen</td>\n",
       "      <td>no</td>\n",
       "    </tr>\n",
       "    <tr>\n",
       "      <th>freq</th>\n",
       "      <td>NaN</td>\n",
       "      <td>82686</td>\n",
       "      <td>NaN</td>\n",
       "      <td>230789</td>\n",
       "      <td>NaN</td>\n",
       "      <td>24663</td>\n",
       "      <td>NaN</td>\n",
       "      <td>186276</td>\n",
       "      <td>63785</td>\n",
       "      <td>223645</td>\n",
       "    </tr>\n",
       "    <tr>\n",
       "      <th>mean</th>\n",
       "      <td>4871.219631</td>\n",
       "      <td>NaN</td>\n",
       "      <td>2002.895336</td>\n",
       "      <td>NaN</td>\n",
       "      <td>121.474541</td>\n",
       "      <td>NaN</td>\n",
       "      <td>128493.631406</td>\n",
       "      <td>NaN</td>\n",
       "      <td>NaN</td>\n",
       "      <td>NaN</td>\n",
       "    </tr>\n",
       "    <tr>\n",
       "      <th>std</th>\n",
       "      <td>4613.716593</td>\n",
       "      <td>NaN</td>\n",
       "      <td>6.369382</td>\n",
       "      <td>NaN</td>\n",
       "      <td>57.785259</td>\n",
       "      <td>NaN</td>\n",
       "      <td>36538.980926</td>\n",
       "      <td>NaN</td>\n",
       "      <td>NaN</td>\n",
       "      <td>NaN</td>\n",
       "    </tr>\n",
       "    <tr>\n",
       "      <th>min</th>\n",
       "      <td>50.000000</td>\n",
       "      <td>NaN</td>\n",
       "      <td>1941.000000</td>\n",
       "      <td>NaN</td>\n",
       "      <td>40.000000</td>\n",
       "      <td>NaN</td>\n",
       "      <td>5000.000000</td>\n",
       "      <td>NaN</td>\n",
       "      <td>NaN</td>\n",
       "      <td>NaN</td>\n",
       "    </tr>\n",
       "    <tr>\n",
       "      <th>25%</th>\n",
       "      <td>1350.000000</td>\n",
       "      <td>NaN</td>\n",
       "      <td>1999.000000</td>\n",
       "      <td>NaN</td>\n",
       "      <td>77.000000</td>\n",
       "      <td>NaN</td>\n",
       "      <td>125000.000000</td>\n",
       "      <td>NaN</td>\n",
       "      <td>NaN</td>\n",
       "      <td>NaN</td>\n",
       "    </tr>\n",
       "    <tr>\n",
       "      <th>50%</th>\n",
       "      <td>3200.000000</td>\n",
       "      <td>NaN</td>\n",
       "      <td>2003.000000</td>\n",
       "      <td>NaN</td>\n",
       "      <td>113.000000</td>\n",
       "      <td>NaN</td>\n",
       "      <td>150000.000000</td>\n",
       "      <td>NaN</td>\n",
       "      <td>NaN</td>\n",
       "      <td>NaN</td>\n",
       "    </tr>\n",
       "    <tr>\n",
       "      <th>75%</th>\n",
       "      <td>6999.000000</td>\n",
       "      <td>NaN</td>\n",
       "      <td>2007.000000</td>\n",
       "      <td>NaN</td>\n",
       "      <td>150.000000</td>\n",
       "      <td>NaN</td>\n",
       "      <td>150000.000000</td>\n",
       "      <td>NaN</td>\n",
       "      <td>NaN</td>\n",
       "      <td>NaN</td>\n",
       "    </tr>\n",
       "    <tr>\n",
       "      <th>max</th>\n",
       "      <td>20000.000000</td>\n",
       "      <td>NaN</td>\n",
       "      <td>2016.000000</td>\n",
       "      <td>NaN</td>\n",
       "      <td>1500.000000</td>\n",
       "      <td>NaN</td>\n",
       "      <td>150000.000000</td>\n",
       "      <td>NaN</td>\n",
       "      <td>NaN</td>\n",
       "      <td>NaN</td>\n",
       "    </tr>\n",
       "  </tbody>\n",
       "</table>\n",
       "</div>"
      ],
      "text/plain": [
       "                Price VehicleType  RegistrationYear Gearbox          Power  \\\n",
       "count   294649.000000      294649     294649.000000  294649  294649.000000   \n",
       "unique            NaN           9               NaN       3            NaN   \n",
       "top               NaN       sedan               NaN  manual            NaN   \n",
       "freq              NaN       82686               NaN  230789            NaN   \n",
       "mean      4871.219631         NaN       2002.895336     NaN     121.474541   \n",
       "std       4613.716593         NaN          6.369382     NaN      57.785259   \n",
       "min         50.000000         NaN       1941.000000     NaN      40.000000   \n",
       "25%       1350.000000         NaN       1999.000000     NaN      77.000000   \n",
       "50%       3200.000000         NaN       2003.000000     NaN     113.000000   \n",
       "75%       6999.000000         NaN       2007.000000     NaN     150.000000   \n",
       "max      20000.000000         NaN       2016.000000     NaN    1500.000000   \n",
       "\n",
       "         Model      Kilometer FuelType       Brand Repaired  \n",
       "count   294649  294649.000000   294649      294649   294649  \n",
       "unique     250            NaN        8          40        3  \n",
       "top       golf            NaN   petrol  volkswagen       no  \n",
       "freq     24663            NaN   186276       63785   223645  \n",
       "mean       NaN  128493.631406      NaN         NaN      NaN  \n",
       "std        NaN   36538.980926      NaN         NaN      NaN  \n",
       "min        NaN    5000.000000      NaN         NaN      NaN  \n",
       "25%        NaN  125000.000000      NaN         NaN      NaN  \n",
       "50%        NaN  150000.000000      NaN         NaN      NaN  \n",
       "75%        NaN  150000.000000      NaN         NaN      NaN  \n",
       "max        NaN  150000.000000      NaN         NaN      NaN  "
      ]
     },
     "metadata": {},
     "output_type": "display_data"
    }
   ],
   "source": [
    "get_df_info(df)"
   ]
  },
  {
   "cell_type": "markdown",
   "metadata": {
    "id": "IizykJnF1zl5"
   },
   "source": [
    "Проверим датасет на мультиколлениарность"
   ]
  },
  {
   "cell_type": "code",
   "execution_count": 55,
   "metadata": {
    "colab": {
     "base_uri": "https://localhost:8080/",
     "height": 490
    },
    "id": "hU0eJ9nZ1zl5",
    "outputId": "d89ff1a3-8157-4768-a4ce-0a3e66782100"
   },
   "outputs": [
    {
     "data": {
      "image/png": "[encoded data removed]",
      "text/plain": [
       "<Figure size 432x288 with 2 Axes>"
      ]
     },
     "metadata": {
      "needs_background": "light"
     },
     "output_type": "display_data"
    }
   ],
   "source": [
    "sns.heatmap(df.corr(), annot=True);"
   ]
  },
  {
   "cell_type": "markdown",
   "metadata": {
    "id": "vWX4QVOc1zl6"
   },
   "source": [
    "Цена напрямую зависит от года регистрации атомобиля и мощности, и обратно от пробега автомобиля. Признаки не коррелируют друг с другом, оставим их без проведения манипуляций."
   ]
  },
  {
   "cell_type": "code",
   "execution_count": 56,
   "metadata": {
    "colab": {
     "base_uri": "https://localhost:8080/"
    },
    "id": "J0xfxruQ1zl6",
    "outputId": "7905dbad-7280-4483-b7bc-bdfa1420c030"
   },
   "outputs": [
    {
     "data": {
      "text/plain": [
       "38988"
      ]
     },
     "execution_count": 56,
     "metadata": {},
     "output_type": "execute_result"
    }
   ],
   "source": [
    "df.duplicated().sum()"
   ]
  },
  {
   "cell_type": "markdown",
   "metadata": {
    "id": "14FeGpNG1zl7"
   },
   "source": [
    "Выявленобольшое уол-во дубликатов, следовательно продается значительное похожих авто. Удалим дубликаты, чтобы не переобучать модели."
   ]
  },
  {
   "cell_type": "code",
   "execution_count": 57,
   "metadata": {
    "colab": {
     "base_uri": "https://localhost:8080/"
    },
    "id": "6drrEWvm1zl7",
    "outputId": "72e86639-ebce-425c-862e-00a72102ba5a"
   },
   "outputs": [
    {
     "name": "stdout",
     "output_type": "stream",
     "text": [
      "<class 'pandas.core.frame.DataFrame'>\n",
      "Int64Index: 255661 entries, 1 to 354368\n",
      "Data columns (total 10 columns):\n",
      " #   Column            Non-Null Count   Dtype \n",
      "---  ------            --------------   ----- \n",
      " 0   Price             255661 non-null  int64 \n",
      " 1   VehicleType       255661 non-null  object\n",
      " 2   RegistrationYear  255661 non-null  int64 \n",
      " 3   Gearbox           255661 non-null  object\n",
      " 4   Power             255661 non-null  int64 \n",
      " 5   Model             255661 non-null  object\n",
      " 6   Kilometer         255661 non-null  int64 \n",
      " 7   FuelType          255661 non-null  object\n",
      " 8   Brand             255661 non-null  object\n",
      " 9   Repaired          255661 non-null  object\n",
      "dtypes: int64(4), object(6)\n",
      "memory usage: 21.5+ MB\n"
     ]
    }
   ],
   "source": [
    "df.drop_duplicates(inplace=True)\n",
    "df.info()"
   ]
  },
  {
   "cell_type": "markdown",
   "metadata": {
    "id": "xPj00x-v1zl8"
   },
   "source": [
    "**Вывод:**\n",
    "На этапе предобработки данных произведена замена пропущенных значений и  обработаны аномалии,а также удалены ряд признаков не представляющие ценности для моделей."
   ]
  },
  {
   "cell_type": "markdown",
   "metadata": {
    "id": "LKXO0Mw51zl_"
   },
   "source": [
    "## Обучение моделей"
   ]
  },
  {
   "cell_type": "code",
   "execution_count": 58,
   "metadata": {
    "id": "g-w2Ki4v1zmA"
   },
   "outputs": [],
   "source": [
    "RANDOM_STATE = 12345"
   ]
  },
  {
   "cell_type": "markdown",
   "metadata": {
    "id": "HiHRI2Ee1zmB"
   },
   "source": [
    "### Разделение на выборки"
   ]
  },
  {
   "cell_type": "code",
   "execution_count": 59,
   "metadata": {
    "id": "ZLKhnU1s1zmC"
   },
   "outputs": [],
   "source": [
    "features = df.drop(['Price'], axis=1)\n",
    "target = df['Price']\n",
    "\n",
    "X_train, X_test, y_train, y_test = train_test_split(\n",
    "    features, target, test_size=0.25, random_state=RANDOM_STATE\n",
    ")"
   ]
  },
  {
   "cell_type": "code",
   "execution_count": 60,
   "metadata": {
    "colab": {
     "base_uri": "https://localhost:8080/",
     "height": 1000
    },
    "id": "z6WCO2nP1zmF",
    "outputId": "334699df-547b-40dd-89b6-06261295d397"
   },
   "outputs": [
    {
     "data": {
      "text/html": [
       "<div>\n",
       "<style scoped>\n",
       "    .dataframe tbody tr th:only-of-type {\n",
       "        vertical-align: middle;\n",
       "    }\n",
       "\n",
       "    .dataframe tbody tr th {\n",
       "        vertical-align: top;\n",
       "    }\n",
       "\n",
       "    .dataframe thead th {\n",
       "        text-align: right;\n",
       "    }\n",
       "</style>\n",
       "<table border=\"1\" class=\"dataframe\">\n",
       "  <thead>\n",
       "    <tr style=\"text-align: right;\">\n",
       "      <th></th>\n",
       "      <th>VehicleType</th>\n",
       "      <th>RegistrationYear</th>\n",
       "      <th>Gearbox</th>\n",
       "      <th>Power</th>\n",
       "      <th>Model</th>\n",
       "      <th>Kilometer</th>\n",
       "      <th>FuelType</th>\n",
       "      <th>Brand</th>\n",
       "      <th>Repaired</th>\n",
       "    </tr>\n",
       "  </thead>\n",
       "  <tbody>\n",
       "    <tr>\n",
       "      <th>251617</th>\n",
       "      <td>small</td>\n",
       "      <td>2012</td>\n",
       "      <td>manual</td>\n",
       "      <td>75</td>\n",
       "      <td>clio</td>\n",
       "      <td>30000</td>\n",
       "      <td>petrol</td>\n",
       "      <td>renault</td>\n",
       "      <td>no</td>\n",
       "    </tr>\n",
       "    <tr>\n",
       "      <th>30030</th>\n",
       "      <td>wagon</td>\n",
       "      <td>2003</td>\n",
       "      <td>manual</td>\n",
       "      <td>226</td>\n",
       "      <td>mondeo</td>\n",
       "      <td>150000</td>\n",
       "      <td>petrol</td>\n",
       "      <td>ford</td>\n",
       "      <td>yes</td>\n",
       "    </tr>\n",
       "    <tr>\n",
       "      <th>325695</th>\n",
       "      <td>sedan</td>\n",
       "      <td>2005</td>\n",
       "      <td>auto</td>\n",
       "      <td>190</td>\n",
       "      <td>e_klasse</td>\n",
       "      <td>150000</td>\n",
       "      <td>gasoline</td>\n",
       "      <td>mercedes_benz</td>\n",
       "      <td>no</td>\n",
       "    </tr>\n",
       "    <tr>\n",
       "      <th>303092</th>\n",
       "      <td>wagon</td>\n",
       "      <td>2005</td>\n",
       "      <td>manual</td>\n",
       "      <td>120</td>\n",
       "      <td>astra</td>\n",
       "      <td>150000</td>\n",
       "      <td>gasoline</td>\n",
       "      <td>opel</td>\n",
       "      <td>no</td>\n",
       "    </tr>\n",
       "    <tr>\n",
       "      <th>38541</th>\n",
       "      <td>small</td>\n",
       "      <td>2000</td>\n",
       "      <td>unknown</td>\n",
       "      <td>45</td>\n",
       "      <td>fortwo</td>\n",
       "      <td>125000</td>\n",
       "      <td>petrol</td>\n",
       "      <td>smart</td>\n",
       "      <td>no</td>\n",
       "    </tr>\n",
       "  </tbody>\n",
       "</table>\n",
       "</div>"
      ],
      "text/plain": [
       "       VehicleType  RegistrationYear  Gearbox  Power     Model  Kilometer  \\\n",
       "251617       small              2012   manual     75      clio      30000   \n",
       "30030        wagon              2003   manual    226    mondeo     150000   \n",
       "325695       sedan              2005     auto    190  e_klasse     150000   \n",
       "303092       wagon              2005   manual    120     astra     150000   \n",
       "38541        small              2000  unknown     45    fortwo     125000   \n",
       "\n",
       "        FuelType          Brand Repaired  \n",
       "251617    petrol        renault       no  \n",
       "30030     petrol           ford      yes  \n",
       "325695  gasoline  mercedes_benz       no  \n",
       "303092  gasoline           opel       no  \n",
       "38541     petrol          smart       no  "
      ]
     },
     "metadata": {},
     "output_type": "display_data"
    },
    {
     "name": "stdout",
     "output_type": "stream",
     "text": [
      "<class 'pandas.core.frame.DataFrame'>\n",
      "Int64Index: 191745 entries, 335897 to 295925\n",
      "Data columns (total 9 columns):\n",
      " #   Column            Non-Null Count   Dtype \n",
      "---  ------            --------------   ----- \n",
      " 0   VehicleType       191745 non-null  object\n",
      " 1   RegistrationYear  191745 non-null  int64 \n",
      " 2   Gearbox           191745 non-null  object\n",
      " 3   Power             191745 non-null  int64 \n",
      " 4   Model             191745 non-null  object\n",
      " 5   Kilometer         191745 non-null  int64 \n",
      " 6   FuelType          191745 non-null  object\n",
      " 7   Brand             191745 non-null  object\n",
      " 8   Repaired          191745 non-null  object\n",
      "dtypes: int64(3), object(6)\n",
      "memory usage: 14.6+ MB\n"
     ]
    },
    {
     "data": {
      "text/plain": [
       "None"
      ]
     },
     "metadata": {},
     "output_type": "display_data"
    },
    {
     "data": {
      "text/html": [
       "<div>\n",
       "<style scoped>\n",
       "    .dataframe tbody tr th:only-of-type {\n",
       "        vertical-align: middle;\n",
       "    }\n",
       "\n",
       "    .dataframe tbody tr th {\n",
       "        vertical-align: top;\n",
       "    }\n",
       "\n",
       "    .dataframe thead th {\n",
       "        text-align: right;\n",
       "    }\n",
       "</style>\n",
       "<table border=\"1\" class=\"dataframe\">\n",
       "  <thead>\n",
       "    <tr style=\"text-align: right;\">\n",
       "      <th></th>\n",
       "      <th>RegistrationYear</th>\n",
       "      <th>Power</th>\n",
       "      <th>Kilometer</th>\n",
       "    </tr>\n",
       "  </thead>\n",
       "  <tbody>\n",
       "    <tr>\n",
       "      <th>count</th>\n",
       "      <td>191745.000000</td>\n",
       "      <td>191745.000000</td>\n",
       "      <td>191745.000000</td>\n",
       "    </tr>\n",
       "    <tr>\n",
       "      <th>mean</th>\n",
       "      <td>2002.947931</td>\n",
       "      <td>122.556912</td>\n",
       "      <td>127521.473832</td>\n",
       "    </tr>\n",
       "    <tr>\n",
       "      <th>std</th>\n",
       "      <td>6.520278</td>\n",
       "      <td>59.065285</td>\n",
       "      <td>37191.997520</td>\n",
       "    </tr>\n",
       "    <tr>\n",
       "      <th>min</th>\n",
       "      <td>1941.000000</td>\n",
       "      <td>40.000000</td>\n",
       "      <td>5000.000000</td>\n",
       "    </tr>\n",
       "    <tr>\n",
       "      <th>25%</th>\n",
       "      <td>1999.000000</td>\n",
       "      <td>80.000000</td>\n",
       "      <td>125000.000000</td>\n",
       "    </tr>\n",
       "    <tr>\n",
       "      <th>50%</th>\n",
       "      <td>2003.000000</td>\n",
       "      <td>115.000000</td>\n",
       "      <td>150000.000000</td>\n",
       "    </tr>\n",
       "    <tr>\n",
       "      <th>75%</th>\n",
       "      <td>2007.000000</td>\n",
       "      <td>150.000000</td>\n",
       "      <td>150000.000000</td>\n",
       "    </tr>\n",
       "    <tr>\n",
       "      <th>max</th>\n",
       "      <td>2016.000000</td>\n",
       "      <td>1500.000000</td>\n",
       "      <td>150000.000000</td>\n",
       "    </tr>\n",
       "  </tbody>\n",
       "</table>\n",
       "</div>"
      ],
      "text/plain": [
       "       RegistrationYear          Power      Kilometer\n",
       "count     191745.000000  191745.000000  191745.000000\n",
       "mean        2002.947931     122.556912  127521.473832\n",
       "std            6.520278      59.065285   37191.997520\n",
       "min         1941.000000      40.000000    5000.000000\n",
       "25%         1999.000000      80.000000  125000.000000\n",
       "50%         2003.000000     115.000000  150000.000000\n",
       "75%         2007.000000     150.000000  150000.000000\n",
       "max         2016.000000    1500.000000  150000.000000"
      ]
     },
     "metadata": {},
     "output_type": "display_data"
    },
    {
     "data": {
      "text/html": [
       "<div>\n",
       "<style scoped>\n",
       "    .dataframe tbody tr th:only-of-type {\n",
       "        vertical-align: middle;\n",
       "    }\n",
       "\n",
       "    .dataframe tbody tr th {\n",
       "        vertical-align: top;\n",
       "    }\n",
       "\n",
       "    .dataframe thead th {\n",
       "        text-align: right;\n",
       "    }\n",
       "</style>\n",
       "<table border=\"1\" class=\"dataframe\">\n",
       "  <thead>\n",
       "    <tr style=\"text-align: right;\">\n",
       "      <th></th>\n",
       "      <th>VehicleType</th>\n",
       "      <th>RegistrationYear</th>\n",
       "      <th>Gearbox</th>\n",
       "      <th>Power</th>\n",
       "      <th>Model</th>\n",
       "      <th>Kilometer</th>\n",
       "      <th>FuelType</th>\n",
       "      <th>Brand</th>\n",
       "      <th>Repaired</th>\n",
       "    </tr>\n",
       "  </thead>\n",
       "  <tbody>\n",
       "    <tr>\n",
       "      <th>count</th>\n",
       "      <td>191745</td>\n",
       "      <td>191745.000000</td>\n",
       "      <td>191745</td>\n",
       "      <td>191745.000000</td>\n",
       "      <td>191745</td>\n",
       "      <td>191745.000000</td>\n",
       "      <td>191745</td>\n",
       "      <td>191745</td>\n",
       "      <td>191745</td>\n",
       "    </tr>\n",
       "    <tr>\n",
       "      <th>unique</th>\n",
       "      <td>9</td>\n",
       "      <td>NaN</td>\n",
       "      <td>3</td>\n",
       "      <td>NaN</td>\n",
       "      <td>249</td>\n",
       "      <td>NaN</td>\n",
       "      <td>8</td>\n",
       "      <td>40</td>\n",
       "      <td>3</td>\n",
       "    </tr>\n",
       "    <tr>\n",
       "      <th>top</th>\n",
       "      <td>sedan</td>\n",
       "      <td>NaN</td>\n",
       "      <td>manual</td>\n",
       "      <td>NaN</td>\n",
       "      <td>golf</td>\n",
       "      <td>NaN</td>\n",
       "      <td>petrol</td>\n",
       "      <td>volkswagen</td>\n",
       "      <td>no</td>\n",
       "    </tr>\n",
       "    <tr>\n",
       "      <th>freq</th>\n",
       "      <td>53110</td>\n",
       "      <td>NaN</td>\n",
       "      <td>148851</td>\n",
       "      <td>NaN</td>\n",
       "      <td>14981</td>\n",
       "      <td>NaN</td>\n",
       "      <td>120109</td>\n",
       "      <td>39484</td>\n",
       "      <td>142494</td>\n",
       "    </tr>\n",
       "    <tr>\n",
       "      <th>mean</th>\n",
       "      <td>NaN</td>\n",
       "      <td>2002.947931</td>\n",
       "      <td>NaN</td>\n",
       "      <td>122.556912</td>\n",
       "      <td>NaN</td>\n",
       "      <td>127521.473832</td>\n",
       "      <td>NaN</td>\n",
       "      <td>NaN</td>\n",
       "      <td>NaN</td>\n",
       "    </tr>\n",
       "    <tr>\n",
       "      <th>std</th>\n",
       "      <td>NaN</td>\n",
       "      <td>6.520278</td>\n",
       "      <td>NaN</td>\n",
       "      <td>59.065285</td>\n",
       "      <td>NaN</td>\n",
       "      <td>37191.997520</td>\n",
       "      <td>NaN</td>\n",
       "      <td>NaN</td>\n",
       "      <td>NaN</td>\n",
       "    </tr>\n",
       "    <tr>\n",
       "      <th>min</th>\n",
       "      <td>NaN</td>\n",
       "      <td>1941.000000</td>\n",
       "      <td>NaN</td>\n",
       "      <td>40.000000</td>\n",
       "      <td>NaN</td>\n",
       "      <td>5000.000000</td>\n",
       "      <td>NaN</td>\n",
       "      <td>NaN</td>\n",
       "      <td>NaN</td>\n",
       "    </tr>\n",
       "    <tr>\n",
       "      <th>25%</th>\n",
       "      <td>NaN</td>\n",
       "      <td>1999.000000</td>\n",
       "      <td>NaN</td>\n",
       "      <td>80.000000</td>\n",
       "      <td>NaN</td>\n",
       "      <td>125000.000000</td>\n",
       "      <td>NaN</td>\n",
       "      <td>NaN</td>\n",
       "      <td>NaN</td>\n",
       "    </tr>\n",
       "    <tr>\n",
       "      <th>50%</th>\n",
       "      <td>NaN</td>\n",
       "      <td>2003.000000</td>\n",
       "      <td>NaN</td>\n",
       "      <td>115.000000</td>\n",
       "      <td>NaN</td>\n",
       "      <td>150000.000000</td>\n",
       "      <td>NaN</td>\n",
       "      <td>NaN</td>\n",
       "      <td>NaN</td>\n",
       "    </tr>\n",
       "    <tr>\n",
       "      <th>75%</th>\n",
       "      <td>NaN</td>\n",
       "      <td>2007.000000</td>\n",
       "      <td>NaN</td>\n",
       "      <td>150.000000</td>\n",
       "      <td>NaN</td>\n",
       "      <td>150000.000000</td>\n",
       "      <td>NaN</td>\n",
       "      <td>NaN</td>\n",
       "      <td>NaN</td>\n",
       "    </tr>\n",
       "    <tr>\n",
       "      <th>max</th>\n",
       "      <td>NaN</td>\n",
       "      <td>2016.000000</td>\n",
       "      <td>NaN</td>\n",
       "      <td>1500.000000</td>\n",
       "      <td>NaN</td>\n",
       "      <td>150000.000000</td>\n",
       "      <td>NaN</td>\n",
       "      <td>NaN</td>\n",
       "      <td>NaN</td>\n",
       "    </tr>\n",
       "  </tbody>\n",
       "</table>\n",
       "</div>"
      ],
      "text/plain": [
       "       VehicleType  RegistrationYear Gearbox          Power   Model  \\\n",
       "count       191745     191745.000000  191745  191745.000000  191745   \n",
       "unique           9               NaN       3            NaN     249   \n",
       "top          sedan               NaN  manual            NaN    golf   \n",
       "freq         53110               NaN  148851            NaN   14981   \n",
       "mean           NaN       2002.947931     NaN     122.556912     NaN   \n",
       "std            NaN          6.520278     NaN      59.065285     NaN   \n",
       "min            NaN       1941.000000     NaN      40.000000     NaN   \n",
       "25%            NaN       1999.000000     NaN      80.000000     NaN   \n",
       "50%            NaN       2003.000000     NaN     115.000000     NaN   \n",
       "75%            NaN       2007.000000     NaN     150.000000     NaN   \n",
       "max            NaN       2016.000000     NaN    1500.000000     NaN   \n",
       "\n",
       "            Kilometer FuelType       Brand Repaired  \n",
       "count   191745.000000   191745      191745   191745  \n",
       "unique            NaN        8          40        3  \n",
       "top               NaN   petrol  volkswagen       no  \n",
       "freq              NaN   120109       39484   142494  \n",
       "mean    127521.473832      NaN         NaN      NaN  \n",
       "std      37191.997520      NaN         NaN      NaN  \n",
       "min       5000.000000      NaN         NaN      NaN  \n",
       "25%     125000.000000      NaN         NaN      NaN  \n",
       "50%     150000.000000      NaN         NaN      NaN  \n",
       "75%     150000.000000      NaN         NaN      NaN  \n",
       "max     150000.000000      NaN         NaN      NaN  "
      ]
     },
     "metadata": {},
     "output_type": "display_data"
    }
   ],
   "source": [
    "get_df_info(X_train)"
   ]
  },
  {
   "cell_type": "code",
   "execution_count": 61,
   "metadata": {
    "colab": {
     "base_uri": "https://localhost:8080/",
     "height": 1000
    },
    "id": "7fknAyV21zmF",
    "outputId": "78bd3874-daa1-4775-dc68-36ee2f8e2772"
   },
   "outputs": [
    {
     "data": {
      "text/html": [
       "<div>\n",
       "<style scoped>\n",
       "    .dataframe tbody tr th:only-of-type {\n",
       "        vertical-align: middle;\n",
       "    }\n",
       "\n",
       "    .dataframe tbody tr th {\n",
       "        vertical-align: top;\n",
       "    }\n",
       "\n",
       "    .dataframe thead th {\n",
       "        text-align: right;\n",
       "    }\n",
       "</style>\n",
       "<table border=\"1\" class=\"dataframe\">\n",
       "  <thead>\n",
       "    <tr style=\"text-align: right;\">\n",
       "      <th></th>\n",
       "      <th>VehicleType</th>\n",
       "      <th>RegistrationYear</th>\n",
       "      <th>Gearbox</th>\n",
       "      <th>Power</th>\n",
       "      <th>Model</th>\n",
       "      <th>Kilometer</th>\n",
       "      <th>FuelType</th>\n",
       "      <th>Brand</th>\n",
       "      <th>Repaired</th>\n",
       "    </tr>\n",
       "  </thead>\n",
       "  <tbody>\n",
       "    <tr>\n",
       "      <th>71241</th>\n",
       "      <td>small</td>\n",
       "      <td>1989</td>\n",
       "      <td>manual</td>\n",
       "      <td>174</td>\n",
       "      <td>corsa</td>\n",
       "      <td>150000</td>\n",
       "      <td>petrol</td>\n",
       "      <td>opel</td>\n",
       "      <td>no</td>\n",
       "    </tr>\n",
       "    <tr>\n",
       "      <th>7599</th>\n",
       "      <td>suv</td>\n",
       "      <td>2010</td>\n",
       "      <td>manual</td>\n",
       "      <td>105</td>\n",
       "      <td>duster</td>\n",
       "      <td>90000</td>\n",
       "      <td>petrol</td>\n",
       "      <td>dacia</td>\n",
       "      <td>no</td>\n",
       "    </tr>\n",
       "    <tr>\n",
       "      <th>159338</th>\n",
       "      <td>small</td>\n",
       "      <td>2004</td>\n",
       "      <td>manual</td>\n",
       "      <td>60</td>\n",
       "      <td>corsa</td>\n",
       "      <td>150000</td>\n",
       "      <td>petrol</td>\n",
       "      <td>opel</td>\n",
       "      <td>no</td>\n",
       "    </tr>\n",
       "    <tr>\n",
       "      <th>246662</th>\n",
       "      <td>wagon</td>\n",
       "      <td>2005</td>\n",
       "      <td>manual</td>\n",
       "      <td>231</td>\n",
       "      <td>5er</td>\n",
       "      <td>150000</td>\n",
       "      <td>gasoline</td>\n",
       "      <td>bmw</td>\n",
       "      <td>no</td>\n",
       "    </tr>\n",
       "    <tr>\n",
       "      <th>322011</th>\n",
       "      <td>small</td>\n",
       "      <td>2002</td>\n",
       "      <td>manual</td>\n",
       "      <td>60</td>\n",
       "      <td>other</td>\n",
       "      <td>150000</td>\n",
       "      <td>petrol</td>\n",
       "      <td>citroen</td>\n",
       "      <td>no</td>\n",
       "    </tr>\n",
       "  </tbody>\n",
       "</table>\n",
       "</div>"
      ],
      "text/plain": [
       "       VehicleType  RegistrationYear Gearbox  Power   Model  Kilometer  \\\n",
       "71241        small              1989  manual    174   corsa     150000   \n",
       "7599           suv              2010  manual    105  duster      90000   \n",
       "159338       small              2004  manual     60   corsa     150000   \n",
       "246662       wagon              2005  manual    231     5er     150000   \n",
       "322011       small              2002  manual     60   other     150000   \n",
       "\n",
       "        FuelType    Brand Repaired  \n",
       "71241     petrol     opel       no  \n",
       "7599      petrol    dacia       no  \n",
       "159338    petrol     opel       no  \n",
       "246662  gasoline      bmw       no  \n",
       "322011    petrol  citroen       no  "
      ]
     },
     "metadata": {},
     "output_type": "display_data"
    },
    {
     "name": "stdout",
     "output_type": "stream",
     "text": [
      "<class 'pandas.core.frame.DataFrame'>\n",
      "Int64Index: 63916 entries, 199429 to 185819\n",
      "Data columns (total 9 columns):\n",
      " #   Column            Non-Null Count  Dtype \n",
      "---  ------            --------------  ----- \n",
      " 0   VehicleType       63916 non-null  object\n",
      " 1   RegistrationYear  63916 non-null  int64 \n",
      " 2   Gearbox           63916 non-null  object\n",
      " 3   Power             63916 non-null  int64 \n",
      " 4   Model             63916 non-null  object\n",
      " 5   Kilometer         63916 non-null  int64 \n",
      " 6   FuelType          63916 non-null  object\n",
      " 7   Brand             63916 non-null  object\n",
      " 8   Repaired          63916 non-null  object\n",
      "dtypes: int64(3), object(6)\n",
      "memory usage: 4.9+ MB\n"
     ]
    },
    {
     "data": {
      "text/plain": [
       "None"
      ]
     },
     "metadata": {},
     "output_type": "display_data"
    },
    {
     "data": {
      "text/html": [
       "<div>\n",
       "<style scoped>\n",
       "    .dataframe tbody tr th:only-of-type {\n",
       "        vertical-align: middle;\n",
       "    }\n",
       "\n",
       "    .dataframe tbody tr th {\n",
       "        vertical-align: top;\n",
       "    }\n",
       "\n",
       "    .dataframe thead th {\n",
       "        text-align: right;\n",
       "    }\n",
       "</style>\n",
       "<table border=\"1\" class=\"dataframe\">\n",
       "  <thead>\n",
       "    <tr style=\"text-align: right;\">\n",
       "      <th></th>\n",
       "      <th>RegistrationYear</th>\n",
       "      <th>Power</th>\n",
       "      <th>Kilometer</th>\n",
       "    </tr>\n",
       "  </thead>\n",
       "  <tbody>\n",
       "    <tr>\n",
       "      <th>count</th>\n",
       "      <td>63916.000000</td>\n",
       "      <td>63916.000000</td>\n",
       "      <td>63916.000000</td>\n",
       "    </tr>\n",
       "    <tr>\n",
       "      <th>mean</th>\n",
       "      <td>2002.965783</td>\n",
       "      <td>122.200607</td>\n",
       "      <td>127296.138682</td>\n",
       "    </tr>\n",
       "    <tr>\n",
       "      <th>std</th>\n",
       "      <td>6.473712</td>\n",
       "      <td>56.943026</td>\n",
       "      <td>37228.869369</td>\n",
       "    </tr>\n",
       "    <tr>\n",
       "      <th>min</th>\n",
       "      <td>1948.000000</td>\n",
       "      <td>40.000000</td>\n",
       "      <td>5000.000000</td>\n",
       "    </tr>\n",
       "    <tr>\n",
       "      <th>25%</th>\n",
       "      <td>1999.000000</td>\n",
       "      <td>80.000000</td>\n",
       "      <td>125000.000000</td>\n",
       "    </tr>\n",
       "    <tr>\n",
       "      <th>50%</th>\n",
       "      <td>2003.000000</td>\n",
       "      <td>115.000000</td>\n",
       "      <td>150000.000000</td>\n",
       "    </tr>\n",
       "    <tr>\n",
       "      <th>75%</th>\n",
       "      <td>2007.000000</td>\n",
       "      <td>150.000000</td>\n",
       "      <td>150000.000000</td>\n",
       "    </tr>\n",
       "    <tr>\n",
       "      <th>max</th>\n",
       "      <td>2016.000000</td>\n",
       "      <td>1436.000000</td>\n",
       "      <td>150000.000000</td>\n",
       "    </tr>\n",
       "  </tbody>\n",
       "</table>\n",
       "</div>"
      ],
      "text/plain": [
       "       RegistrationYear         Power      Kilometer\n",
       "count      63916.000000  63916.000000   63916.000000\n",
       "mean        2002.965783    122.200607  127296.138682\n",
       "std            6.473712     56.943026   37228.869369\n",
       "min         1948.000000     40.000000    5000.000000\n",
       "25%         1999.000000     80.000000  125000.000000\n",
       "50%         2003.000000    115.000000  150000.000000\n",
       "75%         2007.000000    150.000000  150000.000000\n",
       "max         2016.000000   1436.000000  150000.000000"
      ]
     },
     "metadata": {},
     "output_type": "display_data"
    },
    {
     "data": {
      "text/html": [
       "<div>\n",
       "<style scoped>\n",
       "    .dataframe tbody tr th:only-of-type {\n",
       "        vertical-align: middle;\n",
       "    }\n",
       "\n",
       "    .dataframe tbody tr th {\n",
       "        vertical-align: top;\n",
       "    }\n",
       "\n",
       "    .dataframe thead th {\n",
       "        text-align: right;\n",
       "    }\n",
       "</style>\n",
       "<table border=\"1\" class=\"dataframe\">\n",
       "  <thead>\n",
       "    <tr style=\"text-align: right;\">\n",
       "      <th></th>\n",
       "      <th>VehicleType</th>\n",
       "      <th>RegistrationYear</th>\n",
       "      <th>Gearbox</th>\n",
       "      <th>Power</th>\n",
       "      <th>Model</th>\n",
       "      <th>Kilometer</th>\n",
       "      <th>FuelType</th>\n",
       "      <th>Brand</th>\n",
       "      <th>Repaired</th>\n",
       "    </tr>\n",
       "  </thead>\n",
       "  <tbody>\n",
       "    <tr>\n",
       "      <th>count</th>\n",
       "      <td>63916</td>\n",
       "      <td>63916.000000</td>\n",
       "      <td>63916</td>\n",
       "      <td>63916.000000</td>\n",
       "      <td>63916</td>\n",
       "      <td>63916.000000</td>\n",
       "      <td>63916</td>\n",
       "      <td>63916</td>\n",
       "      <td>63916</td>\n",
       "    </tr>\n",
       "    <tr>\n",
       "      <th>unique</th>\n",
       "      <td>9</td>\n",
       "      <td>NaN</td>\n",
       "      <td>3</td>\n",
       "      <td>NaN</td>\n",
       "      <td>248</td>\n",
       "      <td>NaN</td>\n",
       "      <td>8</td>\n",
       "      <td>40</td>\n",
       "      <td>3</td>\n",
       "    </tr>\n",
       "    <tr>\n",
       "      <th>top</th>\n",
       "      <td>sedan</td>\n",
       "      <td>NaN</td>\n",
       "      <td>manual</td>\n",
       "      <td>NaN</td>\n",
       "      <td>golf</td>\n",
       "      <td>NaN</td>\n",
       "      <td>petrol</td>\n",
       "      <td>volkswagen</td>\n",
       "      <td>no</td>\n",
       "    </tr>\n",
       "    <tr>\n",
       "      <th>freq</th>\n",
       "      <td>17602</td>\n",
       "      <td>NaN</td>\n",
       "      <td>49635</td>\n",
       "      <td>NaN</td>\n",
       "      <td>4850</td>\n",
       "      <td>NaN</td>\n",
       "      <td>40172</td>\n",
       "      <td>13120</td>\n",
       "      <td>47586</td>\n",
       "    </tr>\n",
       "    <tr>\n",
       "      <th>mean</th>\n",
       "      <td>NaN</td>\n",
       "      <td>2002.965783</td>\n",
       "      <td>NaN</td>\n",
       "      <td>122.200607</td>\n",
       "      <td>NaN</td>\n",
       "      <td>127296.138682</td>\n",
       "      <td>NaN</td>\n",
       "      <td>NaN</td>\n",
       "      <td>NaN</td>\n",
       "    </tr>\n",
       "    <tr>\n",
       "      <th>std</th>\n",
       "      <td>NaN</td>\n",
       "      <td>6.473712</td>\n",
       "      <td>NaN</td>\n",
       "      <td>56.943026</td>\n",
       "      <td>NaN</td>\n",
       "      <td>37228.869369</td>\n",
       "      <td>NaN</td>\n",
       "      <td>NaN</td>\n",
       "      <td>NaN</td>\n",
       "    </tr>\n",
       "    <tr>\n",
       "      <th>min</th>\n",
       "      <td>NaN</td>\n",
       "      <td>1948.000000</td>\n",
       "      <td>NaN</td>\n",
       "      <td>40.000000</td>\n",
       "      <td>NaN</td>\n",
       "      <td>5000.000000</td>\n",
       "      <td>NaN</td>\n",
       "      <td>NaN</td>\n",
       "      <td>NaN</td>\n",
       "    </tr>\n",
       "    <tr>\n",
       "      <th>25%</th>\n",
       "      <td>NaN</td>\n",
       "      <td>1999.000000</td>\n",
       "      <td>NaN</td>\n",
       "      <td>80.000000</td>\n",
       "      <td>NaN</td>\n",
       "      <td>125000.000000</td>\n",
       "      <td>NaN</td>\n",
       "      <td>NaN</td>\n",
       "      <td>NaN</td>\n",
       "    </tr>\n",
       "    <tr>\n",
       "      <th>50%</th>\n",
       "      <td>NaN</td>\n",
       "      <td>2003.000000</td>\n",
       "      <td>NaN</td>\n",
       "      <td>115.000000</td>\n",
       "      <td>NaN</td>\n",
       "      <td>150000.000000</td>\n",
       "      <td>NaN</td>\n",
       "      <td>NaN</td>\n",
       "      <td>NaN</td>\n",
       "    </tr>\n",
       "    <tr>\n",
       "      <th>75%</th>\n",
       "      <td>NaN</td>\n",
       "      <td>2007.000000</td>\n",
       "      <td>NaN</td>\n",
       "      <td>150.000000</td>\n",
       "      <td>NaN</td>\n",
       "      <td>150000.000000</td>\n",
       "      <td>NaN</td>\n",
       "      <td>NaN</td>\n",
       "      <td>NaN</td>\n",
       "    </tr>\n",
       "    <tr>\n",
       "      <th>max</th>\n",
       "      <td>NaN</td>\n",
       "      <td>2016.000000</td>\n",
       "      <td>NaN</td>\n",
       "      <td>1436.000000</td>\n",
       "      <td>NaN</td>\n",
       "      <td>150000.000000</td>\n",
       "      <td>NaN</td>\n",
       "      <td>NaN</td>\n",
       "      <td>NaN</td>\n",
       "    </tr>\n",
       "  </tbody>\n",
       "</table>\n",
       "</div>"
      ],
      "text/plain": [
       "       VehicleType  RegistrationYear Gearbox         Power  Model  \\\n",
       "count        63916      63916.000000   63916  63916.000000  63916   \n",
       "unique           9               NaN       3           NaN    248   \n",
       "top          sedan               NaN  manual           NaN   golf   \n",
       "freq         17602               NaN   49635           NaN   4850   \n",
       "mean           NaN       2002.965783     NaN    122.200607    NaN   \n",
       "std            NaN          6.473712     NaN     56.943026    NaN   \n",
       "min            NaN       1948.000000     NaN     40.000000    NaN   \n",
       "25%            NaN       1999.000000     NaN     80.000000    NaN   \n",
       "50%            NaN       2003.000000     NaN    115.000000    NaN   \n",
       "75%            NaN       2007.000000     NaN    150.000000    NaN   \n",
       "max            NaN       2016.000000     NaN   1436.000000    NaN   \n",
       "\n",
       "            Kilometer FuelType       Brand Repaired  \n",
       "count    63916.000000    63916       63916    63916  \n",
       "unique            NaN        8          40        3  \n",
       "top               NaN   petrol  volkswagen       no  \n",
       "freq              NaN    40172       13120    47586  \n",
       "mean    127296.138682      NaN         NaN      NaN  \n",
       "std      37228.869369      NaN         NaN      NaN  \n",
       "min       5000.000000      NaN         NaN      NaN  \n",
       "25%     125000.000000      NaN         NaN      NaN  \n",
       "50%     150000.000000      NaN         NaN      NaN  \n",
       "75%     150000.000000      NaN         NaN      NaN  \n",
       "max     150000.000000      NaN         NaN      NaN  "
      ]
     },
     "metadata": {},
     "output_type": "display_data"
    }
   ],
   "source": [
    "get_df_info(X_test)"
   ]
  },
  {
   "cell_type": "markdown",
   "metadata": {
    "id": "KG1tAkD91zmH"
   },
   "source": [
    "### Кодирование и маштабирование выборок"
   ]
  },
  {
   "cell_type": "markdown",
   "metadata": {
    "id": "HPFOuBZL1zmH"
   },
   "source": [
    "Выделим категориальные признаки для разных моделей для кодирования"
   ]
  },
  {
   "cell_type": "code",
   "execution_count": 62,
   "metadata": {
    "colab": {
     "base_uri": "https://localhost:8080/"
    },
    "id": "q0KdDfao1zmH",
    "outputId": "3afd5759-89aa-4906-f1cb-15e85302f3fd"
   },
   "outputs": [
    {
     "name": "stdout",
     "output_type": "stream",
     "text": [
      "['VehicleType', 'Gearbox', 'Model', 'FuelType', 'Brand', 'Repaired']\n"
     ]
    }
   ],
   "source": [
    "cat_features = X_train.select_dtypes(include='object').columns.to_list()\n",
    "print(cat_features)"
   ]
  },
  {
   "cell_type": "markdown",
   "metadata": {
    "id": "ZFTlSigf1zmH"
   },
   "source": [
    "Выделим численные признаки для масштабирования"
   ]
  },
  {
   "cell_type": "code",
   "execution_count": 63,
   "metadata": {
    "colab": {
     "base_uri": "https://localhost:8080/"
    },
    "id": "CsLlUQpT1zmI",
    "outputId": "59d76b0a-009f-44e1-c163-d88f786604eb"
   },
   "outputs": [
    {
     "data": {
      "text/plain": [
       "['RegistrationYear', 'Power', 'Kilometer']"
      ]
     },
     "execution_count": 63,
     "metadata": {},
     "output_type": "execute_result"
    }
   ],
   "source": [
    "num_features = X_train.select_dtypes(exclude='object').columns.to_list()\n",
    "num_features"
   ]
  },
  {
   "cell_type": "markdown",
   "metadata": {
    "id": "947WMqn01zmI"
   },
   "source": [
    "#### Кодирование X_train и X_test OrdinalEncoder"
   ]
  },
  {
   "cell_type": "code",
   "execution_count": 64,
   "metadata": {
    "colab": {
     "base_uri": "https://localhost:8080/",
     "height": 363
    },
    "id": "7F1aPMRI1zmJ",
    "outputId": "61506a1e-f38b-45f8-db66-57d9c322ef05"
   },
   "outputs": [
    {
     "data": {
      "text/html": [
       "<div>\n",
       "<style scoped>\n",
       "    .dataframe tbody tr th:only-of-type {\n",
       "        vertical-align: middle;\n",
       "    }\n",
       "\n",
       "    .dataframe tbody tr th {\n",
       "        vertical-align: top;\n",
       "    }\n",
       "\n",
       "    .dataframe thead th {\n",
       "        text-align: right;\n",
       "    }\n",
       "</style>\n",
       "<table border=\"1\" class=\"dataframe\">\n",
       "  <thead>\n",
       "    <tr style=\"text-align: right;\">\n",
       "      <th></th>\n",
       "      <th>VehicleType</th>\n",
       "      <th>RegistrationYear</th>\n",
       "      <th>Gearbox</th>\n",
       "      <th>Power</th>\n",
       "      <th>Model</th>\n",
       "      <th>Kilometer</th>\n",
       "      <th>FuelType</th>\n",
       "      <th>Brand</th>\n",
       "      <th>Repaired</th>\n",
       "    </tr>\n",
       "  </thead>\n",
       "  <tbody>\n",
       "    <tr>\n",
       "      <th>335897</th>\n",
       "      <td>5.0</td>\n",
       "      <td>2008</td>\n",
       "      <td>1.0</td>\n",
       "      <td>58</td>\n",
       "      <td>75.0</td>\n",
       "      <td>150000</td>\n",
       "      <td>6.0</td>\n",
       "      <td>27.0</td>\n",
       "      <td>2.0</td>\n",
       "    </tr>\n",
       "    <tr>\n",
       "      <th>156305</th>\n",
       "      <td>5.0</td>\n",
       "      <td>1994</td>\n",
       "      <td>0.0</td>\n",
       "      <td>54</td>\n",
       "      <td>151.0</td>\n",
       "      <td>150000</td>\n",
       "      <td>6.0</td>\n",
       "      <td>23.0</td>\n",
       "      <td>2.0</td>\n",
       "    </tr>\n",
       "    <tr>\n",
       "      <th>231046</th>\n",
       "      <td>8.0</td>\n",
       "      <td>2008</td>\n",
       "      <td>0.0</td>\n",
       "      <td>245</td>\n",
       "      <td>11.0</td>\n",
       "      <td>150000</td>\n",
       "      <td>2.0</td>\n",
       "      <td>2.0</td>\n",
       "      <td>0.0</td>\n",
       "    </tr>\n",
       "    <tr>\n",
       "      <th>259272</th>\n",
       "      <td>8.0</td>\n",
       "      <td>1999</td>\n",
       "      <td>0.0</td>\n",
       "      <td>193</td>\n",
       "      <td>15.0</td>\n",
       "      <td>150000</td>\n",
       "      <td>6.0</td>\n",
       "      <td>2.0</td>\n",
       "      <td>0.0</td>\n",
       "    </tr>\n",
       "    <tr>\n",
       "      <th>162421</th>\n",
       "      <td>4.0</td>\n",
       "      <td>2002</td>\n",
       "      <td>1.0</td>\n",
       "      <td>170</td>\n",
       "      <td>154.0</td>\n",
       "      <td>150000</td>\n",
       "      <td>6.0</td>\n",
       "      <td>10.0</td>\n",
       "      <td>1.0</td>\n",
       "    </tr>\n",
       "    <tr>\n",
       "      <th>74424</th>\n",
       "      <td>3.0</td>\n",
       "      <td>2001</td>\n",
       "      <td>1.0</td>\n",
       "      <td>125</td>\n",
       "      <td>226.0</td>\n",
       "      <td>150000</td>\n",
       "      <td>2.0</td>\n",
       "      <td>33.0</td>\n",
       "      <td>1.0</td>\n",
       "    </tr>\n",
       "    <tr>\n",
       "      <th>247782</th>\n",
       "      <td>2.0</td>\n",
       "      <td>1989</td>\n",
       "      <td>1.0</td>\n",
       "      <td>120</td>\n",
       "      <td>166.0</td>\n",
       "      <td>125000</td>\n",
       "      <td>4.0</td>\n",
       "      <td>39.0</td>\n",
       "      <td>0.0</td>\n",
       "    </tr>\n",
       "    <tr>\n",
       "      <th>201648</th>\n",
       "      <td>6.0</td>\n",
       "      <td>2011</td>\n",
       "      <td>1.0</td>\n",
       "      <td>122</td>\n",
       "      <td>217.0</td>\n",
       "      <td>150000</td>\n",
       "      <td>6.0</td>\n",
       "      <td>38.0</td>\n",
       "      <td>0.0</td>\n",
       "    </tr>\n",
       "    <tr>\n",
       "      <th>299176</th>\n",
       "      <td>5.0</td>\n",
       "      <td>2000</td>\n",
       "      <td>1.0</td>\n",
       "      <td>105</td>\n",
       "      <td>11.0</td>\n",
       "      <td>150000</td>\n",
       "      <td>6.0</td>\n",
       "      <td>2.0</td>\n",
       "      <td>0.0</td>\n",
       "    </tr>\n",
       "    <tr>\n",
       "      <th>55701</th>\n",
       "      <td>5.0</td>\n",
       "      <td>2000</td>\n",
       "      <td>1.0</td>\n",
       "      <td>65</td>\n",
       "      <td>173.0</td>\n",
       "      <td>5000</td>\n",
       "      <td>6.0</td>\n",
       "      <td>38.0</td>\n",
       "      <td>0.0</td>\n",
       "    </tr>\n",
       "  </tbody>\n",
       "</table>\n",
       "</div>"
      ],
      "text/plain": [
       "        VehicleType  RegistrationYear  Gearbox  Power  Model  Kilometer  \\\n",
       "335897          5.0              2008      1.0     58   75.0     150000   \n",
       "156305          5.0              1994      0.0     54  151.0     150000   \n",
       "231046          8.0              2008      0.0    245   11.0     150000   \n",
       "259272          8.0              1999      0.0    193   15.0     150000   \n",
       "162421          4.0              2002      1.0    170  154.0     150000   \n",
       "74424           3.0              2001      1.0    125  226.0     150000   \n",
       "247782          2.0              1989      1.0    120  166.0     125000   \n",
       "201648          6.0              2011      1.0    122  217.0     150000   \n",
       "299176          5.0              2000      1.0    105   11.0     150000   \n",
       "55701           5.0              2000      1.0     65  173.0       5000   \n",
       "\n",
       "        FuelType  Brand  Repaired  \n",
       "335897       6.0   27.0       2.0  \n",
       "156305       6.0   23.0       2.0  \n",
       "231046       2.0    2.0       0.0  \n",
       "259272       6.0    2.0       0.0  \n",
       "162421       6.0   10.0       1.0  \n",
       "74424        2.0   33.0       1.0  \n",
       "247782       4.0   39.0       0.0  \n",
       "201648       6.0   38.0       0.0  \n",
       "299176       6.0    2.0       0.0  \n",
       "55701        6.0   38.0       0.0  "
      ]
     },
     "metadata": {},
     "output_type": "display_data"
    }
   ],
   "source": [
    "# кодирование OE\n",
    "encoder = OrdinalEncoder(handle_unknown='ignore')\n",
    "X_train_OE = X_train.copy()\n",
    "X_train_OE[cat_features] = encoder.fit_transform(X_train_OE[cat_features])\n",
    "display(X_train_OE.head(10))"
   ]
  },
  {
   "cell_type": "code",
   "execution_count": 65,
   "metadata": {
    "colab": {
     "base_uri": "https://localhost:8080/",
     "height": 363
    },
    "id": "VT9KbEeV1zmK",
    "outputId": "a318aa44-da5c-4719-d4cb-48e09e4fe258"
   },
   "outputs": [
    {
     "data": {
      "text/html": [
       "<div>\n",
       "<style scoped>\n",
       "    .dataframe tbody tr th:only-of-type {\n",
       "        vertical-align: middle;\n",
       "    }\n",
       "\n",
       "    .dataframe tbody tr th {\n",
       "        vertical-align: top;\n",
       "    }\n",
       "\n",
       "    .dataframe thead th {\n",
       "        text-align: right;\n",
       "    }\n",
       "</style>\n",
       "<table border=\"1\" class=\"dataframe\">\n",
       "  <thead>\n",
       "    <tr style=\"text-align: right;\">\n",
       "      <th></th>\n",
       "      <th>VehicleType</th>\n",
       "      <th>RegistrationYear</th>\n",
       "      <th>Gearbox</th>\n",
       "      <th>Power</th>\n",
       "      <th>Model</th>\n",
       "      <th>Kilometer</th>\n",
       "      <th>FuelType</th>\n",
       "      <th>Brand</th>\n",
       "      <th>Repaired</th>\n",
       "    </tr>\n",
       "  </thead>\n",
       "  <tbody>\n",
       "    <tr>\n",
       "      <th>199429</th>\n",
       "      <td>5.0</td>\n",
       "      <td>2002</td>\n",
       "      <td>1.0</td>\n",
       "      <td>75</td>\n",
       "      <td>8.0</td>\n",
       "      <td>125000</td>\n",
       "      <td>6.0</td>\n",
       "      <td>25.0</td>\n",
       "      <td>0.0</td>\n",
       "    </tr>\n",
       "    <tr>\n",
       "      <th>291697</th>\n",
       "      <td>8.0</td>\n",
       "      <td>2003</td>\n",
       "      <td>1.0</td>\n",
       "      <td>116</td>\n",
       "      <td>11.0</td>\n",
       "      <td>125000</td>\n",
       "      <td>6.0</td>\n",
       "      <td>2.0</td>\n",
       "      <td>0.0</td>\n",
       "    </tr>\n",
       "    <tr>\n",
       "      <th>132628</th>\n",
       "      <td>0.0</td>\n",
       "      <td>2011</td>\n",
       "      <td>1.0</td>\n",
       "      <td>140</td>\n",
       "      <td>220.0</td>\n",
       "      <td>70000</td>\n",
       "      <td>6.0</td>\n",
       "      <td>38.0</td>\n",
       "      <td>0.0</td>\n",
       "    </tr>\n",
       "    <tr>\n",
       "      <th>47571</th>\n",
       "      <td>4.0</td>\n",
       "      <td>2013</td>\n",
       "      <td>1.0</td>\n",
       "      <td>140</td>\n",
       "      <td>140.0</td>\n",
       "      <td>70000</td>\n",
       "      <td>6.0</td>\n",
       "      <td>30.0</td>\n",
       "      <td>0.0</td>\n",
       "    </tr>\n",
       "    <tr>\n",
       "      <th>319259</th>\n",
       "      <td>7.0</td>\n",
       "      <td>2016</td>\n",
       "      <td>1.0</td>\n",
       "      <td>60</td>\n",
       "      <td>226.0</td>\n",
       "      <td>150000</td>\n",
       "      <td>6.0</td>\n",
       "      <td>31.0</td>\n",
       "      <td>2.0</td>\n",
       "    </tr>\n",
       "    <tr>\n",
       "      <th>99057</th>\n",
       "      <td>5.0</td>\n",
       "      <td>2012</td>\n",
       "      <td>1.0</td>\n",
       "      <td>98</td>\n",
       "      <td>165.0</td>\n",
       "      <td>30000</td>\n",
       "      <td>6.0</td>\n",
       "      <td>21.0</td>\n",
       "      <td>0.0</td>\n",
       "    </tr>\n",
       "    <tr>\n",
       "      <th>221070</th>\n",
       "      <td>5.0</td>\n",
       "      <td>2000</td>\n",
       "      <td>1.0</td>\n",
       "      <td>60</td>\n",
       "      <td>128.0</td>\n",
       "      <td>5000</td>\n",
       "      <td>6.0</td>\n",
       "      <td>10.0</td>\n",
       "      <td>1.0</td>\n",
       "    </tr>\n",
       "    <tr>\n",
       "      <th>8436</th>\n",
       "      <td>8.0</td>\n",
       "      <td>1997</td>\n",
       "      <td>1.0</td>\n",
       "      <td>165</td>\n",
       "      <td>29.0</td>\n",
       "      <td>150000</td>\n",
       "      <td>6.0</td>\n",
       "      <td>1.0</td>\n",
       "      <td>2.0</td>\n",
       "    </tr>\n",
       "    <tr>\n",
       "      <th>6409</th>\n",
       "      <td>5.0</td>\n",
       "      <td>2001</td>\n",
       "      <td>1.0</td>\n",
       "      <td>58</td>\n",
       "      <td>225.0</td>\n",
       "      <td>150000</td>\n",
       "      <td>6.0</td>\n",
       "      <td>27.0</td>\n",
       "      <td>0.0</td>\n",
       "    </tr>\n",
       "    <tr>\n",
       "      <th>237099</th>\n",
       "      <td>1.0</td>\n",
       "      <td>1997</td>\n",
       "      <td>1.0</td>\n",
       "      <td>116</td>\n",
       "      <td>247.0</td>\n",
       "      <td>125000</td>\n",
       "      <td>6.0</td>\n",
       "      <td>2.0</td>\n",
       "      <td>0.0</td>\n",
       "    </tr>\n",
       "  </tbody>\n",
       "</table>\n",
       "</div>"
      ],
      "text/plain": [
       "        VehicleType  RegistrationYear  Gearbox  Power  Model  Kilometer  \\\n",
       "199429          5.0              2002      1.0     75    8.0     125000   \n",
       "291697          8.0              2003      1.0    116   11.0     125000   \n",
       "132628          0.0              2011      1.0    140  220.0      70000   \n",
       "47571           4.0              2013      1.0    140  140.0      70000   \n",
       "319259          7.0              2016      1.0     60  226.0     150000   \n",
       "99057           5.0              2012      1.0     98  165.0      30000   \n",
       "221070          5.0              2000      1.0     60  128.0       5000   \n",
       "8436            8.0              1997      1.0    165   29.0     150000   \n",
       "6409            5.0              2001      1.0     58  225.0     150000   \n",
       "237099          1.0              1997      1.0    116  247.0     125000   \n",
       "\n",
       "        FuelType  Brand  Repaired  \n",
       "199429       6.0   25.0       0.0  \n",
       "291697       6.0    2.0       0.0  \n",
       "132628       6.0   38.0       0.0  \n",
       "47571        6.0   30.0       0.0  \n",
       "319259       6.0   31.0       2.0  \n",
       "99057        6.0   21.0       0.0  \n",
       "221070       6.0   10.0       1.0  \n",
       "8436         6.0    1.0       2.0  \n",
       "6409         6.0   27.0       0.0  \n",
       "237099       6.0    2.0       0.0  "
      ]
     },
     "execution_count": 65,
     "metadata": {},
     "output_type": "execute_result"
    }
   ],
   "source": [
    "# кодирование OE\n",
    "X_test_OE = X_test.copy()\n",
    "X_test_OE[cat_features] = encoder.transform(X_test_OE[cat_features])\n",
    "X_test_OE.head(10)"
   ]
  },
  {
   "cell_type": "markdown",
   "metadata": {
    "id": "8mMrAsgn1zmL"
   },
   "source": [
    "#### Target Encoding + StandardScaler StandardScaler для линейной модели"
   ]
  },
  {
   "cell_type": "code",
   "execution_count": 66,
   "metadata": {
    "id": "MwRqUPJk1zmL"
   },
   "outputs": [],
   "source": [
    "X_train_ridge = X_train.copy()\n",
    "X_test_ridge = X_test.copy()"
   ]
  },
  {
   "cell_type": "code",
   "execution_count": 67,
   "metadata": {
    "id": "0dHKAsWk1zmM"
   },
   "outputs": [],
   "source": [
    "# # обходим dummy-ловушку и игнорируется ранее невстречающиеся значения признака\n",
    "# encoder_ohe = OneHotEncoder(drop='first', handle_unknown='ignore', sparse=False)\n",
    "\n",
    "# # обучаем энкодер на заданных категориальных признаках X_train\n",
    "# encoder_ohe.fit(X_train_ridge[cat_features])\n",
    "\n",
    "# # добавляем закодированные признаки в X_train_ohe\n",
    "# X_train_ridge[\n",
    "#     encoder_ohe.get_feature_names_out()\n",
    "# ] = encoder_ohe.transform(X_train_ridge[cat_features])\n",
    "\n",
    "# # удаляем незакодированные категориальные признаки\n",
    "# X_train_ridge = X_train_ridge.drop(cat_features, axis=1)\n",
    "\n",
    "# # создаём скелер\n",
    "# scaler = StandardScaler()\n",
    "\n",
    "# # обучаем его на численных признаках тренировочной выборки\n",
    "# X_train_ridge[num_features] = scaler.fit_transform(X_train_ridge[num_features])\n",
    "\n",
    "\n",
    "# X_train_ridge.head()"
   ]
  },
  {
   "cell_type": "code",
   "execution_count": 68,
   "metadata": {
    "id": "7GySSF7q1zmN",
    "scrolled": false
   },
   "outputs": [],
   "source": [
    "# # энкодером, который обучен на ТРЕНИРОВОЧНОЙ ВЫБОРКЕ, кодируем тестовую\n",
    "# X_test_ridge[\n",
    "#     encoder_ohe.get_feature_names_out()\n",
    "# ] = encoder_ohe.transform(X_test_ridge[cat_features])\n",
    "\n",
    "# X_test_ridge = X_test_ridge.drop(cat_features, axis=1)\n",
    "\n",
    "\n",
    "# X_test_ridge[num_features] = scaler.transform(\n",
    "#     X_test_ridge[num_features]\n",
    "# )\n",
    "\n",
    "# X_test_ridge.head()"
   ]
  },
  {
   "cell_type": "code",
   "execution_count": null,
   "metadata": {
    "id": "jjptUcrd1zmO"
   },
   "outputs": [],
   "source": []
  },
  {
   "cell_type": "code",
   "execution_count": 69,
   "metadata": {
    "colab": {
     "base_uri": "https://localhost:8080/",
     "height": 379
    },
    "id": "yHQvvVgh1zmP",
    "outputId": "2378ec6b-e74b-462b-ad86-d42deed99124"
   },
   "outputs": [
    {
     "name": "stdout",
     "output_type": "stream",
     "text": [
      "VehicleType         float64\n",
      "RegistrationYear    float64\n",
      "Gearbox             float64\n",
      "Power               float64\n",
      "Model               float64\n",
      "Kilometer           float64\n",
      "FuelType            float64\n",
      "Brand               float64\n",
      "Repaired            float64\n",
      "dtype: object\n"
     ]
    },
    {
     "data": {
      "text/html": [
       "<div>\n",
       "<style scoped>\n",
       "    .dataframe tbody tr th:only-of-type {\n",
       "        vertical-align: middle;\n",
       "    }\n",
       "\n",
       "    .dataframe tbody tr th {\n",
       "        vertical-align: top;\n",
       "    }\n",
       "\n",
       "    .dataframe thead th {\n",
       "        text-align: right;\n",
       "    }\n",
       "</style>\n",
       "<table border=\"1\" class=\"dataframe\">\n",
       "  <thead>\n",
       "    <tr style=\"text-align: right;\">\n",
       "      <th></th>\n",
       "      <th>VehicleType</th>\n",
       "      <th>RegistrationYear</th>\n",
       "      <th>Gearbox</th>\n",
       "      <th>Power</th>\n",
       "      <th>Model</th>\n",
       "      <th>Kilometer</th>\n",
       "      <th>FuelType</th>\n",
       "      <th>Brand</th>\n",
       "      <th>Repaired</th>\n",
       "    </tr>\n",
       "  </thead>\n",
       "  <tbody>\n",
       "    <tr>\n",
       "      <th>335897</th>\n",
       "      <td>3019.203592</td>\n",
       "      <td>0.774826</td>\n",
       "      <td>4412.408845</td>\n",
       "      <td>-1.092978</td>\n",
       "      <td>2473.837823</td>\n",
       "      <td>0.604393</td>\n",
       "      <td>4210.560100</td>\n",
       "      <td>2647.013740</td>\n",
       "      <td>2191.750316</td>\n",
       "    </tr>\n",
       "    <tr>\n",
       "      <th>156305</th>\n",
       "      <td>3019.203592</td>\n",
       "      <td>-1.372327</td>\n",
       "      <td>7207.178828</td>\n",
       "      <td>-1.160700</td>\n",
       "      <td>1987.217634</td>\n",
       "      <td>0.604393</td>\n",
       "      <td>4210.560100</td>\n",
       "      <td>4711.695002</td>\n",
       "      <td>2191.750316</td>\n",
       "    </tr>\n",
       "    <tr>\n",
       "      <th>231046</th>\n",
       "      <td>5198.739246</td>\n",
       "      <td>0.774826</td>\n",
       "      <td>7207.178828</td>\n",
       "      <td>2.073018</td>\n",
       "      <td>5556.625562</td>\n",
       "      <td>0.604393</td>\n",
       "      <td>6984.173318</td>\n",
       "      <td>6779.533083</td>\n",
       "      <td>5708.441991</td>\n",
       "    </tr>\n",
       "    <tr>\n",
       "      <th>259272</th>\n",
       "      <td>5198.739246</td>\n",
       "      <td>-0.605487</td>\n",
       "      <td>7207.178828</td>\n",
       "      <td>1.192634</td>\n",
       "      <td>6714.953530</td>\n",
       "      <td>0.604393</td>\n",
       "      <td>4210.560100</td>\n",
       "      <td>6779.533083</td>\n",
       "      <td>5708.441991</td>\n",
       "    </tr>\n",
       "    <tr>\n",
       "      <th>162421</th>\n",
       "      <td>5106.940124</td>\n",
       "      <td>-0.145382</td>\n",
       "      <td>4412.408845</td>\n",
       "      <td>0.803233</td>\n",
       "      <td>2864.199795</td>\n",
       "      <td>0.604393</td>\n",
       "      <td>4210.560100</td>\n",
       "      <td>3544.239709</td>\n",
       "      <td>3169.601759</td>\n",
       "    </tr>\n",
       "  </tbody>\n",
       "</table>\n",
       "</div>"
      ],
      "text/plain": [
       "        VehicleType  RegistrationYear      Gearbox     Power        Model  \\\n",
       "335897  3019.203592          0.774826  4412.408845 -1.092978  2473.837823   \n",
       "156305  3019.203592         -1.372327  7207.178828 -1.160700  1987.217634   \n",
       "231046  5198.739246          0.774826  7207.178828  2.073018  5556.625562   \n",
       "259272  5198.739246         -0.605487  7207.178828  1.192634  6714.953530   \n",
       "162421  5106.940124         -0.145382  4412.408845  0.803233  2864.199795   \n",
       "\n",
       "        Kilometer     FuelType        Brand     Repaired  \n",
       "335897   0.604393  4210.560100  2647.013740  2191.750316  \n",
       "156305   0.604393  4210.560100  4711.695002  2191.750316  \n",
       "231046   0.604393  6984.173318  6779.533083  5708.441991  \n",
       "259272   0.604393  4210.560100  6779.533083  5708.441991  \n",
       "162421   0.604393  4210.560100  3544.239709  3169.601759  "
      ]
     },
     "execution_count": 69,
     "metadata": {},
     "output_type": "execute_result"
    }
   ],
   "source": [
    "encoder_TE = ce.TargetEncoder(return_df=True)\n",
    "X_train_ridge = encoder_TE.fit_transform(X_train, y_train)\n",
    "\n",
    "# создаём скелер\n",
    "scaler = StandardScaler()\n",
    "\n",
    "# обучаем его на численных признаках тренировочной выборки\n",
    "X_train_ridge[num_features] = scaler.fit_transform(X_train_ridge[num_features])\n",
    "\n",
    "print(X_train_ridge.dtypes)\n",
    "X_train_ridge.head()"
   ]
  },
  {
   "cell_type": "code",
   "execution_count": 70,
   "metadata": {
    "colab": {
     "base_uri": "https://localhost:8080/"
    },
    "id": "wPegnpNH1zmP",
    "outputId": "9ffdefb8-7a48-4c3d-b48d-fe13765d0a4b"
   },
   "outputs": [
    {
     "name": "stdout",
     "output_type": "stream",
     "text": [
      "        VehicleType  RegistrationYear      Gearbox     Power        Model  \\\n",
      "199429  3019.203592         -0.145382  4412.408845 -0.805161  3321.307361   \n",
      "291697  5198.739246          0.007986  4412.408845 -0.111012  5556.625562   \n",
      "132628  5744.870865          1.234930  4412.408845  0.295320  7688.354088   \n",
      "47571   5106.940124          1.541667  4412.408845  0.295320  7360.970238   \n",
      "319259  2538.868671          2.001771  4412.408845 -1.059117  3681.636574   \n",
      "\n",
      "        Kilometer   FuelType        Brand     Repaired  \n",
      "199429  -0.067796  4210.5601  3377.877381  5708.441991  \n",
      "291697  -0.067796  4210.5601  6779.533083  5708.441991  \n",
      "132628  -1.546613  4210.5601  5004.299970  5708.441991  \n",
      "47571   -1.546613  4210.5601  4451.855010  5708.441991  \n",
      "319259   0.604393  4210.5601  6164.934377  2191.750316  \n"
     ]
    }
   ],
   "source": [
    "# энкодером, который обучен на ТРЕНИРОВОЧНОЙ ВЫБОРКЕ, кодируем тестовую\n",
    "X_test_ridge = encoder_TE.transform(X_test)\n",
    "\n",
    "\n",
    "X_test_ridge[num_features] = scaler.transform(\n",
    "    X_test_ridge[num_features]\n",
    ")\n",
    "\n",
    "print(X_test_ridge.head())"
   ]
  },
  {
   "cell_type": "markdown",
   "metadata": {
    "id": "y5Lveazt1zmQ"
   },
   "source": [
    "### Модель LGBMRegressor"
   ]
  },
  {
   "cell_type": "markdown",
   "metadata": {
    "id": "XGjK8j9e1zmR"
   },
   "source": [
    "В качестве гиперпараметров выбрал всего 2, чтобы сэкономить время и т.к. в условиях задачи необходимо использовать разные гиперапараметры  в разных моделях.\n",
    "\n",
    "Также, буду использовать обучающую выборку с кодированием OrdinalEncoder."
   ]
  },
  {
   "cell_type": "code",
   "execution_count": 71,
   "metadata": {
    "id": "apBu41wm1zmU"
   },
   "outputs": [],
   "source": [
    "X_train_LGBMR = X_train_OE.copy()"
   ]
  },
  {
   "cell_type": "code",
   "execution_count": 72,
   "metadata": {
    "colab": {
     "base_uri": "https://localhost:8080/"
    },
    "id": "KfcdjZ3K1zmU",
    "outputId": "7fbe83ef-b1c2-477d-a7da-75888d3a6073",
    "scrolled": true
   },
   "outputs": [
    {
     "name": "stdout",
     "output_type": "stream",
     "text": [
      "Fitting 5 folds for each of 12 candidates, totalling 60 fits\n",
      "[CV 1/5] END ...............learning_rate=0.1, num_leaves=25; total time=   4.2s\n",
      "[CV 2/5] END ...............learning_rate=0.1, num_leaves=25; total time=   3.6s\n",
      "[CV 3/5] END ...............learning_rate=0.1, num_leaves=25; total time=   5.8s\n",
      "[CV 4/5] END ...............learning_rate=0.1, num_leaves=25; total time=   6.0s\n",
      "[CV 5/5] END ...............learning_rate=0.1, num_leaves=25; total time=   3.5s\n",
      "[CV 1/5] END ...............learning_rate=0.1, num_leaves=50; total time=   5.2s\n",
      "[CV 2/5] END ...............learning_rate=0.1, num_leaves=50; total time=   5.0s\n",
      "[CV 3/5] END ...............learning_rate=0.1, num_leaves=50; total time=   6.2s\n",
      "[CV 4/5] END ...............learning_rate=0.1, num_leaves=50; total time=   4.8s\n",
      "[CV 5/5] END ...............learning_rate=0.1, num_leaves=50; total time=   5.3s\n",
      "[CV 1/5] END ..............learning_rate=0.1, num_leaves=100; total time=   6.6s\n",
      "[CV 2/5] END ..............learning_rate=0.1, num_leaves=100; total time=   8.5s\n",
      "[CV 3/5] END ..............learning_rate=0.1, num_leaves=100; total time=   7.3s\n",
      "[CV 4/5] END ..............learning_rate=0.1, num_leaves=100; total time=   7.2s\n",
      "[CV 5/5] END ..............learning_rate=0.1, num_leaves=100; total time=  14.0s\n",
      "[CV 1/5] END ..............learning_rate=0.1, num_leaves=200; total time=  12.8s\n",
      "[CV 2/5] END ..............learning_rate=0.1, num_leaves=200; total time=  11.5s\n",
      "[CV 3/5] END ..............learning_rate=0.1, num_leaves=200; total time=  10.3s\n",
      "[CV 4/5] END ..............learning_rate=0.1, num_leaves=200; total time=  13.7s\n",
      "[CV 5/5] END ..............learning_rate=0.1, num_leaves=200; total time=  10.9s\n",
      "[CV 1/5] END ...............learning_rate=0.3, num_leaves=25; total time=   4.0s\n",
      "[CV 2/5] END ...............learning_rate=0.3, num_leaves=25; total time=   4.4s\n",
      "[CV 3/5] END ...............learning_rate=0.3, num_leaves=25; total time=   3.2s\n",
      "[CV 4/5] END ...............learning_rate=0.3, num_leaves=25; total time=   3.1s\n",
      "[CV 5/5] END ...............learning_rate=0.3, num_leaves=25; total time=   3.0s\n",
      "[CV 1/5] END ...............learning_rate=0.3, num_leaves=50; total time=   4.2s\n",
      "[CV 2/5] END ...............learning_rate=0.3, num_leaves=50; total time=   4.2s\n",
      "[CV 3/5] END ...............learning_rate=0.3, num_leaves=50; total time=   6.9s\n",
      "[CV 4/5] END ...............learning_rate=0.3, num_leaves=50; total time=   5.8s\n",
      "[CV 5/5] END ...............learning_rate=0.3, num_leaves=50; total time=   4.0s\n",
      "[CV 1/5] END ..............learning_rate=0.3, num_leaves=100; total time=   6.3s\n",
      "[CV 2/5] END ..............learning_rate=0.3, num_leaves=100; total time=   6.2s\n",
      "[CV 3/5] END ..............learning_rate=0.3, num_leaves=100; total time=   5.8s\n",
      "[CV 4/5] END ..............learning_rate=0.3, num_leaves=100; total time=   5.9s\n",
      "[CV 5/5] END ..............learning_rate=0.3, num_leaves=100; total time=   9.3s\n",
      "[CV 1/5] END ..............learning_rate=0.3, num_leaves=200; total time=   9.9s\n",
      "[CV 2/5] END ..............learning_rate=0.3, num_leaves=200; total time=   9.0s\n",
      "[CV 3/5] END ..............learning_rate=0.3, num_leaves=200; total time=  16.0s\n",
      "[CV 4/5] END ..............learning_rate=0.3, num_leaves=200; total time=   9.7s\n",
      "[CV 5/5] END ..............learning_rate=0.3, num_leaves=200; total time=  13.0s\n",
      "[CV 1/5] END ...............learning_rate=0.5, num_leaves=25; total time=   2.9s\n",
      "[CV 2/5] END ...............learning_rate=0.5, num_leaves=25; total time=   3.3s\n",
      "[CV 3/5] END ...............learning_rate=0.5, num_leaves=25; total time=   3.1s\n",
      "[CV 4/5] END ...............learning_rate=0.5, num_leaves=25; total time=   2.9s\n",
      "[CV 5/5] END ...............learning_rate=0.5, num_leaves=25; total time=   3.3s\n",
      "[CV 1/5] END ...............learning_rate=0.5, num_leaves=50; total time=   4.4s\n",
      "[CV 2/5] END ...............learning_rate=0.5, num_leaves=50; total time=   7.5s\n",
      "[CV 3/5] END ...............learning_rate=0.5, num_leaves=50; total time=   4.5s\n",
      "[CV 4/5] END ...............learning_rate=0.5, num_leaves=50; total time=   4.1s\n",
      "[CV 5/5] END ...............learning_rate=0.5, num_leaves=50; total time=   4.9s\n",
      "[CV 1/5] END ..............learning_rate=0.5, num_leaves=100; total time=   7.7s\n",
      "[CV 2/5] END ..............learning_rate=0.5, num_leaves=100; total time=   7.9s\n",
      "[CV 3/5] END ..............learning_rate=0.5, num_leaves=100; total time=   7.3s\n",
      "[CV 4/5] END ..............learning_rate=0.5, num_leaves=100; total time=   5.9s\n",
      "[CV 5/5] END ..............learning_rate=0.5, num_leaves=100; total time=   6.1s\n",
      "[CV 1/5] END ..............learning_rate=0.5, num_leaves=200; total time=  13.8s\n",
      "[CV 2/5] END ..............learning_rate=0.5, num_leaves=200; total time=  10.6s\n",
      "[CV 3/5] END ..............learning_rate=0.5, num_leaves=200; total time=   9.0s\n",
      "[CV 4/5] END ..............learning_rate=0.5, num_leaves=200; total time=   9.5s\n",
      "[CV 5/5] END ..............learning_rate=0.5, num_leaves=200; total time=  10.1s\n",
      "Лучшие гиперпараметры lgbmr: {'learning_rate': 0.1, 'num_leaves': 200}\n",
      "RMSE_lgbmr: 1594.7962106424425\n",
      "CPU times: user 7min 7s, sys: 2.36 s, total: 7min 9s\n",
      "Wall time: 7min 14s\n"
     ]
    }
   ],
   "source": [
    "%%time\n",
    "lgbmr_space={'num_leaves':[25, 50, 100, 200],\n",
    "             'learning_rate':[.1, .3, .5]\n",
    "          }\n",
    "\n",
    "lgbmr = LGBMRegressor(random_state=RANDOM_STATE)\n",
    "\n",
    "lgbmr_random = GridSearchCV(lgbmr,\n",
    "                                lgbmr_space,\n",
    "                                scoring='neg_root_mean_squared_error',\n",
    "                                cv=5,\n",
    "                                error_score='raise',\n",
    "                                verbose=3\n",
    "                                 )\n",
    "\n",
    "\n",
    "model_lgbmr = lgbmr_random.fit(X_train_LGBMR , y_train)\n",
    "\n",
    "RMSE_lgbmr = model_lgbmr.best_score_ * -1\n",
    "\n",
    "\n",
    "print('Лучшие гиперпараметры lgbmr: '+str(model_lgbmr.best_params_))\n",
    "\n",
    "print('RMSE_lgbmr:', RMSE_lgbmr)"
   ]
  },
  {
   "cell_type": "markdown",
   "metadata": {
    "id": "zTEzjDS41zmV"
   },
   "source": [
    "### Модель RandomForestRegressor"
   ]
  },
  {
   "cell_type": "markdown",
   "metadata": {
    "id": "ZSbY9KSz1zmV"
   },
   "source": [
    "Определение оптимальных гиперпараметров будет производить с помощью RandomizedSearchCV. Значение n_iter=5 умышленно уменьшил, чтобы не занимало большое количесвто времени и выбрал достаточно маленькое кол-во значений для гиперпараметров.\n",
    "\n",
    "В качестве тренировочной выборки будем использовать кодирование OrdinalEncoder без масштабирования, т.к. \"деревянные\" модели толеранты к разному масштабу."
   ]
  },
  {
   "cell_type": "code",
   "execution_count": 73,
   "metadata": {
    "id": "alm9Lsop1zmV"
   },
   "outputs": [],
   "source": [
    "X_train_rfr = X_train_OE.copy()"
   ]
  },
  {
   "cell_type": "code",
   "execution_count": 74,
   "metadata": {
    "colab": {
     "base_uri": "https://localhost:8080/"
    },
    "id": "H-ITizIR1zmW",
    "outputId": "b844f16b-a8ce-4fac-b111-e746eacc9887"
   },
   "outputs": [
    {
     "name": "stdout",
     "output_type": "stream",
     "text": [
      "Fitting 5 folds for each of 5 candidates, totalling 25 fits\n",
      "[CV 1/5] END max_depth=14, min_samples_leaf=2, min_samples_split=2, n_estimators=90; total time=  22.7s\n",
      "[CV 2/5] END max_depth=14, min_samples_leaf=2, min_samples_split=2, n_estimators=90; total time=  22.8s\n",
      "[CV 3/5] END max_depth=14, min_samples_leaf=2, min_samples_split=2, n_estimators=90; total time=  24.0s\n",
      "[CV 4/5] END max_depth=14, min_samples_leaf=2, min_samples_split=2, n_estimators=90; total time=  24.1s\n",
      "[CV 5/5] END max_depth=14, min_samples_leaf=2, min_samples_split=2, n_estimators=90; total time=  25.4s\n",
      "[CV 1/5] END max_depth=10, min_samples_leaf=4, min_samples_split=2, n_estimators=90; total time=  19.8s\n",
      "[CV 2/5] END max_depth=10, min_samples_leaf=4, min_samples_split=2, n_estimators=90; total time=  19.5s\n",
      "[CV 3/5] END max_depth=10, min_samples_leaf=4, min_samples_split=2, n_estimators=90; total time=  19.5s\n",
      "[CV 4/5] END max_depth=10, min_samples_leaf=4, min_samples_split=2, n_estimators=90; total time=  19.4s\n",
      "[CV 5/5] END max_depth=10, min_samples_leaf=4, min_samples_split=2, n_estimators=90; total time=  19.7s\n",
      "[CV 1/5] END max_depth=14, min_samples_leaf=3, min_samples_split=2, n_estimators=90; total time=  24.9s\n",
      "[CV 2/5] END max_depth=14, min_samples_leaf=3, min_samples_split=2, n_estimators=90; total time=  25.1s\n",
      "[CV 3/5] END max_depth=14, min_samples_leaf=3, min_samples_split=2, n_estimators=90; total time=  24.5s\n",
      "[CV 4/5] END max_depth=14, min_samples_leaf=3, min_samples_split=2, n_estimators=90; total time=  24.6s\n",
      "[CV 5/5] END max_depth=14, min_samples_leaf=3, min_samples_split=2, n_estimators=90; total time=  24.1s\n",
      "[CV 1/5] END max_depth=24, min_samples_leaf=3, min_samples_split=6, n_estimators=10; total time=   3.5s\n",
      "[CV 2/5] END max_depth=24, min_samples_leaf=3, min_samples_split=6, n_estimators=10; total time=   3.4s\n",
      "[CV 3/5] END max_depth=24, min_samples_leaf=3, min_samples_split=6, n_estimators=10; total time=   3.5s\n",
      "[CV 4/5] END max_depth=24, min_samples_leaf=3, min_samples_split=6, n_estimators=10; total time=   3.7s\n",
      "[CV 5/5] END max_depth=24, min_samples_leaf=3, min_samples_split=6, n_estimators=10; total time=   3.7s\n",
      "[CV 1/5] END max_depth=36, min_samples_leaf=2, min_samples_split=8, n_estimators=10; total time=   3.5s\n",
      "[CV 2/5] END max_depth=36, min_samples_leaf=2, min_samples_split=8, n_estimators=10; total time=   3.6s\n",
      "[CV 3/5] END max_depth=36, min_samples_leaf=2, min_samples_split=8, n_estimators=10; total time=   3.5s\n",
      "[CV 4/5] END max_depth=36, min_samples_leaf=2, min_samples_split=8, n_estimators=10; total time=   3.5s\n",
      "[CV 5/5] END max_depth=36, min_samples_leaf=2, min_samples_split=8, n_estimators=10; total time=   3.7s\n",
      "Лучшие гиперпараметры rfr: {'n_estimators': 10, 'min_samples_split': 8, 'min_samples_leaf': 2, 'max_depth': 36}\n",
      "Best RMSE_rfr: 1686.5772288137546\n",
      "CPU times: user 6min 17s, sys: 993 ms, total: 6min 18s\n",
      "Wall time: 6min 20s\n"
     ]
    }
   ],
   "source": [
    "%%time\n",
    "\n",
    "rfr_space={'max_depth': range(4, 40, 2),\n",
    "          'n_estimators':range(10, 100, 20),\n",
    "          'min_samples_leaf':range(1,5),\n",
    "          'min_samples_split':range(2, 10, 2)\n",
    "          }\n",
    "\n",
    "rfr = RandomForestRegressor(random_state=RANDOM_STATE)\n",
    "rfr_random = RandomizedSearchCV(rfr,\n",
    "                                rfr_space,\n",
    "                                n_iter=5,\n",
    "                                scoring='neg_root_mean_squared_error',\n",
    "                                cv=5,\n",
    "                                error_score='raise',\n",
    "                                verbose=3)\n",
    "\n",
    "model_rfr = rfr_random.fit(X_train_rfr, y_train)\n",
    "\n",
    "RMSE_rfr = model_rfr.best_score_ * -1\n",
    "\n",
    "\n",
    "print('Лучшие гиперпараметры rfr: '+str(model_rfr.best_params_))\n",
    "\n",
    "print('Best RMSE_rfr:', RMSE_rfr)"
   ]
  },
  {
   "cell_type": "markdown",
   "metadata": {
    "id": "H6XW7Zcm1zmW"
   },
   "source": [
    "### Модель Ridge"
   ]
  },
  {
   "cell_type": "markdown",
   "metadata": {
    "id": "UK84l1K41zmW"
   },
   "source": [
    "Определение оптимальных гиперпараметров будет производить с помощью GridSearchCV"
   ]
  },
  {
   "cell_type": "code",
   "execution_count": 75,
   "metadata": {
    "colab": {
     "base_uri": "https://localhost:8080/"
    },
    "id": "9IT1DeXP1zmX",
    "outputId": "d0736314-3d7e-4a2b-fe88-e554a57bdb1d"
   },
   "outputs": [
    {
     "name": "stdout",
     "output_type": "stream",
     "text": [
      "Fitting 5 folds for each of 21 candidates, totalling 105 fits\n",
      "[CV 1/5] END ......................................alpha=0.0; total time=   0.0s\n",
      "[CV 2/5] END ......................................alpha=0.0; total time=   0.1s\n",
      "[CV 3/5] END ......................................alpha=0.0; total time=   0.1s\n",
      "[CV 4/5] END ......................................alpha=0.0; total time=   0.1s\n",
      "[CV 5/5] END ......................................alpha=0.0; total time=   0.2s\n",
      "[CV 1/5] END .....................................alpha=0.01; total time=   0.1s\n",
      "[CV 2/5] END .....................................alpha=0.01; total time=   0.2s\n",
      "[CV 3/5] END .....................................alpha=0.01; total time=   0.1s\n",
      "[CV 4/5] END .....................................alpha=0.01; total time=   0.2s\n",
      "[CV 5/5] END .....................................alpha=0.01; total time=   0.2s\n",
      "[CV 1/5] END .....................................alpha=0.02; total time=   0.2s\n",
      "[CV 2/5] END .....................................alpha=0.02; total time=   0.1s\n",
      "[CV 3/5] END .....................................alpha=0.02; total time=   0.1s\n",
      "[CV 4/5] END .....................................alpha=0.02; total time=   0.2s\n",
      "[CV 5/5] END .....................................alpha=0.02; total time=   0.2s\n",
      "[CV 1/5] END .....................................alpha=0.03; total time=   0.1s\n",
      "[CV 2/5] END .....................................alpha=0.03; total time=   0.1s\n",
      "[CV 3/5] END .....................................alpha=0.03; total time=   0.2s\n",
      "[CV 4/5] END .....................................alpha=0.03; total time=   0.1s\n",
      "[CV 5/5] END .....................................alpha=0.03; total time=   0.2s\n",
      "[CV 1/5] END .....................................alpha=0.04; total time=   0.3s\n",
      "[CV 2/5] END .....................................alpha=0.04; total time=   0.1s\n",
      "[CV 3/5] END .....................................alpha=0.04; total time=   0.2s\n",
      "[CV 4/5] END .....................................alpha=0.04; total time=   0.2s\n",
      "[CV 5/5] END .....................................alpha=0.04; total time=   0.2s\n",
      "[CV 1/5] END .....................................alpha=0.05; total time=   0.1s\n",
      "[CV 2/5] END .....................................alpha=0.05; total time=   0.2s\n",
      "[CV 3/5] END .....................................alpha=0.05; total time=   0.1s\n",
      "[CV 4/5] END .....................................alpha=0.05; total time=   0.2s\n",
      "[CV 5/5] END .....................................alpha=0.05; total time=   0.2s\n",
      "[CV 1/5] END .....................................alpha=0.06; total time=   0.2s\n",
      "[CV 2/5] END .....................................alpha=0.06; total time=   0.2s\n",
      "[CV 3/5] END .....................................alpha=0.06; total time=   0.1s\n",
      "[CV 4/5] END .....................................alpha=0.06; total time=   0.3s\n",
      "[CV 5/5] END .....................................alpha=0.06; total time=   0.1s\n",
      "[CV 1/5] END .....................................alpha=0.07; total time=   0.2s\n",
      "[CV 2/5] END .....................................alpha=0.07; total time=   0.2s\n",
      "[CV 3/5] END .....................................alpha=0.07; total time=   0.1s\n",
      "[CV 4/5] END .....................................alpha=0.07; total time=   0.2s\n",
      "[CV 5/5] END .....................................alpha=0.07; total time=   0.2s\n",
      "[CV 1/5] END .....................................alpha=0.08; total time=   0.2s\n",
      "[CV 2/5] END .....................................alpha=0.08; total time=   0.2s\n",
      "[CV 3/5] END .....................................alpha=0.08; total time=   0.2s\n",
      "[CV 4/5] END .....................................alpha=0.08; total time=   0.2s\n",
      "[CV 5/5] END .....................................alpha=0.08; total time=   0.1s\n",
      "[CV 1/5] END .....................................alpha=0.09; total time=   0.2s\n",
      "[CV 2/5] END .....................................alpha=0.09; total time=   0.2s\n",
      "[CV 3/5] END .....................................alpha=0.09; total time=   0.1s\n",
      "[CV 4/5] END .....................................alpha=0.09; total time=   0.1s\n",
      "[CV 5/5] END .....................................alpha=0.09; total time=   0.1s\n",
      "[CV 1/5] END ......................................alpha=0.1; total time=   0.2s\n",
      "[CV 2/5] END ......................................alpha=0.1; total time=   0.1s\n",
      "[CV 3/5] END ......................................alpha=0.1; total time=   0.1s\n",
      "[CV 4/5] END ......................................alpha=0.1; total time=   0.2s\n",
      "[CV 5/5] END ......................................alpha=0.1; total time=   0.1s\n",
      "[CV 1/5] END .....................................alpha=0.11; total time=   0.1s\n",
      "[CV 2/5] END .....................................alpha=0.11; total time=   0.2s\n",
      "[CV 3/5] END .....................................alpha=0.11; total time=   0.2s\n",
      "[CV 4/5] END .....................................alpha=0.11; total time=   0.2s\n",
      "[CV 5/5] END .....................................alpha=0.11; total time=   0.3s\n",
      "[CV 1/5] END .....................................alpha=0.12; total time=   0.1s\n",
      "[CV 2/5] END .....................................alpha=0.12; total time=   0.2s\n",
      "[CV 3/5] END .....................................alpha=0.12; total time=   0.2s\n",
      "[CV 4/5] END .....................................alpha=0.12; total time=   0.2s\n",
      "[CV 5/5] END .....................................alpha=0.12; total time=   0.2s\n",
      "[CV 1/5] END .....................................alpha=0.13; total time=   0.1s\n",
      "[CV 2/5] END .....................................alpha=0.13; total time=   0.2s\n",
      "[CV 3/5] END .....................................alpha=0.13; total time=   0.2s\n",
      "[CV 4/5] END .....................................alpha=0.13; total time=   0.2s\n",
      "[CV 5/5] END .....................................alpha=0.13; total time=   0.1s\n",
      "[CV 1/5] END .....................................alpha=0.14; total time=   0.2s\n",
      "[CV 2/5] END .....................................alpha=0.14; total time=   0.1s\n",
      "[CV 3/5] END .....................................alpha=0.14; total time=   0.1s\n",
      "[CV 4/5] END .....................................alpha=0.14; total time=   0.2s\n",
      "[CV 5/5] END .....................................alpha=0.14; total time=   0.1s\n",
      "[CV 1/5] END .....................................alpha=0.15; total time=   0.2s\n",
      "[CV 2/5] END .....................................alpha=0.15; total time=   0.1s\n",
      "[CV 3/5] END .....................................alpha=0.15; total time=   0.2s\n",
      "[CV 4/5] END .....................................alpha=0.15; total time=   0.1s\n",
      "[CV 5/5] END .....................................alpha=0.15; total time=   0.2s\n",
      "[CV 1/5] END .....................................alpha=0.16; total time=   0.1s\n",
      "[CV 2/5] END .....................................alpha=0.16; total time=   0.2s\n",
      "[CV 3/5] END .....................................alpha=0.16; total time=   0.1s\n",
      "[CV 4/5] END .....................................alpha=0.16; total time=   0.2s\n",
      "[CV 5/5] END .....................................alpha=0.16; total time=   0.2s\n",
      "[CV 1/5] END .....................................alpha=0.17; total time=   0.2s\n",
      "[CV 2/5] END .....................................alpha=0.17; total time=   0.1s\n",
      "[CV 3/5] END .....................................alpha=0.17; total time=   0.2s\n",
      "[CV 4/5] END .....................................alpha=0.17; total time=   0.2s\n",
      "[CV 5/5] END .....................................alpha=0.17; total time=   0.2s\n",
      "[CV 1/5] END .....................................alpha=0.18; total time=   0.1s\n",
      "[CV 2/5] END .....................................alpha=0.18; total time=   0.2s\n",
      "[CV 3/5] END .....................................alpha=0.18; total time=   0.1s\n",
      "[CV 4/5] END .....................................alpha=0.18; total time=   0.2s\n",
      "[CV 5/5] END .....................................alpha=0.18; total time=   0.1s\n",
      "[CV 1/5] END .....................................alpha=0.19; total time=   0.2s\n",
      "[CV 2/5] END .....................................alpha=0.19; total time=   0.2s\n",
      "[CV 3/5] END .....................................alpha=0.19; total time=   0.1s\n",
      "[CV 4/5] END .....................................alpha=0.19; total time=   0.2s\n",
      "[CV 5/5] END .....................................alpha=0.19; total time=   0.2s\n",
      "[CV 1/5] END ......................................alpha=0.2; total time=   0.2s\n",
      "[CV 2/5] END ......................................alpha=0.2; total time=   0.2s\n",
      "[CV 3/5] END ......................................alpha=0.2; total time=   0.2s\n",
      "[CV 4/5] END ......................................alpha=0.2; total time=   0.3s\n",
      "[CV 5/5] END ......................................alpha=0.2; total time=   0.1s\n",
      "Best гиперпараметры model_ridge: 2845.801257150356\n",
      "Best RMSE_ridge: {'alpha': 0.2}\n",
      "CPU times: user 6.95 s, sys: 10.5 s, total: 17.4 s\n",
      "Wall time: 17.5 s\n"
     ]
    }
   ],
   "source": [
    "%%time\n",
    "model_ridge = Ridge(random_state=RANDOM_STATE)\n",
    "\n",
    "\n",
    "param_grid_ridge = {\n",
    "    'alpha': np.arange(0, 0.21, 0.01),\n",
    "}\n",
    "\n",
    "gs_ridge = GridSearchCV(\n",
    "    model_ridge,\n",
    "    param_grid=param_grid_ridge,\n",
    "    scoring='neg_root_mean_squared_error',\n",
    "    verbose=3\n",
    ")\n",
    "\n",
    "\n",
    "gs_ridge.fit(X_train_ridge, y_train)\n",
    "\n",
    "\n",
    "print(f'Best гиперпараметры model_ridge: {gs_ridge.best_score_ * -1}')\n",
    "\n",
    "\n",
    "print(f'Best RMSE_ridge: {gs_ridge.best_params_}')"
   ]
  },
  {
   "cell_type": "markdown",
   "metadata": {
    "id": "hcm9SW2J1zmX"
   },
   "source": [
    "### Тестирование моделей"
   ]
  },
  {
   "cell_type": "markdown",
   "metadata": {
    "id": "ZSyROz8_1zmY"
   },
   "source": [
    "#### Ridge"
   ]
  },
  {
   "cell_type": "code",
   "execution_count": 76,
   "metadata": {
    "colab": {
     "base_uri": "https://localhost:8080/"
    },
    "id": "7HMrV2By1zmY",
    "outputId": "c57286a6-32d0-4e0e-f34e-8838fd4d3030"
   },
   "outputs": [
    {
     "name": "stdout",
     "output_type": "stream",
     "text": [
      "CPU times: user 14 ms, sys: 14.6 ms, total: 28.6 ms\n",
      "Wall time: 7.22 ms\n"
     ]
    },
    {
     "data": {
      "text/plain": [
       "2823.050895933153"
      ]
     },
     "execution_count": 76,
     "metadata": {},
     "output_type": "execute_result"
    }
   ],
   "source": [
    "%%time\n",
    "ridge_prediction = gs_ridge.predict(X_test_ridge)\n",
    "metric_test_ridge = mean_squared_error(y_test, ridge_prediction, squared=False)\n",
    "metric_test_ridge"
   ]
  },
  {
   "cell_type": "markdown",
   "metadata": {
    "id": "G9n1Me8i1zmY"
   },
   "source": [
    "#### RandomForestRegressor"
   ]
  },
  {
   "cell_type": "code",
   "execution_count": 77,
   "metadata": {
    "id": "Q6knTY0U1zmZ"
   },
   "outputs": [],
   "source": [
    "X_test_rfr = X_test_OE.copy()"
   ]
  },
  {
   "cell_type": "code",
   "execution_count": 78,
   "metadata": {
    "colab": {
     "base_uri": "https://localhost:8080/"
    },
    "id": "Ixpp4ppx1zmZ",
    "outputId": "25798515-cdc4-4fdf-a635-59437e259ddd"
   },
   "outputs": [
    {
     "name": "stdout",
     "output_type": "stream",
     "text": [
      "CPU times: user 186 ms, sys: 334 µs, total: 187 ms\n",
      "Wall time: 186 ms\n"
     ]
    },
    {
     "data": {
      "text/plain": [
       "1656.252853184711"
      ]
     },
     "execution_count": 78,
     "metadata": {},
     "output_type": "execute_result"
    }
   ],
   "source": [
    "%%time\n",
    "rfr_prediction = rfr_random.predict(X_test_rfr)\n",
    "metric_test_rfr = mean_squared_error(y_test, rfr_prediction, squared=False)\n",
    "metric_test_rfr"
   ]
  },
  {
   "cell_type": "markdown",
   "metadata": {
    "id": "cGTu5UyA1zmZ"
   },
   "source": [
    "#### LGBMRegressor"
   ]
  },
  {
   "cell_type": "code",
   "execution_count": 79,
   "metadata": {
    "id": "xly1s1Ga1zma"
   },
   "outputs": [],
   "source": [
    "X_test_lgbmr=X_test.copy()"
   ]
  },
  {
   "cell_type": "code",
   "execution_count": 80,
   "metadata": {
    "colab": {
     "base_uri": "https://localhost:8080/"
    },
    "id": "OerrqZnK1zma",
    "outputId": "fafd61dc-7346-48b4-b379-06a788f20ca0"
   },
   "outputs": [
    {
     "name": "stdout",
     "output_type": "stream",
     "text": [
      "CPU times: user 843 ms, sys: 2.59 ms, total: 845 ms\n",
      "Wall time: 808 ms\n"
     ]
    },
    {
     "data": {
      "text/plain": [
       "1574.3803066992"
      ]
     },
     "execution_count": 80,
     "metadata": {},
     "output_type": "execute_result"
    }
   ],
   "source": [
    "%%time\n",
    "lgbmr_prediction = lgbmr_random.predict(X_test_rfr)\n",
    "metric_test_lgbmr = mean_squared_error(y_test, lgbmr_prediction, squared=False)\n",
    "metric_test_lgbmr"
   ]
  },
  {
   "cell_type": "markdown",
   "metadata": {
    "id": "oe6zClEb1zmb"
   },
   "source": [
    "## Анализ моделей"
   ]
  },
  {
   "cell_type": "code",
   "execution_count": 82,
   "metadata": {
    "colab": {
     "base_uri": "https://localhost:8080/",
     "height": 143
    },
    "id": "Etsgw3Oc1zmb",
    "outputId": "2b63599c-6291-4920-be2a-5b6a4305426d"
   },
   "outputs": [
    {
     "data": {
      "text/html": [
       "<div>\n",
       "<style scoped>\n",
       "    .dataframe tbody tr th:only-of-type {\n",
       "        vertical-align: middle;\n",
       "    }\n",
       "\n",
       "    .dataframe tbody tr th {\n",
       "        vertical-align: top;\n",
       "    }\n",
       "\n",
       "    .dataframe thead th {\n",
       "        text-align: right;\n",
       "    }\n",
       "</style>\n",
       "<table border=\"1\" class=\"dataframe\">\n",
       "  <thead>\n",
       "    <tr style=\"text-align: right;\">\n",
       "      <th></th>\n",
       "      <th>Best RMSE train, евро</th>\n",
       "      <th>Время обучения на train, сек</th>\n",
       "      <th>Best RMSE test, евро</th>\n",
       "      <th>Время предсказания модели, сек</th>\n",
       "    </tr>\n",
       "  </thead>\n",
       "  <tbody>\n",
       "    <tr>\n",
       "      <th>Ridge</th>\n",
       "      <td>2845.801257150356</td>\n",
       "      <td>17.5</td>\n",
       "      <td>2823.050896</td>\n",
       "      <td>0.808</td>\n",
       "    </tr>\n",
       "    <tr>\n",
       "      <th>RandomForestRegressor</th>\n",
       "      <td>1686.577229</td>\n",
       "      <td>434.0</td>\n",
       "      <td>1656.252853</td>\n",
       "      <td>0.186</td>\n",
       "    </tr>\n",
       "    <tr>\n",
       "      <th>LGBMRegressor</th>\n",
       "      <td>1594.796211</td>\n",
       "      <td>380.0</td>\n",
       "      <td>1574.380307</td>\n",
       "      <td>0.722</td>\n",
       "    </tr>\n",
       "  </tbody>\n",
       "</table>\n",
       "</div>"
      ],
      "text/plain": [
       "                      Best RMSE train, евро  Время обучения на train, сек  \\\n",
       "Ridge                     2845.801257150356                          17.5   \n",
       "RandomForestRegressor           1686.577229                         434.0   \n",
       "LGBMRegressor                   1594.796211                         380.0   \n",
       "\n",
       "                       Best RMSE test, евро  Время предсказания модели, сек  \n",
       "Ridge                           2823.050896                           0.808  \n",
       "RandomForestRegressor           1656.252853                           0.186  \n",
       "LGBMRegressor                   1574.380307                           0.722  "
      ]
     },
     "execution_count": 82,
     "metadata": {},
     "output_type": "execute_result"
    }
   ],
   "source": [
    "index = ['Ridge','RandomForestRegressor','LGBMRegressor']\n",
    "data = {'Best RMSE train, евро':[str(gs_ridge.best_score_), RMSE_rfr, RMSE_lgbmr],\n",
    "        'Время обучения на train, сек':[17.5, 434, 380],\n",
    "        'Best RMSE test, евро':[metric_test_ridge, metric_test_rfr, metric_test_lgbmr],\n",
    "        'Время предсказания модели, сек':[0.808, 0.186, 0.722]}\n",
    "\n",
    "scores_df = pd.DataFrame(data=data, index=index)\n",
    "scores_df"
   ]
  },
  {
   "cell_type": "markdown",
   "metadata": {
    "id": "DfIvgr3o1zmc"
   },
   "source": [
    "**Вывод:** Если рассматривать значение показателя RMSE, то наилучший результат у модели LGBMRegressor. Если рассматривать скорость обучения и предсказания, то лучший результат у модели Ridge, но значение RMSE не удовлетворяет условиям ТЗ, следовательно такая моедль не подходит. Если рассматривать оставшиеся модели, то по значению показателя RMSE, то также выигрывает модель LGBMRegressor, но не значительно уступает по времени. Таким образом, рекомендуем модель к запуску в эксплуатацию LGBMRegressor."
   ]
  }
 ],
 "metadata": {
  "ExecuteTimeLog": [
   {
    "duration": 79,
    "start_time": "2023-06-08T17:49:06.748Z"
   },
   {
    "duration": 551,
    "start_time": "2023-06-08T17:49:49.227Z"
   },
   {
    "duration": 3982,
    "start_time": "2023-06-08T17:56:28.303Z"
   },
   {
    "duration": 4,
    "start_time": "2023-06-08T17:56:51.572Z"
   },
   {
    "duration": 5,
    "start_time": "2023-06-08T17:57:04.247Z"
   },
   {
    "duration": 1150,
    "start_time": "2023-06-08T17:57:12.647Z"
   },
   {
    "duration": 122,
    "start_time": "2023-06-08T17:57:42.711Z"
   },
   {
    "duration": 4,
    "start_time": "2023-06-08T17:57:56.091Z"
   },
   {
    "duration": 1868,
    "start_time": "2023-06-08T17:57:58.399Z"
   },
   {
    "duration": 4,
    "start_time": "2023-06-08T18:23:35.747Z"
   },
   {
    "duration": 1567,
    "start_time": "2023-06-08T18:23:39.147Z"
   },
   {
    "duration": 3,
    "start_time": "2023-06-08T19:02:33.168Z"
   },
   {
    "duration": 1249,
    "start_time": "2023-06-08T19:02:36.627Z"
   },
   {
    "duration": 57,
    "start_time": "2023-06-11T10:46:23.743Z"
   },
   {
    "duration": 439,
    "start_time": "2023-06-11T10:46:28.365Z"
   },
   {
    "duration": 3,
    "start_time": "2023-06-11T10:46:28.806Z"
   },
   {
    "duration": 1217,
    "start_time": "2023-06-11T10:46:28.811Z"
   },
   {
    "duration": 1277,
    "start_time": "2023-06-11T10:46:30.030Z"
   },
   {
    "duration": 43,
    "start_time": "2023-06-11T10:46:31.309Z"
   },
   {
    "duration": 497,
    "start_time": "2023-06-11T10:46:50.382Z"
   },
   {
    "duration": 89,
    "start_time": "2023-06-11T10:47:55.867Z"
   },
   {
    "duration": 72,
    "start_time": "2023-06-11T10:48:28.666Z"
   },
   {
    "duration": 475,
    "start_time": "2023-06-11T10:48:33.414Z"
   },
   {
    "duration": 77,
    "start_time": "2023-06-11T10:49:26.766Z"
   },
   {
    "duration": 20,
    "start_time": "2023-06-11T11:07:58.078Z"
   },
   {
    "duration": 194,
    "start_time": "2023-06-11T11:08:30.235Z"
   },
   {
    "duration": 200,
    "start_time": "2023-06-11T11:08:51.559Z"
   },
   {
    "duration": 199,
    "start_time": "2023-06-11T11:09:07.904Z"
   },
   {
    "duration": 27,
    "start_time": "2023-06-11T11:12:04.663Z"
   },
   {
    "duration": 184,
    "start_time": "2023-06-11T11:12:57.253Z"
   },
   {
    "duration": 177,
    "start_time": "2023-06-11T11:13:02.767Z"
   },
   {
    "duration": 197,
    "start_time": "2023-06-11T11:13:30.158Z"
   },
   {
    "duration": 26,
    "start_time": "2023-06-11T11:14:01.249Z"
   },
   {
    "duration": 214,
    "start_time": "2023-06-11T11:14:31.279Z"
   },
   {
    "duration": 30,
    "start_time": "2023-06-11T11:32:41.595Z"
   },
   {
    "duration": 180,
    "start_time": "2023-06-11T11:33:16.175Z"
   },
   {
    "duration": 31,
    "start_time": "2023-06-11T11:33:48.903Z"
   },
   {
    "duration": 34,
    "start_time": "2023-06-11T11:34:00.896Z"
   },
   {
    "duration": 31,
    "start_time": "2023-06-11T11:34:37.070Z"
   },
   {
    "duration": 37,
    "start_time": "2023-06-11T11:35:07.884Z"
   },
   {
    "duration": 186,
    "start_time": "2023-06-11T11:36:35.818Z"
   },
   {
    "duration": 169,
    "start_time": "2023-06-11T11:37:32.053Z"
   },
   {
    "duration": 173,
    "start_time": "2023-06-11T11:37:42.309Z"
   },
   {
    "duration": 172,
    "start_time": "2023-06-11T11:37:46.001Z"
   },
   {
    "duration": 110,
    "start_time": "2023-06-11T11:38:32.915Z"
   },
   {
    "duration": 173,
    "start_time": "2023-06-11T12:36:12.482Z"
   },
   {
    "duration": 166,
    "start_time": "2023-06-11T12:36:29.103Z"
   },
   {
    "duration": 174,
    "start_time": "2023-06-11T12:36:39.885Z"
   },
   {
    "duration": 49,
    "start_time": "2023-06-11T13:32:40.027Z"
   },
   {
    "duration": 14,
    "start_time": "2023-06-11T13:32:55.003Z"
   },
   {
    "duration": 4,
    "start_time": "2023-06-11T13:34:34.509Z"
   },
   {
    "duration": 13,
    "start_time": "2023-06-11T13:35:05.785Z"
   },
   {
    "duration": 99,
    "start_time": "2023-06-11T13:35:12.664Z"
   },
   {
    "duration": 371,
    "start_time": "2023-06-11T13:35:24.275Z"
   },
   {
    "duration": 11,
    "start_time": "2023-06-11T13:35:24.651Z"
   },
   {
    "duration": 895,
    "start_time": "2023-06-11T13:35:24.666Z"
   },
   {
    "duration": 1299,
    "start_time": "2023-06-11T13:35:25.563Z"
   },
   {
    "duration": 560,
    "start_time": "2023-06-11T13:35:26.865Z"
   },
   {
    "duration": 584,
    "start_time": "2023-06-11T13:35:27.428Z"
   },
   {
    "duration": 226,
    "start_time": "2023-06-11T13:35:28.013Z"
   },
   {
    "duration": 69,
    "start_time": "2023-06-11T13:35:28.241Z"
   },
   {
    "duration": 128,
    "start_time": "2023-06-11T13:35:28.312Z"
   },
   {
    "duration": 24,
    "start_time": "2023-06-11T13:36:38.509Z"
   },
   {
    "duration": 904,
    "start_time": "2023-06-11T13:37:22.880Z"
   },
   {
    "duration": 19,
    "start_time": "2023-06-11T13:37:54.201Z"
   },
   {
    "duration": 446,
    "start_time": "2023-06-11T13:38:24.074Z"
   },
   {
    "duration": 473,
    "start_time": "2023-06-11T13:55:25.285Z"
   },
   {
    "duration": 426,
    "start_time": "2023-06-11T13:55:30.556Z"
   },
   {
    "duration": 80,
    "start_time": "2023-06-11T13:57:15.167Z"
   },
   {
    "duration": 47,
    "start_time": "2023-06-11T13:57:39.757Z"
   },
   {
    "duration": 106,
    "start_time": "2023-06-11T13:57:55.109Z"
   },
   {
    "duration": 14,
    "start_time": "2023-06-11T13:58:14.914Z"
   },
   {
    "duration": 105,
    "start_time": "2023-06-11T13:58:28.355Z"
   },
   {
    "duration": 22,
    "start_time": "2023-06-11T13:58:55.857Z"
   },
   {
    "duration": 415,
    "start_time": "2023-06-11T13:59:37.069Z"
   },
   {
    "duration": 164,
    "start_time": "2023-06-11T14:00:44.359Z"
   },
   {
    "duration": 410,
    "start_time": "2023-06-11T14:01:59.263Z"
   },
   {
    "duration": 40,
    "start_time": "2023-06-11T14:12:05.298Z"
   },
   {
    "duration": 413,
    "start_time": "2023-06-11T14:12:44.870Z"
   },
   {
    "duration": 507,
    "start_time": "2023-06-11T14:14:10.357Z"
   },
   {
    "duration": 458,
    "start_time": "2023-06-11T14:16:39.468Z"
   },
   {
    "duration": 46,
    "start_time": "2023-06-11T14:19:26.808Z"
   },
   {
    "duration": 428,
    "start_time": "2023-06-11T14:20:29.960Z"
   },
   {
    "duration": 5,
    "start_time": "2023-06-11T14:20:30.390Z"
   },
   {
    "duration": 1038,
    "start_time": "2023-06-11T14:20:30.397Z"
   },
   {
    "duration": 1447,
    "start_time": "2023-06-11T14:20:31.439Z"
   },
   {
    "duration": 567,
    "start_time": "2023-06-11T14:20:32.887Z"
   },
   {
    "duration": 583,
    "start_time": "2023-06-11T14:20:33.456Z"
   },
   {
    "duration": 207,
    "start_time": "2023-06-11T14:20:34.044Z"
   },
   {
    "duration": 58,
    "start_time": "2023-06-11T14:20:34.257Z"
   },
   {
    "duration": 104,
    "start_time": "2023-06-11T14:20:34.316Z"
   },
   {
    "duration": 35,
    "start_time": "2023-06-11T14:20:34.424Z"
   },
   {
    "duration": 361,
    "start_time": "2023-06-11T14:20:34.461Z"
   },
   {
    "duration": 462,
    "start_time": "2023-06-11T14:20:34.824Z"
   },
   {
    "duration": 509,
    "start_time": "2023-06-11T14:20:35.288Z"
   },
   {
    "duration": 435,
    "start_time": "2023-06-11T14:20:35.799Z"
   },
   {
    "duration": 45,
    "start_time": "2023-06-11T14:20:36.251Z"
   },
   {
    "duration": 98,
    "start_time": "2023-06-11T14:20:59.395Z"
   },
   {
    "duration": 9,
    "start_time": "2023-06-11T14:21:06.767Z"
   },
   {
    "duration": 89,
    "start_time": "2023-06-11T14:21:34.167Z"
   },
   {
    "duration": 18,
    "start_time": "2023-06-11T14:26:52.857Z"
   },
   {
    "duration": 13,
    "start_time": "2023-06-11T14:26:55.609Z"
   },
   {
    "duration": 257,
    "start_time": "2023-06-11T14:27:37.072Z"
   },
   {
    "duration": 309,
    "start_time": "2023-06-11T14:27:50.802Z"
   },
   {
    "duration": 298,
    "start_time": "2023-06-11T14:28:42.982Z"
   },
   {
    "duration": 334,
    "start_time": "2023-06-11T14:29:18.941Z"
   },
   {
    "duration": 25,
    "start_time": "2023-06-11T15:09:02.495Z"
   },
   {
    "duration": 22,
    "start_time": "2023-06-11T15:09:12.082Z"
   },
   {
    "duration": 22,
    "start_time": "2023-06-11T15:09:40.355Z"
   },
   {
    "duration": 82,
    "start_time": "2023-06-11T15:10:23.038Z"
   },
   {
    "duration": 14,
    "start_time": "2023-06-11T15:10:30.388Z"
   },
   {
    "duration": 21,
    "start_time": "2023-06-11T15:10:43.273Z"
   },
   {
    "duration": 17,
    "start_time": "2023-06-11T15:12:50.297Z"
   },
   {
    "duration": 17,
    "start_time": "2023-06-11T15:12:59.154Z"
   },
   {
    "duration": 363,
    "start_time": "2023-06-11T15:51:07.167Z"
   },
   {
    "duration": 447,
    "start_time": "2023-06-11T15:51:41.867Z"
   },
   {
    "duration": 3,
    "start_time": "2023-06-11T15:51:42.316Z"
   },
   {
    "duration": 1012,
    "start_time": "2023-06-11T15:51:42.321Z"
   },
   {
    "duration": 1434,
    "start_time": "2023-06-11T15:51:43.335Z"
   },
   {
    "duration": 561,
    "start_time": "2023-06-11T15:51:44.772Z"
   },
   {
    "duration": 515,
    "start_time": "2023-06-11T15:51:45.334Z"
   },
   {
    "duration": 206,
    "start_time": "2023-06-11T15:51:45.856Z"
   },
   {
    "duration": 41,
    "start_time": "2023-06-11T15:51:46.064Z"
   },
   {
    "duration": 92,
    "start_time": "2023-06-11T15:51:46.106Z"
   },
   {
    "duration": 18,
    "start_time": "2023-06-11T15:51:46.200Z"
   },
   {
    "duration": 352,
    "start_time": "2023-06-11T15:51:46.220Z"
   },
   {
    "duration": 448,
    "start_time": "2023-06-11T15:51:46.574Z"
   },
   {
    "duration": 508,
    "start_time": "2023-06-11T15:51:47.023Z"
   },
   {
    "duration": 395,
    "start_time": "2023-06-11T15:51:47.534Z"
   },
   {
    "duration": 29,
    "start_time": "2023-06-11T15:51:47.931Z"
   },
   {
    "duration": 42,
    "start_time": "2023-06-11T15:51:47.962Z"
   },
   {
    "duration": 42,
    "start_time": "2023-06-11T15:51:48.005Z"
   },
   {
    "duration": 23,
    "start_time": "2023-06-11T15:51:48.048Z"
   },
   {
    "duration": 422,
    "start_time": "2023-06-11T15:51:48.073Z"
   },
   {
    "duration": 363,
    "start_time": "2023-06-11T15:51:48.497Z"
   },
   {
    "duration": 502,
    "start_time": "2023-06-11T15:51:48.864Z"
   },
   {
    "duration": 25,
    "start_time": "2023-06-11T15:51:58.487Z"
   },
   {
    "duration": 23,
    "start_time": "2023-06-11T15:53:21.910Z"
   },
   {
    "duration": 25,
    "start_time": "2023-06-11T15:58:31.261Z"
   },
   {
    "duration": 22,
    "start_time": "2023-06-11T16:01:08.551Z"
   },
   {
    "duration": 348,
    "start_time": "2023-06-11T16:12:21.952Z"
   },
   {
    "duration": 428,
    "start_time": "2023-06-11T16:12:41.921Z"
   },
   {
    "duration": 663,
    "start_time": "2023-06-11T16:13:05.295Z"
   },
   {
    "duration": 577,
    "start_time": "2023-06-11T16:13:35.560Z"
   },
   {
    "duration": 540,
    "start_time": "2023-06-11T16:14:22.153Z"
   },
   {
    "duration": 568,
    "start_time": "2023-06-11T16:14:56.800Z"
   },
   {
    "duration": 517,
    "start_time": "2023-06-11T16:15:10.291Z"
   },
   {
    "duration": 411,
    "start_time": "2023-06-11T16:15:24.004Z"
   },
   {
    "duration": 293,
    "start_time": "2023-06-11T16:15:54.006Z"
   },
   {
    "duration": 277,
    "start_time": "2023-06-11T16:16:16.248Z"
   },
   {
    "duration": 392,
    "start_time": "2023-06-11T16:16:34.364Z"
   },
   {
    "duration": 465,
    "start_time": "2023-06-11T16:18:04.081Z"
   },
   {
    "duration": 22,
    "start_time": "2023-06-11T16:19:11.068Z"
   },
   {
    "duration": 465,
    "start_time": "2023-06-11T16:26:24.811Z"
   },
   {
    "duration": 302,
    "start_time": "2023-06-11T16:26:43.532Z"
   },
   {
    "duration": 389,
    "start_time": "2023-06-11T16:27:19.406Z"
   },
   {
    "duration": 23,
    "start_time": "2023-06-11T16:27:47.771Z"
   },
   {
    "duration": 76,
    "start_time": "2023-06-11T16:28:02.894Z"
   },
   {
    "duration": 19,
    "start_time": "2023-06-11T16:28:26.581Z"
   },
   {
    "duration": 31,
    "start_time": "2023-06-11T16:28:36.413Z"
   },
   {
    "duration": 19,
    "start_time": "2023-06-11T16:28:39.279Z"
   },
   {
    "duration": 22,
    "start_time": "2023-06-11T16:29:36.398Z"
   },
   {
    "duration": 21,
    "start_time": "2023-06-11T16:29:38.639Z"
   },
   {
    "duration": 64,
    "start_time": "2023-06-11T16:29:57.469Z"
   },
   {
    "duration": 22,
    "start_time": "2023-06-11T16:32:16.641Z"
   },
   {
    "duration": 19,
    "start_time": "2023-06-11T16:33:01.875Z"
   },
   {
    "duration": 17,
    "start_time": "2023-06-11T16:33:32.420Z"
   },
   {
    "duration": 437,
    "start_time": "2023-06-11T16:34:45.226Z"
   },
   {
    "duration": 444,
    "start_time": "2023-06-11T16:35:12.270Z"
   },
   {
    "duration": 280,
    "start_time": "2023-06-11T16:35:31.319Z"
   },
   {
    "duration": 234,
    "start_time": "2023-06-11T16:35:54.777Z"
   },
   {
    "duration": 263,
    "start_time": "2023-06-11T16:36:26.497Z"
   },
   {
    "duration": 453,
    "start_time": "2023-06-11T16:36:51.754Z"
   },
   {
    "duration": 467,
    "start_time": "2023-06-11T16:37:32.443Z"
   },
   {
    "duration": 415,
    "start_time": "2023-06-11T16:37:46.777Z"
   },
   {
    "duration": 250,
    "start_time": "2023-06-11T16:38:23.235Z"
   },
   {
    "duration": 313,
    "start_time": "2023-06-11T16:38:40.873Z"
   },
   {
    "duration": 307,
    "start_time": "2023-06-11T16:39:06.142Z"
   },
   {
    "duration": 400,
    "start_time": "2023-06-11T16:40:20.491Z"
   },
   {
    "duration": 321,
    "start_time": "2023-06-11T16:40:36.309Z"
   },
   {
    "duration": 264,
    "start_time": "2023-06-11T16:41:57.459Z"
   },
   {
    "duration": 220,
    "start_time": "2023-06-11T16:42:18.664Z"
   },
   {
    "duration": 248,
    "start_time": "2023-06-11T16:42:35.470Z"
   },
   {
    "duration": 251,
    "start_time": "2023-06-11T16:42:46.097Z"
   },
   {
    "duration": 256,
    "start_time": "2023-06-11T16:43:15.503Z"
   },
   {
    "duration": 228,
    "start_time": "2023-06-11T16:43:28.592Z"
   },
   {
    "duration": 20,
    "start_time": "2023-06-11T16:44:37.935Z"
   },
   {
    "duration": 236,
    "start_time": "2023-06-11T16:47:14.239Z"
   },
   {
    "duration": 15,
    "start_time": "2023-06-11T16:48:44.393Z"
   },
   {
    "duration": 21,
    "start_time": "2023-06-11T16:50:44.919Z"
   },
   {
    "duration": 18,
    "start_time": "2023-06-11T16:51:11.792Z"
   },
   {
    "duration": 6,
    "start_time": "2023-06-11T16:53:27.874Z"
   },
   {
    "duration": 409,
    "start_time": "2023-06-11T16:54:51.704Z"
   },
   {
    "duration": 3,
    "start_time": "2023-06-11T16:54:52.115Z"
   },
   {
    "duration": 1073,
    "start_time": "2023-06-11T16:54:52.121Z"
   },
   {
    "duration": 1437,
    "start_time": "2023-06-11T16:54:53.196Z"
   },
   {
    "duration": 574,
    "start_time": "2023-06-11T16:54:54.644Z"
   },
   {
    "duration": 621,
    "start_time": "2023-06-11T16:54:55.220Z"
   },
   {
    "duration": 192,
    "start_time": "2023-06-11T16:54:55.847Z"
   },
   {
    "duration": 67,
    "start_time": "2023-06-11T16:54:56.042Z"
   },
   {
    "duration": 100,
    "start_time": "2023-06-11T16:54:56.110Z"
   },
   {
    "duration": 46,
    "start_time": "2023-06-11T16:54:56.211Z"
   },
   {
    "duration": 378,
    "start_time": "2023-06-11T16:54:56.258Z"
   },
   {
    "duration": 494,
    "start_time": "2023-06-11T16:54:56.638Z"
   },
   {
    "duration": 527,
    "start_time": "2023-06-11T16:54:57.135Z"
   },
   {
    "duration": 458,
    "start_time": "2023-06-11T16:54:57.667Z"
   },
   {
    "duration": 34,
    "start_time": "2023-06-11T16:54:58.127Z"
   },
   {
    "duration": 78,
    "start_time": "2023-06-11T16:54:58.163Z"
   },
   {
    "duration": 44,
    "start_time": "2023-06-11T16:54:58.252Z"
   },
   {
    "duration": 29,
    "start_time": "2023-06-11T16:54:58.298Z"
   },
   {
    "duration": 441,
    "start_time": "2023-06-11T16:54:58.329Z"
   },
   {
    "duration": 338,
    "start_time": "2023-06-11T16:54:58.776Z"
   },
   {
    "duration": 37,
    "start_time": "2023-06-11T16:54:59.115Z"
   },
   {
    "duration": 508,
    "start_time": "2023-06-11T16:54:59.163Z"
   },
   {
    "duration": 543,
    "start_time": "2023-06-11T16:54:59.674Z"
   },
   {
    "duration": 29,
    "start_time": "2023-06-11T16:55:00.219Z"
   },
   {
    "duration": 51,
    "start_time": "2023-06-11T16:55:00.253Z"
   },
   {
    "duration": 24,
    "start_time": "2023-06-11T16:55:00.305Z"
   },
   {
    "duration": 56,
    "start_time": "2023-06-11T16:55:00.331Z"
   },
   {
    "duration": 27,
    "start_time": "2023-06-11T16:55:00.389Z"
   },
   {
    "duration": 458,
    "start_time": "2023-06-11T16:55:00.418Z"
   },
   {
    "duration": 19,
    "start_time": "2023-06-11T16:55:00.878Z"
   },
   {
    "duration": 414,
    "start_time": "2023-06-11T16:55:00.899Z"
   },
   {
    "duration": 15,
    "start_time": "2023-06-11T16:55:01.314Z"
   },
   {
    "duration": 85,
    "start_time": "2023-06-11T16:55:01.343Z"
   },
   {
    "duration": 71,
    "start_time": "2023-06-11T16:55:01.430Z"
   },
   {
    "duration": 37,
    "start_time": "2023-06-11T16:55:01.503Z"
   },
   {
    "duration": 292,
    "start_time": "2023-06-11T16:56:39.020Z"
   },
   {
    "duration": 125,
    "start_time": "2023-06-11T16:57:37.491Z"
   },
   {
    "duration": 260,
    "start_time": "2023-06-11T16:58:01.464Z"
   },
   {
    "duration": 111,
    "start_time": "2023-06-11T16:58:11.111Z"
   },
   {
    "duration": 5,
    "start_time": "2023-06-11T16:58:42.001Z"
   },
   {
    "duration": 264,
    "start_time": "2023-06-11T16:58:47.789Z"
   },
   {
    "duration": 5,
    "start_time": "2023-06-11T16:59:18.791Z"
   },
   {
    "duration": 269,
    "start_time": "2023-06-11T16:59:23.412Z"
   },
   {
    "duration": 55,
    "start_time": "2023-06-12T09:35:35.437Z"
   },
   {
    "duration": 48,
    "start_time": "2023-06-12T09:36:41.180Z"
   },
   {
    "duration": 46,
    "start_time": "2023-06-12T09:56:36.805Z"
   },
   {
    "duration": 418,
    "start_time": "2023-06-12T09:56:46.348Z"
   },
   {
    "duration": 13,
    "start_time": "2023-06-12T09:56:46.768Z"
   },
   {
    "duration": 2826,
    "start_time": "2023-06-12T09:56:46.785Z"
   },
   {
    "duration": 1059,
    "start_time": "2023-06-12T09:56:49.613Z"
   },
   {
    "duration": 451,
    "start_time": "2023-06-12T09:56:50.674Z"
   },
   {
    "duration": 436,
    "start_time": "2023-06-12T09:56:51.126Z"
   },
   {
    "duration": 222,
    "start_time": "2023-06-12T09:56:51.564Z"
   },
   {
    "duration": 41,
    "start_time": "2023-06-12T09:56:51.788Z"
   },
   {
    "duration": 97,
    "start_time": "2023-06-12T09:56:51.830Z"
   },
   {
    "duration": 25,
    "start_time": "2023-06-12T09:56:51.930Z"
   },
   {
    "duration": 431,
    "start_time": "2023-06-12T09:56:51.957Z"
   },
   {
    "duration": 417,
    "start_time": "2023-06-12T09:56:52.391Z"
   },
   {
    "duration": 421,
    "start_time": "2023-06-12T09:56:52.809Z"
   },
   {
    "duration": 363,
    "start_time": "2023-06-12T09:56:53.232Z"
   },
   {
    "duration": 15,
    "start_time": "2023-06-12T09:56:53.597Z"
   },
   {
    "duration": 63,
    "start_time": "2023-06-12T09:56:53.614Z"
   },
   {
    "duration": 15,
    "start_time": "2023-06-12T09:56:53.679Z"
   },
   {
    "duration": 23,
    "start_time": "2023-06-12T09:56:53.695Z"
   },
   {
    "duration": 327,
    "start_time": "2023-06-12T09:56:53.719Z"
   },
   {
    "duration": 359,
    "start_time": "2023-06-12T09:56:54.048Z"
   },
   {
    "duration": 18,
    "start_time": "2023-06-12T09:56:54.408Z"
   },
   {
    "duration": 375,
    "start_time": "2023-06-12T09:56:54.427Z"
   },
   {
    "duration": 379,
    "start_time": "2023-06-12T09:56:54.804Z"
   },
   {
    "duration": 15,
    "start_time": "2023-06-12T09:56:55.185Z"
   },
   {
    "duration": 21,
    "start_time": "2023-06-12T09:56:55.201Z"
   },
   {
    "duration": 16,
    "start_time": "2023-06-12T09:56:55.223Z"
   },
   {
    "duration": 41,
    "start_time": "2023-06-12T09:56:55.241Z"
   },
   {
    "duration": 13,
    "start_time": "2023-06-12T09:56:55.285Z"
   },
   {
    "duration": 360,
    "start_time": "2023-06-12T09:56:55.300Z"
   },
   {
    "duration": 23,
    "start_time": "2023-06-12T09:56:55.662Z"
   },
   {
    "duration": 233,
    "start_time": "2023-06-12T09:56:55.686Z"
   },
   {
    "duration": 13,
    "start_time": "2023-06-12T09:56:55.921Z"
   },
   {
    "duration": 20,
    "start_time": "2023-06-12T09:56:55.935Z"
   },
   {
    "duration": 32,
    "start_time": "2023-06-12T09:56:55.956Z"
   },
   {
    "duration": 4,
    "start_time": "2023-06-12T09:56:55.990Z"
   },
   {
    "duration": 241,
    "start_time": "2023-06-12T09:56:55.995Z"
   },
   {
    "duration": 2,
    "start_time": "2023-06-12T10:07:31.970Z"
   },
   {
    "duration": 17,
    "start_time": "2023-06-12T10:07:31.978Z"
   },
   {
    "duration": 760,
    "start_time": "2023-06-12T10:07:31.997Z"
   },
   {
    "duration": 1080,
    "start_time": "2023-06-12T10:07:32.759Z"
   },
   {
    "duration": 476,
    "start_time": "2023-06-12T10:07:33.841Z"
   },
   {
    "duration": 431,
    "start_time": "2023-06-12T10:07:34.321Z"
   },
   {
    "duration": 230,
    "start_time": "2023-06-12T10:07:34.755Z"
   },
   {
    "duration": 34,
    "start_time": "2023-06-12T10:07:34.987Z"
   },
   {
    "duration": 119,
    "start_time": "2023-06-12T10:07:35.023Z"
   },
   {
    "duration": 20,
    "start_time": "2023-06-12T10:07:35.175Z"
   },
   {
    "duration": 13,
    "start_time": "2023-06-12T10:07:35.196Z"
   },
   {
    "duration": 387,
    "start_time": "2023-06-12T10:07:35.210Z"
   },
   {
    "duration": 378,
    "start_time": "2023-06-12T10:07:35.599Z"
   },
   {
    "duration": 379,
    "start_time": "2023-06-12T10:07:35.979Z"
   },
   {
    "duration": 20,
    "start_time": "2023-06-12T10:07:36.362Z"
   },
   {
    "duration": 33,
    "start_time": "2023-06-12T10:07:36.383Z"
   },
   {
    "duration": 17,
    "start_time": "2023-06-12T10:07:36.418Z"
   },
   {
    "duration": 40,
    "start_time": "2023-06-12T10:07:36.436Z"
   },
   {
    "duration": 311,
    "start_time": "2023-06-12T10:07:36.478Z"
   },
   {
    "duration": 386,
    "start_time": "2023-06-12T10:07:36.791Z"
   },
   {
    "duration": 21,
    "start_time": "2023-06-12T10:07:37.179Z"
   },
   {
    "duration": 396,
    "start_time": "2023-06-12T10:07:37.201Z"
   },
   {
    "duration": 357,
    "start_time": "2023-06-12T10:07:37.599Z"
   },
   {
    "duration": 23,
    "start_time": "2023-06-12T10:07:37.958Z"
   },
   {
    "duration": 23,
    "start_time": "2023-06-12T10:07:37.983Z"
   },
   {
    "duration": 16,
    "start_time": "2023-06-12T10:07:38.008Z"
   },
   {
    "duration": 16,
    "start_time": "2023-06-12T10:07:38.026Z"
   },
   {
    "duration": 40,
    "start_time": "2023-06-12T10:07:38.044Z"
   },
   {
    "duration": 272,
    "start_time": "2023-06-12T10:07:38.087Z"
   },
   {
    "duration": 26,
    "start_time": "2023-06-12T10:07:38.361Z"
   },
   {
    "duration": 240,
    "start_time": "2023-06-12T10:07:38.389Z"
   },
   {
    "duration": 16,
    "start_time": "2023-06-12T10:07:38.631Z"
   },
   {
    "duration": 39,
    "start_time": "2023-06-12T10:07:38.649Z"
   },
   {
    "duration": 17,
    "start_time": "2023-06-12T10:07:38.690Z"
   },
   {
    "duration": 4,
    "start_time": "2023-06-12T10:07:38.708Z"
   },
   {
    "duration": 228,
    "start_time": "2023-06-12T10:07:38.714Z"
   },
   {
    "duration": 4,
    "start_time": "2023-06-12T10:10:16.919Z"
   },
   {
    "duration": 206,
    "start_time": "2023-06-12T10:10:19.423Z"
   },
   {
    "duration": 4,
    "start_time": "2023-06-12T10:10:28.417Z"
   },
   {
    "duration": 211,
    "start_time": "2023-06-12T10:10:30.921Z"
   },
   {
    "duration": 69,
    "start_time": "2023-06-12T11:08:53.397Z"
   },
   {
    "duration": 18,
    "start_time": "2023-06-12T11:09:00.247Z"
   },
   {
    "duration": 32,
    "start_time": "2023-06-12T11:09:26.443Z"
   },
   {
    "duration": 18,
    "start_time": "2023-06-12T11:17:58.875Z"
   },
   {
    "duration": 15,
    "start_time": "2023-06-12T11:18:35.254Z"
   },
   {
    "duration": 28,
    "start_time": "2023-06-12T11:20:15.243Z"
   },
   {
    "duration": 30,
    "start_time": "2023-06-12T11:21:18.086Z"
   },
   {
    "duration": 9,
    "start_time": "2023-06-12T11:22:15.212Z"
   },
   {
    "duration": 28,
    "start_time": "2023-06-12T11:22:43.855Z"
   },
   {
    "duration": 35,
    "start_time": "2023-06-12T12:26:43.391Z"
   },
   {
    "duration": 17,
    "start_time": "2023-06-12T12:27:55.646Z"
   },
   {
    "duration": 21,
    "start_time": "2023-06-12T12:28:04.080Z"
   },
   {
    "duration": 28,
    "start_time": "2023-06-12T12:28:19.238Z"
   },
   {
    "duration": 22,
    "start_time": "2023-06-12T12:28:30.572Z"
   },
   {
    "duration": 22,
    "start_time": "2023-06-12T12:28:35.303Z"
   },
   {
    "duration": 56,
    "start_time": "2023-06-12T12:28:55.581Z"
   },
   {
    "duration": 90,
    "start_time": "2023-06-12T12:29:02.611Z"
   },
   {
    "duration": 17,
    "start_time": "2023-06-12T12:30:21.035Z"
   },
   {
    "duration": 17,
    "start_time": "2023-06-12T12:30:30.549Z"
   },
   {
    "duration": 37,
    "start_time": "2023-06-12T12:36:39.437Z"
   },
   {
    "duration": 19,
    "start_time": "2023-06-12T12:39:13.964Z"
   },
   {
    "duration": 15,
    "start_time": "2023-06-12T12:39:45.407Z"
   },
   {
    "duration": 29,
    "start_time": "2023-06-12T12:41:05.712Z"
   },
   {
    "duration": 16,
    "start_time": "2023-06-12T12:50:59.181Z"
   },
   {
    "duration": 15,
    "start_time": "2023-06-12T12:51:13.756Z"
   },
   {
    "duration": 30,
    "start_time": "2023-06-12T12:51:59.318Z"
   },
   {
    "duration": 29,
    "start_time": "2023-06-12T12:52:08.983Z"
   },
   {
    "duration": 15,
    "start_time": "2023-06-12T12:58:11.379Z"
   },
   {
    "duration": 15,
    "start_time": "2023-06-12T12:58:13.057Z"
   },
   {
    "duration": 30,
    "start_time": "2023-06-12T12:59:14.426Z"
   },
   {
    "duration": 15,
    "start_time": "2023-06-12T13:00:52.804Z"
   },
   {
    "duration": 15,
    "start_time": "2023-06-12T13:00:55.161Z"
   },
   {
    "duration": 185,
    "start_time": "2023-06-12T13:01:10.400Z"
   },
   {
    "duration": 80,
    "start_time": "2023-06-12T13:02:03.326Z"
   },
   {
    "duration": 90,
    "start_time": "2023-06-12T13:02:12.768Z"
   },
   {
    "duration": 7,
    "start_time": "2023-06-12T13:14:38.824Z"
   },
   {
    "duration": 564,
    "start_time": "2023-06-12T13:16:03.166Z"
   },
   {
    "duration": 457,
    "start_time": "2023-06-12T13:16:25.513Z"
   },
   {
    "duration": 418,
    "start_time": "2023-06-12T13:16:34.609Z"
   },
   {
    "duration": 394,
    "start_time": "2023-06-12T13:17:44.904Z"
   },
   {
    "duration": 454,
    "start_time": "2023-06-12T13:17:54.354Z"
   },
   {
    "duration": 3,
    "start_time": "2023-06-12T14:28:04.626Z"
   },
   {
    "duration": 39,
    "start_time": "2023-06-12T14:28:06.954Z"
   },
   {
    "duration": 19,
    "start_time": "2023-06-12T14:28:51.710Z"
   },
   {
    "duration": 331,
    "start_time": "2023-06-12T14:29:25.645Z"
   },
   {
    "duration": 183,
    "start_time": "2023-06-12T14:30:13.536Z"
   },
   {
    "duration": 47,
    "start_time": "2023-06-12T14:30:29.599Z"
   },
   {
    "duration": 425,
    "start_time": "2023-06-12T14:30:40.716Z"
   },
   {
    "duration": 70,
    "start_time": "2023-06-12T14:30:48.156Z"
   },
   {
    "duration": 324,
    "start_time": "2023-06-12T14:31:38.303Z"
   },
   {
    "duration": 144,
    "start_time": "2023-06-12T14:32:04.997Z"
   },
   {
    "duration": 1462,
    "start_time": "2023-06-12T14:53:59.751Z"
   },
   {
    "duration": 4,
    "start_time": "2023-06-12T14:54:01.215Z"
   },
   {
    "duration": 847,
    "start_time": "2023-06-12T14:54:01.220Z"
   },
   {
    "duration": 1075,
    "start_time": "2023-06-12T14:54:02.068Z"
   },
   {
    "duration": 439,
    "start_time": "2023-06-12T14:54:03.144Z"
   },
   {
    "duration": 489,
    "start_time": "2023-06-12T14:54:03.586Z"
   },
   {
    "duration": 220,
    "start_time": "2023-06-12T14:54:04.077Z"
   },
   {
    "duration": 41,
    "start_time": "2023-06-12T14:54:04.298Z"
   },
   {
    "duration": 102,
    "start_time": "2023-06-12T14:54:04.341Z"
   },
   {
    "duration": 32,
    "start_time": "2023-06-12T14:54:04.444Z"
   },
   {
    "duration": 50,
    "start_time": "2023-06-12T14:54:04.478Z"
   },
   {
    "duration": 436,
    "start_time": "2023-06-12T14:54:04.529Z"
   },
   {
    "duration": 464,
    "start_time": "2023-06-12T14:54:04.967Z"
   },
   {
    "duration": 373,
    "start_time": "2023-06-12T14:54:05.434Z"
   },
   {
    "duration": 15,
    "start_time": "2023-06-12T14:54:05.809Z"
   },
   {
    "duration": 51,
    "start_time": "2023-06-12T14:54:05.826Z"
   },
   {
    "duration": 15,
    "start_time": "2023-06-12T14:54:05.879Z"
   },
   {
    "duration": 14,
    "start_time": "2023-06-12T14:54:05.895Z"
   },
   {
    "duration": 333,
    "start_time": "2023-06-12T14:54:05.910Z"
   },
   {
    "duration": 295,
    "start_time": "2023-06-12T14:54:06.244Z"
   },
   {
    "duration": 19,
    "start_time": "2023-06-12T14:54:06.541Z"
   },
   {
    "duration": 371,
    "start_time": "2023-06-12T14:54:06.561Z"
   },
   {
    "duration": 351,
    "start_time": "2023-06-12T14:54:06.933Z"
   },
   {
    "duration": 14,
    "start_time": "2023-06-12T14:54:07.285Z"
   },
   {
    "duration": 19,
    "start_time": "2023-06-12T14:54:07.301Z"
   },
   {
    "duration": 16,
    "start_time": "2023-06-12T14:54:07.322Z"
   },
   {
    "duration": 41,
    "start_time": "2023-06-12T14:54:07.340Z"
   },
   {
    "duration": 13,
    "start_time": "2023-06-12T14:54:07.382Z"
   },
   {
    "duration": 298,
    "start_time": "2023-06-12T14:54:07.397Z"
   },
   {
    "duration": 14,
    "start_time": "2023-06-12T14:54:07.696Z"
   },
   {
    "duration": 298,
    "start_time": "2023-06-12T14:54:07.712Z"
   },
   {
    "duration": 21,
    "start_time": "2023-06-12T14:54:08.012Z"
   },
   {
    "duration": 21,
    "start_time": "2023-06-12T14:54:08.035Z"
   },
   {
    "duration": 32,
    "start_time": "2023-06-12T14:54:08.058Z"
   },
   {
    "duration": 4,
    "start_time": "2023-06-12T14:54:08.091Z"
   },
   {
    "duration": 221,
    "start_time": "2023-06-12T14:54:08.097Z"
   },
   {
    "duration": 32,
    "start_time": "2023-06-12T14:54:08.320Z"
   },
   {
    "duration": 32,
    "start_time": "2023-06-12T14:54:08.354Z"
   },
   {
    "duration": 28,
    "start_time": "2023-06-12T14:54:08.387Z"
   },
   {
    "duration": 31,
    "start_time": "2023-06-12T14:54:08.416Z"
   },
   {
    "duration": 38,
    "start_time": "2023-06-12T14:54:08.452Z"
   },
   {
    "duration": 20,
    "start_time": "2023-06-12T14:54:08.492Z"
   },
   {
    "duration": 18,
    "start_time": "2023-06-12T14:54:08.514Z"
   },
   {
    "duration": 47,
    "start_time": "2023-06-12T14:54:08.534Z"
   },
   {
    "duration": 16,
    "start_time": "2023-06-12T14:54:08.583Z"
   },
   {
    "duration": 15,
    "start_time": "2023-06-12T14:54:08.600Z"
   },
   {
    "duration": 31,
    "start_time": "2023-06-12T14:54:08.616Z"
   },
   {
    "duration": 37,
    "start_time": "2023-06-12T14:54:08.649Z"
   },
   {
    "duration": 15,
    "start_time": "2023-06-12T14:54:08.688Z"
   },
   {
    "duration": 30,
    "start_time": "2023-06-12T14:54:08.705Z"
   },
   {
    "duration": 16,
    "start_time": "2023-06-12T14:54:08.736Z"
   },
   {
    "duration": 16,
    "start_time": "2023-06-12T14:54:08.774Z"
   },
   {
    "duration": 71,
    "start_time": "2023-06-12T14:54:08.792Z"
   },
   {
    "duration": 436,
    "start_time": "2023-06-12T14:54:08.875Z"
   },
   {
    "duration": 51,
    "start_time": "2023-06-12T14:54:09.313Z"
   },
   {
    "duration": 0,
    "start_time": "2023-06-12T14:54:09.366Z"
   },
   {
    "duration": 0,
    "start_time": "2023-06-12T14:54:09.367Z"
   },
   {
    "duration": 0,
    "start_time": "2023-06-12T14:54:09.369Z"
   },
   {
    "duration": 0,
    "start_time": "2023-06-12T14:54:09.370Z"
   },
   {
    "duration": 0,
    "start_time": "2023-06-12T14:54:09.371Z"
   },
   {
    "duration": 1391,
    "start_time": "2023-06-12T14:55:33.976Z"
   },
   {
    "duration": 3,
    "start_time": "2023-06-12T14:55:35.369Z"
   },
   {
    "duration": 867,
    "start_time": "2023-06-12T14:55:35.373Z"
   },
   {
    "duration": 1236,
    "start_time": "2023-06-12T14:55:36.244Z"
   },
   {
    "duration": 481,
    "start_time": "2023-06-12T14:55:37.482Z"
   },
   {
    "duration": 558,
    "start_time": "2023-06-12T14:55:37.965Z"
   },
   {
    "duration": 212,
    "start_time": "2023-06-12T14:55:38.525Z"
   },
   {
    "duration": 59,
    "start_time": "2023-06-12T14:55:38.739Z"
   },
   {
    "duration": 102,
    "start_time": "2023-06-12T14:55:38.800Z"
   },
   {
    "duration": 15,
    "start_time": "2023-06-12T14:55:38.906Z"
   },
   {
    "duration": 69,
    "start_time": "2023-06-12T14:55:38.923Z"
   },
   {
    "duration": 443,
    "start_time": "2023-06-12T14:55:38.994Z"
   },
   {
    "duration": 470,
    "start_time": "2023-06-12T14:55:39.439Z"
   },
   {
    "duration": 410,
    "start_time": "2023-06-12T14:55:39.911Z"
   },
   {
    "duration": 18,
    "start_time": "2023-06-12T14:55:40.323Z"
   },
   {
    "duration": 70,
    "start_time": "2023-06-12T14:55:40.344Z"
   },
   {
    "duration": 22,
    "start_time": "2023-06-12T14:55:40.416Z"
   },
   {
    "duration": 16,
    "start_time": "2023-06-12T14:55:40.440Z"
   },
   {
    "duration": 391,
    "start_time": "2023-06-12T14:55:40.474Z"
   },
   {
    "duration": 309,
    "start_time": "2023-06-12T14:55:40.868Z"
   },
   {
    "duration": 20,
    "start_time": "2023-06-12T14:55:41.179Z"
   },
   {
    "duration": 463,
    "start_time": "2023-06-12T14:55:41.200Z"
   },
   {
    "duration": 399,
    "start_time": "2023-06-12T14:55:41.664Z"
   },
   {
    "duration": 24,
    "start_time": "2023-06-12T14:55:42.064Z"
   },
   {
    "duration": 24,
    "start_time": "2023-06-12T14:55:42.090Z"
   },
   {
    "duration": 17,
    "start_time": "2023-06-12T14:55:42.116Z"
   },
   {
    "duration": 44,
    "start_time": "2023-06-12T14:55:42.135Z"
   },
   {
    "duration": 14,
    "start_time": "2023-06-12T14:55:42.182Z"
   },
   {
    "duration": 284,
    "start_time": "2023-06-12T14:55:42.198Z"
   },
   {
    "duration": 15,
    "start_time": "2023-06-12T14:55:42.483Z"
   },
   {
    "duration": 315,
    "start_time": "2023-06-12T14:55:42.500Z"
   },
   {
    "duration": 13,
    "start_time": "2023-06-12T14:55:42.817Z"
   },
   {
    "duration": 21,
    "start_time": "2023-06-12T14:55:42.831Z"
   },
   {
    "duration": 29,
    "start_time": "2023-06-12T14:55:42.854Z"
   },
   {
    "duration": 4,
    "start_time": "2023-06-12T14:55:42.885Z"
   },
   {
    "duration": 226,
    "start_time": "2023-06-12T14:55:42.891Z"
   },
   {
    "duration": 33,
    "start_time": "2023-06-12T14:55:43.119Z"
   },
   {
    "duration": 41,
    "start_time": "2023-06-12T14:55:43.154Z"
   },
   {
    "duration": 30,
    "start_time": "2023-06-12T14:55:43.197Z"
   },
   {
    "duration": 49,
    "start_time": "2023-06-12T14:55:43.229Z"
   },
   {
    "duration": 29,
    "start_time": "2023-06-12T14:55:43.279Z"
   },
   {
    "duration": 21,
    "start_time": "2023-06-12T14:55:43.310Z"
   },
   {
    "duration": 18,
    "start_time": "2023-06-12T14:55:43.333Z"
   },
   {
    "duration": 51,
    "start_time": "2023-06-12T14:55:43.352Z"
   },
   {
    "duration": 21,
    "start_time": "2023-06-12T14:55:43.405Z"
   },
   {
    "duration": 17,
    "start_time": "2023-06-12T14:55:43.428Z"
   },
   {
    "duration": 52,
    "start_time": "2023-06-12T14:55:43.447Z"
   },
   {
    "duration": 17,
    "start_time": "2023-06-12T14:55:43.501Z"
   },
   {
    "duration": 14,
    "start_time": "2023-06-12T14:55:43.519Z"
   },
   {
    "duration": 48,
    "start_time": "2023-06-12T14:55:43.535Z"
   },
   {
    "duration": 16,
    "start_time": "2023-06-12T14:55:43.584Z"
   },
   {
    "duration": 17,
    "start_time": "2023-06-12T14:55:43.602Z"
   },
   {
    "duration": 86,
    "start_time": "2023-06-12T14:55:43.620Z"
   },
   {
    "duration": 515,
    "start_time": "2023-06-12T14:55:43.708Z"
   },
   {
    "duration": 429,
    "start_time": "2023-06-12T14:55:44.224Z"
   },
   {
    "duration": 3,
    "start_time": "2023-06-12T14:55:44.655Z"
   },
   {
    "duration": 95,
    "start_time": "2023-06-12T14:55:44.659Z"
   },
   {
    "duration": 389,
    "start_time": "2023-06-12T14:55:44.756Z"
   },
   {
    "duration": 169,
    "start_time": "2023-06-12T14:55:45.147Z"
   },
   {
    "duration": 16,
    "start_time": "2023-06-12T15:06:36.349Z"
   },
   {
    "duration": 7,
    "start_time": "2023-06-12T15:07:20.340Z"
   },
   {
    "duration": 4,
    "start_time": "2023-06-12T15:10:27.422Z"
   },
   {
    "duration": 4,
    "start_time": "2023-06-12T15:10:27.427Z"
   },
   {
    "duration": 859,
    "start_time": "2023-06-12T15:10:27.433Z"
   },
   {
    "duration": 1146,
    "start_time": "2023-06-12T15:10:28.294Z"
   },
   {
    "duration": 409,
    "start_time": "2023-06-12T15:10:29.442Z"
   },
   {
    "duration": 422,
    "start_time": "2023-06-12T15:10:29.852Z"
   },
   {
    "duration": 189,
    "start_time": "2023-06-12T15:10:30.276Z"
   },
   {
    "duration": 44,
    "start_time": "2023-06-12T15:10:30.467Z"
   },
   {
    "duration": 118,
    "start_time": "2023-06-12T15:10:30.513Z"
   },
   {
    "duration": 52,
    "start_time": "2023-06-12T15:10:30.632Z"
   },
   {
    "duration": 34,
    "start_time": "2023-06-12T15:10:30.686Z"
   },
   {
    "duration": 441,
    "start_time": "2023-06-12T15:10:30.722Z"
   },
   {
    "duration": 371,
    "start_time": "2023-06-12T15:10:31.165Z"
   },
   {
    "duration": 410,
    "start_time": "2023-06-12T15:10:31.539Z"
   },
   {
    "duration": 14,
    "start_time": "2023-06-12T15:10:31.951Z"
   },
   {
    "duration": 42,
    "start_time": "2023-06-12T15:10:31.966Z"
   },
   {
    "duration": 15,
    "start_time": "2023-06-12T15:10:32.010Z"
   },
   {
    "duration": 11,
    "start_time": "2023-06-12T15:10:32.026Z"
   },
   {
    "duration": 308,
    "start_time": "2023-06-12T15:10:32.038Z"
   },
   {
    "duration": 379,
    "start_time": "2023-06-12T15:10:32.348Z"
   },
   {
    "duration": 19,
    "start_time": "2023-06-12T15:10:32.728Z"
   },
   {
    "duration": 355,
    "start_time": "2023-06-12T15:10:32.748Z"
   },
   {
    "duration": 340,
    "start_time": "2023-06-12T15:10:33.105Z"
   },
   {
    "duration": 14,
    "start_time": "2023-06-12T15:10:33.447Z"
   },
   {
    "duration": 26,
    "start_time": "2023-06-12T15:10:33.462Z"
   },
   {
    "duration": 17,
    "start_time": "2023-06-12T15:10:33.490Z"
   },
   {
    "duration": 26,
    "start_time": "2023-06-12T15:10:33.509Z"
   },
   {
    "duration": 15,
    "start_time": "2023-06-12T15:10:33.537Z"
   },
   {
    "duration": 277,
    "start_time": "2023-06-12T15:10:33.554Z"
   },
   {
    "duration": 14,
    "start_time": "2023-06-12T15:10:33.832Z"
   },
   {
    "duration": 261,
    "start_time": "2023-06-12T15:10:33.847Z"
   },
   {
    "duration": 15,
    "start_time": "2023-06-12T15:10:34.109Z"
   },
   {
    "duration": 30,
    "start_time": "2023-06-12T15:10:34.126Z"
   },
   {
    "duration": 32,
    "start_time": "2023-06-12T15:10:34.158Z"
   },
   {
    "duration": 5,
    "start_time": "2023-06-12T15:10:34.193Z"
   },
   {
    "duration": 297,
    "start_time": "2023-06-12T15:10:34.200Z"
   },
   {
    "duration": 28,
    "start_time": "2023-06-12T15:10:34.499Z"
   },
   {
    "duration": 23,
    "start_time": "2023-06-12T15:10:34.529Z"
   },
   {
    "duration": 23,
    "start_time": "2023-06-12T15:10:34.554Z"
   },
   {
    "duration": 27,
    "start_time": "2023-06-12T15:10:34.579Z"
   },
   {
    "duration": 26,
    "start_time": "2023-06-12T15:10:34.610Z"
   },
   {
    "duration": 41,
    "start_time": "2023-06-12T15:10:34.638Z"
   },
   {
    "duration": 15,
    "start_time": "2023-06-12T15:10:34.680Z"
   },
   {
    "duration": 36,
    "start_time": "2023-06-12T15:10:34.697Z"
   },
   {
    "duration": 24,
    "start_time": "2023-06-12T15:10:34.735Z"
   },
   {
    "duration": 21,
    "start_time": "2023-06-12T15:10:34.761Z"
   },
   {
    "duration": 31,
    "start_time": "2023-06-12T15:10:34.783Z"
   },
   {
    "duration": 21,
    "start_time": "2023-06-12T15:10:34.816Z"
   },
   {
    "duration": 19,
    "start_time": "2023-06-12T15:10:34.839Z"
   },
   {
    "duration": 40,
    "start_time": "2023-06-12T15:10:34.860Z"
   },
   {
    "duration": 20,
    "start_time": "2023-06-12T15:10:34.901Z"
   },
   {
    "duration": 18,
    "start_time": "2023-06-12T15:10:34.923Z"
   },
   {
    "duration": 84,
    "start_time": "2023-06-12T15:10:34.943Z"
   },
   {
    "duration": 412,
    "start_time": "2023-06-12T15:10:35.029Z"
   },
   {
    "duration": 345,
    "start_time": "2023-06-12T15:10:35.443Z"
   },
   {
    "duration": 2,
    "start_time": "2023-06-12T15:10:35.790Z"
   },
   {
    "duration": 82,
    "start_time": "2023-06-12T15:10:35.794Z"
   },
   {
    "duration": 326,
    "start_time": "2023-06-12T15:10:35.878Z"
   },
   {
    "duration": 221,
    "start_time": "2023-06-12T15:10:36.206Z"
   },
   {
    "duration": 13,
    "start_time": "2023-06-12T15:10:36.429Z"
   },
   {
    "duration": 7,
    "start_time": "2023-06-12T15:10:36.444Z"
   },
   {
    "duration": 24,
    "start_time": "2023-06-12T15:13:08.697Z"
   },
   {
    "duration": 10,
    "start_time": "2023-06-12T15:17:12.017Z"
   },
   {
    "duration": 119,
    "start_time": "2023-06-12T15:17:15.485Z"
   },
   {
    "duration": 1468,
    "start_time": "2023-06-12T15:31:19.797Z"
   },
   {
    "duration": 3,
    "start_time": "2023-06-12T15:31:21.267Z"
   },
   {
    "duration": 821,
    "start_time": "2023-06-12T15:31:21.272Z"
   },
   {
    "duration": 1112,
    "start_time": "2023-06-12T15:31:22.096Z"
   },
   {
    "duration": 437,
    "start_time": "2023-06-12T15:31:23.210Z"
   },
   {
    "duration": 481,
    "start_time": "2023-06-12T15:31:23.648Z"
   },
   {
    "duration": 264,
    "start_time": "2023-06-12T15:31:24.131Z"
   },
   {
    "duration": 36,
    "start_time": "2023-06-12T15:31:24.398Z"
   },
   {
    "duration": 90,
    "start_time": "2023-06-12T15:31:24.436Z"
   },
   {
    "duration": 16,
    "start_time": "2023-06-12T15:31:24.528Z"
   },
   {
    "duration": 70,
    "start_time": "2023-06-12T15:31:24.545Z"
   },
   {
    "duration": 456,
    "start_time": "2023-06-12T15:31:24.617Z"
   },
   {
    "duration": 455,
    "start_time": "2023-06-12T15:31:25.082Z"
   },
   {
    "duration": 378,
    "start_time": "2023-06-12T15:31:25.539Z"
   },
   {
    "duration": 14,
    "start_time": "2023-06-12T15:31:25.919Z"
   },
   {
    "duration": 52,
    "start_time": "2023-06-12T15:31:25.935Z"
   },
   {
    "duration": 17,
    "start_time": "2023-06-12T15:31:25.988Z"
   },
   {
    "duration": 12,
    "start_time": "2023-06-12T15:31:26.006Z"
   },
   {
    "duration": 374,
    "start_time": "2023-06-12T15:31:26.019Z"
   },
   {
    "duration": 299,
    "start_time": "2023-06-12T15:31:26.395Z"
   },
   {
    "duration": 17,
    "start_time": "2023-06-12T15:31:26.696Z"
   },
   {
    "duration": 395,
    "start_time": "2023-06-12T15:31:26.715Z"
   },
   {
    "duration": 353,
    "start_time": "2023-06-12T15:31:27.112Z"
   },
   {
    "duration": 21,
    "start_time": "2023-06-12T15:31:27.467Z"
   },
   {
    "duration": 25,
    "start_time": "2023-06-12T15:31:27.491Z"
   },
   {
    "duration": 16,
    "start_time": "2023-06-12T15:31:27.518Z"
   },
   {
    "duration": 16,
    "start_time": "2023-06-12T15:31:27.535Z"
   },
   {
    "duration": 44,
    "start_time": "2023-06-12T15:31:27.555Z"
   },
   {
    "duration": 303,
    "start_time": "2023-06-12T15:31:27.601Z"
   },
   {
    "duration": 15,
    "start_time": "2023-06-12T15:31:27.905Z"
   },
   {
    "duration": 331,
    "start_time": "2023-06-12T15:31:27.921Z"
   },
   {
    "duration": 22,
    "start_time": "2023-06-12T15:31:28.254Z"
   },
   {
    "duration": 21,
    "start_time": "2023-06-12T15:31:28.278Z"
   },
   {
    "duration": 17,
    "start_time": "2023-06-12T15:31:28.301Z"
   },
   {
    "duration": 4,
    "start_time": "2023-06-12T15:31:28.320Z"
   },
   {
    "duration": 241,
    "start_time": "2023-06-12T15:31:28.326Z"
   },
   {
    "duration": 37,
    "start_time": "2023-06-12T15:31:28.569Z"
   },
   {
    "duration": 16,
    "start_time": "2023-06-12T15:31:28.608Z"
   },
   {
    "duration": 17,
    "start_time": "2023-06-12T15:31:28.625Z"
   },
   {
    "duration": 57,
    "start_time": "2023-06-12T15:31:28.644Z"
   },
   {
    "duration": 29,
    "start_time": "2023-06-12T15:31:28.702Z"
   },
   {
    "duration": 25,
    "start_time": "2023-06-12T15:31:28.733Z"
   },
   {
    "duration": 36,
    "start_time": "2023-06-12T15:31:28.760Z"
   },
   {
    "duration": 30,
    "start_time": "2023-06-12T15:31:28.798Z"
   },
   {
    "duration": 16,
    "start_time": "2023-06-12T15:31:28.829Z"
   },
   {
    "duration": 41,
    "start_time": "2023-06-12T15:31:28.847Z"
   },
   {
    "duration": 30,
    "start_time": "2023-06-12T15:31:28.890Z"
   },
   {
    "duration": 26,
    "start_time": "2023-06-12T15:31:28.922Z"
   },
   {
    "duration": 23,
    "start_time": "2023-06-12T15:31:28.950Z"
   },
   {
    "duration": 40,
    "start_time": "2023-06-12T15:31:28.975Z"
   },
   {
    "duration": 15,
    "start_time": "2023-06-12T15:31:29.016Z"
   },
   {
    "duration": 14,
    "start_time": "2023-06-12T15:31:29.033Z"
   },
   {
    "duration": 90,
    "start_time": "2023-06-12T15:31:29.048Z"
   },
   {
    "duration": 427,
    "start_time": "2023-06-12T15:31:29.139Z"
   },
   {
    "duration": 336,
    "start_time": "2023-06-12T15:31:29.568Z"
   },
   {
    "duration": 3,
    "start_time": "2023-06-12T15:31:29.905Z"
   },
   {
    "duration": 85,
    "start_time": "2023-06-12T15:31:29.909Z"
   },
   {
    "duration": 337,
    "start_time": "2023-06-12T15:31:29.996Z"
   },
   {
    "duration": 157,
    "start_time": "2023-06-12T15:31:30.334Z"
   },
   {
    "duration": 16,
    "start_time": "2023-06-12T15:31:30.502Z"
   },
   {
    "duration": 42,
    "start_time": "2023-06-12T15:31:30.519Z"
   },
   {
    "duration": 78,
    "start_time": "2023-06-12T15:31:30.563Z"
   },
   {
    "duration": 47,
    "start_time": "2023-06-12T15:31:30.643Z"
   },
   {
    "duration": 152,
    "start_time": "2023-06-12T15:31:30.692Z"
   },
   {
    "duration": 1069,
    "start_time": "2023-06-12T15:33:50.848Z"
   },
   {
    "duration": 1507,
    "start_time": "2023-06-12T15:35:51.788Z"
   },
   {
    "duration": 4,
    "start_time": "2023-06-12T15:35:53.298Z"
   },
   {
    "duration": 2964,
    "start_time": "2023-06-12T15:35:53.305Z"
   },
   {
    "duration": 1185,
    "start_time": "2023-06-12T15:35:56.271Z"
   },
   {
    "duration": 510,
    "start_time": "2023-06-12T15:35:57.458Z"
   },
   {
    "duration": 509,
    "start_time": "2023-06-12T15:35:57.969Z"
   },
   {
    "duration": 197,
    "start_time": "2023-06-12T15:35:58.480Z"
   },
   {
    "duration": 41,
    "start_time": "2023-06-12T15:35:58.678Z"
   },
   {
    "duration": 100,
    "start_time": "2023-06-12T15:35:58.720Z"
   },
   {
    "duration": 16,
    "start_time": "2023-06-12T15:35:58.821Z"
   },
   {
    "duration": 68,
    "start_time": "2023-06-12T15:35:58.838Z"
   },
   {
    "duration": 393,
    "start_time": "2023-06-12T15:35:58.907Z"
   },
   {
    "duration": 444,
    "start_time": "2023-06-12T15:35:59.301Z"
   },
   {
    "duration": 356,
    "start_time": "2023-06-12T15:35:59.748Z"
   },
   {
    "duration": 16,
    "start_time": "2023-06-12T15:36:00.105Z"
   },
   {
    "duration": 55,
    "start_time": "2023-06-12T15:36:00.122Z"
   },
   {
    "duration": 16,
    "start_time": "2023-06-12T15:36:00.178Z"
   },
   {
    "duration": 21,
    "start_time": "2023-06-12T15:36:00.196Z"
   },
   {
    "duration": 320,
    "start_time": "2023-06-12T15:36:00.219Z"
   },
   {
    "duration": 296,
    "start_time": "2023-06-12T15:36:00.541Z"
   },
   {
    "duration": 19,
    "start_time": "2023-06-12T15:36:00.839Z"
   },
   {
    "duration": 380,
    "start_time": "2023-06-12T15:36:00.859Z"
   },
   {
    "duration": 337,
    "start_time": "2023-06-12T15:36:01.241Z"
   },
   {
    "duration": 15,
    "start_time": "2023-06-12T15:36:01.580Z"
   },
   {
    "duration": 59,
    "start_time": "2023-06-12T15:36:01.597Z"
   },
   {
    "duration": 21,
    "start_time": "2023-06-12T15:36:01.658Z"
   },
   {
    "duration": 44,
    "start_time": "2023-06-12T15:36:01.681Z"
   },
   {
    "duration": 76,
    "start_time": "2023-06-12T15:36:01.727Z"
   },
   {
    "duration": 303,
    "start_time": "2023-06-12T15:36:01.804Z"
   },
   {
    "duration": 13,
    "start_time": "2023-06-12T15:36:02.109Z"
   },
   {
    "duration": 325,
    "start_time": "2023-06-12T15:36:02.123Z"
   },
   {
    "duration": 13,
    "start_time": "2023-06-12T15:36:02.449Z"
   },
   {
    "duration": 36,
    "start_time": "2023-06-12T15:36:02.463Z"
   },
   {
    "duration": 25,
    "start_time": "2023-06-12T15:36:02.501Z"
   },
   {
    "duration": 4,
    "start_time": "2023-06-12T15:36:02.527Z"
   },
   {
    "duration": 223,
    "start_time": "2023-06-12T15:36:02.532Z"
   },
   {
    "duration": 32,
    "start_time": "2023-06-12T15:36:02.756Z"
   },
   {
    "duration": 32,
    "start_time": "2023-06-12T15:36:02.790Z"
   },
   {
    "duration": 24,
    "start_time": "2023-06-12T15:36:02.823Z"
   },
   {
    "duration": 36,
    "start_time": "2023-06-12T15:36:02.849Z"
   },
   {
    "duration": 31,
    "start_time": "2023-06-12T15:36:02.889Z"
   },
   {
    "duration": 50,
    "start_time": "2023-06-12T15:36:02.921Z"
   },
   {
    "duration": 25,
    "start_time": "2023-06-12T15:36:02.972Z"
   },
   {
    "duration": 46,
    "start_time": "2023-06-12T15:36:02.999Z"
   },
   {
    "duration": 18,
    "start_time": "2023-06-12T15:36:03.046Z"
   },
   {
    "duration": 27,
    "start_time": "2023-06-12T15:36:03.066Z"
   },
   {
    "duration": 41,
    "start_time": "2023-06-12T15:36:03.095Z"
   },
   {
    "duration": 19,
    "start_time": "2023-06-12T15:36:03.138Z"
   },
   {
    "duration": 24,
    "start_time": "2023-06-12T15:36:03.159Z"
   },
   {
    "duration": 64,
    "start_time": "2023-06-12T15:36:03.185Z"
   },
   {
    "duration": 46,
    "start_time": "2023-06-12T15:36:03.250Z"
   },
   {
    "duration": 20,
    "start_time": "2023-06-12T15:36:03.297Z"
   },
   {
    "duration": 164,
    "start_time": "2023-06-12T15:36:03.319Z"
   },
   {
    "duration": 423,
    "start_time": "2023-06-12T15:36:03.485Z"
   },
   {
    "duration": 396,
    "start_time": "2023-06-12T15:36:03.910Z"
   },
   {
    "duration": 2,
    "start_time": "2023-06-12T15:36:04.307Z"
   },
   {
    "duration": 81,
    "start_time": "2023-06-12T15:36:04.311Z"
   },
   {
    "duration": 302,
    "start_time": "2023-06-12T15:36:04.394Z"
   },
   {
    "duration": 152,
    "start_time": "2023-06-12T15:36:04.698Z"
   },
   {
    "duration": 24,
    "start_time": "2023-06-12T15:36:04.852Z"
   },
   {
    "duration": 27,
    "start_time": "2023-06-12T15:36:04.878Z"
   },
   {
    "duration": 61,
    "start_time": "2023-06-12T15:36:04.906Z"
   },
   {
    "duration": 21,
    "start_time": "2023-06-12T15:36:04.969Z"
   },
   {
    "duration": 48,
    "start_time": "2023-06-12T15:42:54.690Z"
   },
   {
    "duration": 1412,
    "start_time": "2023-06-12T15:43:02.532Z"
   },
   {
    "duration": 3,
    "start_time": "2023-06-12T15:43:03.947Z"
   },
   {
    "duration": 2787,
    "start_time": "2023-06-12T15:43:03.952Z"
   },
   {
    "duration": 1319,
    "start_time": "2023-06-12T15:43:06.741Z"
   },
   {
    "duration": 492,
    "start_time": "2023-06-12T15:43:08.062Z"
   },
   {
    "duration": 431,
    "start_time": "2023-06-12T15:43:08.556Z"
   },
   {
    "duration": 189,
    "start_time": "2023-06-12T15:43:08.989Z"
   },
   {
    "duration": 31,
    "start_time": "2023-06-12T15:43:09.180Z"
   },
   {
    "duration": 94,
    "start_time": "2023-06-12T15:43:09.212Z"
   },
   {
    "duration": 145,
    "start_time": "2023-06-12T15:43:09.308Z"
   },
   {
    "duration": 50,
    "start_time": "2023-06-12T15:43:09.455Z"
   },
   {
    "duration": 396,
    "start_time": "2023-06-12T15:43:09.507Z"
   },
   {
    "duration": 462,
    "start_time": "2023-06-12T15:43:09.905Z"
   },
   {
    "duration": 372,
    "start_time": "2023-06-12T15:43:10.370Z"
   },
   {
    "duration": 15,
    "start_time": "2023-06-12T15:43:10.743Z"
   },
   {
    "duration": 48,
    "start_time": "2023-06-12T15:43:10.760Z"
   },
   {
    "duration": 15,
    "start_time": "2023-06-12T15:43:10.810Z"
   },
   {
    "duration": 11,
    "start_time": "2023-06-12T15:43:10.826Z"
   },
   {
    "duration": 333,
    "start_time": "2023-06-12T15:43:10.838Z"
   },
   {
    "duration": 293,
    "start_time": "2023-06-12T15:43:11.175Z"
   },
   {
    "duration": 19,
    "start_time": "2023-06-12T15:43:11.474Z"
   },
   {
    "duration": 369,
    "start_time": "2023-06-12T15:43:11.495Z"
   },
   {
    "duration": 338,
    "start_time": "2023-06-12T15:43:11.865Z"
   },
   {
    "duration": 13,
    "start_time": "2023-06-12T15:43:12.205Z"
   },
   {
    "duration": 19,
    "start_time": "2023-06-12T15:43:12.219Z"
   },
   {
    "duration": 15,
    "start_time": "2023-06-12T15:43:12.240Z"
   },
   {
    "duration": 14,
    "start_time": "2023-06-12T15:43:12.275Z"
   },
   {
    "duration": 12,
    "start_time": "2023-06-12T15:43:12.290Z"
   },
   {
    "duration": 277,
    "start_time": "2023-06-12T15:43:12.304Z"
   },
   {
    "duration": 14,
    "start_time": "2023-06-12T15:43:12.583Z"
   },
   {
    "duration": 290,
    "start_time": "2023-06-12T15:43:12.598Z"
   },
   {
    "duration": 13,
    "start_time": "2023-06-12T15:43:12.890Z"
   },
   {
    "duration": 17,
    "start_time": "2023-06-12T15:43:12.905Z"
   },
   {
    "duration": 14,
    "start_time": "2023-06-12T15:43:12.924Z"
   },
   {
    "duration": 4,
    "start_time": "2023-06-12T15:43:12.939Z"
   },
   {
    "duration": 231,
    "start_time": "2023-06-12T15:43:12.944Z"
   },
   {
    "duration": 30,
    "start_time": "2023-06-12T15:43:13.177Z"
   },
   {
    "duration": 17,
    "start_time": "2023-06-12T15:43:13.208Z"
   },
   {
    "duration": 16,
    "start_time": "2023-06-12T15:43:13.226Z"
   },
   {
    "duration": 50,
    "start_time": "2023-06-12T15:43:13.244Z"
   },
   {
    "duration": 27,
    "start_time": "2023-06-12T15:43:13.299Z"
   },
   {
    "duration": 16,
    "start_time": "2023-06-12T15:43:13.327Z"
   },
   {
    "duration": 32,
    "start_time": "2023-06-12T15:43:13.345Z"
   },
   {
    "duration": 29,
    "start_time": "2023-06-12T15:43:13.379Z"
   },
   {
    "duration": 28,
    "start_time": "2023-06-12T15:43:13.409Z"
   },
   {
    "duration": 19,
    "start_time": "2023-06-12T15:43:13.439Z"
   },
   {
    "duration": 30,
    "start_time": "2023-06-12T15:43:13.459Z"
   },
   {
    "duration": 17,
    "start_time": "2023-06-12T15:43:13.490Z"
   },
   {
    "duration": 16,
    "start_time": "2023-06-12T15:43:13.509Z"
   },
   {
    "duration": 29,
    "start_time": "2023-06-12T15:43:13.526Z"
   },
   {
    "duration": 33,
    "start_time": "2023-06-12T15:43:13.556Z"
   },
   {
    "duration": 15,
    "start_time": "2023-06-12T15:43:13.591Z"
   },
   {
    "duration": 83,
    "start_time": "2023-06-12T15:43:13.607Z"
   },
   {
    "duration": 456,
    "start_time": "2023-06-12T15:43:13.691Z"
   },
   {
    "duration": 333,
    "start_time": "2023-06-12T15:43:14.149Z"
   },
   {
    "duration": 2,
    "start_time": "2023-06-12T15:43:14.484Z"
   },
   {
    "duration": 75,
    "start_time": "2023-06-12T15:43:14.488Z"
   },
   {
    "duration": 310,
    "start_time": "2023-06-12T15:43:14.564Z"
   },
   {
    "duration": 148,
    "start_time": "2023-06-12T15:43:14.876Z"
   },
   {
    "duration": 13,
    "start_time": "2023-06-12T15:43:15.026Z"
   },
   {
    "duration": 12,
    "start_time": "2023-06-12T15:43:15.041Z"
   },
   {
    "duration": 62,
    "start_time": "2023-06-12T15:43:15.054Z"
   },
   {
    "duration": 32,
    "start_time": "2023-06-12T15:43:15.118Z"
   },
   {
    "duration": 1489,
    "start_time": "2023-06-12T15:49:24.896Z"
   },
   {
    "duration": 5,
    "start_time": "2023-06-12T15:49:26.387Z"
   },
   {
    "duration": 2963,
    "start_time": "2023-06-12T15:49:26.393Z"
   },
   {
    "duration": 1253,
    "start_time": "2023-06-12T15:49:29.358Z"
   },
   {
    "duration": 444,
    "start_time": "2023-06-12T15:49:30.613Z"
   },
   {
    "duration": 451,
    "start_time": "2023-06-12T15:49:31.058Z"
   },
   {
    "duration": 206,
    "start_time": "2023-06-12T15:49:31.510Z"
   },
   {
    "duration": 30,
    "start_time": "2023-06-12T15:49:31.718Z"
   },
   {
    "duration": 120,
    "start_time": "2023-06-12T15:49:31.750Z"
   },
   {
    "duration": 21,
    "start_time": "2023-06-12T15:49:31.876Z"
   },
   {
    "duration": 65,
    "start_time": "2023-06-12T15:49:31.899Z"
   },
   {
    "duration": 433,
    "start_time": "2023-06-12T15:49:31.966Z"
   },
   {
    "duration": 472,
    "start_time": "2023-06-12T15:49:32.400Z"
   },
   {
    "duration": 384,
    "start_time": "2023-06-12T15:49:32.877Z"
   },
   {
    "duration": 26,
    "start_time": "2023-06-12T15:49:33.263Z"
   },
   {
    "duration": 35,
    "start_time": "2023-06-12T15:49:33.291Z"
   },
   {
    "duration": 16,
    "start_time": "2023-06-12T15:49:33.327Z"
   },
   {
    "duration": 39,
    "start_time": "2023-06-12T15:49:33.345Z"
   },
   {
    "duration": 324,
    "start_time": "2023-06-12T15:49:33.387Z"
   },
   {
    "duration": 317,
    "start_time": "2023-06-12T15:49:33.713Z"
   },
   {
    "duration": 21,
    "start_time": "2023-06-12T15:49:34.032Z"
   },
   {
    "duration": 450,
    "start_time": "2023-06-12T15:49:34.055Z"
   },
   {
    "duration": 365,
    "start_time": "2023-06-12T15:49:34.507Z"
   },
   {
    "duration": 20,
    "start_time": "2023-06-12T15:49:34.874Z"
   },
   {
    "duration": 22,
    "start_time": "2023-06-12T15:49:34.897Z"
   },
   {
    "duration": 19,
    "start_time": "2023-06-12T15:49:34.921Z"
   },
   {
    "duration": 43,
    "start_time": "2023-06-12T15:49:34.942Z"
   },
   {
    "duration": 14,
    "start_time": "2023-06-12T15:49:34.987Z"
   },
   {
    "duration": 302,
    "start_time": "2023-06-12T15:49:35.003Z"
   },
   {
    "duration": 14,
    "start_time": "2023-06-12T15:49:35.306Z"
   },
   {
    "duration": 309,
    "start_time": "2023-06-12T15:49:35.321Z"
   },
   {
    "duration": 14,
    "start_time": "2023-06-12T15:49:35.631Z"
   },
   {
    "duration": 30,
    "start_time": "2023-06-12T15:49:35.646Z"
   },
   {
    "duration": 18,
    "start_time": "2023-06-12T15:49:35.679Z"
   },
   {
    "duration": 3,
    "start_time": "2023-06-12T15:49:35.699Z"
   },
   {
    "duration": 240,
    "start_time": "2023-06-12T15:49:35.704Z"
   },
   {
    "duration": 48,
    "start_time": "2023-06-12T15:49:35.946Z"
   },
   {
    "duration": 17,
    "start_time": "2023-06-12T15:49:35.996Z"
   },
   {
    "duration": 19,
    "start_time": "2023-06-12T15:49:36.014Z"
   },
   {
    "duration": 53,
    "start_time": "2023-06-12T15:49:36.035Z"
   },
   {
    "duration": 41,
    "start_time": "2023-06-12T15:49:36.095Z"
   },
   {
    "duration": 17,
    "start_time": "2023-06-12T15:49:36.137Z"
   },
   {
    "duration": 37,
    "start_time": "2023-06-12T15:49:36.155Z"
   },
   {
    "duration": 43,
    "start_time": "2023-06-12T15:49:36.194Z"
   },
   {
    "duration": 16,
    "start_time": "2023-06-12T15:49:36.238Z"
   },
   {
    "duration": 35,
    "start_time": "2023-06-12T15:49:36.255Z"
   },
   {
    "duration": 36,
    "start_time": "2023-06-12T15:49:36.294Z"
   },
   {
    "duration": 16,
    "start_time": "2023-06-12T15:49:36.332Z"
   },
   {
    "duration": 18,
    "start_time": "2023-06-12T15:49:36.349Z"
   },
   {
    "duration": 44,
    "start_time": "2023-06-12T15:49:36.368Z"
   },
   {
    "duration": 14,
    "start_time": "2023-06-12T15:49:36.414Z"
   },
   {
    "duration": 15,
    "start_time": "2023-06-12T15:49:36.429Z"
   },
   {
    "duration": 92,
    "start_time": "2023-06-12T15:49:36.445Z"
   },
   {
    "duration": 438,
    "start_time": "2023-06-12T15:49:36.538Z"
   },
   {
    "duration": 329,
    "start_time": "2023-06-12T15:49:36.977Z"
   },
   {
    "duration": 2,
    "start_time": "2023-06-12T15:49:37.308Z"
   },
   {
    "duration": 71,
    "start_time": "2023-06-12T15:49:37.312Z"
   },
   {
    "duration": 331,
    "start_time": "2023-06-12T15:49:37.385Z"
   },
   {
    "duration": 145,
    "start_time": "2023-06-12T15:49:37.717Z"
   },
   {
    "duration": 31,
    "start_time": "2023-06-12T15:49:37.865Z"
   },
   {
    "duration": 7,
    "start_time": "2023-06-12T15:49:37.897Z"
   },
   {
    "duration": 24,
    "start_time": "2023-06-12T15:49:37.906Z"
   },
   {
    "duration": 43,
    "start_time": "2023-06-12T15:49:37.932Z"
   },
   {
    "duration": 1629,
    "start_time": "2023-06-12T15:58:12.792Z"
   },
   {
    "duration": 3,
    "start_time": "2023-06-12T15:58:14.423Z"
   },
   {
    "duration": 2937,
    "start_time": "2023-06-12T15:58:14.428Z"
   },
   {
    "duration": 1184,
    "start_time": "2023-06-12T15:58:17.368Z"
   },
   {
    "duration": 475,
    "start_time": "2023-06-12T15:58:18.555Z"
   },
   {
    "duration": 438,
    "start_time": "2023-06-12T15:58:19.031Z"
   },
   {
    "duration": 207,
    "start_time": "2023-06-12T15:58:19.470Z"
   },
   {
    "duration": 40,
    "start_time": "2023-06-12T15:58:19.679Z"
   },
   {
    "duration": 115,
    "start_time": "2023-06-12T15:58:19.721Z"
   },
   {
    "duration": 15,
    "start_time": "2023-06-12T15:58:19.837Z"
   },
   {
    "duration": 72,
    "start_time": "2023-06-12T15:58:19.854Z"
   },
   {
    "duration": 442,
    "start_time": "2023-06-12T15:58:19.927Z"
   },
   {
    "duration": 470,
    "start_time": "2023-06-12T15:58:20.378Z"
   },
   {
    "duration": 402,
    "start_time": "2023-06-12T15:58:20.851Z"
   },
   {
    "duration": 25,
    "start_time": "2023-06-12T15:58:21.255Z"
   },
   {
    "duration": 43,
    "start_time": "2023-06-12T15:58:21.282Z"
   },
   {
    "duration": 17,
    "start_time": "2023-06-12T15:58:21.327Z"
   },
   {
    "duration": 35,
    "start_time": "2023-06-12T15:58:21.346Z"
   },
   {
    "duration": 324,
    "start_time": "2023-06-12T15:58:21.383Z"
   },
   {
    "duration": 339,
    "start_time": "2023-06-12T15:58:21.709Z"
   },
   {
    "duration": 32,
    "start_time": "2023-06-12T15:58:22.050Z"
   },
   {
    "duration": 391,
    "start_time": "2023-06-12T15:58:22.084Z"
   },
   {
    "duration": 393,
    "start_time": "2023-06-12T15:58:22.477Z"
   },
   {
    "duration": 24,
    "start_time": "2023-06-12T15:58:22.874Z"
   },
   {
    "duration": 25,
    "start_time": "2023-06-12T15:58:22.900Z"
   },
   {
    "duration": 17,
    "start_time": "2023-06-12T15:58:22.927Z"
   },
   {
    "duration": 41,
    "start_time": "2023-06-12T15:58:22.946Z"
   },
   {
    "duration": 14,
    "start_time": "2023-06-12T15:58:22.990Z"
   },
   {
    "duration": 308,
    "start_time": "2023-06-12T15:58:23.006Z"
   },
   {
    "duration": 14,
    "start_time": "2023-06-12T15:58:23.315Z"
   },
   {
    "duration": 296,
    "start_time": "2023-06-12T15:58:23.330Z"
   },
   {
    "duration": 13,
    "start_time": "2023-06-12T15:58:23.627Z"
   },
   {
    "duration": 30,
    "start_time": "2023-06-12T15:58:23.641Z"
   },
   {
    "duration": 18,
    "start_time": "2023-06-12T15:58:23.673Z"
   },
   {
    "duration": 4,
    "start_time": "2023-06-12T15:58:23.693Z"
   },
   {
    "duration": 231,
    "start_time": "2023-06-12T15:58:23.699Z"
   },
   {
    "duration": 57,
    "start_time": "2023-06-12T15:58:23.932Z"
   },
   {
    "duration": 21,
    "start_time": "2023-06-12T15:58:23.995Z"
   },
   {
    "duration": 16,
    "start_time": "2023-06-12T15:58:24.018Z"
   },
   {
    "duration": 66,
    "start_time": "2023-06-12T15:58:24.036Z"
   },
   {
    "duration": 38,
    "start_time": "2023-06-12T15:58:24.107Z"
   },
   {
    "duration": 52,
    "start_time": "2023-06-12T15:58:24.147Z"
   },
   {
    "duration": 19,
    "start_time": "2023-06-12T15:58:24.201Z"
   },
   {
    "duration": 35,
    "start_time": "2023-06-12T15:58:24.222Z"
   },
   {
    "duration": 25,
    "start_time": "2023-06-12T15:58:24.259Z"
   },
   {
    "duration": 26,
    "start_time": "2023-06-12T15:58:24.290Z"
   },
   {
    "duration": 33,
    "start_time": "2023-06-12T15:58:24.317Z"
   },
   {
    "duration": 29,
    "start_time": "2023-06-12T15:58:24.351Z"
   },
   {
    "duration": 21,
    "start_time": "2023-06-12T15:58:24.382Z"
   },
   {
    "duration": 29,
    "start_time": "2023-06-12T15:58:24.405Z"
   },
   {
    "duration": 20,
    "start_time": "2023-06-12T15:58:24.435Z"
   },
   {
    "duration": 27,
    "start_time": "2023-06-12T15:58:24.475Z"
   },
   {
    "duration": 106,
    "start_time": "2023-06-12T15:58:24.504Z"
   },
   {
    "duration": 440,
    "start_time": "2023-06-12T15:58:24.612Z"
   },
   {
    "duration": 355,
    "start_time": "2023-06-12T15:58:25.053Z"
   },
   {
    "duration": 3,
    "start_time": "2023-06-12T15:58:25.410Z"
   },
   {
    "duration": 101,
    "start_time": "2023-06-12T15:58:25.415Z"
   },
   {
    "duration": 350,
    "start_time": "2023-06-12T15:58:25.518Z"
   },
   {
    "duration": 177,
    "start_time": "2023-06-12T15:58:25.869Z"
   },
   {
    "duration": 14,
    "start_time": "2023-06-12T15:58:26.047Z"
   },
   {
    "duration": 14,
    "start_time": "2023-06-12T15:58:26.074Z"
   },
   {
    "duration": 27,
    "start_time": "2023-06-12T15:58:26.089Z"
   },
   {
    "duration": 13,
    "start_time": "2023-06-12T15:58:26.118Z"
   },
   {
    "duration": 1487,
    "start_time": "2023-06-12T18:39:23.053Z"
   },
   {
    "duration": 4,
    "start_time": "2023-06-12T18:39:24.542Z"
   },
   {
    "duration": 3041,
    "start_time": "2023-06-12T18:39:24.548Z"
   },
   {
    "duration": 1270,
    "start_time": "2023-06-12T18:39:27.592Z"
   },
   {
    "duration": 447,
    "start_time": "2023-06-12T18:39:28.864Z"
   },
   {
    "duration": 438,
    "start_time": "2023-06-12T18:39:29.313Z"
   },
   {
    "duration": 206,
    "start_time": "2023-06-12T18:39:29.753Z"
   },
   {
    "duration": 50,
    "start_time": "2023-06-12T18:39:29.961Z"
   },
   {
    "duration": 100,
    "start_time": "2023-06-12T18:39:30.013Z"
   },
   {
    "duration": 54,
    "start_time": "2023-06-12T18:39:30.116Z"
   },
   {
    "duration": 65,
    "start_time": "2023-06-12T18:39:30.172Z"
   },
   {
    "duration": 429,
    "start_time": "2023-06-12T18:39:30.239Z"
   },
   {
    "duration": 475,
    "start_time": "2023-06-12T18:39:30.669Z"
   },
   {
    "duration": 413,
    "start_time": "2023-06-12T18:39:31.146Z"
   },
   {
    "duration": 32,
    "start_time": "2023-06-12T18:39:31.560Z"
   },
   {
    "duration": 57,
    "start_time": "2023-06-12T18:39:31.594Z"
   },
   {
    "duration": 17,
    "start_time": "2023-06-12T18:39:31.653Z"
   },
   {
    "duration": 28,
    "start_time": "2023-06-12T18:39:31.672Z"
   },
   {
    "duration": 349,
    "start_time": "2023-06-12T18:39:31.702Z"
   },
   {
    "duration": 310,
    "start_time": "2023-06-12T18:39:32.053Z"
   },
   {
    "duration": 28,
    "start_time": "2023-06-12T18:39:32.365Z"
   },
   {
    "duration": 404,
    "start_time": "2023-06-12T18:39:32.395Z"
   },
   {
    "duration": 373,
    "start_time": "2023-06-12T18:39:32.800Z"
   },
   {
    "duration": 22,
    "start_time": "2023-06-12T18:39:33.175Z"
   },
   {
    "duration": 26,
    "start_time": "2023-06-12T18:39:33.198Z"
   },
   {
    "duration": 15,
    "start_time": "2023-06-12T18:39:33.226Z"
   },
   {
    "duration": 14,
    "start_time": "2023-06-12T18:39:33.243Z"
   },
   {
    "duration": 25,
    "start_time": "2023-06-12T18:39:33.277Z"
   },
   {
    "duration": 303,
    "start_time": "2023-06-12T18:39:33.305Z"
   },
   {
    "duration": 16,
    "start_time": "2023-06-12T18:39:33.610Z"
   },
   {
    "duration": 328,
    "start_time": "2023-06-12T18:39:33.628Z"
   },
   {
    "duration": 32,
    "start_time": "2023-06-12T18:39:33.958Z"
   },
   {
    "duration": 24,
    "start_time": "2023-06-12T18:39:33.994Z"
   },
   {
    "duration": 21,
    "start_time": "2023-06-12T18:39:34.020Z"
   },
   {
    "duration": 5,
    "start_time": "2023-06-12T18:39:34.044Z"
   },
   {
    "duration": 311,
    "start_time": "2023-06-12T18:39:34.052Z"
   },
   {
    "duration": 46,
    "start_time": "2023-06-12T18:39:34.365Z"
   },
   {
    "duration": 17,
    "start_time": "2023-06-12T18:39:34.412Z"
   },
   {
    "duration": 15,
    "start_time": "2023-06-12T18:39:34.430Z"
   },
   {
    "duration": 61,
    "start_time": "2023-06-12T18:39:34.446Z"
   },
   {
    "duration": 32,
    "start_time": "2023-06-12T18:39:34.509Z"
   },
   {
    "duration": 43,
    "start_time": "2023-06-12T18:39:34.543Z"
   },
   {
    "duration": 16,
    "start_time": "2023-06-12T18:39:34.588Z"
   },
   {
    "duration": 29,
    "start_time": "2023-06-12T18:39:34.605Z"
   },
   {
    "duration": 16,
    "start_time": "2023-06-12T18:39:34.636Z"
   },
   {
    "duration": 43,
    "start_time": "2023-06-12T18:39:34.654Z"
   },
   {
    "duration": 33,
    "start_time": "2023-06-12T18:39:34.698Z"
   },
   {
    "duration": 22,
    "start_time": "2023-06-12T18:39:34.733Z"
   },
   {
    "duration": 38,
    "start_time": "2023-06-12T18:39:34.757Z"
   },
   {
    "duration": 54,
    "start_time": "2023-06-12T18:39:34.797Z"
   },
   {
    "duration": 31,
    "start_time": "2023-06-12T18:39:34.853Z"
   },
   {
    "duration": 26,
    "start_time": "2023-06-12T18:39:34.887Z"
   },
   {
    "duration": 86,
    "start_time": "2023-06-12T18:39:34.914Z"
   },
   {
    "duration": 452,
    "start_time": "2023-06-12T18:39:35.002Z"
   },
   {
    "duration": 345,
    "start_time": "2023-06-12T18:39:35.456Z"
   },
   {
    "duration": 3,
    "start_time": "2023-06-12T18:39:35.802Z"
   },
   {
    "duration": 83,
    "start_time": "2023-06-12T18:39:35.806Z"
   },
   {
    "duration": 329,
    "start_time": "2023-06-12T18:39:35.890Z"
   },
   {
    "duration": 167,
    "start_time": "2023-06-12T18:39:36.221Z"
   },
   {
    "duration": 19,
    "start_time": "2023-06-12T18:39:36.391Z"
   },
   {
    "duration": 7,
    "start_time": "2023-06-12T18:39:36.412Z"
   },
   {
    "duration": 31,
    "start_time": "2023-06-12T18:39:36.421Z"
   },
   {
    "duration": 23,
    "start_time": "2023-06-12T18:39:36.453Z"
   },
   {
    "duration": 1817,
    "start_time": "2023-06-14T18:10:55.229Z"
   },
   {
    "duration": 3,
    "start_time": "2023-06-14T18:10:57.048Z"
   },
   {
    "duration": 1365,
    "start_time": "2023-06-14T18:10:57.053Z"
   },
   {
    "duration": 1300,
    "start_time": "2023-06-14T18:10:58.420Z"
   },
   {
    "duration": 525,
    "start_time": "2023-06-14T18:10:59.722Z"
   },
   {
    "duration": 533,
    "start_time": "2023-06-14T18:11:00.249Z"
   },
   {
    "duration": 242,
    "start_time": "2023-06-14T18:11:00.787Z"
   },
   {
    "duration": 55,
    "start_time": "2023-06-14T18:11:01.032Z"
   },
   {
    "duration": 123,
    "start_time": "2023-06-14T18:11:01.089Z"
   },
   {
    "duration": 55,
    "start_time": "2023-06-14T18:11:01.214Z"
   },
   {
    "duration": 95,
    "start_time": "2023-06-14T18:11:01.271Z"
   },
   {
    "duration": 498,
    "start_time": "2023-06-14T18:11:01.370Z"
   },
   {
    "duration": 521,
    "start_time": "2023-06-14T18:11:01.876Z"
   },
   {
    "duration": 510,
    "start_time": "2023-06-14T18:11:02.399Z"
   },
   {
    "duration": 21,
    "start_time": "2023-06-14T18:11:02.911Z"
   },
   {
    "duration": 235,
    "start_time": "2023-06-14T18:11:02.934Z"
   },
   {
    "duration": 250,
    "start_time": "2023-06-14T18:11:03.171Z"
   },
   {
    "duration": 20,
    "start_time": "2023-06-14T18:11:03.423Z"
   },
   {
    "duration": 498,
    "start_time": "2023-06-14T18:11:03.445Z"
   },
   {
    "duration": 373,
    "start_time": "2023-06-14T18:11:03.945Z"
   },
   {
    "duration": 25,
    "start_time": "2023-06-14T18:11:04.320Z"
   },
   {
    "duration": 568,
    "start_time": "2023-06-14T18:11:04.348Z"
   },
   {
    "duration": 414,
    "start_time": "2023-06-14T18:11:04.918Z"
   },
   {
    "duration": 27,
    "start_time": "2023-06-14T18:11:05.334Z"
   },
   {
    "duration": 48,
    "start_time": "2023-06-14T18:11:05.362Z"
   },
   {
    "duration": 17,
    "start_time": "2023-06-14T18:11:05.412Z"
   },
   {
    "duration": 16,
    "start_time": "2023-06-14T18:11:05.431Z"
   },
   {
    "duration": 34,
    "start_time": "2023-06-14T18:11:05.451Z"
   },
   {
    "duration": 323,
    "start_time": "2023-06-14T18:11:05.487Z"
   },
   {
    "duration": 16,
    "start_time": "2023-06-14T18:11:05.812Z"
   },
   {
    "duration": 362,
    "start_time": "2023-06-14T18:11:05.830Z"
   },
   {
    "duration": 14,
    "start_time": "2023-06-14T18:11:06.194Z"
   },
   {
    "duration": 33,
    "start_time": "2023-06-14T18:11:06.210Z"
   },
   {
    "duration": 52,
    "start_time": "2023-06-14T18:11:06.245Z"
   },
   {
    "duration": 5,
    "start_time": "2023-06-14T18:11:06.299Z"
   },
   {
    "duration": 278,
    "start_time": "2023-06-14T18:11:06.306Z"
   },
   {
    "duration": 43,
    "start_time": "2023-06-14T18:11:06.587Z"
   },
   {
    "duration": 33,
    "start_time": "2023-06-14T18:11:06.632Z"
   },
   {
    "duration": 61,
    "start_time": "2023-06-14T18:11:06.667Z"
   },
   {
    "duration": 78,
    "start_time": "2023-06-14T18:11:06.730Z"
   },
   {
    "duration": 32,
    "start_time": "2023-06-14T18:11:06.810Z"
   },
   {
    "duration": 54,
    "start_time": "2023-06-14T18:11:06.844Z"
   },
   {
    "duration": 21,
    "start_time": "2023-06-14T18:11:06.900Z"
   },
   {
    "duration": 63,
    "start_time": "2023-06-14T18:11:06.923Z"
   },
   {
    "duration": 28,
    "start_time": "2023-06-14T18:11:06.988Z"
   },
   {
    "duration": 30,
    "start_time": "2023-06-14T18:11:07.019Z"
   },
   {
    "duration": 146,
    "start_time": "2023-06-14T18:11:07.051Z"
   },
   {
    "duration": 33,
    "start_time": "2023-06-14T18:11:07.199Z"
   },
   {
    "duration": 51,
    "start_time": "2023-06-14T18:11:07.233Z"
   },
   {
    "duration": 75,
    "start_time": "2023-06-14T18:11:07.288Z"
   },
   {
    "duration": 87,
    "start_time": "2023-06-14T18:11:07.365Z"
   },
   {
    "duration": 76,
    "start_time": "2023-06-14T18:11:07.457Z"
   },
   {
    "duration": 158,
    "start_time": "2023-06-14T18:11:07.535Z"
   },
   {
    "duration": 542,
    "start_time": "2023-06-14T18:11:07.695Z"
   },
   {
    "duration": 427,
    "start_time": "2023-06-14T18:11:08.239Z"
   },
   {
    "duration": 16,
    "start_time": "2023-06-14T18:11:08.670Z"
   },
   {
    "duration": 101,
    "start_time": "2023-06-14T18:11:08.689Z"
   },
   {
    "duration": 397,
    "start_time": "2023-06-14T18:11:08.792Z"
   },
   {
    "duration": 180,
    "start_time": "2023-06-14T18:11:09.191Z"
   },
   {
    "duration": 19,
    "start_time": "2023-06-14T18:11:09.375Z"
   },
   {
    "duration": 18,
    "start_time": "2023-06-14T18:11:09.396Z"
   },
   {
    "duration": 45,
    "start_time": "2023-06-14T18:11:09.416Z"
   },
   {
    "duration": 1649,
    "start_time": "2023-06-14T18:22:25.880Z"
   },
   {
    "duration": 3,
    "start_time": "2023-06-14T18:22:27.531Z"
   },
   {
    "duration": 1574,
    "start_time": "2023-06-14T18:22:27.536Z"
   },
   {
    "duration": 1409,
    "start_time": "2023-06-14T18:22:29.112Z"
   },
   {
    "duration": 585,
    "start_time": "2023-06-14T18:22:30.523Z"
   },
   {
    "duration": 535,
    "start_time": "2023-06-14T18:22:31.110Z"
   },
   {
    "duration": 266,
    "start_time": "2023-06-14T18:22:31.646Z"
   },
   {
    "duration": 53,
    "start_time": "2023-06-14T18:22:31.914Z"
   },
   {
    "duration": 114,
    "start_time": "2023-06-14T18:22:31.975Z"
   },
   {
    "duration": 18,
    "start_time": "2023-06-14T18:22:32.092Z"
   },
   {
    "duration": 76,
    "start_time": "2023-06-14T18:22:32.111Z"
   },
   {
    "duration": 554,
    "start_time": "2023-06-14T18:22:32.189Z"
   },
   {
    "duration": 601,
    "start_time": "2023-06-14T18:22:32.745Z"
   },
   {
    "duration": 429,
    "start_time": "2023-06-14T18:22:33.354Z"
   },
   {
    "duration": 18,
    "start_time": "2023-06-14T18:22:33.787Z"
   },
   {
    "duration": 45,
    "start_time": "2023-06-14T18:22:33.806Z"
   },
   {
    "duration": 23,
    "start_time": "2023-06-14T18:22:33.857Z"
   },
   {
    "duration": 96,
    "start_time": "2023-06-14T18:22:33.885Z"
   },
   {
    "duration": 414,
    "start_time": "2023-06-14T18:22:33.989Z"
   },
   {
    "duration": 353,
    "start_time": "2023-06-14T18:22:34.404Z"
   },
   {
    "duration": 32,
    "start_time": "2023-06-14T18:22:34.765Z"
   },
   {
    "duration": 448,
    "start_time": "2023-06-14T18:22:34.799Z"
   },
   {
    "duration": 444,
    "start_time": "2023-06-14T18:22:35.249Z"
   },
   {
    "duration": 16,
    "start_time": "2023-06-14T18:22:35.695Z"
   },
   {
    "duration": 88,
    "start_time": "2023-06-14T18:22:35.713Z"
   },
   {
    "duration": 17,
    "start_time": "2023-06-14T18:22:35.804Z"
   },
   {
    "duration": 26,
    "start_time": "2023-06-14T18:22:35.823Z"
   },
   {
    "duration": 48,
    "start_time": "2023-06-14T18:22:35.853Z"
   },
   {
    "duration": 329,
    "start_time": "2023-06-14T18:22:35.903Z"
   },
   {
    "duration": 28,
    "start_time": "2023-06-14T18:22:36.235Z"
   },
   {
    "duration": 362,
    "start_time": "2023-06-14T18:22:36.265Z"
   },
   {
    "duration": 29,
    "start_time": "2023-06-14T18:22:36.629Z"
   },
   {
    "duration": 69,
    "start_time": "2023-06-14T18:22:36.659Z"
   },
   {
    "duration": 17,
    "start_time": "2023-06-14T18:22:36.730Z"
   },
   {
    "duration": 5,
    "start_time": "2023-06-14T18:22:36.748Z"
   },
   {
    "duration": 329,
    "start_time": "2023-06-14T18:22:36.755Z"
   },
   {
    "duration": 36,
    "start_time": "2023-06-14T18:22:37.086Z"
   },
   {
    "duration": 20,
    "start_time": "2023-06-14T18:22:37.123Z"
   },
   {
    "duration": 35,
    "start_time": "2023-06-14T18:22:37.154Z"
   },
   {
    "duration": 61,
    "start_time": "2023-06-14T18:22:37.190Z"
   },
   {
    "duration": 53,
    "start_time": "2023-06-14T18:22:37.253Z"
   },
   {
    "duration": 29,
    "start_time": "2023-06-14T18:22:37.309Z"
   },
   {
    "duration": 58,
    "start_time": "2023-06-14T18:22:37.340Z"
   },
   {
    "duration": 45,
    "start_time": "2023-06-14T18:22:37.400Z"
   },
   {
    "duration": 55,
    "start_time": "2023-06-14T18:22:37.447Z"
   },
   {
    "duration": 44,
    "start_time": "2023-06-14T18:22:37.504Z"
   },
   {
    "duration": 79,
    "start_time": "2023-06-14T18:22:37.550Z"
   },
   {
    "duration": 20,
    "start_time": "2023-06-14T18:22:37.630Z"
   },
   {
    "duration": 51,
    "start_time": "2023-06-14T18:22:37.651Z"
   },
   {
    "duration": 38,
    "start_time": "2023-06-14T18:22:37.704Z"
   },
   {
    "duration": 54,
    "start_time": "2023-06-14T18:22:37.744Z"
   },
   {
    "duration": 30,
    "start_time": "2023-06-14T18:22:37.801Z"
   },
   {
    "duration": 96,
    "start_time": "2023-06-14T18:22:37.833Z"
   },
   {
    "duration": 560,
    "start_time": "2023-06-14T18:22:37.931Z"
   },
   {
    "duration": 392,
    "start_time": "2023-06-14T18:22:38.492Z"
   },
   {
    "duration": 4,
    "start_time": "2023-06-14T18:22:38.886Z"
   },
   {
    "duration": 115,
    "start_time": "2023-06-14T18:22:38.892Z"
   },
   {
    "duration": 397,
    "start_time": "2023-06-14T18:22:39.008Z"
   },
   {
    "duration": 196,
    "start_time": "2023-06-14T18:22:39.407Z"
   },
   {
    "duration": 15,
    "start_time": "2023-06-14T18:22:39.605Z"
   },
   {
    "duration": 14,
    "start_time": "2023-06-14T18:22:39.622Z"
   },
   {
    "duration": 66,
    "start_time": "2023-06-14T18:22:39.637Z"
   },
   {
    "duration": 12,
    "start_time": "2023-06-14T18:22:39.705Z"
   },
   {
    "duration": 2510,
    "start_time": "2023-06-15T11:52:21.760Z"
   },
   {
    "duration": 4,
    "start_time": "2023-06-15T11:52:24.276Z"
   },
   {
    "duration": 3911,
    "start_time": "2023-06-15T11:52:24.284Z"
   },
   {
    "duration": 1702,
    "start_time": "2023-06-15T11:52:28.197Z"
   },
   {
    "duration": 767,
    "start_time": "2023-06-15T11:52:29.905Z"
   },
   {
    "duration": 654,
    "start_time": "2023-06-15T11:52:30.682Z"
   },
   {
    "duration": 323,
    "start_time": "2023-06-15T11:52:31.338Z"
   },
   {
    "duration": 67,
    "start_time": "2023-06-15T11:52:31.668Z"
   },
   {
    "duration": 190,
    "start_time": "2023-06-15T11:52:31.737Z"
   },
   {
    "duration": 36,
    "start_time": "2023-06-15T11:52:31.931Z"
   },
   {
    "duration": 90,
    "start_time": "2023-06-15T11:52:31.969Z"
   },
   {
    "duration": 547,
    "start_time": "2023-06-15T11:52:32.070Z"
   },
   {
    "duration": 605,
    "start_time": "2023-06-15T11:52:32.620Z"
   },
   {
    "duration": 521,
    "start_time": "2023-06-15T11:52:33.228Z"
   },
   {
    "duration": 47,
    "start_time": "2023-06-15T11:52:33.752Z"
   },
   {
    "duration": 108,
    "start_time": "2023-06-15T11:52:33.808Z"
   },
   {
    "duration": 146,
    "start_time": "2023-06-15T11:52:33.918Z"
   },
   {
    "duration": 42,
    "start_time": "2023-06-15T11:52:34.067Z"
   },
   {
    "duration": 387,
    "start_time": "2023-06-15T11:52:34.112Z"
   },
   {
    "duration": 372,
    "start_time": "2023-06-15T11:52:34.501Z"
   },
   {
    "duration": 33,
    "start_time": "2023-06-15T11:52:34.876Z"
   },
   {
    "duration": 500,
    "start_time": "2023-06-15T11:52:34.911Z"
   },
   {
    "duration": 489,
    "start_time": "2023-06-15T11:52:35.414Z"
   },
   {
    "duration": 18,
    "start_time": "2023-06-15T11:52:35.904Z"
   },
   {
    "duration": 46,
    "start_time": "2023-06-15T11:52:35.924Z"
   },
   {
    "duration": 26,
    "start_time": "2023-06-15T11:52:35.971Z"
   },
   {
    "duration": 24,
    "start_time": "2023-06-15T11:52:36.003Z"
   },
   {
    "duration": 14,
    "start_time": "2023-06-15T11:52:36.032Z"
   },
   {
    "duration": 340,
    "start_time": "2023-06-15T11:52:36.057Z"
   },
   {
    "duration": 19,
    "start_time": "2023-06-15T11:52:36.403Z"
   },
   {
    "duration": 389,
    "start_time": "2023-06-15T11:52:36.424Z"
   },
   {
    "duration": 15,
    "start_time": "2023-06-15T11:52:36.816Z"
   },
   {
    "duration": 45,
    "start_time": "2023-06-15T11:52:36.833Z"
   },
   {
    "duration": 30,
    "start_time": "2023-06-15T11:52:36.898Z"
   },
   {
    "duration": 7,
    "start_time": "2023-06-15T11:52:36.930Z"
   },
   {
    "duration": 272,
    "start_time": "2023-06-15T11:52:36.940Z"
   },
   {
    "duration": 70,
    "start_time": "2023-06-15T11:52:37.215Z"
   },
   {
    "duration": 29,
    "start_time": "2023-06-15T11:52:37.292Z"
   },
   {
    "duration": 25,
    "start_time": "2023-06-15T11:52:37.323Z"
   },
   {
    "duration": 56,
    "start_time": "2023-06-15T11:52:37.352Z"
   },
   {
    "duration": 63,
    "start_time": "2023-06-15T11:52:37.411Z"
   },
   {
    "duration": 28,
    "start_time": "2023-06-15T11:52:37.480Z"
   },
   {
    "duration": 33,
    "start_time": "2023-06-15T11:52:37.511Z"
   },
   {
    "duration": 58,
    "start_time": "2023-06-15T11:52:37.546Z"
   },
   {
    "duration": 16,
    "start_time": "2023-06-15T11:52:37.608Z"
   },
   {
    "duration": 50,
    "start_time": "2023-06-15T11:52:37.626Z"
   },
   {
    "duration": 54,
    "start_time": "2023-06-15T11:52:37.680Z"
   },
   {
    "duration": 34,
    "start_time": "2023-06-15T11:52:37.736Z"
   },
   {
    "duration": 72,
    "start_time": "2023-06-15T11:52:37.773Z"
   },
   {
    "duration": 57,
    "start_time": "2023-06-15T11:52:37.847Z"
   },
   {
    "duration": 24,
    "start_time": "2023-06-15T11:52:37.907Z"
   },
   {
    "duration": 45,
    "start_time": "2023-06-15T11:52:37.934Z"
   },
   {
    "duration": 112,
    "start_time": "2023-06-15T11:52:37.983Z"
   },
   {
    "duration": 540,
    "start_time": "2023-06-15T11:52:38.100Z"
   },
   {
    "duration": 450,
    "start_time": "2023-06-15T11:52:38.641Z"
   },
   {
    "duration": 180,
    "start_time": "2023-06-15T11:52:39.094Z"
   },
   {
    "duration": 0,
    "start_time": "2023-06-15T11:52:39.278Z"
   },
   {
    "duration": 0,
    "start_time": "2023-06-15T11:52:39.278Z"
   },
   {
    "duration": 0,
    "start_time": "2023-06-15T11:52:39.279Z"
   },
   {
    "duration": 0,
    "start_time": "2023-06-15T11:52:39.280Z"
   },
   {
    "duration": 0,
    "start_time": "2023-06-15T11:52:39.284Z"
   },
   {
    "duration": 0,
    "start_time": "2023-06-15T11:52:39.284Z"
   },
   {
    "duration": 0,
    "start_time": "2023-06-15T11:52:39.285Z"
   },
   {
    "duration": 0,
    "start_time": "2023-06-15T11:52:39.286Z"
   },
   {
    "duration": 4,
    "start_time": "2023-06-15T11:53:42.214Z"
   },
   {
    "duration": 20,
    "start_time": "2023-06-15T11:53:42.221Z"
   },
   {
    "duration": 1118,
    "start_time": "2023-06-15T11:53:42.244Z"
   },
   {
    "duration": 1538,
    "start_time": "2023-06-15T11:53:43.364Z"
   },
   {
    "duration": 555,
    "start_time": "2023-06-15T11:53:44.905Z"
   },
   {
    "duration": 523,
    "start_time": "2023-06-15T11:53:45.476Z"
   },
   {
    "duration": 208,
    "start_time": "2023-06-15T11:53:46.003Z"
   },
   {
    "duration": 61,
    "start_time": "2023-06-15T11:53:46.213Z"
   },
   {
    "duration": 88,
    "start_time": "2023-06-15T11:53:46.275Z"
   },
   {
    "duration": 24,
    "start_time": "2023-06-15T11:53:46.365Z"
   },
   {
    "duration": 18,
    "start_time": "2023-06-15T11:53:46.392Z"
   },
   {
    "duration": 460,
    "start_time": "2023-06-15T11:53:46.412Z"
   },
   {
    "duration": 510,
    "start_time": "2023-06-15T11:53:46.874Z"
   },
   {
    "duration": 476,
    "start_time": "2023-06-15T11:53:47.386Z"
   },
   {
    "duration": 21,
    "start_time": "2023-06-15T11:53:47.864Z"
   },
   {
    "duration": 44,
    "start_time": "2023-06-15T11:53:47.887Z"
   },
   {
    "duration": 37,
    "start_time": "2023-06-15T11:53:47.933Z"
   },
   {
    "duration": 16,
    "start_time": "2023-06-15T11:53:47.972Z"
   },
   {
    "duration": 383,
    "start_time": "2023-06-15T11:53:47.990Z"
   },
   {
    "duration": 506,
    "start_time": "2023-06-15T11:53:48.380Z"
   },
   {
    "duration": 30,
    "start_time": "2023-06-15T11:53:48.889Z"
   },
   {
    "duration": 545,
    "start_time": "2023-06-15T11:53:48.921Z"
   },
   {
    "duration": 450,
    "start_time": "2023-06-15T11:53:49.473Z"
   },
   {
    "duration": 16,
    "start_time": "2023-06-15T11:53:49.925Z"
   },
   {
    "duration": 39,
    "start_time": "2023-06-15T11:53:49.943Z"
   },
   {
    "duration": 19,
    "start_time": "2023-06-15T11:53:49.989Z"
   },
   {
    "duration": 20,
    "start_time": "2023-06-15T11:53:50.009Z"
   },
   {
    "duration": 19,
    "start_time": "2023-06-15T11:53:50.031Z"
   },
   {
    "duration": 435,
    "start_time": "2023-06-15T11:53:50.054Z"
   },
   {
    "duration": 17,
    "start_time": "2023-06-15T11:53:50.491Z"
   },
   {
    "duration": 252,
    "start_time": "2023-06-15T11:53:50.510Z"
   },
   {
    "duration": 23,
    "start_time": "2023-06-15T11:53:50.764Z"
   },
   {
    "duration": 31,
    "start_time": "2023-06-15T11:53:50.793Z"
   },
   {
    "duration": 18,
    "start_time": "2023-06-15T11:53:50.825Z"
   },
   {
    "duration": 14,
    "start_time": "2023-06-15T11:53:50.845Z"
   },
   {
    "duration": 248,
    "start_time": "2023-06-15T11:53:50.866Z"
   },
   {
    "duration": 55,
    "start_time": "2023-06-15T11:53:51.116Z"
   },
   {
    "duration": 25,
    "start_time": "2023-06-15T11:53:51.176Z"
   },
   {
    "duration": 24,
    "start_time": "2023-06-15T11:53:51.204Z"
   },
   {
    "duration": 54,
    "start_time": "2023-06-15T11:53:51.231Z"
   },
   {
    "duration": 45,
    "start_time": "2023-06-15T11:53:51.288Z"
   },
   {
    "duration": 44,
    "start_time": "2023-06-15T11:53:51.335Z"
   },
   {
    "duration": 24,
    "start_time": "2023-06-15T11:53:51.387Z"
   },
   {
    "duration": 61,
    "start_time": "2023-06-15T11:53:51.413Z"
   },
   {
    "duration": 20,
    "start_time": "2023-06-15T11:53:51.483Z"
   },
   {
    "duration": 17,
    "start_time": "2023-06-15T11:53:51.505Z"
   },
   {
    "duration": 45,
    "start_time": "2023-06-15T11:53:51.524Z"
   },
   {
    "duration": 28,
    "start_time": "2023-06-15T11:53:51.571Z"
   },
   {
    "duration": 18,
    "start_time": "2023-06-15T11:53:51.601Z"
   },
   {
    "duration": 26,
    "start_time": "2023-06-15T11:53:51.621Z"
   },
   {
    "duration": 30,
    "start_time": "2023-06-15T11:53:51.656Z"
   },
   {
    "duration": 19,
    "start_time": "2023-06-15T11:53:51.690Z"
   },
   {
    "duration": 82,
    "start_time": "2023-06-15T11:53:51.712Z"
   },
   {
    "duration": 480,
    "start_time": "2023-06-15T11:53:51.796Z"
   },
   {
    "duration": 370,
    "start_time": "2023-06-15T11:53:52.278Z"
   },
   {
    "duration": 171,
    "start_time": "2023-06-15T11:53:52.659Z"
   },
   {
    "duration": 3,
    "start_time": "2023-06-15T11:53:52.834Z"
   },
   {
    "duration": 140,
    "start_time": "2023-06-15T11:53:52.839Z"
   },
   {
    "duration": 367,
    "start_time": "2023-06-15T11:53:52.983Z"
   },
   {
    "duration": 179,
    "start_time": "2023-06-15T11:53:53.352Z"
   },
   {
    "duration": 36,
    "start_time": "2023-06-15T11:53:53.534Z"
   },
   {
    "duration": 15,
    "start_time": "2023-06-15T11:53:53.572Z"
   },
   {
    "duration": 19,
    "start_time": "2023-06-15T11:53:53.590Z"
   },
   {
    "duration": 4,
    "start_time": "2023-06-15T11:53:53.611Z"
   },
   {
    "duration": 235,
    "start_time": "2023-06-15T11:57:57.417Z"
   },
   {
    "duration": 4,
    "start_time": "2023-06-15T11:58:17.616Z"
   },
   {
    "duration": 4,
    "start_time": "2023-06-15T11:58:17.635Z"
   },
   {
    "duration": 972,
    "start_time": "2023-06-15T11:58:17.649Z"
   },
   {
    "duration": 1420,
    "start_time": "2023-06-15T11:58:18.623Z"
   },
   {
    "duration": 496,
    "start_time": "2023-06-15T11:58:20.045Z"
   },
   {
    "duration": 535,
    "start_time": "2023-06-15T11:58:20.543Z"
   },
   {
    "duration": 190,
    "start_time": "2023-06-15T11:58:21.081Z"
   },
   {
    "duration": 51,
    "start_time": "2023-06-15T11:58:21.272Z"
   },
   {
    "duration": 96,
    "start_time": "2023-06-15T11:58:21.325Z"
   },
   {
    "duration": 49,
    "start_time": "2023-06-15T11:58:21.423Z"
   },
   {
    "duration": 18,
    "start_time": "2023-06-15T11:58:21.474Z"
   },
   {
    "duration": 442,
    "start_time": "2023-06-15T11:58:21.495Z"
   },
   {
    "duration": 584,
    "start_time": "2023-06-15T11:58:21.940Z"
   },
   {
    "duration": 411,
    "start_time": "2023-06-15T11:58:22.526Z"
   },
   {
    "duration": 38,
    "start_time": "2023-06-15T11:58:22.939Z"
   },
   {
    "duration": 41,
    "start_time": "2023-06-15T11:58:22.980Z"
   },
   {
    "duration": 18,
    "start_time": "2023-06-15T11:58:23.022Z"
   },
   {
    "duration": 39,
    "start_time": "2023-06-15T11:58:23.042Z"
   },
   {
    "duration": 330,
    "start_time": "2023-06-15T11:58:23.084Z"
   },
   {
    "duration": 321,
    "start_time": "2023-06-15T11:58:23.417Z"
   },
   {
    "duration": 46,
    "start_time": "2023-06-15T11:58:23.741Z"
   },
   {
    "duration": 427,
    "start_time": "2023-06-15T11:58:23.789Z"
   },
   {
    "duration": 420,
    "start_time": "2023-06-15T11:58:24.217Z"
   },
   {
    "duration": 31,
    "start_time": "2023-06-15T11:58:24.638Z"
   },
   {
    "duration": 29,
    "start_time": "2023-06-15T11:58:24.675Z"
   },
   {
    "duration": 16,
    "start_time": "2023-06-15T11:58:24.707Z"
   },
   {
    "duration": 33,
    "start_time": "2023-06-15T11:58:24.725Z"
   },
   {
    "duration": 91,
    "start_time": "2023-06-15T11:58:24.760Z"
   },
   {
    "duration": 485,
    "start_time": "2023-06-15T11:58:24.852Z"
   },
   {
    "duration": 27,
    "start_time": "2023-06-15T11:58:25.341Z"
   },
   {
    "duration": 226,
    "start_time": "2023-06-15T11:58:25.370Z"
   },
   {
    "duration": 16,
    "start_time": "2023-06-15T11:58:25.597Z"
   },
   {
    "duration": 29,
    "start_time": "2023-06-15T11:58:25.615Z"
   },
   {
    "duration": 21,
    "start_time": "2023-06-15T11:58:25.665Z"
   },
   {
    "duration": 26,
    "start_time": "2023-06-15T11:58:25.690Z"
   },
   {
    "duration": 246,
    "start_time": "2023-06-15T11:58:25.718Z"
   },
   {
    "duration": 44,
    "start_time": "2023-06-15T11:58:25.969Z"
   },
   {
    "duration": 16,
    "start_time": "2023-06-15T11:58:26.015Z"
   },
   {
    "duration": 46,
    "start_time": "2023-06-15T11:58:26.033Z"
   },
   {
    "duration": 31,
    "start_time": "2023-06-15T11:58:26.084Z"
   },
   {
    "duration": 29,
    "start_time": "2023-06-15T11:58:26.117Z"
   },
   {
    "duration": 30,
    "start_time": "2023-06-15T11:58:26.148Z"
   },
   {
    "duration": 22,
    "start_time": "2023-06-15T11:58:26.181Z"
   },
   {
    "duration": 36,
    "start_time": "2023-06-15T11:58:26.205Z"
   },
   {
    "duration": 35,
    "start_time": "2023-06-15T11:58:26.242Z"
   },
   {
    "duration": 19,
    "start_time": "2023-06-15T11:58:26.283Z"
   },
   {
    "duration": 42,
    "start_time": "2023-06-15T11:58:26.303Z"
   },
   {
    "duration": 36,
    "start_time": "2023-06-15T11:58:26.347Z"
   },
   {
    "duration": 20,
    "start_time": "2023-06-15T11:58:26.385Z"
   },
   {
    "duration": 29,
    "start_time": "2023-06-15T11:58:26.408Z"
   },
   {
    "duration": 52,
    "start_time": "2023-06-15T11:58:26.439Z"
   },
   {
    "duration": 17,
    "start_time": "2023-06-15T11:58:26.493Z"
   },
   {
    "duration": 101,
    "start_time": "2023-06-15T11:58:26.512Z"
   },
   {
    "duration": 530,
    "start_time": "2023-06-15T11:58:26.615Z"
   },
   {
    "duration": 380,
    "start_time": "2023-06-15T11:58:27.147Z"
   },
   {
    "duration": 169,
    "start_time": "2023-06-15T11:58:27.529Z"
   },
   {
    "duration": 229,
    "start_time": "2023-06-15T11:58:27.700Z"
   },
   {
    "duration": 3,
    "start_time": "2023-06-15T11:58:27.931Z"
   },
   {
    "duration": 116,
    "start_time": "2023-06-15T11:58:27.936Z"
   },
   {
    "duration": 300,
    "start_time": "2023-06-15T11:58:28.054Z"
   },
   {
    "duration": 186,
    "start_time": "2023-06-15T11:58:28.356Z"
   },
   {
    "duration": 25,
    "start_time": "2023-06-15T11:58:28.544Z"
   },
   {
    "duration": 11,
    "start_time": "2023-06-15T11:58:28.585Z"
   },
   {
    "duration": 16,
    "start_time": "2023-06-15T11:58:28.597Z"
   },
   {
    "duration": 11,
    "start_time": "2023-06-15T11:58:28.615Z"
   },
   {
    "duration": 5748,
    "start_time": "2023-06-15T12:02:09.607Z"
   },
   {
    "duration": 56,
    "start_time": "2023-06-15T12:03:45.799Z"
   },
   {
    "duration": 21,
    "start_time": "2023-06-15T12:04:10.111Z"
   },
   {
    "duration": 24,
    "start_time": "2023-06-15T12:04:41.072Z"
   },
   {
    "duration": 2504,
    "start_time": "2023-06-15T12:05:19.949Z"
   },
   {
    "duration": 16,
    "start_time": "2023-06-15T12:05:22.456Z"
   },
   {
    "duration": 857,
    "start_time": "2023-06-15T12:05:22.474Z"
   },
   {
    "duration": 1244,
    "start_time": "2023-06-15T12:05:23.333Z"
   },
   {
    "duration": 443,
    "start_time": "2023-06-15T12:05:24.579Z"
   },
   {
    "duration": 502,
    "start_time": "2023-06-15T12:05:25.024Z"
   },
   {
    "duration": 195,
    "start_time": "2023-06-15T12:05:25.528Z"
   },
   {
    "duration": 52,
    "start_time": "2023-06-15T12:05:25.725Z"
   },
   {
    "duration": 87,
    "start_time": "2023-06-15T12:05:25.780Z"
   },
   {
    "duration": 20,
    "start_time": "2023-06-15T12:05:25.870Z"
   },
   {
    "duration": 14,
    "start_time": "2023-06-15T12:05:25.892Z"
   },
   {
    "duration": 407,
    "start_time": "2023-06-15T12:05:25.908Z"
   },
   {
    "duration": 414,
    "start_time": "2023-06-15T12:05:26.316Z"
   },
   {
    "duration": 383,
    "start_time": "2023-06-15T12:05:26.731Z"
   },
   {
    "duration": 16,
    "start_time": "2023-06-15T12:05:27.115Z"
   },
   {
    "duration": 57,
    "start_time": "2023-06-15T12:05:27.133Z"
   },
   {
    "duration": 17,
    "start_time": "2023-06-15T12:05:27.192Z"
   },
   {
    "duration": 17,
    "start_time": "2023-06-15T12:05:27.212Z"
   },
   {
    "duration": 376,
    "start_time": "2023-06-15T12:05:27.231Z"
   },
   {
    "duration": 466,
    "start_time": "2023-06-15T12:05:27.609Z"
   },
   {
    "duration": 20,
    "start_time": "2023-06-15T12:05:28.079Z"
   },
   {
    "duration": 421,
    "start_time": "2023-06-15T12:05:28.101Z"
   },
   {
    "duration": 389,
    "start_time": "2023-06-15T12:05:28.523Z"
   },
   {
    "duration": 14,
    "start_time": "2023-06-15T12:05:28.914Z"
   },
   {
    "duration": 107,
    "start_time": "2023-06-15T12:05:28.930Z"
   },
   {
    "duration": 22,
    "start_time": "2023-06-15T12:05:29.039Z"
   },
   {
    "duration": 20,
    "start_time": "2023-06-15T12:05:29.066Z"
   },
   {
    "duration": 15,
    "start_time": "2023-06-15T12:05:29.090Z"
   },
   {
    "duration": 343,
    "start_time": "2023-06-15T12:05:29.107Z"
   },
   {
    "duration": 19,
    "start_time": "2023-06-15T12:05:29.452Z"
   },
   {
    "duration": 224,
    "start_time": "2023-06-15T12:05:29.473Z"
   },
   {
    "duration": 15,
    "start_time": "2023-06-15T12:05:29.699Z"
   },
   {
    "duration": 20,
    "start_time": "2023-06-15T12:05:29.716Z"
   },
   {
    "duration": 45,
    "start_time": "2023-06-15T12:05:29.739Z"
   },
   {
    "duration": 4,
    "start_time": "2023-06-15T12:05:29.786Z"
   },
   {
    "duration": 217,
    "start_time": "2023-06-15T12:05:29.791Z"
   },
   {
    "duration": 54,
    "start_time": "2023-06-15T12:05:30.010Z"
   },
   {
    "duration": 18,
    "start_time": "2023-06-15T12:05:30.069Z"
   },
   {
    "duration": 38,
    "start_time": "2023-06-15T12:05:30.089Z"
   },
   {
    "duration": 66,
    "start_time": "2023-06-15T12:05:30.130Z"
   },
   {
    "duration": 30,
    "start_time": "2023-06-15T12:05:30.198Z"
   },
   {
    "duration": 42,
    "start_time": "2023-06-15T12:05:30.230Z"
   },
   {
    "duration": 33,
    "start_time": "2023-06-15T12:05:30.274Z"
   },
   {
    "duration": 66,
    "start_time": "2023-06-15T12:05:30.308Z"
   },
   {
    "duration": 40,
    "start_time": "2023-06-15T12:05:30.376Z"
   },
   {
    "duration": 90,
    "start_time": "2023-06-15T12:05:30.419Z"
   },
   {
    "duration": 81,
    "start_time": "2023-06-15T12:05:30.512Z"
   },
   {
    "duration": 53,
    "start_time": "2023-06-15T12:05:30.594Z"
   },
   {
    "duration": 46,
    "start_time": "2023-06-15T12:05:30.649Z"
   },
   {
    "duration": 59,
    "start_time": "2023-06-15T12:05:30.696Z"
   },
   {
    "duration": 106,
    "start_time": "2023-06-15T12:05:30.761Z"
   },
   {
    "duration": 76,
    "start_time": "2023-06-15T12:05:30.871Z"
   },
   {
    "duration": 86,
    "start_time": "2023-06-15T12:05:30.949Z"
   },
   {
    "duration": 475,
    "start_time": "2023-06-15T12:05:31.037Z"
   },
   {
    "duration": 404,
    "start_time": "2023-06-15T12:05:31.513Z"
   },
   {
    "duration": 157,
    "start_time": "2023-06-15T12:05:31.919Z"
   },
   {
    "duration": 217,
    "start_time": "2023-06-15T12:05:32.078Z"
   },
   {
    "duration": 2,
    "start_time": "2023-06-15T12:05:32.297Z"
   },
   {
    "duration": 104,
    "start_time": "2023-06-15T12:05:32.301Z"
   },
   {
    "duration": 334,
    "start_time": "2023-06-15T12:05:32.407Z"
   },
   {
    "duration": 169,
    "start_time": "2023-06-15T12:05:32.743Z"
   },
   {
    "duration": 14,
    "start_time": "2023-06-15T12:05:32.914Z"
   },
   {
    "duration": 29,
    "start_time": "2023-06-15T12:05:32.930Z"
   },
   {
    "duration": 13,
    "start_time": "2023-06-15T12:05:32.968Z"
   },
   {
    "duration": 23,
    "start_time": "2023-06-15T12:05:32.983Z"
   },
   {
    "duration": 0,
    "start_time": "2023-06-15T12:05:33.007Z"
   },
   {
    "duration": 10093,
    "start_time": "2023-06-15T12:07:39.895Z"
   },
   {
    "duration": 31,
    "start_time": "2023-06-15T12:08:10.944Z"
   },
   {
    "duration": 4198,
    "start_time": "2023-06-15T12:08:25.909Z"
   },
   {
    "duration": 4,
    "start_time": "2023-06-15T12:08:30.111Z"
   },
   {
    "duration": 954,
    "start_time": "2023-06-15T12:08:30.118Z"
   },
   {
    "duration": 1291,
    "start_time": "2023-06-15T12:08:31.073Z"
   },
   {
    "duration": 575,
    "start_time": "2023-06-15T12:08:32.366Z"
   },
   {
    "duration": 532,
    "start_time": "2023-06-15T12:08:32.944Z"
   },
   {
    "duration": 196,
    "start_time": "2023-06-15T12:08:33.477Z"
   },
   {
    "duration": 46,
    "start_time": "2023-06-15T12:08:33.675Z"
   },
   {
    "duration": 97,
    "start_time": "2023-06-15T12:08:33.723Z"
   },
   {
    "duration": 17,
    "start_time": "2023-06-15T12:08:33.822Z"
   },
   {
    "duration": 77,
    "start_time": "2023-06-15T12:08:33.841Z"
   },
   {
    "duration": 465,
    "start_time": "2023-06-15T12:08:33.921Z"
   },
   {
    "duration": 442,
    "start_time": "2023-06-15T12:08:34.388Z"
   },
   {
    "duration": 505,
    "start_time": "2023-06-15T12:08:34.833Z"
   },
   {
    "duration": 32,
    "start_time": "2023-06-15T12:08:35.341Z"
   },
   {
    "duration": 39,
    "start_time": "2023-06-15T12:08:35.375Z"
   },
   {
    "duration": 18,
    "start_time": "2023-06-15T12:08:35.416Z"
   },
   {
    "duration": 39,
    "start_time": "2023-06-15T12:08:35.435Z"
   },
   {
    "duration": 334,
    "start_time": "2023-06-15T12:08:35.476Z"
   },
   {
    "duration": 315,
    "start_time": "2023-06-15T12:08:35.811Z"
   },
   {
    "duration": 36,
    "start_time": "2023-06-15T12:08:36.128Z"
   },
   {
    "duration": 395,
    "start_time": "2023-06-15T12:08:36.173Z"
   },
   {
    "duration": 377,
    "start_time": "2023-06-15T12:08:36.570Z"
   },
   {
    "duration": 30,
    "start_time": "2023-06-15T12:08:36.948Z"
   },
   {
    "duration": 22,
    "start_time": "2023-06-15T12:08:36.981Z"
   },
   {
    "duration": 20,
    "start_time": "2023-06-15T12:08:37.005Z"
   },
   {
    "duration": 39,
    "start_time": "2023-06-15T12:08:37.027Z"
   },
   {
    "duration": 19,
    "start_time": "2023-06-15T12:08:37.070Z"
   },
   {
    "duration": 338,
    "start_time": "2023-06-15T12:08:37.091Z"
   },
   {
    "duration": 39,
    "start_time": "2023-06-15T12:08:37.431Z"
   },
   {
    "duration": 206,
    "start_time": "2023-06-15T12:08:37.472Z"
   },
   {
    "duration": 15,
    "start_time": "2023-06-15T12:08:37.682Z"
   },
   {
    "duration": 34,
    "start_time": "2023-06-15T12:08:37.699Z"
   },
   {
    "duration": 38,
    "start_time": "2023-06-15T12:08:37.736Z"
   },
   {
    "duration": 4,
    "start_time": "2023-06-15T12:08:37.776Z"
   },
   {
    "duration": 253,
    "start_time": "2023-06-15T12:08:37.782Z"
   },
   {
    "duration": 40,
    "start_time": "2023-06-15T12:08:38.037Z"
   },
   {
    "duration": 26,
    "start_time": "2023-06-15T12:08:38.080Z"
   },
   {
    "duration": 25,
    "start_time": "2023-06-15T12:08:38.108Z"
   },
   {
    "duration": 54,
    "start_time": "2023-06-15T12:08:38.135Z"
   },
   {
    "duration": 31,
    "start_time": "2023-06-15T12:08:38.194Z"
   },
   {
    "duration": 36,
    "start_time": "2023-06-15T12:08:38.227Z"
   },
   {
    "duration": 15,
    "start_time": "2023-06-15T12:08:38.271Z"
   },
   {
    "duration": 32,
    "start_time": "2023-06-15T12:08:38.288Z"
   },
   {
    "duration": 45,
    "start_time": "2023-06-15T12:08:38.322Z"
   },
   {
    "duration": 32,
    "start_time": "2023-06-15T12:08:38.372Z"
   },
   {
    "duration": 43,
    "start_time": "2023-06-15T12:08:38.407Z"
   },
   {
    "duration": 44,
    "start_time": "2023-06-15T12:08:38.453Z"
   },
   {
    "duration": 30,
    "start_time": "2023-06-15T12:08:38.498Z"
   },
   {
    "duration": 67,
    "start_time": "2023-06-15T12:08:38.530Z"
   },
   {
    "duration": 15,
    "start_time": "2023-06-15T12:08:38.599Z"
   },
   {
    "duration": 30,
    "start_time": "2023-06-15T12:08:38.616Z"
   },
   {
    "duration": 85,
    "start_time": "2023-06-15T12:08:38.648Z"
   },
   {
    "duration": 640,
    "start_time": "2023-06-15T12:08:38.735Z"
   },
   {
    "duration": 425,
    "start_time": "2023-06-15T12:08:39.377Z"
   },
   {
    "duration": 148,
    "start_time": "2023-06-15T12:08:39.805Z"
   },
   {
    "duration": 241,
    "start_time": "2023-06-15T12:08:39.956Z"
   },
   {
    "duration": 3,
    "start_time": "2023-06-15T12:08:40.199Z"
   },
   {
    "duration": 100,
    "start_time": "2023-06-15T12:08:40.204Z"
   },
   {
    "duration": 272,
    "start_time": "2023-06-15T12:08:40.306Z"
   },
   {
    "duration": 140,
    "start_time": "2023-06-15T12:08:40.580Z"
   },
   {
    "duration": 12,
    "start_time": "2023-06-15T12:08:40.722Z"
   },
   {
    "duration": 27,
    "start_time": "2023-06-15T12:08:40.736Z"
   },
   {
    "duration": 16,
    "start_time": "2023-06-15T12:08:40.765Z"
   },
   {
    "duration": 61456,
    "start_time": "2023-06-15T12:08:40.783Z"
   },
   {
    "duration": 3,
    "start_time": "2023-06-15T12:09:42.241Z"
   },
   {
    "duration": 124,
    "start_time": "2023-06-15T12:58:48.298Z"
   },
   {
    "duration": 2452,
    "start_time": "2023-06-15T12:59:05.737Z"
   },
   {
    "duration": 4,
    "start_time": "2023-06-15T12:59:08.192Z"
   },
   {
    "duration": 944,
    "start_time": "2023-06-15T12:59:08.198Z"
   },
   {
    "duration": 1293,
    "start_time": "2023-06-15T12:59:09.144Z"
   },
   {
    "duration": 449,
    "start_time": "2023-06-15T12:59:10.438Z"
   },
   {
    "duration": 461,
    "start_time": "2023-06-15T12:59:10.889Z"
   },
   {
    "duration": 181,
    "start_time": "2023-06-15T12:59:11.356Z"
   },
   {
    "duration": 48,
    "start_time": "2023-06-15T12:59:11.539Z"
   },
   {
    "duration": 87,
    "start_time": "2023-06-15T12:59:11.589Z"
   },
   {
    "duration": 18,
    "start_time": "2023-06-15T12:59:11.680Z"
   },
   {
    "duration": 15,
    "start_time": "2023-06-15T12:59:11.700Z"
   },
   {
    "duration": 400,
    "start_time": "2023-06-15T12:59:11.717Z"
   },
   {
    "duration": 440,
    "start_time": "2023-06-15T12:59:12.119Z"
   },
   {
    "duration": 417,
    "start_time": "2023-06-15T12:59:12.561Z"
   },
   {
    "duration": 19,
    "start_time": "2023-06-15T12:59:12.980Z"
   },
   {
    "duration": 57,
    "start_time": "2023-06-15T12:59:13.001Z"
   },
   {
    "duration": 18,
    "start_time": "2023-06-15T12:59:13.061Z"
   },
   {
    "duration": 14,
    "start_time": "2023-06-15T12:59:13.081Z"
   },
   {
    "duration": 361,
    "start_time": "2023-06-15T12:59:13.098Z"
   },
   {
    "duration": 312,
    "start_time": "2023-06-15T12:59:13.461Z"
   },
   {
    "duration": 21,
    "start_time": "2023-06-15T12:59:13.775Z"
   },
   {
    "duration": 550,
    "start_time": "2023-06-15T12:59:13.798Z"
   },
   {
    "duration": 359,
    "start_time": "2023-06-15T12:59:14.356Z"
   },
   {
    "duration": 16,
    "start_time": "2023-06-15T12:59:14.717Z"
   },
   {
    "duration": 38,
    "start_time": "2023-06-15T12:59:14.735Z"
   },
   {
    "duration": 18,
    "start_time": "2023-06-15T12:59:14.775Z"
   },
   {
    "duration": 29,
    "start_time": "2023-06-15T12:59:14.795Z"
   },
   {
    "duration": 15,
    "start_time": "2023-06-15T12:59:14.828Z"
   },
   {
    "duration": 278,
    "start_time": "2023-06-15T12:59:14.857Z"
   },
   {
    "duration": 24,
    "start_time": "2023-06-15T12:59:15.137Z"
   },
   {
    "duration": 215,
    "start_time": "2023-06-15T12:59:15.163Z"
   },
   {
    "duration": 16,
    "start_time": "2023-06-15T12:59:15.380Z"
   },
   {
    "duration": 25,
    "start_time": "2023-06-15T12:59:15.398Z"
   },
   {
    "duration": 39,
    "start_time": "2023-06-15T12:59:15.425Z"
   },
   {
    "duration": 4,
    "start_time": "2023-06-15T12:59:15.466Z"
   },
   {
    "duration": 230,
    "start_time": "2023-06-15T12:59:15.472Z"
   },
   {
    "duration": 35,
    "start_time": "2023-06-15T12:59:15.704Z"
   },
   {
    "duration": 15,
    "start_time": "2023-06-15T12:59:15.757Z"
   },
   {
    "duration": 17,
    "start_time": "2023-06-15T12:59:15.774Z"
   },
   {
    "duration": 31,
    "start_time": "2023-06-15T12:59:15.793Z"
   },
   {
    "duration": 47,
    "start_time": "2023-06-15T12:59:15.827Z"
   },
   {
    "duration": 20,
    "start_time": "2023-06-15T12:59:15.877Z"
   },
   {
    "duration": 20,
    "start_time": "2023-06-15T12:59:15.898Z"
   },
   {
    "duration": 51,
    "start_time": "2023-06-15T12:59:15.919Z"
   },
   {
    "duration": 23,
    "start_time": "2023-06-15T12:59:15.972Z"
   },
   {
    "duration": 22,
    "start_time": "2023-06-15T12:59:15.998Z"
   },
   {
    "duration": 35,
    "start_time": "2023-06-15T12:59:16.022Z"
   },
   {
    "duration": 54,
    "start_time": "2023-06-15T12:59:16.059Z"
   },
   {
    "duration": 27,
    "start_time": "2023-06-15T12:59:16.115Z"
   },
   {
    "duration": 34,
    "start_time": "2023-06-15T12:59:16.144Z"
   },
   {
    "duration": 39,
    "start_time": "2023-06-15T12:59:16.179Z"
   },
   {
    "duration": 23,
    "start_time": "2023-06-15T12:59:16.220Z"
   },
   {
    "duration": 71,
    "start_time": "2023-06-15T12:59:16.245Z"
   },
   {
    "duration": 400,
    "start_time": "2023-06-15T12:59:16.318Z"
   },
   {
    "duration": 377,
    "start_time": "2023-06-15T12:59:16.720Z"
   },
   {
    "duration": 162,
    "start_time": "2023-06-15T12:59:17.100Z"
   },
   {
    "duration": 245,
    "start_time": "2023-06-15T12:59:17.264Z"
   },
   {
    "duration": 3,
    "start_time": "2023-06-15T12:59:17.511Z"
   },
   {
    "duration": 88,
    "start_time": "2023-06-15T12:59:17.515Z"
   },
   {
    "duration": 270,
    "start_time": "2023-06-15T12:59:17.605Z"
   },
   {
    "duration": 144,
    "start_time": "2023-06-15T12:59:17.877Z"
   },
   {
    "duration": 18,
    "start_time": "2023-06-15T12:59:18.023Z"
   },
   {
    "duration": 9,
    "start_time": "2023-06-15T12:59:18.056Z"
   },
   {
    "duration": 15,
    "start_time": "2023-06-15T12:59:18.067Z"
   },
   {
    "duration": 4808,
    "start_time": "2023-06-15T13:00:07.868Z"
   },
   {
    "duration": 4,
    "start_time": "2023-06-15T13:00:12.678Z"
   },
   {
    "duration": 3010,
    "start_time": "2023-06-15T13:00:12.684Z"
   },
   {
    "duration": 1265,
    "start_time": "2023-06-15T13:00:15.696Z"
   },
   {
    "duration": 527,
    "start_time": "2023-06-15T13:00:16.963Z"
   },
   {
    "duration": 568,
    "start_time": "2023-06-15T13:00:17.491Z"
   },
   {
    "duration": 182,
    "start_time": "2023-06-15T13:00:18.061Z"
   },
   {
    "duration": 55,
    "start_time": "2023-06-15T13:00:18.245Z"
   },
   {
    "duration": 94,
    "start_time": "2023-06-15T13:00:18.302Z"
   },
   {
    "duration": 21,
    "start_time": "2023-06-15T13:00:18.400Z"
   },
   {
    "duration": 83,
    "start_time": "2023-06-15T13:00:18.423Z"
   },
   {
    "duration": 505,
    "start_time": "2023-06-15T13:00:18.507Z"
   },
   {
    "duration": 444,
    "start_time": "2023-06-15T13:00:19.014Z"
   },
   {
    "duration": 523,
    "start_time": "2023-06-15T13:00:19.460Z"
   },
   {
    "duration": 18,
    "start_time": "2023-06-15T13:00:19.986Z"
   },
   {
    "duration": 61,
    "start_time": "2023-06-15T13:00:20.005Z"
   },
   {
    "duration": 18,
    "start_time": "2023-06-15T13:00:20.068Z"
   },
   {
    "duration": 20,
    "start_time": "2023-06-15T13:00:20.088Z"
   },
   {
    "duration": 356,
    "start_time": "2023-06-15T13:00:20.110Z"
   },
   {
    "duration": 354,
    "start_time": "2023-06-15T13:00:20.468Z"
   },
   {
    "duration": 41,
    "start_time": "2023-06-15T13:00:20.824Z"
   },
   {
    "duration": 431,
    "start_time": "2023-06-15T13:00:20.867Z"
   },
   {
    "duration": 367,
    "start_time": "2023-06-15T13:00:21.301Z"
   },
   {
    "duration": 18,
    "start_time": "2023-06-15T13:00:21.670Z"
   },
   {
    "duration": 31,
    "start_time": "2023-06-15T13:00:21.690Z"
   },
   {
    "duration": 45,
    "start_time": "2023-06-15T13:00:21.723Z"
   },
   {
    "duration": 18,
    "start_time": "2023-06-15T13:00:21.770Z"
   },
   {
    "duration": 16,
    "start_time": "2023-06-15T13:00:21.793Z"
   },
   {
    "duration": 308,
    "start_time": "2023-06-15T13:00:21.811Z"
   },
   {
    "duration": 15,
    "start_time": "2023-06-15T13:00:22.121Z"
   },
   {
    "duration": 371,
    "start_time": "2023-06-15T13:00:22.137Z"
   },
   {
    "duration": 17,
    "start_time": "2023-06-15T13:00:22.509Z"
   },
   {
    "duration": 47,
    "start_time": "2023-06-15T13:00:22.528Z"
   },
   {
    "duration": 20,
    "start_time": "2023-06-15T13:00:22.576Z"
   },
   {
    "duration": 5,
    "start_time": "2023-06-15T13:00:22.598Z"
   },
   {
    "duration": 243,
    "start_time": "2023-06-15T13:00:22.606Z"
   },
   {
    "duration": 50,
    "start_time": "2023-06-15T13:00:22.852Z"
   },
   {
    "duration": 19,
    "start_time": "2023-06-15T13:00:22.904Z"
   },
   {
    "duration": 47,
    "start_time": "2023-06-15T13:00:22.925Z"
   },
   {
    "duration": 38,
    "start_time": "2023-06-15T13:00:22.974Z"
   },
   {
    "duration": 47,
    "start_time": "2023-06-15T13:00:23.014Z"
   },
   {
    "duration": 22,
    "start_time": "2023-06-15T13:00:23.063Z"
   },
   {
    "duration": 16,
    "start_time": "2023-06-15T13:00:23.087Z"
   },
   {
    "duration": 52,
    "start_time": "2023-06-15T13:00:23.105Z"
   },
   {
    "duration": 16,
    "start_time": "2023-06-15T13:00:23.160Z"
   },
   {
    "duration": 17,
    "start_time": "2023-06-15T13:00:23.178Z"
   },
   {
    "duration": 37,
    "start_time": "2023-06-15T13:00:23.197Z"
   },
   {
    "duration": 22,
    "start_time": "2023-06-15T13:00:23.258Z"
   },
   {
    "duration": 163,
    "start_time": "2023-06-15T13:00:23.282Z"
   },
   {
    "duration": 36,
    "start_time": "2023-06-15T13:00:23.447Z"
   },
   {
    "duration": 16,
    "start_time": "2023-06-15T13:00:23.486Z"
   },
   {
    "duration": 17,
    "start_time": "2023-06-15T13:00:23.504Z"
   },
   {
    "duration": 87,
    "start_time": "2023-06-15T13:00:23.522Z"
   },
   {
    "duration": 424,
    "start_time": "2023-06-15T13:00:23.611Z"
   },
   {
    "duration": 388,
    "start_time": "2023-06-15T13:00:24.037Z"
   },
   {
    "duration": 143,
    "start_time": "2023-06-15T13:00:24.428Z"
   },
   {
    "duration": 208,
    "start_time": "2023-06-15T13:00:24.573Z"
   },
   {
    "duration": 3,
    "start_time": "2023-06-15T13:00:24.783Z"
   },
   {
    "duration": 97,
    "start_time": "2023-06-15T13:00:24.788Z"
   },
   {
    "duration": 285,
    "start_time": "2023-06-15T13:00:24.887Z"
   },
   {
    "duration": 144,
    "start_time": "2023-06-15T13:00:25.174Z"
   },
   {
    "duration": 16,
    "start_time": "2023-06-15T13:00:25.320Z"
   },
   {
    "duration": 37,
    "start_time": "2023-06-15T13:00:25.337Z"
   },
   {
    "duration": 34,
    "start_time": "2023-06-15T13:00:25.376Z"
   },
   {
    "duration": 68916,
    "start_time": "2023-06-15T13:00:25.412Z"
   },
   {
    "duration": 134,
    "start_time": "2023-06-15T13:01:34.329Z"
   },
   {
    "duration": 5297,
    "start_time": "2023-06-15T13:02:21.841Z"
   },
   {
    "duration": 320707,
    "start_time": "2023-06-15T13:02:43.459Z"
   },
   {
    "duration": 11,
    "start_time": "2023-06-15T13:08:46.517Z"
   },
   {
    "duration": 7133,
    "start_time": "2023-06-15T13:09:18.245Z"
   },
   {
    "duration": 7488,
    "start_time": "2023-06-15T15:50:35.820Z"
   },
   {
    "duration": 5,
    "start_time": "2023-06-15T15:50:43.310Z"
   },
   {
    "duration": 1033,
    "start_time": "2023-06-15T15:50:43.316Z"
   },
   {
    "duration": 1119,
    "start_time": "2023-06-15T15:50:44.350Z"
   },
   {
    "duration": 445,
    "start_time": "2023-06-15T15:50:45.471Z"
   },
   {
    "duration": 446,
    "start_time": "2023-06-15T15:50:45.917Z"
   },
   {
    "duration": 197,
    "start_time": "2023-06-15T15:50:46.365Z"
   },
   {
    "duration": 45,
    "start_time": "2023-06-15T15:50:46.563Z"
   },
   {
    "duration": 97,
    "start_time": "2023-06-15T15:50:46.609Z"
   },
   {
    "duration": 56,
    "start_time": "2023-06-15T15:50:46.708Z"
   },
   {
    "duration": 108,
    "start_time": "2023-06-15T15:50:46.766Z"
   },
   {
    "duration": 385,
    "start_time": "2023-06-15T15:50:46.876Z"
   },
   {
    "duration": 444,
    "start_time": "2023-06-15T15:50:47.263Z"
   },
   {
    "duration": 375,
    "start_time": "2023-06-15T15:50:47.709Z"
   },
   {
    "duration": 14,
    "start_time": "2023-06-15T15:50:48.086Z"
   },
   {
    "duration": 47,
    "start_time": "2023-06-15T15:50:48.101Z"
   },
   {
    "duration": 15,
    "start_time": "2023-06-15T15:50:48.150Z"
   },
   {
    "duration": 12,
    "start_time": "2023-06-15T15:50:48.166Z"
   },
   {
    "duration": 311,
    "start_time": "2023-06-15T15:50:48.180Z"
   },
   {
    "duration": 281,
    "start_time": "2023-06-15T15:50:48.493Z"
   },
   {
    "duration": 20,
    "start_time": "2023-06-15T15:50:48.776Z"
   },
   {
    "duration": 357,
    "start_time": "2023-06-15T15:50:48.797Z"
   },
   {
    "duration": 330,
    "start_time": "2023-06-15T15:50:49.156Z"
   },
   {
    "duration": 13,
    "start_time": "2023-06-15T15:50:49.487Z"
   },
   {
    "duration": 32,
    "start_time": "2023-06-15T15:50:49.502Z"
   },
   {
    "duration": 17,
    "start_time": "2023-06-15T15:50:49.536Z"
   },
   {
    "duration": 18,
    "start_time": "2023-06-15T15:50:49.555Z"
   },
   {
    "duration": 12,
    "start_time": "2023-06-15T15:50:49.574Z"
   },
   {
    "duration": 276,
    "start_time": "2023-06-15T15:50:49.587Z"
   },
   {
    "duration": 13,
    "start_time": "2023-06-15T15:50:49.865Z"
   },
   {
    "duration": 303,
    "start_time": "2023-06-15T15:50:49.880Z"
   },
   {
    "duration": 14,
    "start_time": "2023-06-15T15:50:50.185Z"
   },
   {
    "duration": 31,
    "start_time": "2023-06-15T15:50:50.200Z"
   },
   {
    "duration": 19,
    "start_time": "2023-06-15T15:50:50.233Z"
   },
   {
    "duration": 4,
    "start_time": "2023-06-15T15:50:50.254Z"
   },
   {
    "duration": 236,
    "start_time": "2023-06-15T15:50:50.260Z"
   },
   {
    "duration": 38,
    "start_time": "2023-06-15T15:50:50.498Z"
   },
   {
    "duration": 22,
    "start_time": "2023-06-15T15:50:50.537Z"
   },
   {
    "duration": 16,
    "start_time": "2023-06-15T15:50:50.560Z"
   },
   {
    "duration": 41,
    "start_time": "2023-06-15T15:50:50.577Z"
   },
   {
    "duration": 39,
    "start_time": "2023-06-15T15:50:50.622Z"
   },
   {
    "duration": 24,
    "start_time": "2023-06-15T15:50:50.662Z"
   },
   {
    "duration": 19,
    "start_time": "2023-06-15T15:50:50.688Z"
   },
   {
    "duration": 36,
    "start_time": "2023-06-15T15:50:50.708Z"
   },
   {
    "duration": 50,
    "start_time": "2023-06-15T15:50:50.746Z"
   },
   {
    "duration": 28,
    "start_time": "2023-06-15T15:50:50.799Z"
   },
   {
    "duration": 48,
    "start_time": "2023-06-15T15:50:50.829Z"
   },
   {
    "duration": 43,
    "start_time": "2023-06-15T15:50:50.879Z"
   },
   {
    "duration": 41,
    "start_time": "2023-06-15T15:50:50.924Z"
   },
   {
    "duration": 31,
    "start_time": "2023-06-15T15:50:50.967Z"
   },
   {
    "duration": 22,
    "start_time": "2023-06-15T15:50:50.999Z"
   },
   {
    "duration": 28,
    "start_time": "2023-06-15T15:50:51.023Z"
   },
   {
    "duration": 81,
    "start_time": "2023-06-15T15:50:51.053Z"
   },
   {
    "duration": 418,
    "start_time": "2023-06-15T15:50:51.136Z"
   },
   {
    "duration": 393,
    "start_time": "2023-06-15T15:50:51.556Z"
   },
   {
    "duration": 129,
    "start_time": "2023-06-15T15:50:51.951Z"
   },
   {
    "duration": 198,
    "start_time": "2023-06-15T15:50:52.082Z"
   },
   {
    "duration": 3,
    "start_time": "2023-06-15T15:50:52.282Z"
   },
   {
    "duration": 71,
    "start_time": "2023-06-15T15:50:52.287Z"
   },
   {
    "duration": 261,
    "start_time": "2023-06-15T15:50:52.360Z"
   },
   {
    "duration": 135,
    "start_time": "2023-06-15T15:50:52.622Z"
   },
   {
    "duration": 13,
    "start_time": "2023-06-15T15:50:52.758Z"
   },
   {
    "duration": 53,
    "start_time": "2023-06-15T15:50:52.773Z"
   },
   {
    "duration": 17,
    "start_time": "2023-06-15T15:50:52.828Z"
   },
   {
    "duration": 115,
    "start_time": "2023-06-15T15:50:52.847Z"
   },
   {
    "duration": 0,
    "start_time": "2023-06-15T15:50:52.964Z"
   },
   {
    "duration": 0,
    "start_time": "2023-06-15T15:50:52.965Z"
   },
   {
    "duration": 0,
    "start_time": "2023-06-15T15:50:52.967Z"
   },
   {
    "duration": 22,
    "start_time": "2023-06-15T15:52:02.037Z"
   },
   {
    "duration": 3834,
    "start_time": "2023-06-15T15:52:12.975Z"
   },
   {
    "duration": 4,
    "start_time": "2023-06-15T15:52:16.813Z"
   },
   {
    "duration": 837,
    "start_time": "2023-06-15T15:52:16.818Z"
   },
   {
    "duration": 1123,
    "start_time": "2023-06-15T15:52:17.658Z"
   },
   {
    "duration": 491,
    "start_time": "2023-06-15T15:52:18.783Z"
   },
   {
    "duration": 540,
    "start_time": "2023-06-15T15:52:19.276Z"
   },
   {
    "duration": 238,
    "start_time": "2023-06-15T15:52:19.818Z"
   },
   {
    "duration": 48,
    "start_time": "2023-06-15T15:52:20.058Z"
   },
   {
    "duration": 124,
    "start_time": "2023-06-15T15:52:20.108Z"
   },
   {
    "duration": 46,
    "start_time": "2023-06-15T15:52:20.235Z"
   },
   {
    "duration": 72,
    "start_time": "2023-06-15T15:52:20.283Z"
   },
   {
    "duration": 485,
    "start_time": "2023-06-15T15:52:20.357Z"
   },
   {
    "duration": 500,
    "start_time": "2023-06-15T15:52:20.844Z"
   },
   {
    "duration": 608,
    "start_time": "2023-06-15T15:52:21.346Z"
   },
   {
    "duration": 17,
    "start_time": "2023-06-15T15:52:21.956Z"
   },
   {
    "duration": 57,
    "start_time": "2023-06-15T15:52:21.975Z"
   },
   {
    "duration": 21,
    "start_time": "2023-06-15T15:52:22.034Z"
   },
   {
    "duration": 28,
    "start_time": "2023-06-15T15:52:22.057Z"
   },
   {
    "duration": 369,
    "start_time": "2023-06-15T15:52:22.087Z"
   },
   {
    "duration": 328,
    "start_time": "2023-06-15T15:52:22.458Z"
   },
   {
    "duration": 27,
    "start_time": "2023-06-15T15:52:22.789Z"
   },
   {
    "duration": 478,
    "start_time": "2023-06-15T15:52:22.832Z"
   },
   {
    "duration": 420,
    "start_time": "2023-06-15T15:52:23.312Z"
   },
   {
    "duration": 23,
    "start_time": "2023-06-15T15:52:23.735Z"
   },
   {
    "duration": 24,
    "start_time": "2023-06-15T15:52:23.760Z"
   },
   {
    "duration": 18,
    "start_time": "2023-06-15T15:52:23.786Z"
   },
   {
    "duration": 20,
    "start_time": "2023-06-15T15:52:23.831Z"
   },
   {
    "duration": 14,
    "start_time": "2023-06-15T15:52:23.857Z"
   },
   {
    "duration": 321,
    "start_time": "2023-06-15T15:52:23.873Z"
   },
   {
    "duration": 15,
    "start_time": "2023-06-15T15:52:24.195Z"
   },
   {
    "duration": 250,
    "start_time": "2023-06-15T15:52:24.212Z"
   },
   {
    "duration": 14,
    "start_time": "2023-06-15T15:52:24.465Z"
   },
   {
    "duration": 47,
    "start_time": "2023-06-15T15:52:24.481Z"
   },
   {
    "duration": 60,
    "start_time": "2023-06-15T15:52:24.530Z"
   },
   {
    "duration": 13,
    "start_time": "2023-06-15T15:52:24.592Z"
   },
   {
    "duration": 354,
    "start_time": "2023-06-15T15:52:24.607Z"
   },
   {
    "duration": 44,
    "start_time": "2023-06-15T15:52:24.963Z"
   },
   {
    "duration": 94,
    "start_time": "2023-06-15T15:52:25.009Z"
   },
   {
    "duration": 49,
    "start_time": "2023-06-15T15:52:25.105Z"
   },
   {
    "duration": 45,
    "start_time": "2023-06-15T15:52:25.156Z"
   },
   {
    "duration": 33,
    "start_time": "2023-06-15T15:52:25.202Z"
   },
   {
    "duration": 23,
    "start_time": "2023-06-15T15:52:25.237Z"
   },
   {
    "duration": 18,
    "start_time": "2023-06-15T15:52:25.263Z"
   },
   {
    "duration": 51,
    "start_time": "2023-06-15T15:52:25.283Z"
   },
   {
    "duration": 26,
    "start_time": "2023-06-15T15:52:25.336Z"
   },
   {
    "duration": 22,
    "start_time": "2023-06-15T15:52:25.364Z"
   },
   {
    "duration": 35,
    "start_time": "2023-06-15T15:52:25.387Z"
   },
   {
    "duration": 23,
    "start_time": "2023-06-15T15:52:25.431Z"
   },
   {
    "duration": 141,
    "start_time": "2023-06-15T15:52:25.455Z"
   },
   {
    "duration": 45,
    "start_time": "2023-06-15T15:52:25.598Z"
   },
   {
    "duration": 24,
    "start_time": "2023-06-15T15:52:25.645Z"
   },
   {
    "duration": 21,
    "start_time": "2023-06-15T15:52:25.671Z"
   },
   {
    "duration": 89,
    "start_time": "2023-06-15T15:52:25.694Z"
   },
   {
    "duration": 481,
    "start_time": "2023-06-15T15:52:25.785Z"
   },
   {
    "duration": 430,
    "start_time": "2023-06-15T15:52:26.268Z"
   },
   {
    "duration": 152,
    "start_time": "2023-06-15T15:52:26.700Z"
   },
   {
    "duration": 219,
    "start_time": "2023-06-15T15:52:26.854Z"
   },
   {
    "duration": 3,
    "start_time": "2023-06-15T15:52:27.074Z"
   },
   {
    "duration": 76,
    "start_time": "2023-06-15T15:52:27.078Z"
   },
   {
    "duration": 287,
    "start_time": "2023-06-15T15:52:27.156Z"
   },
   {
    "duration": 156,
    "start_time": "2023-06-15T15:52:27.445Z"
   },
   {
    "duration": 13,
    "start_time": "2023-06-15T15:52:27.603Z"
   },
   {
    "duration": 7,
    "start_time": "2023-06-15T15:52:27.633Z"
   },
   {
    "duration": 32,
    "start_time": "2023-06-15T15:52:27.642Z"
   },
   {
    "duration": 56734,
    "start_time": "2023-06-15T15:52:27.676Z"
   },
   {
    "duration": 407042,
    "start_time": "2023-06-15T15:53:24.412Z"
   },
   {
    "duration": 78,
    "start_time": "2023-06-15T16:00:11.458Z"
   },
   {
    "duration": 15461,
    "start_time": "2023-06-15T16:00:11.538Z"
   },
   {
    "duration": 9574,
    "start_time": "2023-06-15T16:12:17.747Z"
   },
   {
    "duration": 9508,
    "start_time": "2023-06-15T16:13:04.315Z"
   },
   {
    "duration": 11586,
    "start_time": "2023-06-15T16:15:07.211Z"
   },
   {
    "duration": 11,
    "start_time": "2023-06-15T17:10:46.853Z"
   },
   {
    "duration": 7,
    "start_time": "2023-06-15T17:10:50.158Z"
   },
   {
    "duration": 530,
    "start_time": "2023-06-15T17:13:30.710Z"
   },
   {
    "duration": 153,
    "start_time": "2023-06-15T17:14:48.050Z"
   },
   {
    "duration": 208447,
    "start_time": "2023-06-15T17:17:35.670Z"
   },
   {
    "duration": 7,
    "start_time": "2023-06-15T17:35:46.394Z"
   },
   {
    "duration": 13,
    "start_time": "2023-06-15T17:36:25.638Z"
   },
   {
    "duration": 95,
    "start_time": "2023-06-15T17:37:12.238Z"
   },
   {
    "duration": 9,
    "start_time": "2023-06-15T17:37:50.656Z"
   },
   {
    "duration": 137,
    "start_time": "2023-06-15T17:38:02.846Z"
   },
   {
    "duration": 71,
    "start_time": "2023-06-15T17:38:42.758Z"
   },
   {
    "duration": 24,
    "start_time": "2023-06-15T17:39:00.410Z"
   },
   {
    "duration": 121,
    "start_time": "2023-06-15T17:53:52.845Z"
   },
   {
    "duration": 2622,
    "start_time": "2023-06-15T17:54:05.515Z"
   },
   {
    "duration": 144,
    "start_time": "2023-06-15T18:01:44.476Z"
   },
   {
    "duration": 77,
    "start_time": "2023-06-15T18:09:09.052Z"
   },
   {
    "duration": 3770241,
    "start_time": "2023-06-15T18:11:18.288Z"
   },
   {
    "duration": 8097,
    "start_time": "2023-06-17T06:41:05.222Z"
   },
   {
    "duration": 3,
    "start_time": "2023-06-17T06:41:13.322Z"
   },
   {
    "duration": 1171,
    "start_time": "2023-06-17T06:41:13.327Z"
   },
   {
    "duration": 1015,
    "start_time": "2023-06-17T06:41:14.506Z"
   },
   {
    "duration": 386,
    "start_time": "2023-06-17T06:41:15.523Z"
   },
   {
    "duration": 441,
    "start_time": "2023-06-17T06:41:15.910Z"
   },
   {
    "duration": 186,
    "start_time": "2023-06-17T06:41:16.353Z"
   },
   {
    "duration": 33,
    "start_time": "2023-06-17T06:41:16.540Z"
   },
   {
    "duration": 95,
    "start_time": "2023-06-17T06:41:16.574Z"
   },
   {
    "duration": 15,
    "start_time": "2023-06-17T06:41:16.671Z"
   },
   {
    "duration": 51,
    "start_time": "2023-06-17T06:41:16.699Z"
   },
   {
    "duration": 388,
    "start_time": "2023-06-17T06:41:16.752Z"
   },
   {
    "duration": 426,
    "start_time": "2023-06-17T06:41:17.142Z"
   },
   {
    "duration": 349,
    "start_time": "2023-06-17T06:41:17.571Z"
   },
   {
    "duration": 20,
    "start_time": "2023-06-17T06:41:17.922Z"
   },
   {
    "duration": 69,
    "start_time": "2023-06-17T06:41:17.944Z"
   },
   {
    "duration": 15,
    "start_time": "2023-06-17T06:41:18.015Z"
   },
   {
    "duration": 12,
    "start_time": "2023-06-17T06:41:18.032Z"
   },
   {
    "duration": 316,
    "start_time": "2023-06-17T06:41:18.045Z"
   },
   {
    "duration": 282,
    "start_time": "2023-06-17T06:41:18.362Z"
   },
   {
    "duration": 18,
    "start_time": "2023-06-17T06:41:18.645Z"
   },
   {
    "duration": 374,
    "start_time": "2023-06-17T06:41:18.665Z"
   },
   {
    "duration": 332,
    "start_time": "2023-06-17T06:41:19.040Z"
   },
   {
    "duration": 14,
    "start_time": "2023-06-17T06:41:19.373Z"
   },
   {
    "duration": 68,
    "start_time": "2023-06-17T06:41:19.389Z"
   },
   {
    "duration": 18,
    "start_time": "2023-06-17T06:41:19.459Z"
   },
   {
    "duration": 19,
    "start_time": "2023-06-17T06:41:19.479Z"
   },
   {
    "duration": 46,
    "start_time": "2023-06-17T06:41:19.499Z"
   },
   {
    "duration": 248,
    "start_time": "2023-06-17T06:41:19.547Z"
   },
   {
    "duration": 25,
    "start_time": "2023-06-17T06:41:19.796Z"
   },
   {
    "duration": 268,
    "start_time": "2023-06-17T06:41:19.822Z"
   },
   {
    "duration": 25,
    "start_time": "2023-06-17T06:41:20.091Z"
   },
   {
    "duration": 27,
    "start_time": "2023-06-17T06:41:20.118Z"
   },
   {
    "duration": 14,
    "start_time": "2023-06-17T06:41:20.146Z"
   },
   {
    "duration": 21,
    "start_time": "2023-06-17T06:41:20.161Z"
   },
   {
    "duration": 209,
    "start_time": "2023-06-17T06:41:20.183Z"
   },
   {
    "duration": 34,
    "start_time": "2023-06-17T06:41:20.399Z"
   },
   {
    "duration": 15,
    "start_time": "2023-06-17T06:41:20.434Z"
   },
   {
    "duration": 38,
    "start_time": "2023-06-17T06:41:20.451Z"
   },
   {
    "duration": 45,
    "start_time": "2023-06-17T06:41:20.491Z"
   },
   {
    "duration": 36,
    "start_time": "2023-06-17T06:41:20.541Z"
   },
   {
    "duration": 42,
    "start_time": "2023-06-17T06:41:20.579Z"
   },
   {
    "duration": 22,
    "start_time": "2023-06-17T06:41:20.622Z"
   },
   {
    "duration": 41,
    "start_time": "2023-06-17T06:41:20.646Z"
   },
   {
    "duration": 39,
    "start_time": "2023-06-17T06:41:20.688Z"
   },
   {
    "duration": 53,
    "start_time": "2023-06-17T06:41:20.728Z"
   },
   {
    "duration": 68,
    "start_time": "2023-06-17T06:41:20.782Z"
   },
   {
    "duration": 33,
    "start_time": "2023-06-17T06:41:20.851Z"
   },
   {
    "duration": 73,
    "start_time": "2023-06-17T06:41:20.886Z"
   },
   {
    "duration": 44,
    "start_time": "2023-06-17T06:41:20.961Z"
   },
   {
    "duration": 86,
    "start_time": "2023-06-17T06:41:21.008Z"
   },
   {
    "duration": 36,
    "start_time": "2023-06-17T06:41:21.095Z"
   },
   {
    "duration": 89,
    "start_time": "2023-06-17T06:41:21.133Z"
   },
   {
    "duration": 400,
    "start_time": "2023-06-17T06:41:21.223Z"
   },
   {
    "duration": 308,
    "start_time": "2023-06-17T06:41:21.625Z"
   },
   {
    "duration": 134,
    "start_time": "2023-06-17T06:41:21.935Z"
   },
   {
    "duration": 209,
    "start_time": "2023-06-17T06:41:22.071Z"
   },
   {
    "duration": 1065,
    "start_time": "2023-06-17T06:41:22.281Z"
   },
   {
    "duration": 670,
    "start_time": "2023-06-17T06:41:23.348Z"
   },
   {
    "duration": 261,
    "start_time": "2023-06-17T06:41:24.020Z"
   },
   {
    "duration": 140,
    "start_time": "2023-06-17T06:41:24.283Z"
   },
   {
    "duration": 14,
    "start_time": "2023-06-17T06:41:24.424Z"
   },
   {
    "duration": 35,
    "start_time": "2023-06-17T06:41:24.440Z"
   },
   {
    "duration": 633,
    "start_time": "2023-06-17T06:41:24.477Z"
   },
   {
    "duration": 210,
    "start_time": "2023-06-17T06:41:25.111Z"
   },
   {
    "duration": 8,
    "start_time": "2023-06-17T06:41:25.323Z"
   },
   {
    "duration": 160,
    "start_time": "2023-06-17T06:41:25.333Z"
   },
   {
    "duration": 0,
    "start_time": "2023-06-17T06:41:25.494Z"
   },
   {
    "duration": 0,
    "start_time": "2023-06-17T06:41:25.496Z"
   },
   {
    "duration": 0,
    "start_time": "2023-06-17T06:41:25.497Z"
   },
   {
    "duration": 0,
    "start_time": "2023-06-17T06:41:25.509Z"
   },
   {
    "duration": 0,
    "start_time": "2023-06-17T06:41:25.510Z"
   },
   {
    "duration": 0,
    "start_time": "2023-06-17T06:41:25.510Z"
   },
   {
    "duration": 0,
    "start_time": "2023-06-17T06:41:25.511Z"
   },
   {
    "duration": 3575,
    "start_time": "2023-06-17T06:41:52.590Z"
   },
   {
    "duration": 5,
    "start_time": "2023-06-17T06:41:56.168Z"
   },
   {
    "duration": 835,
    "start_time": "2023-06-17T06:41:56.174Z"
   },
   {
    "duration": 971,
    "start_time": "2023-06-17T06:41:57.014Z"
   },
   {
    "duration": 390,
    "start_time": "2023-06-17T06:41:57.987Z"
   },
   {
    "duration": 380,
    "start_time": "2023-06-17T06:41:58.378Z"
   },
   {
    "duration": 194,
    "start_time": "2023-06-17T06:41:58.760Z"
   },
   {
    "duration": 35,
    "start_time": "2023-06-17T06:41:58.955Z"
   },
   {
    "duration": 90,
    "start_time": "2023-06-17T06:41:58.992Z"
   },
   {
    "duration": 31,
    "start_time": "2023-06-17T06:41:59.086Z"
   },
   {
    "duration": 54,
    "start_time": "2023-06-17T06:41:59.119Z"
   },
   {
    "duration": 360,
    "start_time": "2023-06-17T06:41:59.174Z"
   },
   {
    "duration": 341,
    "start_time": "2023-06-17T06:41:59.535Z"
   },
   {
    "duration": 411,
    "start_time": "2023-06-17T06:41:59.877Z"
   },
   {
    "duration": 25,
    "start_time": "2023-06-17T06:42:00.290Z"
   },
   {
    "duration": 50,
    "start_time": "2023-06-17T06:42:00.316Z"
   },
   {
    "duration": 25,
    "start_time": "2023-06-17T06:42:00.368Z"
   },
   {
    "duration": 37,
    "start_time": "2023-06-17T06:42:00.394Z"
   },
   {
    "duration": 317,
    "start_time": "2023-06-17T06:42:00.433Z"
   },
   {
    "duration": 292,
    "start_time": "2023-06-17T06:42:00.752Z"
   },
   {
    "duration": 24,
    "start_time": "2023-06-17T06:42:01.045Z"
   },
   {
    "duration": 391,
    "start_time": "2023-06-17T06:42:01.070Z"
   },
   {
    "duration": 354,
    "start_time": "2023-06-17T06:42:01.462Z"
   },
   {
    "duration": 13,
    "start_time": "2023-06-17T06:42:01.818Z"
   },
   {
    "duration": 81,
    "start_time": "2023-06-17T06:42:01.832Z"
   },
   {
    "duration": 83,
    "start_time": "2023-06-17T06:42:01.915Z"
   },
   {
    "duration": 92,
    "start_time": "2023-06-17T06:42:02.001Z"
   },
   {
    "duration": 60,
    "start_time": "2023-06-17T06:42:02.105Z"
   },
   {
    "duration": 301,
    "start_time": "2023-06-17T06:42:02.167Z"
   },
   {
    "duration": 18,
    "start_time": "2023-06-17T06:42:02.470Z"
   },
   {
    "duration": 224,
    "start_time": "2023-06-17T06:42:02.490Z"
   },
   {
    "duration": 13,
    "start_time": "2023-06-17T06:42:02.716Z"
   },
   {
    "duration": 33,
    "start_time": "2023-06-17T06:42:02.731Z"
   },
   {
    "duration": 20,
    "start_time": "2023-06-17T06:42:02.765Z"
   },
   {
    "duration": 5,
    "start_time": "2023-06-17T06:42:02.786Z"
   },
   {
    "duration": 226,
    "start_time": "2023-06-17T06:42:02.792Z"
   },
   {
    "duration": 32,
    "start_time": "2023-06-17T06:42:03.020Z"
   },
   {
    "duration": 32,
    "start_time": "2023-06-17T06:42:03.053Z"
   },
   {
    "duration": 46,
    "start_time": "2023-06-17T06:42:03.086Z"
   },
   {
    "duration": 41,
    "start_time": "2023-06-17T06:42:03.134Z"
   },
   {
    "duration": 41,
    "start_time": "2023-06-17T06:42:03.176Z"
   },
   {
    "duration": 16,
    "start_time": "2023-06-17T06:42:03.219Z"
   },
   {
    "duration": 15,
    "start_time": "2023-06-17T06:42:03.237Z"
   },
   {
    "duration": 39,
    "start_time": "2023-06-17T06:42:03.254Z"
   },
   {
    "duration": 30,
    "start_time": "2023-06-17T06:42:03.295Z"
   },
   {
    "duration": 41,
    "start_time": "2023-06-17T06:42:03.326Z"
   },
   {
    "duration": 37,
    "start_time": "2023-06-17T06:42:03.368Z"
   },
   {
    "duration": 26,
    "start_time": "2023-06-17T06:42:03.406Z"
   },
   {
    "duration": 119,
    "start_time": "2023-06-17T06:42:03.434Z"
   },
   {
    "duration": 30,
    "start_time": "2023-06-17T06:42:03.555Z"
   },
   {
    "duration": 22,
    "start_time": "2023-06-17T06:42:03.587Z"
   },
   {
    "duration": 17,
    "start_time": "2023-06-17T06:42:03.614Z"
   },
   {
    "duration": 58,
    "start_time": "2023-06-17T06:42:03.632Z"
   },
   {
    "duration": 395,
    "start_time": "2023-06-17T06:42:03.692Z"
   },
   {
    "duration": 348,
    "start_time": "2023-06-17T06:42:04.089Z"
   },
   {
    "duration": 139,
    "start_time": "2023-06-17T06:42:04.439Z"
   },
   {
    "duration": 204,
    "start_time": "2023-06-17T06:42:04.580Z"
   },
   {
    "duration": 3,
    "start_time": "2023-06-17T06:42:04.786Z"
   },
   {
    "duration": 78,
    "start_time": "2023-06-17T06:42:04.791Z"
   },
   {
    "duration": 301,
    "start_time": "2023-06-17T06:42:04.871Z"
   },
   {
    "duration": 144,
    "start_time": "2023-06-17T06:42:05.174Z"
   },
   {
    "duration": 13,
    "start_time": "2023-06-17T06:42:05.320Z"
   },
   {
    "duration": 31,
    "start_time": "2023-06-17T06:42:05.335Z"
   },
   {
    "duration": 591,
    "start_time": "2023-06-17T06:42:05.368Z"
   },
   {
    "duration": 202,
    "start_time": "2023-06-17T06:42:05.962Z"
   },
   {
    "duration": 8,
    "start_time": "2023-06-17T06:42:06.166Z"
   },
   {
    "duration": 32915,
    "start_time": "2023-06-17T06:42:06.176Z"
   },
   {
    "duration": 9610,
    "start_time": "2023-06-17T06:42:39.093Z"
   },
   {
    "duration": 4,
    "start_time": "2023-06-17T06:42:48.705Z"
   },
   {
    "duration": 46,
    "start_time": "2023-06-17T06:42:48.718Z"
   },
   {
    "duration": 60,
    "start_time": "2023-06-17T06:42:48.765Z"
   },
   {
    "duration": 9,
    "start_time": "2023-06-17T06:42:48.827Z"
   },
   {
    "duration": 16,
    "start_time": "2023-06-17T06:42:48.837Z"
   },
   {
    "duration": 262,
    "start_time": "2023-06-17T06:42:48.854Z"
   },
   {
    "duration": 7,
    "start_time": "2023-06-17T06:42:59.295Z"
   },
   {
    "duration": 2626,
    "start_time": "2023-06-17T06:44:02.449Z"
   },
   {
    "duration": 5,
    "start_time": "2023-06-17T06:44:21.223Z"
   },
   {
    "duration": 3808,
    "start_time": "2023-06-17T06:48:03.963Z"
   },
   {
    "duration": 4,
    "start_time": "2023-06-17T06:48:07.773Z"
   },
   {
    "duration": 917,
    "start_time": "2023-06-17T06:48:07.778Z"
   },
   {
    "duration": 1279,
    "start_time": "2023-06-17T06:48:08.698Z"
   },
   {
    "duration": 476,
    "start_time": "2023-06-17T06:48:09.979Z"
   },
   {
    "duration": 411,
    "start_time": "2023-06-17T06:48:10.457Z"
   },
   {
    "duration": 197,
    "start_time": "2023-06-17T06:48:10.869Z"
   },
   {
    "duration": 47,
    "start_time": "2023-06-17T06:48:11.067Z"
   },
   {
    "duration": 99,
    "start_time": "2023-06-17T06:48:11.121Z"
   },
   {
    "duration": 127,
    "start_time": "2023-06-17T06:48:11.222Z"
   },
   {
    "duration": 114,
    "start_time": "2023-06-17T06:48:11.351Z"
   },
   {
    "duration": 450,
    "start_time": "2023-06-17T06:48:11.467Z"
   },
   {
    "duration": 362,
    "start_time": "2023-06-17T06:48:11.919Z"
   },
   {
    "duration": 476,
    "start_time": "2023-06-17T06:48:12.282Z"
   },
   {
    "duration": 15,
    "start_time": "2023-06-17T06:48:12.760Z"
   },
   {
    "duration": 46,
    "start_time": "2023-06-17T06:48:12.777Z"
   },
   {
    "duration": 18,
    "start_time": "2023-06-17T06:48:12.824Z"
   },
   {
    "duration": 14,
    "start_time": "2023-06-17T06:48:12.843Z"
   },
   {
    "duration": 336,
    "start_time": "2023-06-17T06:48:12.859Z"
   },
   {
    "duration": 280,
    "start_time": "2023-06-17T06:48:13.199Z"
   },
   {
    "duration": 35,
    "start_time": "2023-06-17T06:48:13.481Z"
   },
   {
    "duration": 372,
    "start_time": "2023-06-17T06:48:13.518Z"
   },
   {
    "duration": 366,
    "start_time": "2023-06-17T06:48:13.892Z"
   },
   {
    "duration": 14,
    "start_time": "2023-06-17T06:48:14.260Z"
   },
   {
    "duration": 47,
    "start_time": "2023-06-17T06:48:14.275Z"
   },
   {
    "duration": 25,
    "start_time": "2023-06-17T06:48:14.324Z"
   },
   {
    "duration": 19,
    "start_time": "2023-06-17T06:48:14.351Z"
   },
   {
    "duration": 15,
    "start_time": "2023-06-17T06:48:14.374Z"
   },
   {
    "duration": 289,
    "start_time": "2023-06-17T06:48:14.392Z"
   },
   {
    "duration": 39,
    "start_time": "2023-06-17T06:48:14.683Z"
   },
   {
    "duration": 267,
    "start_time": "2023-06-17T06:48:14.724Z"
   },
   {
    "duration": 37,
    "start_time": "2023-06-17T06:48:14.993Z"
   },
   {
    "duration": 30,
    "start_time": "2023-06-17T06:48:15.034Z"
   },
   {
    "duration": 104,
    "start_time": "2023-06-17T06:48:15.066Z"
   },
   {
    "duration": 6,
    "start_time": "2023-06-17T06:48:15.173Z"
   },
   {
    "duration": 342,
    "start_time": "2023-06-17T06:48:15.181Z"
   },
   {
    "duration": 50,
    "start_time": "2023-06-17T06:48:15.526Z"
   },
   {
    "duration": 30,
    "start_time": "2023-06-17T06:48:15.578Z"
   },
   {
    "duration": 103,
    "start_time": "2023-06-17T06:48:15.613Z"
   },
   {
    "duration": 64,
    "start_time": "2023-06-17T06:48:15.725Z"
   },
   {
    "duration": 49,
    "start_time": "2023-06-17T06:48:15.791Z"
   },
   {
    "duration": 21,
    "start_time": "2023-06-17T06:48:15.843Z"
   },
   {
    "duration": 27,
    "start_time": "2023-06-17T06:48:15.867Z"
   },
   {
    "duration": 98,
    "start_time": "2023-06-17T06:48:15.895Z"
   },
   {
    "duration": 101,
    "start_time": "2023-06-17T06:48:15.996Z"
   },
   {
    "duration": 71,
    "start_time": "2023-06-17T06:48:16.099Z"
   },
   {
    "duration": 68,
    "start_time": "2023-06-17T06:48:16.172Z"
   },
   {
    "duration": 35,
    "start_time": "2023-06-17T06:48:16.245Z"
   },
   {
    "duration": 189,
    "start_time": "2023-06-17T06:48:16.283Z"
   },
   {
    "duration": 61,
    "start_time": "2023-06-17T06:48:16.474Z"
   },
   {
    "duration": 22,
    "start_time": "2023-06-17T06:48:16.536Z"
   },
   {
    "duration": 46,
    "start_time": "2023-06-17T06:48:16.559Z"
   },
   {
    "duration": 254,
    "start_time": "2023-06-17T06:48:16.619Z"
   },
   {
    "duration": 477,
    "start_time": "2023-06-17T06:48:16.875Z"
   },
   {
    "duration": 356,
    "start_time": "2023-06-17T06:48:17.353Z"
   },
   {
    "duration": 152,
    "start_time": "2023-06-17T06:48:17.710Z"
   },
   {
    "duration": 241,
    "start_time": "2023-06-17T06:48:17.864Z"
   },
   {
    "duration": 2,
    "start_time": "2023-06-17T06:48:18.106Z"
   },
   {
    "duration": 83,
    "start_time": "2023-06-17T06:48:18.110Z"
   },
   {
    "duration": 355,
    "start_time": "2023-06-17T06:48:18.195Z"
   },
   {
    "duration": 175,
    "start_time": "2023-06-17T06:48:18.551Z"
   },
   {
    "duration": 14,
    "start_time": "2023-06-17T06:48:18.728Z"
   },
   {
    "duration": 12,
    "start_time": "2023-06-17T06:48:18.744Z"
   },
   {
    "duration": 531,
    "start_time": "2023-06-17T06:48:18.758Z"
   },
   {
    "duration": 177,
    "start_time": "2023-06-17T06:48:19.291Z"
   },
   {
    "duration": 8,
    "start_time": "2023-06-17T06:48:19.469Z"
   },
   {
    "duration": 36254,
    "start_time": "2023-06-17T06:48:19.478Z"
   },
   {
    "duration": 8717,
    "start_time": "2023-06-17T06:48:55.734Z"
   },
   {
    "duration": 3691,
    "start_time": "2023-06-17T06:56:14.892Z"
   },
   {
    "duration": 3,
    "start_time": "2023-06-17T06:56:18.586Z"
   },
   {
    "duration": 829,
    "start_time": "2023-06-17T06:56:18.591Z"
   },
   {
    "duration": 974,
    "start_time": "2023-06-17T06:56:19.422Z"
   },
   {
    "duration": 418,
    "start_time": "2023-06-17T06:56:20.400Z"
   },
   {
    "duration": 373,
    "start_time": "2023-06-17T06:56:20.820Z"
   },
   {
    "duration": 182,
    "start_time": "2023-06-17T06:56:21.195Z"
   },
   {
    "duration": 45,
    "start_time": "2023-06-17T06:56:21.378Z"
   },
   {
    "duration": 97,
    "start_time": "2023-06-17T06:56:21.424Z"
   },
   {
    "duration": 19,
    "start_time": "2023-06-17T06:56:21.524Z"
   },
   {
    "duration": 60,
    "start_time": "2023-06-17T06:56:21.545Z"
   },
   {
    "duration": 380,
    "start_time": "2023-06-17T06:56:21.606Z"
   },
   {
    "duration": 339,
    "start_time": "2023-06-17T06:56:21.988Z"
   },
   {
    "duration": 408,
    "start_time": "2023-06-17T06:56:22.328Z"
   },
   {
    "duration": 13,
    "start_time": "2023-06-17T06:56:22.737Z"
   },
   {
    "duration": 60,
    "start_time": "2023-06-17T06:56:22.753Z"
   },
   {
    "duration": 16,
    "start_time": "2023-06-17T06:56:22.815Z"
   },
   {
    "duration": 12,
    "start_time": "2023-06-17T06:56:22.833Z"
   },
   {
    "duration": 322,
    "start_time": "2023-06-17T06:56:22.847Z"
   },
   {
    "duration": 271,
    "start_time": "2023-06-17T06:56:23.170Z"
   },
   {
    "duration": 24,
    "start_time": "2023-06-17T06:56:23.443Z"
   },
   {
    "duration": 369,
    "start_time": "2023-06-17T06:56:23.469Z"
   },
   {
    "duration": 327,
    "start_time": "2023-06-17T06:56:23.839Z"
   },
   {
    "duration": 13,
    "start_time": "2023-06-17T06:56:24.168Z"
   },
   {
    "duration": 36,
    "start_time": "2023-06-17T06:56:24.182Z"
   },
   {
    "duration": 16,
    "start_time": "2023-06-17T06:56:24.219Z"
   },
   {
    "duration": 17,
    "start_time": "2023-06-17T06:56:24.236Z"
   },
   {
    "duration": 13,
    "start_time": "2023-06-17T06:56:24.257Z"
   },
   {
    "duration": 282,
    "start_time": "2023-06-17T06:56:24.271Z"
   },
   {
    "duration": 17,
    "start_time": "2023-06-17T06:56:24.555Z"
   },
   {
    "duration": 187,
    "start_time": "2023-06-17T06:56:24.574Z"
   },
   {
    "duration": 11,
    "start_time": "2023-06-17T06:56:24.763Z"
   },
   {
    "duration": 43,
    "start_time": "2023-06-17T06:56:24.775Z"
   },
   {
    "duration": 14,
    "start_time": "2023-06-17T06:56:24.819Z"
   },
   {
    "duration": 4,
    "start_time": "2023-06-17T06:56:24.835Z"
   },
   {
    "duration": 203,
    "start_time": "2023-06-17T06:56:24.840Z"
   },
   {
    "duration": 28,
    "start_time": "2023-06-17T06:56:25.045Z"
   },
   {
    "duration": 42,
    "start_time": "2023-06-17T06:56:25.075Z"
   },
   {
    "duration": 35,
    "start_time": "2023-06-17T06:56:25.119Z"
   },
   {
    "duration": 61,
    "start_time": "2023-06-17T06:56:25.156Z"
   },
   {
    "duration": 33,
    "start_time": "2023-06-17T06:56:25.219Z"
   },
   {
    "duration": 37,
    "start_time": "2023-06-17T06:56:25.254Z"
   },
   {
    "duration": 74,
    "start_time": "2023-06-17T06:56:25.293Z"
   },
   {
    "duration": 88,
    "start_time": "2023-06-17T06:56:25.369Z"
   },
   {
    "duration": 84,
    "start_time": "2023-06-17T06:56:25.458Z"
   },
   {
    "duration": 33,
    "start_time": "2023-06-17T06:56:25.544Z"
   },
   {
    "duration": 69,
    "start_time": "2023-06-17T06:56:25.579Z"
   },
   {
    "duration": 28,
    "start_time": "2023-06-17T06:56:25.649Z"
   },
   {
    "duration": 159,
    "start_time": "2023-06-17T06:56:25.678Z"
   },
   {
    "duration": 48,
    "start_time": "2023-06-17T06:56:25.838Z"
   },
   {
    "duration": 31,
    "start_time": "2023-06-17T06:56:25.887Z"
   },
   {
    "duration": 30,
    "start_time": "2023-06-17T06:56:25.923Z"
   },
   {
    "duration": 90,
    "start_time": "2023-06-17T06:56:25.955Z"
   },
   {
    "duration": 467,
    "start_time": "2023-06-17T06:56:26.046Z"
   },
   {
    "duration": 356,
    "start_time": "2023-06-17T06:56:26.515Z"
   },
   {
    "duration": 145,
    "start_time": "2023-06-17T06:56:26.872Z"
   },
   {
    "duration": 217,
    "start_time": "2023-06-17T06:56:27.018Z"
   },
   {
    "duration": 4,
    "start_time": "2023-06-17T06:56:27.236Z"
   },
   {
    "duration": 72,
    "start_time": "2023-06-17T06:56:27.242Z"
   },
   {
    "duration": 277,
    "start_time": "2023-06-17T06:56:27.315Z"
   },
   {
    "duration": 138,
    "start_time": "2023-06-17T06:56:27.593Z"
   },
   {
    "duration": 11,
    "start_time": "2023-06-17T06:56:27.733Z"
   },
   {
    "duration": 6,
    "start_time": "2023-06-17T06:56:27.746Z"
   },
   {
    "duration": 530,
    "start_time": "2023-06-17T06:56:27.754Z"
   },
   {
    "duration": 178,
    "start_time": "2023-06-17T06:56:28.285Z"
   },
   {
    "duration": 7,
    "start_time": "2023-06-17T06:56:28.464Z"
   },
   {
    "duration": 3681,
    "start_time": "2023-06-17T06:56:49.454Z"
   },
   {
    "duration": 3,
    "start_time": "2023-06-17T06:56:53.137Z"
   },
   {
    "duration": 772,
    "start_time": "2023-06-17T06:56:53.142Z"
   },
   {
    "duration": 1012,
    "start_time": "2023-06-17T06:56:53.916Z"
   },
   {
    "duration": 393,
    "start_time": "2023-06-17T06:56:54.929Z"
   },
   {
    "duration": 426,
    "start_time": "2023-06-17T06:56:55.324Z"
   },
   {
    "duration": 192,
    "start_time": "2023-06-17T06:56:55.751Z"
   },
   {
    "duration": 41,
    "start_time": "2023-06-17T06:56:55.946Z"
   },
   {
    "duration": 118,
    "start_time": "2023-06-17T06:56:55.988Z"
   },
   {
    "duration": 17,
    "start_time": "2023-06-17T06:56:56.113Z"
   },
   {
    "duration": 86,
    "start_time": "2023-06-17T06:56:56.136Z"
   },
   {
    "duration": 398,
    "start_time": "2023-06-17T06:56:56.223Z"
   },
   {
    "duration": 346,
    "start_time": "2023-06-17T06:56:56.622Z"
   },
   {
    "duration": 415,
    "start_time": "2023-06-17T06:56:56.969Z"
   },
   {
    "duration": 37,
    "start_time": "2023-06-17T06:56:57.385Z"
   },
   {
    "duration": 33,
    "start_time": "2023-06-17T06:56:57.424Z"
   },
   {
    "duration": 16,
    "start_time": "2023-06-17T06:56:57.459Z"
   },
   {
    "duration": 25,
    "start_time": "2023-06-17T06:56:57.476Z"
   },
   {
    "duration": 323,
    "start_time": "2023-06-17T06:56:57.512Z"
   },
   {
    "duration": 276,
    "start_time": "2023-06-17T06:56:57.837Z"
   },
   {
    "duration": 21,
    "start_time": "2023-06-17T06:56:58.119Z"
   },
   {
    "duration": 393,
    "start_time": "2023-06-17T06:56:58.141Z"
   },
   {
    "duration": 347,
    "start_time": "2023-06-17T06:56:58.536Z"
   },
   {
    "duration": 18,
    "start_time": "2023-06-17T06:56:58.899Z"
   },
   {
    "duration": 32,
    "start_time": "2023-06-17T06:56:58.918Z"
   },
   {
    "duration": 19,
    "start_time": "2023-06-17T06:56:58.951Z"
   },
   {
    "duration": 15,
    "start_time": "2023-06-17T06:56:58.972Z"
   },
   {
    "duration": 26,
    "start_time": "2023-06-17T06:56:58.991Z"
   },
   {
    "duration": 272,
    "start_time": "2023-06-17T06:56:59.018Z"
   },
   {
    "duration": 28,
    "start_time": "2023-06-17T06:56:59.291Z"
   },
   {
    "duration": 299,
    "start_time": "2023-06-17T06:56:59.320Z"
   },
   {
    "duration": 15,
    "start_time": "2023-06-17T06:56:59.620Z"
   },
   {
    "duration": 23,
    "start_time": "2023-06-17T06:56:59.636Z"
   },
   {
    "duration": 15,
    "start_time": "2023-06-17T06:56:59.661Z"
   },
   {
    "duration": 38,
    "start_time": "2023-06-17T06:56:59.678Z"
   },
   {
    "duration": 200,
    "start_time": "2023-06-17T06:56:59.717Z"
   },
   {
    "duration": 32,
    "start_time": "2023-06-17T06:56:59.919Z"
   },
   {
    "duration": 29,
    "start_time": "2023-06-17T06:56:59.953Z"
   },
   {
    "duration": 35,
    "start_time": "2023-06-17T06:56:59.984Z"
   },
   {
    "duration": 63,
    "start_time": "2023-06-17T06:57:00.021Z"
   },
   {
    "duration": 53,
    "start_time": "2023-06-17T06:57:00.085Z"
   },
   {
    "duration": 47,
    "start_time": "2023-06-17T06:57:00.140Z"
   },
   {
    "duration": 61,
    "start_time": "2023-06-17T06:57:00.189Z"
   },
   {
    "duration": 64,
    "start_time": "2023-06-17T06:57:00.252Z"
   },
   {
    "duration": 57,
    "start_time": "2023-06-17T06:57:00.318Z"
   },
   {
    "duration": 49,
    "start_time": "2023-06-17T06:57:00.378Z"
   },
   {
    "duration": 52,
    "start_time": "2023-06-17T06:57:00.429Z"
   },
   {
    "duration": 89,
    "start_time": "2023-06-17T06:57:00.483Z"
   },
   {
    "duration": 225,
    "start_time": "2023-06-17T06:57:00.573Z"
   },
   {
    "duration": 69,
    "start_time": "2023-06-17T06:57:00.800Z"
   },
   {
    "duration": 65,
    "start_time": "2023-06-17T06:57:00.871Z"
   },
   {
    "duration": 118,
    "start_time": "2023-06-17T06:57:00.939Z"
   },
   {
    "duration": 158,
    "start_time": "2023-06-17T06:57:01.059Z"
   },
   {
    "duration": 531,
    "start_time": "2023-06-17T06:57:01.219Z"
   },
   {
    "duration": 368,
    "start_time": "2023-06-17T06:57:01.752Z"
   },
   {
    "duration": 131,
    "start_time": "2023-06-17T06:57:02.122Z"
   },
   {
    "duration": 219,
    "start_time": "2023-06-17T06:57:02.255Z"
   },
   {
    "duration": 3,
    "start_time": "2023-06-17T06:57:02.476Z"
   },
   {
    "duration": 89,
    "start_time": "2023-06-17T06:57:02.481Z"
   },
   {
    "duration": 284,
    "start_time": "2023-06-17T06:57:02.572Z"
   },
   {
    "duration": 130,
    "start_time": "2023-06-17T06:57:02.858Z"
   },
   {
    "duration": 28,
    "start_time": "2023-06-17T06:57:02.989Z"
   },
   {
    "duration": 7,
    "start_time": "2023-06-17T06:57:03.019Z"
   },
   {
    "duration": 514,
    "start_time": "2023-06-17T06:57:03.027Z"
   },
   {
    "duration": 205,
    "start_time": "2023-06-17T06:57:03.543Z"
   },
   {
    "duration": 8,
    "start_time": "2023-06-17T06:57:03.750Z"
   },
   {
    "duration": 28514,
    "start_time": "2023-06-17T06:57:03.759Z"
   },
   {
    "duration": 8083,
    "start_time": "2023-06-17T06:57:32.274Z"
   },
   {
    "duration": 590564,
    "start_time": "2023-06-17T06:57:40.358Z"
   },
   {
    "duration": 4,
    "start_time": "2023-06-17T07:07:31.006Z"
   },
   {
    "duration": 94,
    "start_time": "2023-06-17T07:07:31.015Z"
   },
   {
    "duration": 28,
    "start_time": "2023-06-17T07:07:31.111Z"
   },
   {
    "duration": 42,
    "start_time": "2023-06-17T07:07:31.141Z"
   },
   {
    "duration": 49,
    "start_time": "2023-06-17T07:07:31.185Z"
   },
   {
    "duration": 7,
    "start_time": "2023-06-17T07:09:59.014Z"
   },
   {
    "duration": 233,
    "start_time": "2023-06-17T07:10:11.319Z"
   },
   {
    "duration": 4,
    "start_time": "2023-06-17T07:10:16.765Z"
   },
   {
    "duration": 330558,
    "start_time": "2023-06-17T07:10:20.460Z"
   },
   {
    "duration": 5,
    "start_time": "2023-06-17T07:26:20.075Z"
   },
   {
    "duration": 7,
    "start_time": "2023-06-17T07:26:49.935Z"
   },
   {
    "duration": 3989,
    "start_time": "2023-06-17T07:36:36.922Z"
   },
   {
    "duration": 5,
    "start_time": "2023-06-17T07:36:40.919Z"
   },
   {
    "duration": 937,
    "start_time": "2023-06-17T07:36:40.926Z"
   },
   {
    "duration": 1180,
    "start_time": "2023-06-17T07:36:41.865Z"
   },
   {
    "duration": 444,
    "start_time": "2023-06-17T07:36:43.051Z"
   },
   {
    "duration": 448,
    "start_time": "2023-06-17T07:36:43.497Z"
   },
   {
    "duration": 235,
    "start_time": "2023-06-17T07:36:43.946Z"
   },
   {
    "duration": 55,
    "start_time": "2023-06-17T07:36:44.183Z"
   },
   {
    "duration": 106,
    "start_time": "2023-06-17T07:36:44.246Z"
   },
   {
    "duration": 29,
    "start_time": "2023-06-17T07:36:44.354Z"
   },
   {
    "duration": 69,
    "start_time": "2023-06-17T07:36:44.385Z"
   },
   {
    "duration": 473,
    "start_time": "2023-06-17T07:36:44.456Z"
   },
   {
    "duration": 380,
    "start_time": "2023-06-17T07:36:44.937Z"
   },
   {
    "duration": 505,
    "start_time": "2023-06-17T07:36:45.321Z"
   },
   {
    "duration": 18,
    "start_time": "2023-06-17T07:36:45.835Z"
   },
   {
    "duration": 30,
    "start_time": "2023-06-17T07:36:45.855Z"
   },
   {
    "duration": 17,
    "start_time": "2023-06-17T07:36:45.887Z"
   },
   {
    "duration": 47,
    "start_time": "2023-06-17T07:36:45.906Z"
   },
   {
    "duration": 409,
    "start_time": "2023-06-17T07:36:45.954Z"
   },
   {
    "duration": 309,
    "start_time": "2023-06-17T07:36:46.365Z"
   },
   {
    "duration": 39,
    "start_time": "2023-06-17T07:36:46.676Z"
   },
   {
    "duration": 360,
    "start_time": "2023-06-17T07:36:46.722Z"
   },
   {
    "duration": 357,
    "start_time": "2023-06-17T07:36:47.083Z"
   },
   {
    "duration": 21,
    "start_time": "2023-06-17T07:36:47.441Z"
   },
   {
    "duration": 84,
    "start_time": "2023-06-17T07:36:47.463Z"
   },
   {
    "duration": 28,
    "start_time": "2023-06-17T07:36:47.549Z"
   },
   {
    "duration": 18,
    "start_time": "2023-06-17T07:36:47.579Z"
   },
   {
    "duration": 20,
    "start_time": "2023-06-17T07:36:47.598Z"
   },
   {
    "duration": 334,
    "start_time": "2023-06-17T07:36:47.620Z"
   },
   {
    "duration": 12,
    "start_time": "2023-06-17T07:36:47.956Z"
   },
   {
    "duration": 201,
    "start_time": "2023-06-17T07:36:47.970Z"
   },
   {
    "duration": 13,
    "start_time": "2023-06-17T07:36:48.172Z"
   },
   {
    "duration": 50,
    "start_time": "2023-06-17T07:36:48.186Z"
   },
   {
    "duration": 45,
    "start_time": "2023-06-17T07:36:48.238Z"
   },
   {
    "duration": 4,
    "start_time": "2023-06-17T07:36:48.285Z"
   },
   {
    "duration": 286,
    "start_time": "2023-06-17T07:36:48.290Z"
   },
   {
    "duration": 55,
    "start_time": "2023-06-17T07:36:48.577Z"
   },
   {
    "duration": 23,
    "start_time": "2023-06-17T07:36:48.640Z"
   },
   {
    "duration": 13,
    "start_time": "2023-06-17T07:36:48.665Z"
   },
   {
    "duration": 33,
    "start_time": "2023-06-17T07:36:48.680Z"
   },
   {
    "duration": 61,
    "start_time": "2023-06-17T07:36:48.717Z"
   },
   {
    "duration": 28,
    "start_time": "2023-06-17T07:36:48.780Z"
   },
   {
    "duration": 59,
    "start_time": "2023-06-17T07:36:48.809Z"
   },
   {
    "duration": 27,
    "start_time": "2023-06-17T07:36:48.870Z"
   },
   {
    "duration": 61,
    "start_time": "2023-06-17T07:36:48.898Z"
   },
   {
    "duration": 33,
    "start_time": "2023-06-17T07:36:48.961Z"
   },
   {
    "duration": 58,
    "start_time": "2023-06-17T07:36:48.995Z"
   },
   {
    "duration": 13,
    "start_time": "2023-06-17T07:36:49.055Z"
   },
   {
    "duration": 17,
    "start_time": "2023-06-17T07:36:49.070Z"
   },
   {
    "duration": 82,
    "start_time": "2023-06-17T07:36:49.088Z"
   },
   {
    "duration": 18,
    "start_time": "2023-06-17T07:36:49.172Z"
   },
   {
    "duration": 60,
    "start_time": "2023-06-17T07:36:49.192Z"
   },
   {
    "duration": 88,
    "start_time": "2023-06-17T07:36:49.254Z"
   },
   {
    "duration": 570,
    "start_time": "2023-06-17T07:36:49.343Z"
   },
   {
    "duration": 331,
    "start_time": "2023-06-17T07:36:49.925Z"
   },
   {
    "duration": 179,
    "start_time": "2023-06-17T07:36:50.258Z"
   },
   {
    "duration": 243,
    "start_time": "2023-06-17T07:36:50.448Z"
   },
   {
    "duration": 14,
    "start_time": "2023-06-17T07:36:50.693Z"
   },
   {
    "duration": 90,
    "start_time": "2023-06-17T07:36:50.709Z"
   },
   {
    "duration": 306,
    "start_time": "2023-06-17T07:36:50.816Z"
   },
   {
    "duration": 137,
    "start_time": "2023-06-17T07:36:51.128Z"
   },
   {
    "duration": 10,
    "start_time": "2023-06-17T07:36:51.267Z"
   },
   {
    "duration": 68,
    "start_time": "2023-06-17T07:36:51.278Z"
   },
   {
    "duration": 607,
    "start_time": "2023-06-17T07:36:51.347Z"
   },
   {
    "duration": 194,
    "start_time": "2023-06-17T07:36:51.955Z"
   },
   {
    "duration": 8,
    "start_time": "2023-06-17T07:36:52.151Z"
   },
   {
    "duration": 34483,
    "start_time": "2023-06-17T07:36:52.161Z"
   },
   {
    "duration": 8634,
    "start_time": "2023-06-17T07:37:26.647Z"
   },
   {
    "duration": 627823,
    "start_time": "2023-06-17T07:37:35.283Z"
   },
   {
    "duration": 6,
    "start_time": "2023-06-17T07:48:03.107Z"
   },
   {
    "duration": 305909,
    "start_time": "2023-06-17T07:48:03.119Z"
   },
   {
    "duration": 4,
    "start_time": "2023-06-17T07:53:09.030Z"
   },
   {
    "duration": 7834,
    "start_time": "2023-06-17T08:13:43.372Z"
   },
   {
    "duration": 5,
    "start_time": "2023-06-17T08:13:51.209Z"
   },
   {
    "duration": 1094,
    "start_time": "2023-06-17T08:13:51.215Z"
   },
   {
    "duration": 1269,
    "start_time": "2023-06-17T08:13:52.311Z"
   },
   {
    "duration": 477,
    "start_time": "2023-06-17T08:13:53.582Z"
   },
   {
    "duration": 1244,
    "start_time": "2023-06-17T08:13:54.061Z"
   },
   {
    "duration": 207,
    "start_time": "2023-06-17T08:13:55.307Z"
   },
   {
    "duration": 63,
    "start_time": "2023-06-17T08:13:55.515Z"
   },
   {
    "duration": 128,
    "start_time": "2023-06-17T08:13:55.580Z"
   },
   {
    "duration": 22,
    "start_time": "2023-06-17T08:13:55.712Z"
   },
   {
    "duration": 87,
    "start_time": "2023-06-17T08:13:55.737Z"
   },
   {
    "duration": 451,
    "start_time": "2023-06-17T08:13:55.826Z"
   },
   {
    "duration": 532,
    "start_time": "2023-06-17T08:13:56.280Z"
   },
   {
    "duration": 402,
    "start_time": "2023-06-17T08:13:56.814Z"
   },
   {
    "duration": 16,
    "start_time": "2023-06-17T08:13:57.218Z"
   },
   {
    "duration": 73,
    "start_time": "2023-06-17T08:13:57.236Z"
   },
   {
    "duration": 19,
    "start_time": "2023-06-17T08:13:57.310Z"
   },
   {
    "duration": 24,
    "start_time": "2023-06-17T08:13:57.331Z"
   },
   {
    "duration": 312,
    "start_time": "2023-06-17T08:13:57.357Z"
   },
   {
    "duration": 295,
    "start_time": "2023-06-17T08:13:57.671Z"
   },
   {
    "duration": 21,
    "start_time": "2023-06-17T08:13:57.968Z"
   },
   {
    "duration": 447,
    "start_time": "2023-06-17T08:13:57.991Z"
   },
   {
    "duration": 357,
    "start_time": "2023-06-17T08:13:58.440Z"
   },
   {
    "duration": 15,
    "start_time": "2023-06-17T08:13:58.798Z"
   },
   {
    "duration": 22,
    "start_time": "2023-06-17T08:13:58.814Z"
   },
   {
    "duration": 22,
    "start_time": "2023-06-17T08:13:58.852Z"
   },
   {
    "duration": 19,
    "start_time": "2023-06-17T08:13:58.876Z"
   },
   {
    "duration": 15,
    "start_time": "2023-06-17T08:13:58.901Z"
   },
   {
    "duration": 289,
    "start_time": "2023-06-17T08:13:58.918Z"
   },
   {
    "duration": 14,
    "start_time": "2023-06-17T08:13:59.209Z"
   },
   {
    "duration": 324,
    "start_time": "2023-06-17T08:13:59.224Z"
   },
   {
    "duration": 15,
    "start_time": "2023-06-17T08:13:59.549Z"
   },
   {
    "duration": 24,
    "start_time": "2023-06-17T08:13:59.566Z"
   },
   {
    "duration": 16,
    "start_time": "2023-06-17T08:13:59.592Z"
   },
   {
    "duration": 5,
    "start_time": "2023-06-17T08:13:59.610Z"
   },
   {
    "duration": 214,
    "start_time": "2023-06-17T08:13:59.651Z"
   },
   {
    "duration": 33,
    "start_time": "2023-06-17T08:13:59.866Z"
   },
   {
    "duration": 16,
    "start_time": "2023-06-17T08:13:59.900Z"
   },
   {
    "duration": 25,
    "start_time": "2023-06-17T08:13:59.917Z"
   },
   {
    "duration": 42,
    "start_time": "2023-06-17T08:13:59.943Z"
   },
   {
    "duration": 25,
    "start_time": "2023-06-17T08:13:59.986Z"
   },
   {
    "duration": 47,
    "start_time": "2023-06-17T08:14:00.012Z"
   },
   {
    "duration": 30,
    "start_time": "2023-06-17T08:14:00.061Z"
   },
   {
    "duration": 51,
    "start_time": "2023-06-17T08:14:00.092Z"
   },
   {
    "duration": 45,
    "start_time": "2023-06-17T08:14:00.145Z"
   },
   {
    "duration": 45,
    "start_time": "2023-06-17T08:14:00.192Z"
   },
   {
    "duration": 40,
    "start_time": "2023-06-17T08:14:00.239Z"
   },
   {
    "duration": 34,
    "start_time": "2023-06-17T08:14:00.281Z"
   },
   {
    "duration": 28,
    "start_time": "2023-06-17T08:14:00.316Z"
   },
   {
    "duration": 41,
    "start_time": "2023-06-17T08:14:00.346Z"
   },
   {
    "duration": 57,
    "start_time": "2023-06-17T08:14:00.389Z"
   },
   {
    "duration": 35,
    "start_time": "2023-06-17T08:14:00.448Z"
   },
   {
    "duration": 74,
    "start_time": "2023-06-17T08:14:00.485Z"
   },
   {
    "duration": 411,
    "start_time": "2023-06-17T08:14:00.560Z"
   },
   {
    "duration": 425,
    "start_time": "2023-06-17T08:14:00.973Z"
   },
   {
    "duration": 142,
    "start_time": "2023-06-17T08:14:01.400Z"
   },
   {
    "duration": 224,
    "start_time": "2023-06-17T08:14:01.544Z"
   },
   {
    "duration": 3,
    "start_time": "2023-06-17T08:14:01.770Z"
   },
   {
    "duration": 104,
    "start_time": "2023-06-17T08:14:01.775Z"
   },
   {
    "duration": 260,
    "start_time": "2023-06-17T08:14:01.880Z"
   },
   {
    "duration": 188,
    "start_time": "2023-06-17T08:14:02.145Z"
   },
   {
    "duration": 22,
    "start_time": "2023-06-17T08:14:02.335Z"
   },
   {
    "duration": 39,
    "start_time": "2023-06-17T08:14:02.360Z"
   },
   {
    "duration": 679,
    "start_time": "2023-06-17T08:14:02.401Z"
   },
   {
    "duration": 221,
    "start_time": "2023-06-17T08:14:03.082Z"
   },
   {
    "duration": 10,
    "start_time": "2023-06-17T08:14:03.305Z"
   },
   {
    "duration": 151,
    "start_time": "2023-06-17T08:14:03.317Z"
   },
   {
    "duration": 0,
    "start_time": "2023-06-17T08:14:03.470Z"
   },
   {
    "duration": 0,
    "start_time": "2023-06-17T08:14:03.471Z"
   },
   {
    "duration": 0,
    "start_time": "2023-06-17T08:14:03.473Z"
   },
   {
    "duration": 0,
    "start_time": "2023-06-17T08:14:03.474Z"
   },
   {
    "duration": 0,
    "start_time": "2023-06-17T08:14:03.476Z"
   },
   {
    "duration": 0,
    "start_time": "2023-06-17T08:14:03.477Z"
   },
   {
    "duration": 0,
    "start_time": "2023-06-17T08:14:03.478Z"
   },
   {
    "duration": 0,
    "start_time": "2023-06-17T08:14:03.479Z"
   },
   {
    "duration": 3838,
    "start_time": "2023-06-17T08:14:18.355Z"
   },
   {
    "duration": 5,
    "start_time": "2023-06-17T08:14:22.196Z"
   },
   {
    "duration": 927,
    "start_time": "2023-06-17T08:14:22.203Z"
   },
   {
    "duration": 1292,
    "start_time": "2023-06-17T08:14:23.132Z"
   },
   {
    "duration": 516,
    "start_time": "2023-06-17T08:14:24.426Z"
   },
   {
    "duration": 503,
    "start_time": "2023-06-17T08:14:24.944Z"
   },
   {
    "duration": 178,
    "start_time": "2023-06-17T08:14:25.451Z"
   },
   {
    "duration": 49,
    "start_time": "2023-06-17T08:14:25.631Z"
   },
   {
    "duration": 82,
    "start_time": "2023-06-17T08:14:25.682Z"
   },
   {
    "duration": 41,
    "start_time": "2023-06-17T08:14:25.767Z"
   },
   {
    "duration": 73,
    "start_time": "2023-06-17T08:14:25.810Z"
   },
   {
    "duration": 434,
    "start_time": "2023-06-17T08:14:25.885Z"
   },
   {
    "duration": 398,
    "start_time": "2023-06-17T08:14:26.321Z"
   },
   {
    "duration": 509,
    "start_time": "2023-06-17T08:14:26.722Z"
   },
   {
    "duration": 22,
    "start_time": "2023-06-17T08:14:27.233Z"
   },
   {
    "duration": 66,
    "start_time": "2023-06-17T08:14:27.257Z"
   },
   {
    "duration": 31,
    "start_time": "2023-06-17T08:14:27.325Z"
   },
   {
    "duration": 35,
    "start_time": "2023-06-17T08:14:27.358Z"
   },
   {
    "duration": 342,
    "start_time": "2023-06-17T08:14:27.395Z"
   },
   {
    "duration": 311,
    "start_time": "2023-06-17T08:14:27.739Z"
   },
   {
    "duration": 22,
    "start_time": "2023-06-17T08:14:28.052Z"
   },
   {
    "duration": 531,
    "start_time": "2023-06-17T08:14:28.076Z"
   },
   {
    "duration": 380,
    "start_time": "2023-06-17T08:14:28.609Z"
   },
   {
    "duration": 15,
    "start_time": "2023-06-17T08:14:28.991Z"
   },
   {
    "duration": 42,
    "start_time": "2023-06-17T08:14:29.008Z"
   },
   {
    "duration": 26,
    "start_time": "2023-06-17T08:14:29.053Z"
   },
   {
    "duration": 16,
    "start_time": "2023-06-17T08:14:29.081Z"
   },
   {
    "duration": 41,
    "start_time": "2023-06-17T08:14:29.102Z"
   },
   {
    "duration": 323,
    "start_time": "2023-06-17T08:14:29.145Z"
   },
   {
    "duration": 16,
    "start_time": "2023-06-17T08:14:29.470Z"
   },
   {
    "duration": 209,
    "start_time": "2023-06-17T08:14:29.487Z"
   },
   {
    "duration": 15,
    "start_time": "2023-06-17T08:14:29.698Z"
   },
   {
    "duration": 33,
    "start_time": "2023-06-17T08:14:29.715Z"
   },
   {
    "duration": 18,
    "start_time": "2023-06-17T08:14:29.752Z"
   },
   {
    "duration": 19,
    "start_time": "2023-06-17T08:14:29.772Z"
   },
   {
    "duration": 224,
    "start_time": "2023-06-17T08:14:29.793Z"
   },
   {
    "duration": 37,
    "start_time": "2023-06-17T08:14:30.019Z"
   },
   {
    "duration": 50,
    "start_time": "2023-06-17T08:14:30.058Z"
   },
   {
    "duration": 41,
    "start_time": "2023-06-17T08:14:30.110Z"
   },
   {
    "duration": 83,
    "start_time": "2023-06-17T08:14:30.153Z"
   },
   {
    "duration": 125,
    "start_time": "2023-06-17T08:14:30.238Z"
   },
   {
    "duration": 130,
    "start_time": "2023-06-17T08:14:30.364Z"
   },
   {
    "duration": 181,
    "start_time": "2023-06-17T08:14:30.497Z"
   },
   {
    "duration": 70,
    "start_time": "2023-06-17T08:14:30.681Z"
   },
   {
    "duration": 60,
    "start_time": "2023-06-17T08:14:30.753Z"
   },
   {
    "duration": 60,
    "start_time": "2023-06-17T08:14:30.815Z"
   },
   {
    "duration": 90,
    "start_time": "2023-06-17T08:14:30.877Z"
   },
   {
    "duration": 103,
    "start_time": "2023-06-17T08:14:30.968Z"
   },
   {
    "duration": 242,
    "start_time": "2023-06-17T08:14:31.074Z"
   },
   {
    "duration": 116,
    "start_time": "2023-06-17T08:14:31.318Z"
   },
   {
    "duration": 103,
    "start_time": "2023-06-17T08:14:31.436Z"
   },
   {
    "duration": 126,
    "start_time": "2023-06-17T08:14:31.542Z"
   },
   {
    "duration": 136,
    "start_time": "2023-06-17T08:14:31.670Z"
   },
   {
    "duration": 473,
    "start_time": "2023-06-17T08:14:31.808Z"
   },
   {
    "duration": 441,
    "start_time": "2023-06-17T08:14:32.283Z"
   },
   {
    "duration": 167,
    "start_time": "2023-06-17T08:14:32.726Z"
   },
   {
    "duration": 234,
    "start_time": "2023-06-17T08:14:32.895Z"
   },
   {
    "duration": 3,
    "start_time": "2023-06-17T08:14:33.131Z"
   },
   {
    "duration": 151,
    "start_time": "2023-06-17T08:14:33.136Z"
   },
   {
    "duration": 290,
    "start_time": "2023-06-17T08:14:33.289Z"
   },
   {
    "duration": 133,
    "start_time": "2023-06-17T08:14:33.580Z"
   },
   {
    "duration": 13,
    "start_time": "2023-06-17T08:14:33.715Z"
   },
   {
    "duration": 33,
    "start_time": "2023-06-17T08:14:33.730Z"
   },
   {
    "duration": 780,
    "start_time": "2023-06-17T08:14:33.765Z"
   },
   {
    "duration": 223,
    "start_time": "2023-06-17T08:14:34.552Z"
   },
   {
    "duration": 11,
    "start_time": "2023-06-17T08:14:34.777Z"
   },
   {
    "duration": 62094,
    "start_time": "2023-06-17T08:14:34.790Z"
   },
   {
    "duration": 15655,
    "start_time": "2023-06-17T08:15:36.886Z"
   },
   {
    "duration": 285616,
    "start_time": "2023-06-17T08:15:52.542Z"
   },
   {
    "duration": 91,
    "start_time": "2023-06-17T08:20:38.161Z"
   },
   {
    "duration": 245777,
    "start_time": "2023-06-17T08:20:38.255Z"
   },
   {
    "duration": 6,
    "start_time": "2023-06-17T08:24:44.033Z"
   },
   {
    "duration": 539116,
    "start_time": "2023-06-17T08:24:44.040Z"
   },
   {
    "duration": 3,
    "start_time": "2023-06-17T08:33:43.158Z"
   },
   {
    "duration": 16,
    "start_time": "2023-06-17T08:33:43.163Z"
   },
   {
    "duration": 7,
    "start_time": "2023-06-17T08:57:06.520Z"
   },
   {
    "duration": 4109,
    "start_time": "2023-06-17T09:34:18.039Z"
   },
   {
    "duration": 8,
    "start_time": "2023-06-17T09:34:22.150Z"
   },
   {
    "duration": 939,
    "start_time": "2023-06-17T09:34:22.163Z"
   },
   {
    "duration": 1380,
    "start_time": "2023-06-17T09:34:23.105Z"
   },
   {
    "duration": 554,
    "start_time": "2023-06-17T09:34:24.487Z"
   },
   {
    "duration": 567,
    "start_time": "2023-06-17T09:34:25.043Z"
   },
   {
    "duration": 191,
    "start_time": "2023-06-17T09:34:25.612Z"
   },
   {
    "duration": 67,
    "start_time": "2023-06-17T09:34:25.805Z"
   },
   {
    "duration": 72,
    "start_time": "2023-06-17T09:34:25.879Z"
   },
   {
    "duration": 26,
    "start_time": "2023-06-17T09:34:25.968Z"
   },
   {
    "duration": 83,
    "start_time": "2023-06-17T09:34:25.996Z"
   },
   {
    "duration": 453,
    "start_time": "2023-06-17T09:34:26.080Z"
   },
   {
    "duration": 414,
    "start_time": "2023-06-17T09:34:26.534Z"
   },
   {
    "duration": 523,
    "start_time": "2023-06-17T09:34:26.959Z"
   },
   {
    "duration": 18,
    "start_time": "2023-06-17T09:34:27.484Z"
   },
   {
    "duration": 59,
    "start_time": "2023-06-17T09:34:27.504Z"
   },
   {
    "duration": 22,
    "start_time": "2023-06-17T09:34:27.571Z"
   },
   {
    "duration": 24,
    "start_time": "2023-06-17T09:34:27.595Z"
   },
   {
    "duration": 387,
    "start_time": "2023-06-17T09:34:27.621Z"
   },
   {
    "duration": 371,
    "start_time": "2023-06-17T09:34:28.010Z"
   },
   {
    "duration": 25,
    "start_time": "2023-06-17T09:34:28.390Z"
   },
   {
    "duration": 464,
    "start_time": "2023-06-17T09:34:28.419Z"
   },
   {
    "duration": 405,
    "start_time": "2023-06-17T09:34:28.886Z"
   },
   {
    "duration": 15,
    "start_time": "2023-06-17T09:34:29.293Z"
   },
   {
    "duration": 23,
    "start_time": "2023-06-17T09:34:29.310Z"
   },
   {
    "duration": 38,
    "start_time": "2023-06-17T09:34:29.335Z"
   },
   {
    "duration": 37,
    "start_time": "2023-06-17T09:34:29.375Z"
   },
   {
    "duration": 14,
    "start_time": "2023-06-17T09:34:29.417Z"
   },
   {
    "duration": 296,
    "start_time": "2023-06-17T09:34:29.433Z"
   },
   {
    "duration": 35,
    "start_time": "2023-06-17T09:34:29.731Z"
   },
   {
    "duration": 201,
    "start_time": "2023-06-17T09:34:29.768Z"
   },
   {
    "duration": 17,
    "start_time": "2023-06-17T09:34:29.971Z"
   },
   {
    "duration": 27,
    "start_time": "2023-06-17T09:34:29.990Z"
   },
   {
    "duration": 17,
    "start_time": "2023-06-17T09:34:30.019Z"
   },
   {
    "duration": 23,
    "start_time": "2023-06-17T09:34:30.038Z"
   },
   {
    "duration": 245,
    "start_time": "2023-06-17T09:34:30.066Z"
   },
   {
    "duration": 45,
    "start_time": "2023-06-17T09:34:30.313Z"
   },
   {
    "duration": 24,
    "start_time": "2023-06-17T09:34:30.362Z"
   },
   {
    "duration": 32,
    "start_time": "2023-06-17T09:34:30.387Z"
   },
   {
    "duration": 60,
    "start_time": "2023-06-17T09:34:30.421Z"
   },
   {
    "duration": 49,
    "start_time": "2023-06-17T09:34:30.484Z"
   },
   {
    "duration": 62,
    "start_time": "2023-06-17T09:34:30.535Z"
   },
   {
    "duration": 30,
    "start_time": "2023-06-17T09:34:30.599Z"
   },
   {
    "duration": 57,
    "start_time": "2023-06-17T09:34:30.631Z"
   },
   {
    "duration": 39,
    "start_time": "2023-06-17T09:34:30.690Z"
   },
   {
    "duration": 83,
    "start_time": "2023-06-17T09:34:30.731Z"
   },
   {
    "duration": 62,
    "start_time": "2023-06-17T09:34:30.816Z"
   },
   {
    "duration": 52,
    "start_time": "2023-06-17T09:34:30.880Z"
   },
   {
    "duration": 171,
    "start_time": "2023-06-17T09:34:30.933Z"
   },
   {
    "duration": 84,
    "start_time": "2023-06-17T09:34:31.106Z"
   },
   {
    "duration": 56,
    "start_time": "2023-06-17T09:34:31.192Z"
   },
   {
    "duration": 132,
    "start_time": "2023-06-17T09:34:31.251Z"
   },
   {
    "duration": 128,
    "start_time": "2023-06-17T09:34:31.386Z"
   },
   {
    "duration": 515,
    "start_time": "2023-06-17T09:34:31.516Z"
   },
   {
    "duration": 375,
    "start_time": "2023-06-17T09:34:32.033Z"
   },
   {
    "duration": 170,
    "start_time": "2023-06-17T09:34:32.411Z"
   },
   {
    "duration": 239,
    "start_time": "2023-06-17T09:34:32.583Z"
   },
   {
    "duration": 3,
    "start_time": "2023-06-17T09:34:32.824Z"
   },
   {
    "duration": 120,
    "start_time": "2023-06-17T09:34:32.828Z"
   },
   {
    "duration": 307,
    "start_time": "2023-06-17T09:34:32.950Z"
   },
   {
    "duration": 172,
    "start_time": "2023-06-17T09:34:33.259Z"
   },
   {
    "duration": 30,
    "start_time": "2023-06-17T09:34:33.432Z"
   },
   {
    "duration": 17,
    "start_time": "2023-06-17T09:34:33.465Z"
   },
   {
    "duration": 737,
    "start_time": "2023-06-17T09:34:33.484Z"
   },
   {
    "duration": 228,
    "start_time": "2023-06-17T09:34:34.222Z"
   },
   {
    "duration": 22,
    "start_time": "2023-06-17T09:34:34.452Z"
   },
   {
    "duration": 63419,
    "start_time": "2023-06-17T09:34:34.478Z"
   },
   {
    "duration": 19687,
    "start_time": "2023-06-17T09:35:37.899Z"
   },
   {
    "duration": 439169,
    "start_time": "2023-06-17T09:35:57.588Z"
   },
   {
    "duration": 6,
    "start_time": "2023-06-17T09:43:16.759Z"
   },
   {
    "duration": 200009,
    "start_time": "2023-06-17T09:43:16.852Z"
   },
   {
    "duration": 6,
    "start_time": "2023-06-17T09:46:36.863Z"
   },
   {
    "duration": 7870,
    "start_time": "2023-06-17T10:38:31.173Z"
   },
   {
    "duration": 3,
    "start_time": "2023-06-17T10:38:39.046Z"
   },
   {
    "duration": 1087,
    "start_time": "2023-06-17T10:38:39.051Z"
   },
   {
    "duration": 1116,
    "start_time": "2023-06-17T10:38:40.139Z"
   },
   {
    "duration": 469,
    "start_time": "2023-06-17T10:38:41.258Z"
   },
   {
    "duration": 776,
    "start_time": "2023-06-17T10:38:41.728Z"
   },
   {
    "duration": 199,
    "start_time": "2023-06-17T10:38:42.506Z"
   },
   {
    "duration": 54,
    "start_time": "2023-06-17T10:38:42.706Z"
   },
   {
    "duration": 97,
    "start_time": "2023-06-17T10:38:42.762Z"
   },
   {
    "duration": 19,
    "start_time": "2023-06-17T10:38:42.861Z"
   },
   {
    "duration": 69,
    "start_time": "2023-06-17T10:38:42.882Z"
   },
   {
    "duration": 429,
    "start_time": "2023-06-17T10:38:42.953Z"
   },
   {
    "duration": 493,
    "start_time": "2023-06-17T10:38:43.384Z"
   },
   {
    "duration": 432,
    "start_time": "2023-06-17T10:38:43.881Z"
   },
   {
    "duration": 17,
    "start_time": "2023-06-17T10:38:44.315Z"
   },
   {
    "duration": 40,
    "start_time": "2023-06-17T10:38:44.335Z"
   },
   {
    "duration": 41,
    "start_time": "2023-06-17T10:38:44.377Z"
   },
   {
    "duration": 14,
    "start_time": "2023-06-17T10:38:44.419Z"
   },
   {
    "duration": 341,
    "start_time": "2023-06-17T10:38:44.435Z"
   },
   {
    "duration": 300,
    "start_time": "2023-06-17T10:38:44.778Z"
   },
   {
    "duration": 36,
    "start_time": "2023-06-17T10:38:45.080Z"
   },
   {
    "duration": 386,
    "start_time": "2023-06-17T10:38:45.118Z"
   },
   {
    "duration": 372,
    "start_time": "2023-06-17T10:38:45.506Z"
   },
   {
    "duration": 25,
    "start_time": "2023-06-17T10:38:45.880Z"
   },
   {
    "duration": 23,
    "start_time": "2023-06-17T10:38:45.907Z"
   },
   {
    "duration": 20,
    "start_time": "2023-06-17T10:38:45.932Z"
   },
   {
    "duration": 17,
    "start_time": "2023-06-17T10:38:45.954Z"
   },
   {
    "duration": 41,
    "start_time": "2023-06-17T10:38:45.972Z"
   },
   {
    "duration": 295,
    "start_time": "2023-06-17T10:38:46.015Z"
   },
   {
    "duration": 15,
    "start_time": "2023-06-17T10:38:46.312Z"
   },
   {
    "duration": 343,
    "start_time": "2023-06-17T10:38:46.328Z"
   },
   {
    "duration": 13,
    "start_time": "2023-06-17T10:38:46.673Z"
   },
   {
    "duration": 28,
    "start_time": "2023-06-17T10:38:46.687Z"
   },
   {
    "duration": 16,
    "start_time": "2023-06-17T10:38:46.717Z"
   },
   {
    "duration": 4,
    "start_time": "2023-06-17T10:38:46.735Z"
   },
   {
    "duration": 236,
    "start_time": "2023-06-17T10:38:46.740Z"
   },
   {
    "duration": 36,
    "start_time": "2023-06-17T10:38:46.978Z"
   },
   {
    "duration": 16,
    "start_time": "2023-06-17T10:38:47.016Z"
   },
   {
    "duration": 15,
    "start_time": "2023-06-17T10:38:47.033Z"
   },
   {
    "duration": 33,
    "start_time": "2023-06-17T10:38:47.050Z"
   },
   {
    "duration": 28,
    "start_time": "2023-06-17T10:38:47.104Z"
   },
   {
    "duration": 20,
    "start_time": "2023-06-17T10:38:47.134Z"
   },
   {
    "duration": 19,
    "start_time": "2023-06-17T10:38:47.156Z"
   },
   {
    "duration": 40,
    "start_time": "2023-06-17T10:38:47.176Z"
   },
   {
    "duration": 24,
    "start_time": "2023-06-17T10:38:47.218Z"
   },
   {
    "duration": 18,
    "start_time": "2023-06-17T10:38:47.244Z"
   },
   {
    "duration": 30,
    "start_time": "2023-06-17T10:38:47.263Z"
   },
   {
    "duration": 19,
    "start_time": "2023-06-17T10:38:47.294Z"
   },
   {
    "duration": 15,
    "start_time": "2023-06-17T10:38:47.315Z"
   },
   {
    "duration": 29,
    "start_time": "2023-06-17T10:38:47.332Z"
   },
   {
    "duration": 17,
    "start_time": "2023-06-17T10:38:47.363Z"
   },
   {
    "duration": 27,
    "start_time": "2023-06-17T10:38:47.381Z"
   },
   {
    "duration": 60,
    "start_time": "2023-06-17T10:38:47.410Z"
   },
   {
    "duration": 382,
    "start_time": "2023-06-17T10:38:47.472Z"
   },
   {
    "duration": 392,
    "start_time": "2023-06-17T10:38:47.855Z"
   },
   {
    "duration": 137,
    "start_time": "2023-06-17T10:38:48.248Z"
   },
   {
    "duration": 202,
    "start_time": "2023-06-17T10:38:48.387Z"
   },
   {
    "duration": 3,
    "start_time": "2023-06-17T10:38:48.590Z"
   },
   {
    "duration": 64,
    "start_time": "2023-06-17T10:38:48.602Z"
   },
   {
    "duration": 253,
    "start_time": "2023-06-17T10:38:48.668Z"
   },
   {
    "duration": 129,
    "start_time": "2023-06-17T10:38:48.923Z"
   },
   {
    "duration": 11,
    "start_time": "2023-06-17T10:38:49.053Z"
   },
   {
    "duration": 14,
    "start_time": "2023-06-17T10:38:49.066Z"
   },
   {
    "duration": 660,
    "start_time": "2023-06-17T10:38:49.081Z"
   },
   {
    "duration": 190,
    "start_time": "2023-06-17T10:38:49.743Z"
   },
   {
    "duration": 9,
    "start_time": "2023-06-17T10:38:49.935Z"
   },
   {
    "duration": 131,
    "start_time": "2023-06-17T10:38:49.945Z"
   },
   {
    "duration": 0,
    "start_time": "2023-06-17T10:38:50.077Z"
   },
   {
    "duration": 0,
    "start_time": "2023-06-17T10:38:50.078Z"
   },
   {
    "duration": 0,
    "start_time": "2023-06-17T10:38:50.079Z"
   },
   {
    "duration": 0,
    "start_time": "2023-06-17T10:38:50.080Z"
   },
   {
    "duration": 0,
    "start_time": "2023-06-17T10:38:50.081Z"
   },
   {
    "duration": 0,
    "start_time": "2023-06-17T10:38:50.082Z"
   },
   {
    "duration": 0,
    "start_time": "2023-06-17T10:38:50.083Z"
   },
   {
    "duration": 0,
    "start_time": "2023-06-17T10:38:50.084Z"
   },
   {
    "duration": 0,
    "start_time": "2023-06-17T10:38:50.085Z"
   },
   {
    "duration": 0,
    "start_time": "2023-06-17T10:38:50.101Z"
   },
   {
    "duration": 0,
    "start_time": "2023-06-17T10:38:50.102Z"
   },
   {
    "duration": 0,
    "start_time": "2023-06-17T10:38:50.103Z"
   },
   {
    "duration": 0,
    "start_time": "2023-06-17T10:38:50.104Z"
   },
   {
    "duration": 3546,
    "start_time": "2023-06-17T10:39:04.442Z"
   },
   {
    "duration": 3,
    "start_time": "2023-06-17T10:39:07.991Z"
   },
   {
    "duration": 834,
    "start_time": "2023-06-17T10:39:07.996Z"
   },
   {
    "duration": 1116,
    "start_time": "2023-06-17T10:39:08.832Z"
   },
   {
    "duration": 498,
    "start_time": "2023-06-17T10:39:09.950Z"
   },
   {
    "duration": 483,
    "start_time": "2023-06-17T10:39:10.449Z"
   },
   {
    "duration": 178,
    "start_time": "2023-06-17T10:39:10.934Z"
   },
   {
    "duration": 54,
    "start_time": "2023-06-17T10:39:11.113Z"
   },
   {
    "duration": 90,
    "start_time": "2023-06-17T10:39:11.168Z"
   },
   {
    "duration": 18,
    "start_time": "2023-06-17T10:39:11.260Z"
   },
   {
    "duration": 68,
    "start_time": "2023-06-17T10:39:11.280Z"
   },
   {
    "duration": 431,
    "start_time": "2023-06-17T10:39:11.349Z"
   },
   {
    "duration": 391,
    "start_time": "2023-06-17T10:39:11.782Z"
   },
   {
    "duration": 484,
    "start_time": "2023-06-17T10:39:12.175Z"
   },
   {
    "duration": 16,
    "start_time": "2023-06-17T10:39:12.662Z"
   },
   {
    "duration": 56,
    "start_time": "2023-06-17T10:39:12.680Z"
   },
   {
    "duration": 17,
    "start_time": "2023-06-17T10:39:12.737Z"
   },
   {
    "duration": 12,
    "start_time": "2023-06-17T10:39:12.756Z"
   },
   {
    "duration": 333,
    "start_time": "2023-06-17T10:39:12.770Z"
   },
   {
    "duration": 294,
    "start_time": "2023-06-17T10:39:13.105Z"
   },
   {
    "duration": 22,
    "start_time": "2023-06-17T10:39:13.401Z"
   },
   {
    "duration": 390,
    "start_time": "2023-06-17T10:39:13.424Z"
   },
   {
    "duration": 359,
    "start_time": "2023-06-17T10:39:13.815Z"
   },
   {
    "duration": 15,
    "start_time": "2023-06-17T10:39:14.175Z"
   },
   {
    "duration": 25,
    "start_time": "2023-06-17T10:39:14.202Z"
   },
   {
    "duration": 18,
    "start_time": "2023-06-17T10:39:14.229Z"
   },
   {
    "duration": 15,
    "start_time": "2023-06-17T10:39:14.249Z"
   },
   {
    "duration": 39,
    "start_time": "2023-06-17T10:39:14.269Z"
   },
   {
    "duration": 292,
    "start_time": "2023-06-17T10:39:14.309Z"
   },
   {
    "duration": 15,
    "start_time": "2023-06-17T10:39:14.603Z"
   },
   {
    "duration": 205,
    "start_time": "2023-06-17T10:39:14.619Z"
   },
   {
    "duration": 15,
    "start_time": "2023-06-17T10:39:14.825Z"
   },
   {
    "duration": 28,
    "start_time": "2023-06-17T10:39:14.841Z"
   },
   {
    "duration": 33,
    "start_time": "2023-06-17T10:39:14.871Z"
   },
   {
    "duration": 5,
    "start_time": "2023-06-17T10:39:14.906Z"
   },
   {
    "duration": 208,
    "start_time": "2023-06-17T10:39:14.913Z"
   },
   {
    "duration": 30,
    "start_time": "2023-06-17T10:39:15.122Z"
   },
   {
    "duration": 16,
    "start_time": "2023-06-17T10:39:15.154Z"
   },
   {
    "duration": 47,
    "start_time": "2023-06-17T10:39:15.171Z"
   },
   {
    "duration": 60,
    "start_time": "2023-06-17T10:39:15.219Z"
   },
   {
    "duration": 57,
    "start_time": "2023-06-17T10:39:15.280Z"
   },
   {
    "duration": 59,
    "start_time": "2023-06-17T10:39:15.339Z"
   },
   {
    "duration": 57,
    "start_time": "2023-06-17T10:39:15.400Z"
   },
   {
    "duration": 25,
    "start_time": "2023-06-17T10:39:15.459Z"
   },
   {
    "duration": 17,
    "start_time": "2023-06-17T10:39:15.485Z"
   },
   {
    "duration": 22,
    "start_time": "2023-06-17T10:39:15.504Z"
   },
   {
    "duration": 28,
    "start_time": "2023-06-17T10:39:15.528Z"
   },
   {
    "duration": 24,
    "start_time": "2023-06-17T10:39:15.558Z"
   },
   {
    "duration": 137,
    "start_time": "2023-06-17T10:39:15.584Z"
   },
   {
    "duration": 30,
    "start_time": "2023-06-17T10:39:15.723Z"
   },
   {
    "duration": 17,
    "start_time": "2023-06-17T10:39:15.754Z"
   },
   {
    "duration": 17,
    "start_time": "2023-06-17T10:39:15.772Z"
   },
   {
    "duration": 61,
    "start_time": "2023-06-17T10:39:15.790Z"
   },
   {
    "duration": 371,
    "start_time": "2023-06-17T10:39:15.853Z"
   },
   {
    "duration": 366,
    "start_time": "2023-06-17T10:39:16.225Z"
   },
   {
    "duration": 128,
    "start_time": "2023-06-17T10:39:16.593Z"
   },
   {
    "duration": 194,
    "start_time": "2023-06-17T10:39:16.723Z"
   },
   {
    "duration": 3,
    "start_time": "2023-06-17T10:39:16.919Z"
   },
   {
    "duration": 67,
    "start_time": "2023-06-17T10:39:16.923Z"
   },
   {
    "duration": 241,
    "start_time": "2023-06-17T10:39:17.002Z"
   },
   {
    "duration": 124,
    "start_time": "2023-06-17T10:39:17.245Z"
   },
   {
    "duration": 11,
    "start_time": "2023-06-17T10:39:17.371Z"
   },
   {
    "duration": 31,
    "start_time": "2023-06-17T10:39:17.383Z"
   },
   {
    "duration": 596,
    "start_time": "2023-06-17T10:39:17.416Z"
   },
   {
    "duration": 182,
    "start_time": "2023-06-17T10:39:18.014Z"
   },
   {
    "duration": 9,
    "start_time": "2023-06-17T10:39:18.198Z"
   },
   {
    "duration": 80298,
    "start_time": "2023-06-17T10:39:18.209Z"
   },
   {
    "duration": 22818,
    "start_time": "2023-06-17T10:40:38.508Z"
   },
   {
    "duration": 259578,
    "start_time": "2023-06-17T10:41:01.327Z"
   },
   {
    "duration": 95,
    "start_time": "2023-06-17T10:45:20.911Z"
   },
   {
    "duration": 387536,
    "start_time": "2023-06-17T10:45:21.007Z"
   },
   {
    "duration": 5,
    "start_time": "2023-06-17T10:51:48.545Z"
   },
   {
    "duration": 186458,
    "start_time": "2023-06-17T10:51:48.551Z"
   },
   {
    "duration": 296,
    "start_time": "2023-06-17T10:54:55.011Z"
   },
   {
    "duration": 92,
    "start_time": "2023-06-17T10:54:55.311Z"
   },
   {
    "duration": 1185,
    "start_time": "2023-06-17T10:54:55.413Z"
   },
   {
    "duration": 4,
    "start_time": "2023-06-17T10:54:56.602Z"
   },
   {
    "duration": 808,
    "start_time": "2023-06-17T10:54:56.607Z"
   },
   {
    "duration": 80,
    "start_time": "2023-06-17T10:54:57.417Z"
   },
   {
    "duration": 0,
    "start_time": "2023-06-17T10:54:57.499Z"
   },
   {
    "duration": 255,
    "start_time": "2023-06-17T11:23:49.942Z"
   },
   {
    "duration": 68,
    "start_time": "2023-06-17T11:23:58.187Z"
   },
   {
    "duration": 10,
    "start_time": "2023-06-17T11:27:43.800Z"
   },
   {
    "duration": 11,
    "start_time": "2023-06-17T11:28:23.275Z"
   },
   {
    "duration": 115,
    "start_time": "2023-06-17T11:30:37.601Z"
   },
   {
    "duration": 11,
    "start_time": "2023-06-17T11:31:11.225Z"
   },
   {
    "duration": 11,
    "start_time": "2023-06-17T11:32:10.753Z"
   },
   {
    "duration": 75,
    "start_time": "2023-06-17T11:34:08.039Z"
   },
   {
    "duration": 78,
    "start_time": "2023-06-17T11:35:35.819Z"
   },
   {
    "duration": 8,
    "start_time": "2023-06-17T11:35:59.423Z"
   },
   {
    "duration": 11,
    "start_time": "2023-06-17T11:36:09.961Z"
   },
   {
    "duration": 83,
    "start_time": "2023-06-17T11:41:19.059Z"
   },
   {
    "duration": 2254,
    "start_time": "2023-06-18T09:33:40.197Z"
   },
   {
    "duration": 56,
    "start_time": "2023-06-18T09:34:38.297Z"
   },
   {
    "duration": 13587,
    "start_time": "2023-06-18T09:38:49.506Z"
   },
   {
    "duration": 5759,
    "start_time": "2023-06-18T10:25:33.844Z"
   },
   {
    "duration": 4,
    "start_time": "2023-06-18T10:25:39.606Z"
   },
   {
    "duration": 1603,
    "start_time": "2023-06-18T10:25:39.611Z"
   },
   {
    "duration": 1474,
    "start_time": "2023-06-18T10:25:41.216Z"
   },
   {
    "duration": 698,
    "start_time": "2023-06-18T10:25:42.691Z"
   },
   {
    "duration": 600,
    "start_time": "2023-06-18T10:25:43.390Z"
   },
   {
    "duration": 290,
    "start_time": "2023-06-18T10:25:43.992Z"
   },
   {
    "duration": 168,
    "start_time": "2023-06-18T10:25:44.284Z"
   },
   {
    "duration": 0,
    "start_time": "2023-06-18T10:25:44.455Z"
   },
   {
    "duration": 0,
    "start_time": "2023-06-18T10:25:44.457Z"
   },
   {
    "duration": 0,
    "start_time": "2023-06-18T10:25:44.458Z"
   },
   {
    "duration": 0,
    "start_time": "2023-06-18T10:25:44.459Z"
   },
   {
    "duration": 0,
    "start_time": "2023-06-18T10:25:44.460Z"
   },
   {
    "duration": 0,
    "start_time": "2023-06-18T10:25:44.461Z"
   },
   {
    "duration": 0,
    "start_time": "2023-06-18T10:25:44.462Z"
   },
   {
    "duration": 0,
    "start_time": "2023-06-18T10:25:44.464Z"
   },
   {
    "duration": 0,
    "start_time": "2023-06-18T10:25:44.465Z"
   },
   {
    "duration": 0,
    "start_time": "2023-06-18T10:25:44.466Z"
   },
   {
    "duration": 0,
    "start_time": "2023-06-18T10:25:44.468Z"
   },
   {
    "duration": 0,
    "start_time": "2023-06-18T10:25:44.469Z"
   },
   {
    "duration": 0,
    "start_time": "2023-06-18T10:25:44.470Z"
   },
   {
    "duration": 0,
    "start_time": "2023-06-18T10:25:44.472Z"
   },
   {
    "duration": 0,
    "start_time": "2023-06-18T10:25:44.473Z"
   },
   {
    "duration": 0,
    "start_time": "2023-06-18T10:25:44.474Z"
   },
   {
    "duration": 0,
    "start_time": "2023-06-18T10:25:44.475Z"
   },
   {
    "duration": 0,
    "start_time": "2023-06-18T10:25:44.477Z"
   },
   {
    "duration": 0,
    "start_time": "2023-06-18T10:25:44.478Z"
   },
   {
    "duration": 0,
    "start_time": "2023-06-18T10:25:44.479Z"
   },
   {
    "duration": 0,
    "start_time": "2023-06-18T10:25:44.480Z"
   },
   {
    "duration": 0,
    "start_time": "2023-06-18T10:25:44.481Z"
   },
   {
    "duration": 0,
    "start_time": "2023-06-18T10:25:44.483Z"
   },
   {
    "duration": 0,
    "start_time": "2023-06-18T10:25:44.484Z"
   },
   {
    "duration": 0,
    "start_time": "2023-06-18T10:25:44.485Z"
   },
   {
    "duration": 0,
    "start_time": "2023-06-18T10:25:44.486Z"
   },
   {
    "duration": 0,
    "start_time": "2023-06-18T10:25:44.488Z"
   },
   {
    "duration": 0,
    "start_time": "2023-06-18T10:25:44.489Z"
   },
   {
    "duration": 0,
    "start_time": "2023-06-18T10:25:44.490Z"
   },
   {
    "duration": 0,
    "start_time": "2023-06-18T10:25:44.491Z"
   },
   {
    "duration": 0,
    "start_time": "2023-06-18T10:25:44.493Z"
   },
   {
    "duration": 0,
    "start_time": "2023-06-18T10:25:44.494Z"
   },
   {
    "duration": 0,
    "start_time": "2023-06-18T10:25:44.495Z"
   },
   {
    "duration": 0,
    "start_time": "2023-06-18T10:25:44.496Z"
   },
   {
    "duration": 0,
    "start_time": "2023-06-18T10:25:44.497Z"
   },
   {
    "duration": 0,
    "start_time": "2023-06-18T10:25:44.499Z"
   },
   {
    "duration": 0,
    "start_time": "2023-06-18T10:25:44.500Z"
   },
   {
    "duration": 0,
    "start_time": "2023-06-18T10:25:44.504Z"
   },
   {
    "duration": 0,
    "start_time": "2023-06-18T10:25:44.506Z"
   },
   {
    "duration": 0,
    "start_time": "2023-06-18T10:25:44.507Z"
   },
   {
    "duration": 0,
    "start_time": "2023-06-18T10:25:44.508Z"
   },
   {
    "duration": 0,
    "start_time": "2023-06-18T10:25:44.509Z"
   },
   {
    "duration": 0,
    "start_time": "2023-06-18T10:25:44.510Z"
   },
   {
    "duration": 0,
    "start_time": "2023-06-18T10:25:44.511Z"
   },
   {
    "duration": 0,
    "start_time": "2023-06-18T10:25:44.512Z"
   },
   {
    "duration": 0,
    "start_time": "2023-06-18T10:25:44.513Z"
   },
   {
    "duration": 0,
    "start_time": "2023-06-18T10:25:44.514Z"
   },
   {
    "duration": 0,
    "start_time": "2023-06-18T10:25:44.525Z"
   },
   {
    "duration": 0,
    "start_time": "2023-06-18T10:25:44.527Z"
   },
   {
    "duration": 0,
    "start_time": "2023-06-18T10:25:44.528Z"
   },
   {
    "duration": 0,
    "start_time": "2023-06-18T10:25:44.529Z"
   },
   {
    "duration": 0,
    "start_time": "2023-06-18T10:25:44.537Z"
   },
   {
    "duration": 0,
    "start_time": "2023-06-18T10:25:44.538Z"
   },
   {
    "duration": 0,
    "start_time": "2023-06-18T10:25:44.540Z"
   },
   {
    "duration": 0,
    "start_time": "2023-06-18T10:25:44.544Z"
   },
   {
    "duration": 0,
    "start_time": "2023-06-18T10:25:44.545Z"
   },
   {
    "duration": 0,
    "start_time": "2023-06-18T10:25:44.547Z"
   },
   {
    "duration": 0,
    "start_time": "2023-06-18T10:25:44.548Z"
   },
   {
    "duration": 0,
    "start_time": "2023-06-18T10:25:44.549Z"
   },
   {
    "duration": 0,
    "start_time": "2023-06-18T10:25:44.550Z"
   },
   {
    "duration": 0,
    "start_time": "2023-06-18T10:25:44.552Z"
   },
   {
    "duration": 5643,
    "start_time": "2023-06-18T10:26:33.461Z"
   },
   {
    "duration": 4,
    "start_time": "2023-06-18T10:26:39.107Z"
   },
   {
    "duration": 1080,
    "start_time": "2023-06-18T10:26:39.113Z"
   },
   {
    "duration": 1299,
    "start_time": "2023-06-18T10:26:40.195Z"
   },
   {
    "duration": 595,
    "start_time": "2023-06-18T10:26:41.496Z"
   },
   {
    "duration": 505,
    "start_time": "2023-06-18T10:26:42.093Z"
   },
   {
    "duration": 239,
    "start_time": "2023-06-18T10:26:42.606Z"
   },
   {
    "duration": 38,
    "start_time": "2023-06-18T10:26:42.848Z"
   },
   {
    "duration": 156,
    "start_time": "2023-06-18T10:26:42.888Z"
   },
   {
    "duration": 18,
    "start_time": "2023-06-18T10:26:43.052Z"
   },
   {
    "duration": 122,
    "start_time": "2023-06-18T10:26:43.072Z"
   },
   {
    "duration": 576,
    "start_time": "2023-06-18T10:26:43.196Z"
   },
   {
    "duration": 413,
    "start_time": "2023-06-18T10:26:43.777Z"
   },
   {
    "duration": 461,
    "start_time": "2023-06-18T10:26:44.193Z"
   },
   {
    "duration": 27,
    "start_time": "2023-06-18T10:26:44.656Z"
   },
   {
    "duration": 96,
    "start_time": "2023-06-18T10:26:44.685Z"
   },
   {
    "duration": 27,
    "start_time": "2023-06-18T10:26:44.783Z"
   },
   {
    "duration": 57,
    "start_time": "2023-06-18T10:26:44.812Z"
   },
   {
    "duration": 387,
    "start_time": "2023-06-18T10:26:44.871Z"
   },
   {
    "duration": 351,
    "start_time": "2023-06-18T10:26:45.259Z"
   },
   {
    "duration": 32,
    "start_time": "2023-06-18T10:26:45.614Z"
   },
   {
    "duration": 511,
    "start_time": "2023-06-18T10:26:45.648Z"
   },
   {
    "duration": 607,
    "start_time": "2023-06-18T10:26:46.161Z"
   },
   {
    "duration": 21,
    "start_time": "2023-06-18T10:26:46.770Z"
   },
   {
    "duration": 80,
    "start_time": "2023-06-18T10:26:46.802Z"
   },
   {
    "duration": 20,
    "start_time": "2023-06-18T10:26:46.885Z"
   },
   {
    "duration": 64,
    "start_time": "2023-06-18T10:26:46.907Z"
   },
   {
    "duration": 42,
    "start_time": "2023-06-18T10:26:46.973Z"
   },
   {
    "duration": 369,
    "start_time": "2023-06-18T10:26:47.018Z"
   },
   {
    "duration": 38,
    "start_time": "2023-06-18T10:26:47.389Z"
   },
   {
    "duration": 55,
    "start_time": "2023-06-18T10:26:47.431Z"
   },
   {
    "duration": 47,
    "start_time": "2023-06-18T10:26:47.490Z"
   },
   {
    "duration": 43,
    "start_time": "2023-06-18T10:26:47.546Z"
   },
   {
    "duration": 96,
    "start_time": "2023-06-18T10:26:47.594Z"
   },
   {
    "duration": 0,
    "start_time": "2023-06-18T10:26:47.693Z"
   },
   {
    "duration": 0,
    "start_time": "2023-06-18T10:26:47.694Z"
   },
   {
    "duration": 0,
    "start_time": "2023-06-18T10:26:47.695Z"
   },
   {
    "duration": 0,
    "start_time": "2023-06-18T10:26:47.696Z"
   },
   {
    "duration": 0,
    "start_time": "2023-06-18T10:26:47.698Z"
   },
   {
    "duration": 0,
    "start_time": "2023-06-18T10:26:47.699Z"
   },
   {
    "duration": 0,
    "start_time": "2023-06-18T10:26:47.700Z"
   },
   {
    "duration": 0,
    "start_time": "2023-06-18T10:26:47.701Z"
   },
   {
    "duration": 0,
    "start_time": "2023-06-18T10:26:47.702Z"
   },
   {
    "duration": 0,
    "start_time": "2023-06-18T10:26:47.703Z"
   },
   {
    "duration": 0,
    "start_time": "2023-06-18T10:26:47.704Z"
   },
   {
    "duration": 0,
    "start_time": "2023-06-18T10:26:47.705Z"
   },
   {
    "duration": 0,
    "start_time": "2023-06-18T10:26:47.706Z"
   },
   {
    "duration": 0,
    "start_time": "2023-06-18T10:26:47.708Z"
   },
   {
    "duration": 0,
    "start_time": "2023-06-18T10:26:47.709Z"
   },
   {
    "duration": 0,
    "start_time": "2023-06-18T10:26:47.710Z"
   },
   {
    "duration": 0,
    "start_time": "2023-06-18T10:26:47.711Z"
   },
   {
    "duration": 0,
    "start_time": "2023-06-18T10:26:47.712Z"
   },
   {
    "duration": 0,
    "start_time": "2023-06-18T10:26:47.717Z"
   },
   {
    "duration": 0,
    "start_time": "2023-06-18T10:26:47.719Z"
   },
   {
    "duration": 0,
    "start_time": "2023-06-18T10:26:47.720Z"
   },
   {
    "duration": 0,
    "start_time": "2023-06-18T10:26:47.721Z"
   },
   {
    "duration": 0,
    "start_time": "2023-06-18T10:26:47.722Z"
   },
   {
    "duration": 0,
    "start_time": "2023-06-18T10:26:47.723Z"
   },
   {
    "duration": 0,
    "start_time": "2023-06-18T10:26:47.724Z"
   },
   {
    "duration": 0,
    "start_time": "2023-06-18T10:26:47.725Z"
   },
   {
    "duration": 0,
    "start_time": "2023-06-18T10:26:47.726Z"
   },
   {
    "duration": 0,
    "start_time": "2023-06-18T10:26:47.727Z"
   },
   {
    "duration": 0,
    "start_time": "2023-06-18T10:26:47.728Z"
   },
   {
    "duration": 0,
    "start_time": "2023-06-18T10:26:47.729Z"
   },
   {
    "duration": 0,
    "start_time": "2023-06-18T10:26:47.730Z"
   },
   {
    "duration": 0,
    "start_time": "2023-06-18T10:26:47.732Z"
   },
   {
    "duration": 0,
    "start_time": "2023-06-18T10:26:47.733Z"
   },
   {
    "duration": 0,
    "start_time": "2023-06-18T10:26:47.734Z"
   },
   {
    "duration": 0,
    "start_time": "2023-06-18T10:26:47.735Z"
   },
   {
    "duration": 625,
    "start_time": "2023-06-18T10:27:51.316Z"
   },
   {
    "duration": 6005,
    "start_time": "2023-06-18T10:28:11.198Z"
   },
   {
    "duration": 5,
    "start_time": "2023-06-18T10:28:17.206Z"
   },
   {
    "duration": 924,
    "start_time": "2023-06-18T10:28:17.213Z"
   },
   {
    "duration": 1567,
    "start_time": "2023-06-18T10:28:18.139Z"
   },
   {
    "duration": 553,
    "start_time": "2023-06-18T10:28:19.708Z"
   },
   {
    "duration": 418,
    "start_time": "2023-06-18T10:28:20.263Z"
   },
   {
    "duration": 204,
    "start_time": "2023-06-18T10:28:20.683Z"
   },
   {
    "duration": 49,
    "start_time": "2023-06-18T10:28:20.889Z"
   },
   {
    "duration": 141,
    "start_time": "2023-06-18T10:28:20.940Z"
   },
   {
    "duration": 61,
    "start_time": "2023-06-18T10:28:21.084Z"
   },
   {
    "duration": 28,
    "start_time": "2023-06-18T10:28:21.147Z"
   },
   {
    "duration": 480,
    "start_time": "2023-06-18T10:28:21.177Z"
   },
   {
    "duration": 376,
    "start_time": "2023-06-18T10:28:21.658Z"
   },
   {
    "duration": 509,
    "start_time": "2023-06-18T10:28:22.036Z"
   },
   {
    "duration": 30,
    "start_time": "2023-06-18T10:28:22.550Z"
   },
   {
    "duration": 73,
    "start_time": "2023-06-18T10:28:22.582Z"
   },
   {
    "duration": 18,
    "start_time": "2023-06-18T10:28:22.658Z"
   },
   {
    "duration": 31,
    "start_time": "2023-06-18T10:28:22.678Z"
   },
   {
    "duration": 445,
    "start_time": "2023-06-18T10:28:22.711Z"
   },
   {
    "duration": 335,
    "start_time": "2023-06-18T10:28:23.160Z"
   },
   {
    "duration": 32,
    "start_time": "2023-06-18T10:28:23.497Z"
   },
   {
    "duration": 604,
    "start_time": "2023-06-18T10:28:23.531Z"
   },
   {
    "duration": 417,
    "start_time": "2023-06-18T10:28:24.136Z"
   },
   {
    "duration": 16,
    "start_time": "2023-06-18T10:28:24.555Z"
   },
   {
    "duration": 78,
    "start_time": "2023-06-18T10:28:24.573Z"
   },
   {
    "duration": 33,
    "start_time": "2023-06-18T10:28:24.653Z"
   },
   {
    "duration": 26,
    "start_time": "2023-06-18T10:28:24.688Z"
   },
   {
    "duration": 51,
    "start_time": "2023-06-18T10:28:24.718Z"
   },
   {
    "duration": 368,
    "start_time": "2023-06-18T10:28:24.771Z"
   },
   {
    "duration": 20,
    "start_time": "2023-06-18T10:28:25.141Z"
   },
   {
    "duration": 709,
    "start_time": "2023-06-18T10:28:25.163Z"
   },
   {
    "duration": 40,
    "start_time": "2023-06-18T10:28:25.874Z"
   },
   {
    "duration": 37,
    "start_time": "2023-06-18T10:28:25.916Z"
   },
   {
    "duration": 155,
    "start_time": "2023-06-18T10:28:25.957Z"
   },
   {
    "duration": 0,
    "start_time": "2023-06-18T10:28:26.114Z"
   },
   {
    "duration": 0,
    "start_time": "2023-06-18T10:28:26.115Z"
   },
   {
    "duration": 0,
    "start_time": "2023-06-18T10:28:26.116Z"
   },
   {
    "duration": 0,
    "start_time": "2023-06-18T10:28:26.117Z"
   },
   {
    "duration": 0,
    "start_time": "2023-06-18T10:28:26.117Z"
   },
   {
    "duration": 0,
    "start_time": "2023-06-18T10:28:26.118Z"
   },
   {
    "duration": 0,
    "start_time": "2023-06-18T10:28:26.119Z"
   },
   {
    "duration": 0,
    "start_time": "2023-06-18T10:28:26.124Z"
   },
   {
    "duration": 0,
    "start_time": "2023-06-18T10:28:26.125Z"
   },
   {
    "duration": 0,
    "start_time": "2023-06-18T10:28:26.127Z"
   },
   {
    "duration": 0,
    "start_time": "2023-06-18T10:28:26.128Z"
   },
   {
    "duration": 0,
    "start_time": "2023-06-18T10:28:26.129Z"
   },
   {
    "duration": 0,
    "start_time": "2023-06-18T10:28:26.131Z"
   },
   {
    "duration": 0,
    "start_time": "2023-06-18T10:28:26.132Z"
   },
   {
    "duration": 0,
    "start_time": "2023-06-18T10:28:26.133Z"
   },
   {
    "duration": 0,
    "start_time": "2023-06-18T10:28:26.135Z"
   },
   {
    "duration": 0,
    "start_time": "2023-06-18T10:28:26.136Z"
   },
   {
    "duration": 0,
    "start_time": "2023-06-18T10:28:26.137Z"
   },
   {
    "duration": 0,
    "start_time": "2023-06-18T10:28:26.139Z"
   },
   {
    "duration": 0,
    "start_time": "2023-06-18T10:28:26.140Z"
   },
   {
    "duration": 0,
    "start_time": "2023-06-18T10:28:26.141Z"
   },
   {
    "duration": 0,
    "start_time": "2023-06-18T10:28:26.144Z"
   },
   {
    "duration": 0,
    "start_time": "2023-06-18T10:28:26.146Z"
   },
   {
    "duration": 0,
    "start_time": "2023-06-18T10:28:26.153Z"
   },
   {
    "duration": 0,
    "start_time": "2023-06-18T10:28:26.155Z"
   },
   {
    "duration": 0,
    "start_time": "2023-06-18T10:28:26.157Z"
   },
   {
    "duration": 0,
    "start_time": "2023-06-18T10:28:26.161Z"
   },
   {
    "duration": 0,
    "start_time": "2023-06-18T10:28:26.164Z"
   },
   {
    "duration": 0,
    "start_time": "2023-06-18T10:28:26.166Z"
   },
   {
    "duration": 0,
    "start_time": "2023-06-18T10:28:26.172Z"
   },
   {
    "duration": 1,
    "start_time": "2023-06-18T10:28:26.177Z"
   },
   {
    "duration": 0,
    "start_time": "2023-06-18T10:28:26.179Z"
   },
   {
    "duration": 0,
    "start_time": "2023-06-18T10:28:26.180Z"
   },
   {
    "duration": 1,
    "start_time": "2023-06-18T10:28:26.183Z"
   },
   {
    "duration": 34,
    "start_time": "2023-06-18T10:28:41.733Z"
   },
   {
    "duration": 5749,
    "start_time": "2023-06-18T10:28:53.046Z"
   },
   {
    "duration": 6,
    "start_time": "2023-06-18T10:28:58.798Z"
   },
   {
    "duration": 883,
    "start_time": "2023-06-18T10:28:58.806Z"
   },
   {
    "duration": 1237,
    "start_time": "2023-06-18T10:28:59.691Z"
   },
   {
    "duration": 444,
    "start_time": "2023-06-18T10:29:00.931Z"
   },
   {
    "duration": 758,
    "start_time": "2023-06-18T10:29:01.377Z"
   },
   {
    "duration": 280,
    "start_time": "2023-06-18T10:29:02.138Z"
   },
   {
    "duration": 49,
    "start_time": "2023-06-18T10:29:02.419Z"
   },
   {
    "duration": 187,
    "start_time": "2023-06-18T10:29:02.469Z"
   },
   {
    "duration": 24,
    "start_time": "2023-06-18T10:29:02.658Z"
   },
   {
    "duration": 30,
    "start_time": "2023-06-18T10:29:02.683Z"
   },
   {
    "duration": 563,
    "start_time": "2023-06-18T10:29:02.714Z"
   },
   {
    "duration": 441,
    "start_time": "2023-06-18T10:29:03.282Z"
   },
   {
    "duration": 366,
    "start_time": "2023-06-18T10:29:03.743Z"
   },
   {
    "duration": 19,
    "start_time": "2023-06-18T10:29:04.111Z"
   },
   {
    "duration": 66,
    "start_time": "2023-06-18T10:29:04.131Z"
   },
   {
    "duration": 35,
    "start_time": "2023-06-18T10:29:04.199Z"
   },
   {
    "duration": 16,
    "start_time": "2023-06-18T10:29:04.236Z"
   },
   {
    "duration": 476,
    "start_time": "2023-06-18T10:29:04.253Z"
   },
   {
    "duration": 306,
    "start_time": "2023-06-18T10:29:04.731Z"
   },
   {
    "duration": 25,
    "start_time": "2023-06-18T10:29:05.040Z"
   },
   {
    "duration": 431,
    "start_time": "2023-06-18T10:29:05.066Z"
   },
   {
    "duration": 403,
    "start_time": "2023-06-18T10:29:05.499Z"
   },
   {
    "duration": 19,
    "start_time": "2023-06-18T10:29:05.904Z"
   },
   {
    "duration": 61,
    "start_time": "2023-06-18T10:29:05.925Z"
   },
   {
    "duration": 20,
    "start_time": "2023-06-18T10:29:05.988Z"
   },
   {
    "duration": 61,
    "start_time": "2023-06-18T10:29:06.009Z"
   },
   {
    "duration": 30,
    "start_time": "2023-06-18T10:29:06.072Z"
   },
   {
    "duration": 423,
    "start_time": "2023-06-18T10:29:06.104Z"
   },
   {
    "duration": 29,
    "start_time": "2023-06-18T10:29:06.529Z"
   },
   {
    "duration": 612,
    "start_time": "2023-06-18T10:29:06.560Z"
   },
   {
    "duration": 27,
    "start_time": "2023-06-18T10:29:07.175Z"
   },
   {
    "duration": 31,
    "start_time": "2023-06-18T10:29:07.204Z"
   },
   {
    "duration": 46,
    "start_time": "2023-06-18T10:29:07.237Z"
   },
   {
    "duration": 5,
    "start_time": "2023-06-18T10:29:07.284Z"
   },
   {
    "duration": 295,
    "start_time": "2023-06-18T10:29:07.290Z"
   },
   {
    "duration": 43,
    "start_time": "2023-06-18T10:29:07.587Z"
   },
   {
    "duration": 37,
    "start_time": "2023-06-18T10:29:07.632Z"
   },
   {
    "duration": 38,
    "start_time": "2023-06-18T10:29:07.671Z"
   },
   {
    "duration": 73,
    "start_time": "2023-06-18T10:29:07.711Z"
   },
   {
    "duration": 50,
    "start_time": "2023-06-18T10:29:07.790Z"
   },
   {
    "duration": 66,
    "start_time": "2023-06-18T10:29:07.842Z"
   },
   {
    "duration": 84,
    "start_time": "2023-06-18T10:29:07.911Z"
   },
   {
    "duration": 113,
    "start_time": "2023-06-18T10:29:07.996Z"
   },
   {
    "duration": 62,
    "start_time": "2023-06-18T10:29:08.111Z"
   },
   {
    "duration": 40,
    "start_time": "2023-06-18T10:29:08.175Z"
   },
   {
    "duration": 92,
    "start_time": "2023-06-18T10:29:08.219Z"
   },
   {
    "duration": 54,
    "start_time": "2023-06-18T10:29:08.314Z"
   },
   {
    "duration": 19,
    "start_time": "2023-06-18T10:29:08.370Z"
   },
   {
    "duration": 61,
    "start_time": "2023-06-18T10:29:08.391Z"
   },
   {
    "duration": 14,
    "start_time": "2023-06-18T10:29:08.454Z"
   },
   {
    "duration": 27,
    "start_time": "2023-06-18T10:29:08.470Z"
   },
   {
    "duration": 141,
    "start_time": "2023-06-18T10:29:08.499Z"
   },
   {
    "duration": 887,
    "start_time": "2023-06-18T10:29:08.642Z"
   },
   {
    "duration": 314,
    "start_time": "2023-06-18T10:29:09.530Z"
   },
   {
    "duration": 253,
    "start_time": "2023-06-18T10:29:09.846Z"
   },
   {
    "duration": 411,
    "start_time": "2023-06-18T10:29:10.105Z"
   },
   {
    "duration": 6,
    "start_time": "2023-06-18T10:29:10.518Z"
   },
   {
    "duration": 124,
    "start_time": "2023-06-18T10:29:10.525Z"
   },
   {
    "duration": 768,
    "start_time": "2023-06-18T10:29:10.650Z"
   },
   {
    "duration": 266,
    "start_time": "2023-06-18T10:29:11.421Z"
   },
   {
    "duration": 29,
    "start_time": "2023-06-18T10:29:11.689Z"
   },
   {
    "duration": 32,
    "start_time": "2023-06-18T10:29:11.719Z"
   },
   {
    "duration": 1844,
    "start_time": "2023-06-18T10:29:11.753Z"
   },
   {
    "duration": 619,
    "start_time": "2023-06-18T10:29:13.598Z"
   },
   {
    "duration": 27,
    "start_time": "2023-06-18T10:29:14.219Z"
   },
   {
    "duration": 17,
    "start_time": "2023-06-18T10:29:14.247Z"
   },
   {
    "duration": 16,
    "start_time": "2023-06-18T10:29:14.265Z"
   },
   {
    "duration": 3434,
    "start_time": "2023-06-18T10:29:37.871Z"
   },
   {
    "duration": 5575,
    "start_time": "2023-06-18T10:31:31.040Z"
   },
   {
    "duration": 14,
    "start_time": "2023-06-18T10:31:36.619Z"
   },
   {
    "duration": 1039,
    "start_time": "2023-06-18T10:31:36.637Z"
   },
   {
    "duration": 1388,
    "start_time": "2023-06-18T10:31:37.678Z"
   },
   {
    "duration": 424,
    "start_time": "2023-06-18T10:31:39.068Z"
   },
   {
    "duration": 495,
    "start_time": "2023-06-18T10:31:39.494Z"
   },
   {
    "duration": 205,
    "start_time": "2023-06-18T10:31:39.991Z"
   },
   {
    "duration": 52,
    "start_time": "2023-06-18T10:31:40.198Z"
   },
   {
    "duration": 120,
    "start_time": "2023-06-18T10:31:40.252Z"
   },
   {
    "duration": 19,
    "start_time": "2023-06-18T10:31:40.374Z"
   },
   {
    "duration": 15,
    "start_time": "2023-06-18T10:31:40.394Z"
   },
   {
    "duration": 466,
    "start_time": "2023-06-18T10:31:40.411Z"
   },
   {
    "duration": 564,
    "start_time": "2023-06-18T10:31:40.878Z"
   },
   {
    "duration": 400,
    "start_time": "2023-06-18T10:31:41.447Z"
   },
   {
    "duration": 14,
    "start_time": "2023-06-18T10:31:41.850Z"
   },
   {
    "duration": 70,
    "start_time": "2023-06-18T10:31:41.865Z"
   },
   {
    "duration": 17,
    "start_time": "2023-06-18T10:31:41.938Z"
   },
   {
    "duration": 35,
    "start_time": "2023-06-18T10:31:41.957Z"
   },
   {
    "duration": 344,
    "start_time": "2023-06-18T10:31:41.994Z"
   },
   {
    "duration": 324,
    "start_time": "2023-06-18T10:31:42.339Z"
   },
   {
    "duration": 22,
    "start_time": "2023-06-18T10:31:42.665Z"
   },
   {
    "duration": 459,
    "start_time": "2023-06-18T10:31:42.689Z"
   },
   {
    "duration": 435,
    "start_time": "2023-06-18T10:31:43.150Z"
   },
   {
    "duration": 21,
    "start_time": "2023-06-18T10:31:43.587Z"
   },
   {
    "duration": 151,
    "start_time": "2023-06-18T10:31:43.610Z"
   },
   {
    "duration": 18,
    "start_time": "2023-06-18T10:31:43.763Z"
   },
   {
    "duration": 26,
    "start_time": "2023-06-18T10:31:43.783Z"
   },
   {
    "duration": 32,
    "start_time": "2023-06-18T10:31:43.811Z"
   },
   {
    "duration": 441,
    "start_time": "2023-06-18T10:31:43.845Z"
   },
   {
    "duration": 32,
    "start_time": "2023-06-18T10:31:44.287Z"
   },
   {
    "duration": 853,
    "start_time": "2023-06-18T10:31:44.320Z"
   },
   {
    "duration": 393,
    "start_time": "2023-06-18T10:31:45.175Z"
   },
   {
    "duration": 185,
    "start_time": "2023-06-18T10:31:45.571Z"
   },
   {
    "duration": 160,
    "start_time": "2023-06-18T10:31:45.758Z"
   },
   {
    "duration": 411,
    "start_time": "2023-06-18T10:31:45.919Z"
   },
   {
    "duration": 677,
    "start_time": "2023-06-18T10:31:46.335Z"
   },
   {
    "duration": 46,
    "start_time": "2023-06-18T10:31:47.018Z"
   },
   {
    "duration": 106,
    "start_time": "2023-06-18T10:31:47.066Z"
   },
   {
    "duration": 183,
    "start_time": "2023-06-18T10:31:47.174Z"
   },
   {
    "duration": 210,
    "start_time": "2023-06-18T10:31:47.359Z"
   },
   {
    "duration": 151,
    "start_time": "2023-06-18T10:31:47.574Z"
   },
   {
    "duration": 82,
    "start_time": "2023-06-18T10:31:47.727Z"
   },
   {
    "duration": 175,
    "start_time": "2023-06-18T10:31:47.810Z"
   },
   {
    "duration": 136,
    "start_time": "2023-06-18T10:31:47.987Z"
   },
   {
    "duration": 500,
    "start_time": "2023-06-18T10:31:48.128Z"
   },
   {
    "duration": 384,
    "start_time": "2023-06-18T10:31:48.631Z"
   },
   {
    "duration": 220,
    "start_time": "2023-06-18T10:31:49.017Z"
   },
   {
    "duration": 177,
    "start_time": "2023-06-18T10:31:49.239Z"
   },
   {
    "duration": 338,
    "start_time": "2023-06-18T10:31:49.418Z"
   },
   {
    "duration": 92,
    "start_time": "2023-06-18T10:31:49.758Z"
   },
   {
    "duration": 327,
    "start_time": "2023-06-18T10:31:49.852Z"
   },
   {
    "duration": 170,
    "start_time": "2023-06-18T10:31:50.180Z"
   },
   {
    "duration": 182,
    "start_time": "2023-06-18T10:31:50.352Z"
   },
   {
    "duration": 625,
    "start_time": "2023-06-18T10:31:50.536Z"
   },
   {
    "duration": 382,
    "start_time": "2023-06-18T10:31:51.163Z"
   },
   {
    "duration": 226,
    "start_time": "2023-06-18T10:31:51.549Z"
   },
   {
    "duration": 208,
    "start_time": "2023-06-18T10:31:51.777Z"
   },
   {
    "duration": 173,
    "start_time": "2023-06-18T10:31:51.987Z"
   },
   {
    "duration": 370,
    "start_time": "2023-06-18T10:31:52.162Z"
   },
   {
    "duration": 357,
    "start_time": "2023-06-18T10:31:52.534Z"
   },
   {
    "duration": 157,
    "start_time": "2023-06-18T10:31:52.894Z"
   },
   {
    "duration": 13,
    "start_time": "2023-06-18T10:31:53.053Z"
   },
   {
    "duration": 7,
    "start_time": "2023-06-18T10:31:53.068Z"
   },
   {
    "duration": 615,
    "start_time": "2023-06-18T10:31:53.077Z"
   },
   {
    "duration": 272,
    "start_time": "2023-06-18T10:31:53.694Z"
   },
   {
    "duration": 9,
    "start_time": "2023-06-18T10:31:53.968Z"
   },
   {
    "duration": 5,
    "start_time": "2023-06-18T10:31:53.979Z"
   },
   {
    "duration": 8,
    "start_time": "2023-06-18T10:31:53.986Z"
   },
   {
    "duration": 1594,
    "start_time": "2023-06-18T10:31:53.996Z"
   },
   {
    "duration": 4771,
    "start_time": "2023-06-18T10:34:00.231Z"
   },
   {
    "duration": 7,
    "start_time": "2023-06-18T10:34:05.016Z"
   },
   {
    "duration": 1122,
    "start_time": "2023-06-18T10:34:05.025Z"
   },
   {
    "duration": 1542,
    "start_time": "2023-06-18T10:34:06.151Z"
   },
   {
    "duration": 505,
    "start_time": "2023-06-18T10:34:07.699Z"
   },
   {
    "duration": 456,
    "start_time": "2023-06-18T10:34:08.210Z"
   },
   {
    "duration": 285,
    "start_time": "2023-06-18T10:34:08.668Z"
   },
   {
    "duration": 35,
    "start_time": "2023-06-18T10:34:08.955Z"
   },
   {
    "duration": 97,
    "start_time": "2023-06-18T10:34:08.992Z"
   },
   {
    "duration": 24,
    "start_time": "2023-06-18T10:34:09.109Z"
   },
   {
    "duration": 17,
    "start_time": "2023-06-18T10:34:09.134Z"
   },
   {
    "duration": 402,
    "start_time": "2023-06-18T10:34:09.153Z"
   },
   {
    "duration": 364,
    "start_time": "2023-06-18T10:34:09.556Z"
   },
   {
    "duration": 343,
    "start_time": "2023-06-18T10:34:09.921Z"
   },
   {
    "duration": 21,
    "start_time": "2023-06-18T10:34:10.266Z"
   },
   {
    "duration": 46,
    "start_time": "2023-06-18T10:34:10.309Z"
   },
   {
    "duration": 20,
    "start_time": "2023-06-18T10:34:10.357Z"
   },
   {
    "duration": 26,
    "start_time": "2023-06-18T10:34:10.379Z"
   },
   {
    "duration": 310,
    "start_time": "2023-06-18T10:34:10.407Z"
   },
   {
    "duration": 395,
    "start_time": "2023-06-18T10:34:10.718Z"
   },
   {
    "duration": 33,
    "start_time": "2023-06-18T10:34:11.114Z"
   },
   {
    "duration": 372,
    "start_time": "2023-06-18T10:34:11.149Z"
   },
   {
    "duration": 337,
    "start_time": "2023-06-18T10:34:11.522Z"
   },
   {
    "duration": 21,
    "start_time": "2023-06-18T10:34:11.861Z"
   },
   {
    "duration": 93,
    "start_time": "2023-06-18T10:34:11.884Z"
   },
   {
    "duration": 19,
    "start_time": "2023-06-18T10:34:11.979Z"
   },
   {
    "duration": 36,
    "start_time": "2023-06-18T10:34:12.002Z"
   },
   {
    "duration": 22,
    "start_time": "2023-06-18T10:34:12.043Z"
   },
   {
    "duration": 353,
    "start_time": "2023-06-18T10:34:12.067Z"
   },
   {
    "duration": 20,
    "start_time": "2023-06-18T10:34:12.422Z"
   },
   {
    "duration": 815,
    "start_time": "2023-06-18T10:34:12.445Z"
   },
   {
    "duration": 38,
    "start_time": "2023-06-18T10:34:13.263Z"
   },
   {
    "duration": 23,
    "start_time": "2023-06-18T10:34:13.306Z"
   },
   {
    "duration": 49,
    "start_time": "2023-06-18T10:34:13.333Z"
   },
   {
    "duration": 6,
    "start_time": "2023-06-18T10:34:13.384Z"
   },
   {
    "duration": 332,
    "start_time": "2023-06-18T10:34:13.392Z"
   },
   {
    "duration": 36,
    "start_time": "2023-06-18T10:34:13.725Z"
   },
   {
    "duration": 14,
    "start_time": "2023-06-18T10:34:13.763Z"
   },
   {
    "duration": 44,
    "start_time": "2023-06-18T10:34:13.778Z"
   },
   {
    "duration": 43,
    "start_time": "2023-06-18T10:34:13.824Z"
   },
   {
    "duration": 50,
    "start_time": "2023-06-18T10:34:13.871Z"
   },
   {
    "duration": 35,
    "start_time": "2023-06-18T10:34:13.926Z"
   },
   {
    "duration": 29,
    "start_time": "2023-06-18T10:34:13.963Z"
   },
   {
    "duration": 72,
    "start_time": "2023-06-18T10:34:13.994Z"
   },
   {
    "duration": 48,
    "start_time": "2023-06-18T10:34:14.069Z"
   },
   {
    "duration": 44,
    "start_time": "2023-06-18T10:34:14.119Z"
   },
   {
    "duration": 51,
    "start_time": "2023-06-18T10:34:14.165Z"
   },
   {
    "duration": 21,
    "start_time": "2023-06-18T10:34:14.218Z"
   },
   {
    "duration": 23,
    "start_time": "2023-06-18T10:34:14.241Z"
   },
   {
    "duration": 52,
    "start_time": "2023-06-18T10:34:14.265Z"
   },
   {
    "duration": 21,
    "start_time": "2023-06-18T10:34:14.319Z"
   },
   {
    "duration": 31,
    "start_time": "2023-06-18T10:34:14.342Z"
   },
   {
    "duration": 66,
    "start_time": "2023-06-18T10:34:14.375Z"
   },
   {
    "duration": 406,
    "start_time": "2023-06-18T10:34:14.442Z"
   },
   {
    "duration": 373,
    "start_time": "2023-06-18T10:34:14.850Z"
   },
   {
    "duration": 145,
    "start_time": "2023-06-18T10:34:15.226Z"
   },
   {
    "duration": 214,
    "start_time": "2023-06-18T10:34:15.372Z"
   },
   {
    "duration": 18,
    "start_time": "2023-06-18T10:34:15.588Z"
   },
   {
    "duration": 67,
    "start_time": "2023-06-18T10:34:15.609Z"
   },
   {
    "duration": 352,
    "start_time": "2023-06-18T10:34:15.677Z"
   },
   {
    "duration": 186,
    "start_time": "2023-06-18T10:34:16.031Z"
   },
   {
    "duration": 16,
    "start_time": "2023-06-18T10:34:16.218Z"
   },
   {
    "duration": 14,
    "start_time": "2023-06-18T10:34:16.236Z"
   },
   {
    "duration": 632,
    "start_time": "2023-06-18T10:34:16.252Z"
   },
   {
    "duration": 211,
    "start_time": "2023-06-18T10:34:16.887Z"
   },
   {
    "duration": 16,
    "start_time": "2023-06-18T10:34:17.105Z"
   },
   {
    "duration": 21,
    "start_time": "2023-06-18T10:34:17.123Z"
   },
   {
    "duration": 15,
    "start_time": "2023-06-18T10:34:17.146Z"
   },
   {
    "duration": 1334,
    "start_time": "2023-06-18T10:34:17.162Z"
   },
   {
    "duration": 264,
    "start_time": "2023-06-18T10:38:22.562Z"
   },
   {
    "duration": 6192,
    "start_time": "2023-06-18T10:38:49.533Z"
   },
   {
    "duration": 4,
    "start_time": "2023-06-18T10:38:55.728Z"
   },
   {
    "duration": 984,
    "start_time": "2023-06-18T10:38:55.735Z"
   },
   {
    "duration": 1096,
    "start_time": "2023-06-18T10:38:56.723Z"
   },
   {
    "duration": 426,
    "start_time": "2023-06-18T10:38:57.824Z"
   },
   {
    "duration": 465,
    "start_time": "2023-06-18T10:38:58.252Z"
   },
   {
    "duration": 177,
    "start_time": "2023-06-18T10:38:58.718Z"
   },
   {
    "duration": 50,
    "start_time": "2023-06-18T10:38:58.909Z"
   },
   {
    "duration": 101,
    "start_time": "2023-06-18T10:38:58.960Z"
   },
   {
    "duration": 91,
    "start_time": "2023-06-18T10:38:59.065Z"
   },
   {
    "duration": 72,
    "start_time": "2023-06-18T10:38:59.158Z"
   },
   {
    "duration": 496,
    "start_time": "2023-06-18T10:38:59.232Z"
   },
   {
    "duration": 459,
    "start_time": "2023-06-18T10:38:59.730Z"
   },
   {
    "duration": 365,
    "start_time": "2023-06-18T10:39:00.192Z"
   },
   {
    "duration": 21,
    "start_time": "2023-06-18T10:39:00.559Z"
   },
   {
    "duration": 137,
    "start_time": "2023-06-18T10:39:00.582Z"
   },
   {
    "duration": 61,
    "start_time": "2023-06-18T10:39:00.721Z"
   },
   {
    "duration": 93,
    "start_time": "2023-06-18T10:39:00.784Z"
   },
   {
    "duration": 372,
    "start_time": "2023-06-18T10:39:00.879Z"
   },
   {
    "duration": 292,
    "start_time": "2023-06-18T10:39:01.253Z"
   },
   {
    "duration": 22,
    "start_time": "2023-06-18T10:39:01.549Z"
   },
   {
    "duration": 469,
    "start_time": "2023-06-18T10:39:01.573Z"
   },
   {
    "duration": 383,
    "start_time": "2023-06-18T10:39:02.044Z"
   },
   {
    "duration": 21,
    "start_time": "2023-06-18T10:39:02.429Z"
   },
   {
    "duration": 148,
    "start_time": "2023-06-18T10:39:02.452Z"
   },
   {
    "duration": 41,
    "start_time": "2023-06-18T10:39:02.602Z"
   },
   {
    "duration": 42,
    "start_time": "2023-06-18T10:39:02.645Z"
   },
   {
    "duration": 41,
    "start_time": "2023-06-18T10:39:02.693Z"
   },
   {
    "duration": 424,
    "start_time": "2023-06-18T10:39:02.736Z"
   },
   {
    "duration": 15,
    "start_time": "2023-06-18T10:39:03.162Z"
   },
   {
    "duration": 792,
    "start_time": "2023-06-18T10:39:03.179Z"
   },
   {
    "duration": 37,
    "start_time": "2023-06-18T10:39:03.973Z"
   },
   {
    "duration": 48,
    "start_time": "2023-06-18T10:39:04.022Z"
   },
   {
    "duration": 37,
    "start_time": "2023-06-18T10:39:04.072Z"
   },
   {
    "duration": 32,
    "start_time": "2023-06-18T10:39:04.110Z"
   },
   {
    "duration": 509,
    "start_time": "2023-06-18T10:39:04.144Z"
   },
   {
    "duration": 56,
    "start_time": "2023-06-18T10:39:04.656Z"
   },
   {
    "duration": 20,
    "start_time": "2023-06-18T10:39:04.713Z"
   },
   {
    "duration": 38,
    "start_time": "2023-06-18T10:39:04.735Z"
   },
   {
    "duration": 84,
    "start_time": "2023-06-18T10:39:04.775Z"
   },
   {
    "duration": 48,
    "start_time": "2023-06-18T10:39:04.861Z"
   },
   {
    "duration": 44,
    "start_time": "2023-06-18T10:39:04.910Z"
   },
   {
    "duration": 91,
    "start_time": "2023-06-18T10:39:04.956Z"
   },
   {
    "duration": 75,
    "start_time": "2023-06-18T10:39:05.048Z"
   },
   {
    "duration": 33,
    "start_time": "2023-06-18T10:39:05.125Z"
   },
   {
    "duration": 90,
    "start_time": "2023-06-18T10:39:05.159Z"
   },
   {
    "duration": 122,
    "start_time": "2023-06-18T10:39:05.250Z"
   },
   {
    "duration": 97,
    "start_time": "2023-06-18T10:39:05.374Z"
   },
   {
    "duration": 71,
    "start_time": "2023-06-18T10:39:05.473Z"
   },
   {
    "duration": 105,
    "start_time": "2023-06-18T10:39:05.548Z"
   },
   {
    "duration": 71,
    "start_time": "2023-06-18T10:39:05.658Z"
   },
   {
    "duration": 75,
    "start_time": "2023-06-18T10:39:05.732Z"
   },
   {
    "duration": 135,
    "start_time": "2023-06-18T10:39:05.809Z"
   },
   {
    "duration": 623,
    "start_time": "2023-06-18T10:39:05.946Z"
   },
   {
    "duration": 485,
    "start_time": "2023-06-18T10:39:06.571Z"
   },
   {
    "duration": 195,
    "start_time": "2023-06-18T10:39:07.059Z"
   },
   {
    "duration": 230,
    "start_time": "2023-06-18T10:39:07.256Z"
   },
   {
    "duration": 4,
    "start_time": "2023-06-18T10:39:07.493Z"
   },
   {
    "duration": 112,
    "start_time": "2023-06-18T10:39:07.501Z"
   },
   {
    "duration": 324,
    "start_time": "2023-06-18T10:39:07.615Z"
   },
   {
    "duration": 226,
    "start_time": "2023-06-18T10:39:07.941Z"
   },
   {
    "duration": 14,
    "start_time": "2023-06-18T10:39:08.169Z"
   },
   {
    "duration": 17,
    "start_time": "2023-06-18T10:39:08.185Z"
   },
   {
    "duration": 707,
    "start_time": "2023-06-18T10:39:08.204Z"
   },
   {
    "duration": 247,
    "start_time": "2023-06-18T10:39:08.913Z"
   },
   {
    "duration": 9,
    "start_time": "2023-06-18T10:39:09.162Z"
   },
   {
    "duration": 48,
    "start_time": "2023-06-18T10:39:09.173Z"
   },
   {
    "duration": 22,
    "start_time": "2023-06-18T10:39:09.223Z"
   },
   {
    "duration": 1528,
    "start_time": "2023-06-18T10:39:09.247Z"
   },
   {
    "duration": 276,
    "start_time": "2023-06-18T10:39:10.778Z"
   },
   {
    "duration": 13657,
    "start_time": "2023-06-18T10:39:11.056Z"
   },
   {
    "duration": 13,
    "start_time": "2023-06-18T10:39:24.717Z"
   },
   {
    "duration": 315842,
    "start_time": "2023-06-18T10:39:24.736Z"
   },
   {
    "duration": 5,
    "start_time": "2023-06-18T10:44:40.579Z"
   },
   {
    "duration": 6167,
    "start_time": "2023-06-18T10:50:01.642Z"
   },
   {
    "duration": 4,
    "start_time": "2023-06-18T10:50:07.816Z"
   },
   {
    "duration": 788,
    "start_time": "2023-06-18T10:50:07.821Z"
   },
   {
    "duration": 1028,
    "start_time": "2023-06-18T10:50:08.610Z"
   },
   {
    "duration": 398,
    "start_time": "2023-06-18T10:50:09.639Z"
   },
   {
    "duration": 419,
    "start_time": "2023-06-18T10:50:10.039Z"
   },
   {
    "duration": 188,
    "start_time": "2023-06-18T10:50:10.459Z"
   },
   {
    "duration": 42,
    "start_time": "2023-06-18T10:50:10.648Z"
   },
   {
    "duration": 135,
    "start_time": "2023-06-18T10:50:10.692Z"
   },
   {
    "duration": 33,
    "start_time": "2023-06-18T10:50:10.831Z"
   },
   {
    "duration": 57,
    "start_time": "2023-06-18T10:50:10.865Z"
   },
   {
    "duration": 389,
    "start_time": "2023-06-18T10:50:10.923Z"
   },
   {
    "duration": 440,
    "start_time": "2023-06-18T10:50:11.314Z"
   },
   {
    "duration": 337,
    "start_time": "2023-06-18T10:50:11.756Z"
   },
   {
    "duration": 27,
    "start_time": "2023-06-18T10:50:12.099Z"
   },
   {
    "duration": 45,
    "start_time": "2023-06-18T10:50:12.127Z"
   },
   {
    "duration": 20,
    "start_time": "2023-06-18T10:50:12.174Z"
   },
   {
    "duration": 26,
    "start_time": "2023-06-18T10:50:12.195Z"
   },
   {
    "duration": 308,
    "start_time": "2023-06-18T10:50:12.223Z"
   },
   {
    "duration": 280,
    "start_time": "2023-06-18T10:50:12.533Z"
   },
   {
    "duration": 20,
    "start_time": "2023-06-18T10:50:12.823Z"
   },
   {
    "duration": 342,
    "start_time": "2023-06-18T10:50:12.844Z"
   },
   {
    "duration": 333,
    "start_time": "2023-06-18T10:50:13.188Z"
   },
   {
    "duration": 19,
    "start_time": "2023-06-18T10:50:13.522Z"
   },
   {
    "duration": 27,
    "start_time": "2023-06-18T10:50:13.542Z"
   },
   {
    "duration": 45,
    "start_time": "2023-06-18T10:50:13.571Z"
   },
   {
    "duration": 14,
    "start_time": "2023-06-18T10:50:13.618Z"
   },
   {
    "duration": 14,
    "start_time": "2023-06-18T10:50:13.638Z"
   },
   {
    "duration": 283,
    "start_time": "2023-06-18T10:50:13.654Z"
   },
   {
    "duration": 15,
    "start_time": "2023-06-18T10:50:13.939Z"
   },
   {
    "duration": 481,
    "start_time": "2023-06-18T10:50:13.956Z"
   },
   {
    "duration": 22,
    "start_time": "2023-06-18T10:50:14.439Z"
   },
   {
    "duration": 14,
    "start_time": "2023-06-18T10:50:14.463Z"
   },
   {
    "duration": 46,
    "start_time": "2023-06-18T10:50:14.479Z"
   },
   {
    "duration": 5,
    "start_time": "2023-06-18T10:50:14.526Z"
   },
   {
    "duration": 322,
    "start_time": "2023-06-18T10:50:14.532Z"
   },
   {
    "duration": 52,
    "start_time": "2023-06-18T10:50:14.856Z"
   },
   {
    "duration": 25,
    "start_time": "2023-06-18T10:50:14.916Z"
   },
   {
    "duration": 29,
    "start_time": "2023-06-18T10:50:14.942Z"
   },
   {
    "duration": 49,
    "start_time": "2023-06-18T10:50:14.973Z"
   },
   {
    "duration": 95,
    "start_time": "2023-06-18T10:50:15.024Z"
   },
   {
    "duration": 57,
    "start_time": "2023-06-18T10:50:15.120Z"
   },
   {
    "duration": 59,
    "start_time": "2023-06-18T10:50:15.178Z"
   },
   {
    "duration": 60,
    "start_time": "2023-06-18T10:50:15.239Z"
   },
   {
    "duration": 23,
    "start_time": "2023-06-18T10:50:15.317Z"
   },
   {
    "duration": 38,
    "start_time": "2023-06-18T10:50:15.342Z"
   },
   {
    "duration": 76,
    "start_time": "2023-06-18T10:50:15.383Z"
   },
   {
    "duration": 71,
    "start_time": "2023-06-18T10:50:15.460Z"
   },
   {
    "duration": 32,
    "start_time": "2023-06-18T10:50:15.532Z"
   },
   {
    "duration": 47,
    "start_time": "2023-06-18T10:50:15.566Z"
   },
   {
    "duration": 53,
    "start_time": "2023-06-18T10:50:15.614Z"
   },
   {
    "duration": 48,
    "start_time": "2023-06-18T10:50:15.669Z"
   },
   {
    "duration": 107,
    "start_time": "2023-06-18T10:50:15.718Z"
   },
   {
    "duration": 471,
    "start_time": "2023-06-18T10:50:15.826Z"
   },
   {
    "duration": 420,
    "start_time": "2023-06-18T10:50:16.299Z"
   },
   {
    "duration": 121,
    "start_time": "2023-06-18T10:50:16.720Z"
   },
   {
    "duration": 206,
    "start_time": "2023-06-18T10:50:16.843Z"
   },
   {
    "duration": 3,
    "start_time": "2023-06-18T10:50:17.051Z"
   },
   {
    "duration": 105,
    "start_time": "2023-06-18T10:50:17.055Z"
   },
   {
    "duration": 260,
    "start_time": "2023-06-18T10:50:17.162Z"
   },
   {
    "duration": 143,
    "start_time": "2023-06-18T10:50:17.424Z"
   },
   {
    "duration": 10,
    "start_time": "2023-06-18T10:50:17.568Z"
   },
   {
    "duration": 28,
    "start_time": "2023-06-18T10:50:17.579Z"
   },
   {
    "duration": 555,
    "start_time": "2023-06-18T10:50:17.608Z"
   },
   {
    "duration": 167,
    "start_time": "2023-06-18T10:50:18.165Z"
   },
   {
    "duration": 6,
    "start_time": "2023-06-18T10:50:18.334Z"
   },
   {
    "duration": 11,
    "start_time": "2023-06-18T10:50:18.342Z"
   },
   {
    "duration": 35,
    "start_time": "2023-06-18T10:50:18.355Z"
   },
   {
    "duration": 1288,
    "start_time": "2023-06-18T10:50:18.392Z"
   },
   {
    "duration": 149,
    "start_time": "2023-06-18T10:50:19.681Z"
   },
   {
    "duration": 13078,
    "start_time": "2023-06-18T10:50:19.831Z"
   },
   {
    "duration": 10,
    "start_time": "2023-06-18T10:50:32.913Z"
   },
   {
    "duration": 461824,
    "start_time": "2023-06-18T10:50:32.924Z"
   },
   {
    "duration": 6,
    "start_time": "2023-06-18T10:58:14.750Z"
   },
   {
    "duration": 6128,
    "start_time": "2023-06-18T11:03:43.835Z"
   },
   {
    "duration": 4,
    "start_time": "2023-06-18T11:03:49.965Z"
   },
   {
    "duration": 781,
    "start_time": "2023-06-18T11:03:49.970Z"
   },
   {
    "duration": 962,
    "start_time": "2023-06-18T11:03:50.753Z"
   },
   {
    "duration": 399,
    "start_time": "2023-06-18T11:03:51.717Z"
   },
   {
    "duration": 407,
    "start_time": "2023-06-18T11:03:52.118Z"
   },
   {
    "duration": 166,
    "start_time": "2023-06-18T11:03:52.526Z"
   },
   {
    "duration": 51,
    "start_time": "2023-06-18T11:03:52.695Z"
   },
   {
    "duration": 95,
    "start_time": "2023-06-18T11:03:52.747Z"
   },
   {
    "duration": 14,
    "start_time": "2023-06-18T11:03:52.844Z"
   },
   {
    "duration": 59,
    "start_time": "2023-06-18T11:03:52.860Z"
   },
   {
    "duration": 371,
    "start_time": "2023-06-18T11:03:52.920Z"
   },
   {
    "duration": 437,
    "start_time": "2023-06-18T11:03:53.292Z"
   },
   {
    "duration": 336,
    "start_time": "2023-06-18T11:03:53.730Z"
   },
   {
    "duration": 13,
    "start_time": "2023-06-18T11:03:54.068Z"
   },
   {
    "duration": 52,
    "start_time": "2023-06-18T11:03:54.082Z"
   },
   {
    "duration": 15,
    "start_time": "2023-06-18T11:03:54.135Z"
   },
   {
    "duration": 12,
    "start_time": "2023-06-18T11:03:54.151Z"
   },
   {
    "duration": 310,
    "start_time": "2023-06-18T11:03:54.164Z"
   },
   {
    "duration": 275,
    "start_time": "2023-06-18T11:03:54.475Z"
   },
   {
    "duration": 19,
    "start_time": "2023-06-18T11:03:54.751Z"
   },
   {
    "duration": 358,
    "start_time": "2023-06-18T11:03:54.772Z"
   },
   {
    "duration": 335,
    "start_time": "2023-06-18T11:03:55.132Z"
   },
   {
    "duration": 18,
    "start_time": "2023-06-18T11:03:55.469Z"
   },
   {
    "duration": 44,
    "start_time": "2023-06-18T11:03:55.488Z"
   },
   {
    "duration": 17,
    "start_time": "2023-06-18T11:03:55.534Z"
   },
   {
    "duration": 19,
    "start_time": "2023-06-18T11:03:55.552Z"
   },
   {
    "duration": 40,
    "start_time": "2023-06-18T11:03:55.576Z"
   },
   {
    "duration": 259,
    "start_time": "2023-06-18T11:03:55.622Z"
   },
   {
    "duration": 35,
    "start_time": "2023-06-18T11:03:55.883Z"
   },
   {
    "duration": 619,
    "start_time": "2023-06-18T11:03:55.920Z"
   },
   {
    "duration": 24,
    "start_time": "2023-06-18T11:03:56.541Z"
   },
   {
    "duration": 15,
    "start_time": "2023-06-18T11:03:56.566Z"
   },
   {
    "duration": 49,
    "start_time": "2023-06-18T11:03:56.582Z"
   },
   {
    "duration": 12,
    "start_time": "2023-06-18T11:03:56.632Z"
   },
   {
    "duration": 382,
    "start_time": "2023-06-18T11:03:56.646Z"
   },
   {
    "duration": 27,
    "start_time": "2023-06-18T11:03:57.031Z"
   },
   {
    "duration": 13,
    "start_time": "2023-06-18T11:03:57.060Z"
   },
   {
    "duration": 49,
    "start_time": "2023-06-18T11:03:57.074Z"
   },
   {
    "duration": 37,
    "start_time": "2023-06-18T11:03:57.125Z"
   },
   {
    "duration": 67,
    "start_time": "2023-06-18T11:03:57.164Z"
   },
   {
    "duration": 47,
    "start_time": "2023-06-18T11:03:57.233Z"
   },
   {
    "duration": 58,
    "start_time": "2023-06-18T11:03:57.282Z"
   },
   {
    "duration": 28,
    "start_time": "2023-06-18T11:03:57.342Z"
   },
   {
    "duration": 12,
    "start_time": "2023-06-18T11:03:57.372Z"
   },
   {
    "duration": 34,
    "start_time": "2023-06-18T11:03:57.385Z"
   },
   {
    "duration": 69,
    "start_time": "2023-06-18T11:03:57.422Z"
   },
   {
    "duration": 48,
    "start_time": "2023-06-18T11:03:57.493Z"
   },
   {
    "duration": 25,
    "start_time": "2023-06-18T11:03:57.545Z"
   },
   {
    "duration": 53,
    "start_time": "2023-06-18T11:03:57.571Z"
   },
   {
    "duration": 23,
    "start_time": "2023-06-18T11:03:57.627Z"
   },
   {
    "duration": 28,
    "start_time": "2023-06-18T11:03:57.651Z"
   },
   {
    "duration": 74,
    "start_time": "2023-06-18T11:03:57.681Z"
   },
   {
    "duration": 401,
    "start_time": "2023-06-18T11:03:57.757Z"
   },
   {
    "duration": 359,
    "start_time": "2023-06-18T11:03:58.160Z"
   },
   {
    "duration": 152,
    "start_time": "2023-06-18T11:03:58.521Z"
   },
   {
    "duration": 221,
    "start_time": "2023-06-18T11:03:58.675Z"
   },
   {
    "duration": 9,
    "start_time": "2023-06-18T11:03:58.898Z"
   },
   {
    "duration": 76,
    "start_time": "2023-06-18T11:03:58.909Z"
   },
   {
    "duration": 308,
    "start_time": "2023-06-18T11:03:58.987Z"
   },
   {
    "duration": 173,
    "start_time": "2023-06-18T11:03:59.297Z"
   },
   {
    "duration": 12,
    "start_time": "2023-06-18T11:03:59.472Z"
   },
   {
    "duration": 66,
    "start_time": "2023-06-18T11:03:59.486Z"
   },
   {
    "duration": 607,
    "start_time": "2023-06-18T11:03:59.555Z"
   },
   {
    "duration": 184,
    "start_time": "2023-06-18T11:04:00.163Z"
   },
   {
    "duration": 8,
    "start_time": "2023-06-18T11:04:00.348Z"
   },
   {
    "duration": 39,
    "start_time": "2023-06-18T11:04:00.358Z"
   },
   {
    "duration": 51,
    "start_time": "2023-06-18T11:04:00.399Z"
   },
   {
    "duration": 1402,
    "start_time": "2023-06-18T11:04:00.452Z"
   },
   {
    "duration": 162,
    "start_time": "2023-06-18T11:04:01.856Z"
   },
   {
    "duration": 15298,
    "start_time": "2023-06-18T11:04:02.019Z"
   },
   {
    "duration": 77,
    "start_time": "2023-06-18T11:04:17.325Z"
   },
   {
    "duration": 558469,
    "start_time": "2023-06-18T11:04:17.410Z"
   },
   {
    "duration": 4,
    "start_time": "2023-06-18T11:13:35.881Z"
   },
   {
    "duration": 6214,
    "start_time": "2023-06-18T11:17:32.954Z"
   },
   {
    "duration": 4,
    "start_time": "2023-06-18T11:17:39.170Z"
   },
   {
    "duration": 955,
    "start_time": "2023-06-18T11:17:39.175Z"
   },
   {
    "duration": 1050,
    "start_time": "2023-06-18T11:17:40.132Z"
   },
   {
    "duration": 441,
    "start_time": "2023-06-18T11:17:41.184Z"
   },
   {
    "duration": 441,
    "start_time": "2023-06-18T11:17:41.630Z"
   },
   {
    "duration": 192,
    "start_time": "2023-06-18T11:17:42.072Z"
   },
   {
    "duration": 64,
    "start_time": "2023-06-18T11:17:42.265Z"
   },
   {
    "duration": 107,
    "start_time": "2023-06-18T11:17:42.331Z"
   },
   {
    "duration": 18,
    "start_time": "2023-06-18T11:17:42.440Z"
   },
   {
    "duration": 66,
    "start_time": "2023-06-18T11:17:42.459Z"
   },
   {
    "duration": 427,
    "start_time": "2023-06-18T11:17:42.530Z"
   },
   {
    "duration": 479,
    "start_time": "2023-06-18T11:17:42.959Z"
   },
   {
    "duration": 400,
    "start_time": "2023-06-18T11:17:43.440Z"
   },
   {
    "duration": 14,
    "start_time": "2023-06-18T11:17:43.842Z"
   },
   {
    "duration": 57,
    "start_time": "2023-06-18T11:17:43.858Z"
   },
   {
    "duration": 16,
    "start_time": "2023-06-18T11:17:43.916Z"
   },
   {
    "duration": 16,
    "start_time": "2023-06-18T11:17:43.933Z"
   },
   {
    "duration": 308,
    "start_time": "2023-06-18T11:17:43.950Z"
   },
   {
    "duration": 281,
    "start_time": "2023-06-18T11:17:44.259Z"
   },
   {
    "duration": 20,
    "start_time": "2023-06-18T11:17:44.541Z"
   },
   {
    "duration": 362,
    "start_time": "2023-06-18T11:17:44.562Z"
   },
   {
    "duration": 330,
    "start_time": "2023-06-18T11:17:44.926Z"
   },
   {
    "duration": 13,
    "start_time": "2023-06-18T11:17:45.258Z"
   },
   {
    "duration": 56,
    "start_time": "2023-06-18T11:17:45.273Z"
   },
   {
    "duration": 18,
    "start_time": "2023-06-18T11:17:45.332Z"
   },
   {
    "duration": 15,
    "start_time": "2023-06-18T11:17:45.352Z"
   },
   {
    "duration": 14,
    "start_time": "2023-06-18T11:17:45.370Z"
   },
   {
    "duration": 276,
    "start_time": "2023-06-18T11:17:45.386Z"
   },
   {
    "duration": 13,
    "start_time": "2023-06-18T11:17:45.664Z"
   },
   {
    "duration": 502,
    "start_time": "2023-06-18T11:17:45.679Z"
   },
   {
    "duration": 42,
    "start_time": "2023-06-18T11:17:46.183Z"
   },
   {
    "duration": 29,
    "start_time": "2023-06-18T11:17:46.226Z"
   },
   {
    "duration": 29,
    "start_time": "2023-06-18T11:17:46.257Z"
   },
   {
    "duration": 49,
    "start_time": "2023-06-18T11:17:46.288Z"
   },
   {
    "duration": 393,
    "start_time": "2023-06-18T11:17:46.340Z"
   },
   {
    "duration": 32,
    "start_time": "2023-06-18T11:17:46.735Z"
   },
   {
    "duration": 15,
    "start_time": "2023-06-18T11:17:46.769Z"
   },
   {
    "duration": 28,
    "start_time": "2023-06-18T11:17:46.810Z"
   },
   {
    "duration": 38,
    "start_time": "2023-06-18T11:17:46.839Z"
   },
   {
    "duration": 55,
    "start_time": "2023-06-18T11:17:46.879Z"
   },
   {
    "duration": 13,
    "start_time": "2023-06-18T11:17:46.935Z"
   },
   {
    "duration": 30,
    "start_time": "2023-06-18T11:17:46.950Z"
   },
   {
    "duration": 45,
    "start_time": "2023-06-18T11:17:46.981Z"
   },
   {
    "duration": 40,
    "start_time": "2023-06-18T11:17:47.027Z"
   },
   {
    "duration": 20,
    "start_time": "2023-06-18T11:17:47.068Z"
   },
   {
    "duration": 65,
    "start_time": "2023-06-18T11:17:47.090Z"
   },
   {
    "duration": 19,
    "start_time": "2023-06-18T11:17:47.157Z"
   },
   {
    "duration": 17,
    "start_time": "2023-06-18T11:17:47.178Z"
   },
   {
    "duration": 58,
    "start_time": "2023-06-18T11:17:47.197Z"
   },
   {
    "duration": 17,
    "start_time": "2023-06-18T11:17:47.257Z"
   },
   {
    "duration": 53,
    "start_time": "2023-06-18T11:17:47.276Z"
   },
   {
    "duration": 62,
    "start_time": "2023-06-18T11:17:47.331Z"
   },
   {
    "duration": 444,
    "start_time": "2023-06-18T11:17:47.394Z"
   },
   {
    "duration": 413,
    "start_time": "2023-06-18T11:17:47.840Z"
   },
   {
    "duration": 150,
    "start_time": "2023-06-18T11:17:48.255Z"
   },
   {
    "duration": 239,
    "start_time": "2023-06-18T11:17:48.416Z"
   },
   {
    "duration": 3,
    "start_time": "2023-06-18T11:17:48.656Z"
   },
   {
    "duration": 77,
    "start_time": "2023-06-18T11:17:48.660Z"
   },
   {
    "duration": 275,
    "start_time": "2023-06-18T11:17:48.739Z"
   },
   {
    "duration": 148,
    "start_time": "2023-06-18T11:17:49.015Z"
   },
   {
    "duration": 10,
    "start_time": "2023-06-18T11:17:49.165Z"
   },
   {
    "duration": 11,
    "start_time": "2023-06-18T11:17:49.177Z"
   },
   {
    "duration": 611,
    "start_time": "2023-06-18T11:17:49.215Z"
   },
   {
    "duration": 240,
    "start_time": "2023-06-18T11:17:49.828Z"
   },
   {
    "duration": 8,
    "start_time": "2023-06-18T11:17:50.070Z"
   },
   {
    "duration": 60,
    "start_time": "2023-06-18T11:17:50.082Z"
   },
   {
    "duration": 51,
    "start_time": "2023-06-18T11:17:50.144Z"
   },
   {
    "duration": 1578,
    "start_time": "2023-06-18T11:17:50.197Z"
   },
   {
    "duration": 162,
    "start_time": "2023-06-18T11:17:51.777Z"
   },
   {
    "duration": 14569,
    "start_time": "2023-06-18T11:17:51.940Z"
   },
   {
    "duration": 18,
    "start_time": "2023-06-18T11:18:06.519Z"
   },
   {
    "duration": 445383,
    "start_time": "2023-06-18T11:18:06.546Z"
   },
   {
    "duration": 11,
    "start_time": "2023-06-18T11:25:31.931Z"
   },
   {
    "duration": 5492,
    "start_time": "2023-06-18T11:33:48.258Z"
   },
   {
    "duration": 4,
    "start_time": "2023-06-18T11:33:53.753Z"
   },
   {
    "duration": 799,
    "start_time": "2023-06-18T11:33:53.759Z"
   },
   {
    "duration": 997,
    "start_time": "2023-06-18T11:33:54.560Z"
   },
   {
    "duration": 396,
    "start_time": "2023-06-18T11:33:55.559Z"
   },
   {
    "duration": 472,
    "start_time": "2023-06-18T11:33:55.957Z"
   },
   {
    "duration": 210,
    "start_time": "2023-06-18T11:33:56.431Z"
   },
   {
    "duration": 48,
    "start_time": "2023-06-18T11:33:56.643Z"
   },
   {
    "duration": 132,
    "start_time": "2023-06-18T11:33:56.693Z"
   },
   {
    "duration": 37,
    "start_time": "2023-06-18T11:33:56.827Z"
   },
   {
    "duration": 64,
    "start_time": "2023-06-18T11:33:56.865Z"
   },
   {
    "duration": 369,
    "start_time": "2023-06-18T11:33:56.931Z"
   },
   {
    "duration": 441,
    "start_time": "2023-06-18T11:33:57.309Z"
   },
   {
    "duration": 381,
    "start_time": "2023-06-18T11:33:57.752Z"
   },
   {
    "duration": 18,
    "start_time": "2023-06-18T11:33:58.135Z"
   },
   {
    "duration": 70,
    "start_time": "2023-06-18T11:33:58.154Z"
   },
   {
    "duration": 16,
    "start_time": "2023-06-18T11:33:58.225Z"
   },
   {
    "duration": 18,
    "start_time": "2023-06-18T11:33:58.242Z"
   },
   {
    "duration": 298,
    "start_time": "2023-06-18T11:33:58.262Z"
   },
   {
    "duration": 278,
    "start_time": "2023-06-18T11:33:58.562Z"
   },
   {
    "duration": 19,
    "start_time": "2023-06-18T11:33:58.842Z"
   },
   {
    "duration": 361,
    "start_time": "2023-06-18T11:33:58.863Z"
   },
   {
    "duration": 332,
    "start_time": "2023-06-18T11:33:59.229Z"
   },
   {
    "duration": 13,
    "start_time": "2023-06-18T11:33:59.562Z"
   },
   {
    "duration": 86,
    "start_time": "2023-06-18T11:33:59.577Z"
   },
   {
    "duration": 70,
    "start_time": "2023-06-18T11:33:59.664Z"
   },
   {
    "duration": 122,
    "start_time": "2023-06-18T11:33:59.746Z"
   },
   {
    "duration": 12,
    "start_time": "2023-06-18T11:33:59.872Z"
   },
   {
    "duration": 268,
    "start_time": "2023-06-18T11:33:59.886Z"
   },
   {
    "duration": 12,
    "start_time": "2023-06-18T11:34:00.156Z"
   },
   {
    "duration": 539,
    "start_time": "2023-06-18T11:34:00.170Z"
   },
   {
    "duration": 35,
    "start_time": "2023-06-18T11:34:00.710Z"
   },
   {
    "duration": 48,
    "start_time": "2023-06-18T11:34:00.747Z"
   },
   {
    "duration": 92,
    "start_time": "2023-06-18T11:34:00.796Z"
   },
   {
    "duration": 78,
    "start_time": "2023-06-18T11:34:00.889Z"
   },
   {
    "duration": 456,
    "start_time": "2023-06-18T11:34:00.969Z"
   },
   {
    "duration": 28,
    "start_time": "2023-06-18T11:34:01.430Z"
   },
   {
    "duration": 36,
    "start_time": "2023-06-18T11:34:01.459Z"
   },
   {
    "duration": 87,
    "start_time": "2023-06-18T11:34:01.497Z"
   },
   {
    "duration": 108,
    "start_time": "2023-06-18T11:34:01.586Z"
   },
   {
    "duration": 160,
    "start_time": "2023-06-18T11:34:01.696Z"
   },
   {
    "duration": 130,
    "start_time": "2023-06-18T11:34:01.858Z"
   },
   {
    "duration": 61,
    "start_time": "2023-06-18T11:34:01.989Z"
   },
   {
    "duration": 77,
    "start_time": "2023-06-18T11:34:02.052Z"
   },
   {
    "duration": 43,
    "start_time": "2023-06-18T11:34:02.135Z"
   },
   {
    "duration": 77,
    "start_time": "2023-06-18T11:34:02.179Z"
   },
   {
    "duration": 78,
    "start_time": "2023-06-18T11:34:02.258Z"
   },
   {
    "duration": 53,
    "start_time": "2023-06-18T11:34:02.342Z"
   },
   {
    "duration": 69,
    "start_time": "2023-06-18T11:34:02.397Z"
   },
   {
    "duration": 57,
    "start_time": "2023-06-18T11:34:02.468Z"
   },
   {
    "duration": 41,
    "start_time": "2023-06-18T11:34:02.527Z"
   },
   {
    "duration": 20,
    "start_time": "2023-06-18T11:34:02.570Z"
   },
   {
    "duration": 98,
    "start_time": "2023-06-18T11:34:02.591Z"
   },
   {
    "duration": 379,
    "start_time": "2023-06-18T11:34:02.690Z"
   },
   {
    "duration": 337,
    "start_time": "2023-06-18T11:34:03.071Z"
   },
   {
    "duration": 128,
    "start_time": "2023-06-18T11:34:03.409Z"
   },
   {
    "duration": 211,
    "start_time": "2023-06-18T11:34:03.539Z"
   },
   {
    "duration": 3,
    "start_time": "2023-06-18T11:34:03.752Z"
   },
   {
    "duration": 60,
    "start_time": "2023-06-18T11:34:03.756Z"
   },
   {
    "duration": 238,
    "start_time": "2023-06-18T11:34:03.830Z"
   },
   {
    "duration": 109,
    "start_time": "2023-06-18T11:34:04.070Z"
   },
   {
    "duration": 30,
    "start_time": "2023-06-18T11:34:04.180Z"
   },
   {
    "duration": 16,
    "start_time": "2023-06-18T11:34:04.221Z"
   },
   {
    "duration": 521,
    "start_time": "2023-06-18T11:34:04.238Z"
   },
   {
    "duration": 180,
    "start_time": "2023-06-18T11:34:04.760Z"
   },
   {
    "duration": 7,
    "start_time": "2023-06-18T11:34:04.941Z"
   },
   {
    "duration": 34,
    "start_time": "2023-06-18T11:34:04.949Z"
   },
   {
    "duration": 63,
    "start_time": "2023-06-18T11:34:04.984Z"
   },
   {
    "duration": 1345,
    "start_time": "2023-06-18T11:34:05.049Z"
   },
   {
    "duration": 142,
    "start_time": "2023-06-18T11:34:06.395Z"
   },
   {
    "duration": 13499,
    "start_time": "2023-06-18T11:34:06.538Z"
   },
   {
    "duration": 75,
    "start_time": "2023-06-18T11:34:20.038Z"
   },
   {
    "duration": 202283,
    "start_time": "2023-06-18T11:34:20.114Z"
   },
   {
    "duration": 26,
    "start_time": "2023-06-18T11:37:42.399Z"
   },
   {
    "duration": 5996,
    "start_time": "2023-06-18T12:02:18.285Z"
   },
   {
    "duration": 3,
    "start_time": "2023-06-18T12:02:24.284Z"
   },
   {
    "duration": 1052,
    "start_time": "2023-06-18T12:02:24.289Z"
   },
   {
    "duration": 1240,
    "start_time": "2023-06-18T12:02:25.356Z"
   },
   {
    "duration": 501,
    "start_time": "2023-06-18T12:02:26.599Z"
   },
   {
    "duration": 460,
    "start_time": "2023-06-18T12:02:27.101Z"
   },
   {
    "duration": 213,
    "start_time": "2023-06-18T12:02:27.562Z"
   },
   {
    "duration": 38,
    "start_time": "2023-06-18T12:02:27.777Z"
   },
   {
    "duration": 125,
    "start_time": "2023-06-18T12:02:27.817Z"
   },
   {
    "duration": 41,
    "start_time": "2023-06-18T12:02:27.945Z"
   },
   {
    "duration": 70,
    "start_time": "2023-06-18T12:02:27.987Z"
   },
   {
    "duration": 406,
    "start_time": "2023-06-18T12:02:28.058Z"
   },
   {
    "duration": 487,
    "start_time": "2023-06-18T12:02:28.466Z"
   },
   {
    "duration": 413,
    "start_time": "2023-06-18T12:02:28.958Z"
   },
   {
    "duration": 15,
    "start_time": "2023-06-18T12:02:29.372Z"
   },
   {
    "duration": 53,
    "start_time": "2023-06-18T12:02:29.389Z"
   },
   {
    "duration": 19,
    "start_time": "2023-06-18T12:02:29.443Z"
   },
   {
    "duration": 22,
    "start_time": "2023-06-18T12:02:29.463Z"
   },
   {
    "duration": 374,
    "start_time": "2023-06-18T12:02:29.486Z"
   },
   {
    "duration": 375,
    "start_time": "2023-06-18T12:02:29.862Z"
   },
   {
    "duration": 30,
    "start_time": "2023-06-18T12:02:30.248Z"
   },
   {
    "duration": 560,
    "start_time": "2023-06-18T12:02:30.280Z"
   },
   {
    "duration": 411,
    "start_time": "2023-06-18T12:02:30.842Z"
   },
   {
    "duration": 14,
    "start_time": "2023-06-18T12:02:31.262Z"
   },
   {
    "duration": 97,
    "start_time": "2023-06-18T12:02:31.278Z"
   },
   {
    "duration": 69,
    "start_time": "2023-06-18T12:02:31.377Z"
   },
   {
    "duration": 42,
    "start_time": "2023-06-18T12:02:31.454Z"
   },
   {
    "duration": 78,
    "start_time": "2023-06-18T12:02:31.498Z"
   },
   {
    "duration": 359,
    "start_time": "2023-06-18T12:02:31.578Z"
   },
   {
    "duration": 16,
    "start_time": "2023-06-18T12:02:31.938Z"
   },
   {
    "duration": 563,
    "start_time": "2023-06-18T12:02:31.955Z"
   },
   {
    "duration": 33,
    "start_time": "2023-06-18T12:02:32.522Z"
   },
   {
    "duration": 36,
    "start_time": "2023-06-18T12:02:32.560Z"
   },
   {
    "duration": 44,
    "start_time": "2023-06-18T12:02:32.598Z"
   },
   {
    "duration": 30,
    "start_time": "2023-06-18T12:02:32.646Z"
   },
   {
    "duration": 395,
    "start_time": "2023-06-18T12:02:32.678Z"
   },
   {
    "duration": 58,
    "start_time": "2023-06-18T12:02:33.075Z"
   },
   {
    "duration": 18,
    "start_time": "2023-06-18T12:02:33.145Z"
   },
   {
    "duration": 16,
    "start_time": "2023-06-18T12:02:33.164Z"
   },
   {
    "duration": 63,
    "start_time": "2023-06-18T12:02:33.182Z"
   },
   {
    "duration": 35,
    "start_time": "2023-06-18T12:02:33.251Z"
   },
   {
    "duration": 29,
    "start_time": "2023-06-18T12:02:33.288Z"
   },
   {
    "duration": 66,
    "start_time": "2023-06-18T12:02:33.318Z"
   },
   {
    "duration": 77,
    "start_time": "2023-06-18T12:02:33.386Z"
   },
   {
    "duration": 12,
    "start_time": "2023-06-18T12:02:33.464Z"
   },
   {
    "duration": 92,
    "start_time": "2023-06-18T12:02:33.478Z"
   },
   {
    "duration": 84,
    "start_time": "2023-06-18T12:02:33.571Z"
   },
   {
    "duration": 37,
    "start_time": "2023-06-18T12:02:33.657Z"
   },
   {
    "duration": 75,
    "start_time": "2023-06-18T12:02:33.696Z"
   },
   {
    "duration": 26,
    "start_time": "2023-06-18T12:02:33.772Z"
   },
   {
    "duration": 63,
    "start_time": "2023-06-18T12:02:33.800Z"
   },
   {
    "duration": 24,
    "start_time": "2023-06-18T12:02:33.865Z"
   },
   {
    "duration": 112,
    "start_time": "2023-06-18T12:02:33.894Z"
   },
   {
    "duration": 588,
    "start_time": "2023-06-18T12:02:34.007Z"
   },
   {
    "duration": 396,
    "start_time": "2023-06-18T12:02:34.596Z"
   },
   {
    "duration": 160,
    "start_time": "2023-06-18T12:02:34.993Z"
   },
   {
    "duration": 259,
    "start_time": "2023-06-18T12:02:35.154Z"
   },
   {
    "duration": 5,
    "start_time": "2023-06-18T12:02:35.414Z"
   },
   {
    "duration": 143,
    "start_time": "2023-06-18T12:02:35.420Z"
   },
   {
    "duration": 319,
    "start_time": "2023-06-18T12:02:35.564Z"
   },
   {
    "duration": 143,
    "start_time": "2023-06-18T12:02:35.885Z"
   },
   {
    "duration": 18,
    "start_time": "2023-06-18T12:02:36.033Z"
   },
   {
    "duration": 45,
    "start_time": "2023-06-18T12:02:36.052Z"
   },
   {
    "duration": 864,
    "start_time": "2023-06-18T12:02:36.099Z"
   },
   {
    "duration": 223,
    "start_time": "2023-06-18T12:02:36.965Z"
   },
   {
    "duration": 8,
    "start_time": "2023-06-18T12:02:37.190Z"
   },
   {
    "duration": 46,
    "start_time": "2023-06-18T12:02:37.214Z"
   },
   {
    "duration": 19,
    "start_time": "2023-06-18T12:02:37.263Z"
   },
   {
    "duration": 1994,
    "start_time": "2023-06-18T12:02:37.284Z"
   },
   {
    "duration": 203,
    "start_time": "2023-06-18T12:02:39.279Z"
   },
   {
    "duration": 5,
    "start_time": "2023-06-18T12:02:39.483Z"
   },
   {
    "duration": 6360,
    "start_time": "2023-06-18T12:03:24.497Z"
   },
   {
    "duration": 4,
    "start_time": "2023-06-18T12:03:30.860Z"
   },
   {
    "duration": 970,
    "start_time": "2023-06-18T12:03:30.866Z"
   },
   {
    "duration": 1359,
    "start_time": "2023-06-18T12:03:31.837Z"
   },
   {
    "duration": 472,
    "start_time": "2023-06-18T12:03:33.201Z"
   },
   {
    "duration": 482,
    "start_time": "2023-06-18T12:03:33.675Z"
   },
   {
    "duration": 224,
    "start_time": "2023-06-18T12:03:34.158Z"
   },
   {
    "duration": 63,
    "start_time": "2023-06-18T12:03:34.384Z"
   },
   {
    "duration": 113,
    "start_time": "2023-06-18T12:03:34.454Z"
   },
   {
    "duration": 15,
    "start_time": "2023-06-18T12:03:34.569Z"
   },
   {
    "duration": 55,
    "start_time": "2023-06-18T12:03:34.586Z"
   },
   {
    "duration": 425,
    "start_time": "2023-06-18T12:03:34.642Z"
   },
   {
    "duration": 471,
    "start_time": "2023-06-18T12:03:35.070Z"
   },
   {
    "duration": 433,
    "start_time": "2023-06-18T12:03:35.544Z"
   },
   {
    "duration": 43,
    "start_time": "2023-06-18T12:03:35.979Z"
   },
   {
    "duration": 87,
    "start_time": "2023-06-18T12:03:36.033Z"
   },
   {
    "duration": 43,
    "start_time": "2023-06-18T12:03:36.121Z"
   },
   {
    "duration": 21,
    "start_time": "2023-06-18T12:03:36.166Z"
   },
   {
    "duration": 344,
    "start_time": "2023-06-18T12:03:36.189Z"
   },
   {
    "duration": 334,
    "start_time": "2023-06-18T12:03:36.535Z"
   },
   {
    "duration": 46,
    "start_time": "2023-06-18T12:03:36.871Z"
   },
   {
    "duration": 545,
    "start_time": "2023-06-18T12:03:36.921Z"
   },
   {
    "duration": 385,
    "start_time": "2023-06-18T12:03:37.468Z"
   },
   {
    "duration": 15,
    "start_time": "2023-06-18T12:03:37.854Z"
   },
   {
    "duration": 46,
    "start_time": "2023-06-18T12:03:37.871Z"
   },
   {
    "duration": 27,
    "start_time": "2023-06-18T12:03:37.918Z"
   },
   {
    "duration": 151,
    "start_time": "2023-06-18T12:03:37.946Z"
   },
   {
    "duration": 26,
    "start_time": "2023-06-18T12:03:38.099Z"
   },
   {
    "duration": 332,
    "start_time": "2023-06-18T12:03:38.126Z"
   },
   {
    "duration": 13,
    "start_time": "2023-06-18T12:03:38.460Z"
   },
   {
    "duration": 489,
    "start_time": "2023-06-18T12:03:38.474Z"
   },
   {
    "duration": 23,
    "start_time": "2023-06-18T12:03:38.965Z"
   },
   {
    "duration": 44,
    "start_time": "2023-06-18T12:03:38.989Z"
   },
   {
    "duration": 48,
    "start_time": "2023-06-18T12:03:39.045Z"
   },
   {
    "duration": 41,
    "start_time": "2023-06-18T12:03:39.094Z"
   },
   {
    "duration": 378,
    "start_time": "2023-06-18T12:03:39.138Z"
   },
   {
    "duration": 40,
    "start_time": "2023-06-18T12:03:39.521Z"
   },
   {
    "duration": 67,
    "start_time": "2023-06-18T12:03:39.565Z"
   },
   {
    "duration": 37,
    "start_time": "2023-06-18T12:03:39.633Z"
   },
   {
    "duration": 41,
    "start_time": "2023-06-18T12:03:39.672Z"
   },
   {
    "duration": 99,
    "start_time": "2023-06-18T12:03:39.722Z"
   },
   {
    "duration": 54,
    "start_time": "2023-06-18T12:03:39.830Z"
   },
   {
    "duration": 70,
    "start_time": "2023-06-18T12:03:39.886Z"
   },
   {
    "duration": 44,
    "start_time": "2023-06-18T12:03:39.957Z"
   },
   {
    "duration": 36,
    "start_time": "2023-06-18T12:03:40.017Z"
   },
   {
    "duration": 69,
    "start_time": "2023-06-18T12:03:40.057Z"
   },
   {
    "duration": 57,
    "start_time": "2023-06-18T12:03:40.128Z"
   },
   {
    "duration": 69,
    "start_time": "2023-06-18T12:03:40.187Z"
   },
   {
    "duration": 25,
    "start_time": "2023-06-18T12:03:40.258Z"
   },
   {
    "duration": 37,
    "start_time": "2023-06-18T12:03:40.284Z"
   },
   {
    "duration": 56,
    "start_time": "2023-06-18T12:03:40.323Z"
   },
   {
    "duration": 75,
    "start_time": "2023-06-18T12:03:40.380Z"
   },
   {
    "duration": 97,
    "start_time": "2023-06-18T12:03:40.456Z"
   },
   {
    "duration": 429,
    "start_time": "2023-06-18T12:03:40.555Z"
   },
   {
    "duration": 398,
    "start_time": "2023-06-18T12:03:40.986Z"
   },
   {
    "duration": 164,
    "start_time": "2023-06-18T12:03:41.385Z"
   },
   {
    "duration": 235,
    "start_time": "2023-06-18T12:03:41.550Z"
   },
   {
    "duration": 3,
    "start_time": "2023-06-18T12:03:41.787Z"
   },
   {
    "duration": 66,
    "start_time": "2023-06-18T12:03:41.791Z"
   },
   {
    "duration": 285,
    "start_time": "2023-06-18T12:03:41.860Z"
   },
   {
    "duration": 144,
    "start_time": "2023-06-18T12:03:42.146Z"
   },
   {
    "duration": 21,
    "start_time": "2023-06-18T12:03:42.292Z"
   },
   {
    "duration": 39,
    "start_time": "2023-06-18T12:03:42.321Z"
   },
   {
    "duration": 559,
    "start_time": "2023-06-18T12:03:42.362Z"
   },
   {
    "duration": 203,
    "start_time": "2023-06-18T12:03:42.922Z"
   },
   {
    "duration": 15,
    "start_time": "2023-06-18T12:03:43.127Z"
   },
   {
    "duration": 23,
    "start_time": "2023-06-18T12:03:43.144Z"
   },
   {
    "duration": 18,
    "start_time": "2023-06-18T12:03:43.169Z"
   },
   {
    "duration": 1592,
    "start_time": "2023-06-18T12:03:43.188Z"
   },
   {
    "duration": 172,
    "start_time": "2023-06-18T12:03:44.781Z"
   },
   {
    "duration": 5,
    "start_time": "2023-06-18T12:03:44.959Z"
   },
   {
    "duration": 3311,
    "start_time": "2023-06-18T16:12:41.087Z"
   },
   {
    "duration": 5,
    "start_time": "2023-06-18T16:12:44.406Z"
   },
   {
    "duration": 712,
    "start_time": "2023-06-18T16:12:44.413Z"
   },
   {
    "duration": 924,
    "start_time": "2023-06-18T16:12:45.126Z"
   },
   {
    "duration": 427,
    "start_time": "2023-06-18T16:12:46.052Z"
   },
   {
    "duration": 431,
    "start_time": "2023-06-18T16:12:46.480Z"
   },
   {
    "duration": 191,
    "start_time": "2023-06-18T16:12:46.914Z"
   },
   {
    "duration": 37,
    "start_time": "2023-06-18T16:12:47.111Z"
   },
   {
    "duration": 95,
    "start_time": "2023-06-18T16:12:47.150Z"
   },
   {
    "duration": 25,
    "start_time": "2023-06-18T16:12:47.248Z"
   },
   {
    "duration": 64,
    "start_time": "2023-06-18T16:12:47.274Z"
   },
   {
    "duration": 406,
    "start_time": "2023-06-18T16:12:47.339Z"
   },
   {
    "duration": 448,
    "start_time": "2023-06-18T16:12:47.746Z"
   },
   {
    "duration": 336,
    "start_time": "2023-06-18T16:12:48.196Z"
   },
   {
    "duration": 13,
    "start_time": "2023-06-18T16:12:48.534Z"
   },
   {
    "duration": 35,
    "start_time": "2023-06-18T16:12:48.548Z"
   },
   {
    "duration": 17,
    "start_time": "2023-06-18T16:12:48.605Z"
   },
   {
    "duration": 14,
    "start_time": "2023-06-18T16:12:48.623Z"
   },
   {
    "duration": 280,
    "start_time": "2023-06-18T16:12:48.639Z"
   },
   {
    "duration": 256,
    "start_time": "2023-06-18T16:12:48.920Z"
   },
   {
    "duration": 28,
    "start_time": "2023-06-18T16:12:49.178Z"
   },
   {
    "duration": 319,
    "start_time": "2023-06-18T16:12:49.207Z"
   },
   {
    "duration": 299,
    "start_time": "2023-06-18T16:12:49.528Z"
   },
   {
    "duration": 12,
    "start_time": "2023-06-18T16:12:49.828Z"
   },
   {
    "duration": 21,
    "start_time": "2023-06-18T16:12:49.842Z"
   },
   {
    "duration": 15,
    "start_time": "2023-06-18T16:12:49.864Z"
   },
   {
    "duration": 34,
    "start_time": "2023-06-18T16:12:49.880Z"
   },
   {
    "duration": 13,
    "start_time": "2023-06-18T16:12:49.918Z"
   },
   {
    "duration": 263,
    "start_time": "2023-06-18T16:12:49.933Z"
   },
   {
    "duration": 18,
    "start_time": "2023-06-18T16:12:50.197Z"
   },
   {
    "duration": 336,
    "start_time": "2023-06-18T16:12:50.216Z"
   },
   {
    "duration": 21,
    "start_time": "2023-06-18T16:12:50.554Z"
   },
   {
    "duration": 38,
    "start_time": "2023-06-18T16:12:50.576Z"
   },
   {
    "duration": 26,
    "start_time": "2023-06-18T16:12:50.616Z"
   },
   {
    "duration": 20,
    "start_time": "2023-06-18T16:12:50.643Z"
   },
   {
    "duration": 297,
    "start_time": "2023-06-18T16:12:50.665Z"
   },
   {
    "duration": 27,
    "start_time": "2023-06-18T16:12:50.963Z"
   },
   {
    "duration": 36,
    "start_time": "2023-06-18T16:12:50.999Z"
   },
   {
    "duration": 13,
    "start_time": "2023-06-18T16:12:51.036Z"
   },
   {
    "duration": 61,
    "start_time": "2023-06-18T16:12:51.050Z"
   },
   {
    "duration": 24,
    "start_time": "2023-06-18T16:12:51.112Z"
   },
   {
    "duration": 36,
    "start_time": "2023-06-18T16:12:51.137Z"
   },
   {
    "duration": 21,
    "start_time": "2023-06-18T16:12:51.175Z"
   },
   {
    "duration": 53,
    "start_time": "2023-06-18T16:12:51.197Z"
   },
   {
    "duration": 25,
    "start_time": "2023-06-18T16:12:51.252Z"
   },
   {
    "duration": 47,
    "start_time": "2023-06-18T16:12:51.278Z"
   },
   {
    "duration": 39,
    "start_time": "2023-06-18T16:12:51.326Z"
   },
   {
    "duration": 54,
    "start_time": "2023-06-18T16:12:51.366Z"
   },
   {
    "duration": 32,
    "start_time": "2023-06-18T16:12:51.422Z"
   },
   {
    "duration": 29,
    "start_time": "2023-06-18T16:12:51.455Z"
   },
   {
    "duration": 41,
    "start_time": "2023-06-18T16:12:51.485Z"
   },
   {
    "duration": 18,
    "start_time": "2023-06-18T16:12:51.527Z"
   },
   {
    "duration": 64,
    "start_time": "2023-06-18T16:12:51.546Z"
   },
   {
    "duration": 342,
    "start_time": "2023-06-18T16:12:51.612Z"
   },
   {
    "duration": 363,
    "start_time": "2023-06-18T16:12:51.955Z"
   },
   {
    "duration": 121,
    "start_time": "2023-06-18T16:12:52.320Z"
   },
   {
    "duration": 189,
    "start_time": "2023-06-18T16:12:52.443Z"
   },
   {
    "duration": 2,
    "start_time": "2023-06-18T16:12:52.634Z"
   },
   {
    "duration": 61,
    "start_time": "2023-06-18T16:12:52.638Z"
   },
   {
    "duration": 234,
    "start_time": "2023-06-18T16:12:52.712Z"
   },
   {
    "duration": 119,
    "start_time": "2023-06-18T16:12:52.948Z"
   },
   {
    "duration": 9,
    "start_time": "2023-06-18T16:12:53.069Z"
   },
   {
    "duration": 25,
    "start_time": "2023-06-18T16:12:53.080Z"
   },
   {
    "duration": 442,
    "start_time": "2023-06-18T16:12:53.114Z"
   },
   {
    "duration": 164,
    "start_time": "2023-06-18T16:12:53.557Z"
   },
   {
    "duration": 0,
    "start_time": "2023-06-18T16:12:53.722Z"
   },
   {
    "duration": 0,
    "start_time": "2023-06-18T16:12:53.724Z"
   },
   {
    "duration": 0,
    "start_time": "2023-06-18T16:12:53.725Z"
   },
   {
    "duration": 0,
    "start_time": "2023-06-18T16:12:53.727Z"
   },
   {
    "duration": 0,
    "start_time": "2023-06-18T16:12:53.728Z"
   },
   {
    "duration": 0,
    "start_time": "2023-06-18T16:12:53.729Z"
   },
   {
    "duration": 0,
    "start_time": "2023-06-18T16:12:53.729Z"
   },
   {
    "duration": 0,
    "start_time": "2023-06-18T16:12:53.730Z"
   },
   {
    "duration": 0,
    "start_time": "2023-06-18T16:12:53.731Z"
   },
   {
    "duration": 0,
    "start_time": "2023-06-18T16:12:53.732Z"
   },
   {
    "duration": 0,
    "start_time": "2023-06-18T16:12:53.733Z"
   },
   {
    "duration": 0,
    "start_time": "2023-06-18T16:12:53.734Z"
   },
   {
    "duration": 0,
    "start_time": "2023-06-18T16:12:53.735Z"
   },
   {
    "duration": 0,
    "start_time": "2023-06-18T16:12:53.736Z"
   },
   {
    "duration": 0,
    "start_time": "2023-06-18T16:12:53.737Z"
   },
   {
    "duration": 0,
    "start_time": "2023-06-18T16:12:53.739Z"
   },
   {
    "duration": 3014,
    "start_time": "2023-06-18T16:13:51.394Z"
   },
   {
    "duration": 3,
    "start_time": "2023-06-18T16:13:54.410Z"
   },
   {
    "duration": 693,
    "start_time": "2023-06-18T16:13:54.415Z"
   },
   {
    "duration": 873,
    "start_time": "2023-06-18T16:13:55.110Z"
   },
   {
    "duration": 388,
    "start_time": "2023-06-18T16:13:55.986Z"
   },
   {
    "duration": 337,
    "start_time": "2023-06-18T16:13:56.375Z"
   },
   {
    "duration": 146,
    "start_time": "2023-06-18T16:13:56.713Z"
   },
   {
    "duration": 40,
    "start_time": "2023-06-18T16:13:56.860Z"
   },
   {
    "duration": 74,
    "start_time": "2023-06-18T16:13:56.901Z"
   },
   {
    "duration": 24,
    "start_time": "2023-06-18T16:13:56.977Z"
   },
   {
    "duration": 41,
    "start_time": "2023-06-18T16:13:57.002Z"
   },
   {
    "duration": 350,
    "start_time": "2023-06-18T16:13:57.044Z"
   },
   {
    "duration": 375,
    "start_time": "2023-06-18T16:13:57.395Z"
   },
   {
    "duration": 308,
    "start_time": "2023-06-18T16:13:57.771Z"
   },
   {
    "duration": 19,
    "start_time": "2023-06-18T16:13:58.080Z"
   },
   {
    "duration": 36,
    "start_time": "2023-06-18T16:13:58.101Z"
   },
   {
    "duration": 14,
    "start_time": "2023-06-18T16:13:58.139Z"
   },
   {
    "duration": 10,
    "start_time": "2023-06-18T16:13:58.155Z"
   },
   {
    "duration": 289,
    "start_time": "2023-06-18T16:13:58.167Z"
   },
   {
    "duration": 249,
    "start_time": "2023-06-18T16:13:58.457Z"
   },
   {
    "duration": 19,
    "start_time": "2023-06-18T16:13:58.707Z"
   },
   {
    "duration": 315,
    "start_time": "2023-06-18T16:13:58.728Z"
   },
   {
    "duration": 290,
    "start_time": "2023-06-18T16:13:59.045Z"
   },
   {
    "duration": 13,
    "start_time": "2023-06-18T16:13:59.337Z"
   },
   {
    "duration": 21,
    "start_time": "2023-06-18T16:13:59.352Z"
   },
   {
    "duration": 34,
    "start_time": "2023-06-18T16:13:59.375Z"
   },
   {
    "duration": 14,
    "start_time": "2023-06-18T16:13:59.410Z"
   },
   {
    "duration": 11,
    "start_time": "2023-06-18T16:13:59.428Z"
   },
   {
    "duration": 252,
    "start_time": "2023-06-18T16:13:59.440Z"
   },
   {
    "duration": 11,
    "start_time": "2023-06-18T16:13:59.699Z"
   },
   {
    "duration": 341,
    "start_time": "2023-06-18T16:13:59.711Z"
   },
   {
    "duration": 23,
    "start_time": "2023-06-18T16:14:00.053Z"
   },
   {
    "duration": 45,
    "start_time": "2023-06-18T16:14:00.077Z"
   },
   {
    "duration": 65,
    "start_time": "2023-06-18T16:14:00.124Z"
   },
   {
    "duration": 37,
    "start_time": "2023-06-18T16:14:00.192Z"
   },
   {
    "duration": 357,
    "start_time": "2023-06-18T16:14:00.230Z"
   },
   {
    "duration": 29,
    "start_time": "2023-06-18T16:14:00.589Z"
   },
   {
    "duration": 42,
    "start_time": "2023-06-18T16:14:00.619Z"
   },
   {
    "duration": 52,
    "start_time": "2023-06-18T16:14:00.662Z"
   },
   {
    "duration": 67,
    "start_time": "2023-06-18T16:14:00.715Z"
   },
   {
    "duration": 41,
    "start_time": "2023-06-18T16:14:00.784Z"
   },
   {
    "duration": 55,
    "start_time": "2023-06-18T16:14:00.826Z"
   },
   {
    "duration": 47,
    "start_time": "2023-06-18T16:14:00.882Z"
   },
   {
    "duration": 59,
    "start_time": "2023-06-18T16:14:00.930Z"
   },
   {
    "duration": 64,
    "start_time": "2023-06-18T16:14:00.990Z"
   },
   {
    "duration": 92,
    "start_time": "2023-06-18T16:14:01.055Z"
   },
   {
    "duration": 71,
    "start_time": "2023-06-18T16:14:01.148Z"
   },
   {
    "duration": 84,
    "start_time": "2023-06-18T16:14:01.220Z"
   },
   {
    "duration": 43,
    "start_time": "2023-06-18T16:14:01.305Z"
   },
   {
    "duration": 63,
    "start_time": "2023-06-18T16:14:01.350Z"
   },
   {
    "duration": 40,
    "start_time": "2023-06-18T16:14:01.415Z"
   },
   {
    "duration": 59,
    "start_time": "2023-06-18T16:14:01.456Z"
   },
   {
    "duration": 96,
    "start_time": "2023-06-18T16:14:01.516Z"
   },
   {
    "duration": 349,
    "start_time": "2023-06-18T16:14:01.613Z"
   },
   {
    "duration": 375,
    "start_time": "2023-06-18T16:14:01.964Z"
   },
   {
    "duration": 127,
    "start_time": "2023-06-18T16:14:02.341Z"
   },
   {
    "duration": 176,
    "start_time": "2023-06-18T16:14:02.469Z"
   },
   {
    "duration": 2,
    "start_time": "2023-06-18T16:14:02.646Z"
   },
   {
    "duration": 75,
    "start_time": "2023-06-18T16:14:02.649Z"
   },
   {
    "duration": 210,
    "start_time": "2023-06-18T16:14:02.726Z"
   },
   {
    "duration": 106,
    "start_time": "2023-06-18T16:14:02.937Z"
   },
   {
    "duration": 9,
    "start_time": "2023-06-18T16:14:03.045Z"
   },
   {
    "duration": 34,
    "start_time": "2023-06-18T16:14:03.055Z"
   },
   {
    "duration": 417,
    "start_time": "2023-06-18T16:14:03.090Z"
   },
   {
    "duration": 152,
    "start_time": "2023-06-18T16:14:03.508Z"
   },
   {
    "duration": 0,
    "start_time": "2023-06-18T16:14:03.662Z"
   },
   {
    "duration": 0,
    "start_time": "2023-06-18T16:14:03.663Z"
   },
   {
    "duration": 0,
    "start_time": "2023-06-18T16:14:03.663Z"
   },
   {
    "duration": 0,
    "start_time": "2023-06-18T16:14:03.664Z"
   },
   {
    "duration": 0,
    "start_time": "2023-06-18T16:14:03.665Z"
   },
   {
    "duration": 0,
    "start_time": "2023-06-18T16:14:03.666Z"
   },
   {
    "duration": 0,
    "start_time": "2023-06-18T16:14:03.667Z"
   },
   {
    "duration": 0,
    "start_time": "2023-06-18T16:14:03.668Z"
   },
   {
    "duration": 0,
    "start_time": "2023-06-18T16:14:03.668Z"
   },
   {
    "duration": 0,
    "start_time": "2023-06-18T16:14:03.669Z"
   },
   {
    "duration": 0,
    "start_time": "2023-06-18T16:14:03.670Z"
   },
   {
    "duration": 0,
    "start_time": "2023-06-18T16:14:03.671Z"
   },
   {
    "duration": 0,
    "start_time": "2023-06-18T16:14:03.672Z"
   },
   {
    "duration": 0,
    "start_time": "2023-06-18T16:14:03.673Z"
   },
   {
    "duration": 0,
    "start_time": "2023-06-18T16:14:03.674Z"
   },
   {
    "duration": 0,
    "start_time": "2023-06-18T16:14:03.675Z"
   },
   {
    "duration": 427,
    "start_time": "2023-06-18T16:18:35.000Z"
   },
   {
    "duration": 44,
    "start_time": "2023-06-18T16:18:35.429Z"
   },
   {
    "duration": 215,
    "start_time": "2023-06-18T16:18:58.348Z"
   },
   {
    "duration": 46,
    "start_time": "2023-06-18T16:19:28.078Z"
   },
   {
    "duration": 418,
    "start_time": "2023-06-18T16:20:37.426Z"
   },
   {
    "duration": 43,
    "start_time": "2023-06-18T16:20:57.592Z"
   },
   {
    "duration": 19,
    "start_time": "2023-06-18T16:24:50.878Z"
   },
   {
    "duration": 3106,
    "start_time": "2023-06-18T16:28:24.408Z"
   },
   {
    "duration": 3,
    "start_time": "2023-06-18T16:28:27.517Z"
   },
   {
    "duration": 729,
    "start_time": "2023-06-18T16:28:27.522Z"
   },
   {
    "duration": 900,
    "start_time": "2023-06-18T16:28:28.253Z"
   },
   {
    "duration": 372,
    "start_time": "2023-06-18T16:28:29.154Z"
   },
   {
    "duration": 375,
    "start_time": "2023-06-18T16:28:29.528Z"
   },
   {
    "duration": 190,
    "start_time": "2023-06-18T16:28:29.904Z"
   },
   {
    "duration": 34,
    "start_time": "2023-06-18T16:28:30.099Z"
   },
   {
    "duration": 118,
    "start_time": "2023-06-18T16:28:30.135Z"
   },
   {
    "duration": 22,
    "start_time": "2023-06-18T16:28:30.255Z"
   },
   {
    "duration": 52,
    "start_time": "2023-06-18T16:28:30.278Z"
   },
   {
    "duration": 354,
    "start_time": "2023-06-18T16:28:30.332Z"
   },
   {
    "duration": 400,
    "start_time": "2023-06-18T16:28:30.687Z"
   },
   {
    "duration": 316,
    "start_time": "2023-06-18T16:28:31.088Z"
   },
   {
    "duration": 13,
    "start_time": "2023-06-18T16:28:31.406Z"
   },
   {
    "duration": 121,
    "start_time": "2023-06-18T16:28:31.420Z"
   },
   {
    "duration": 50,
    "start_time": "2023-06-18T16:28:31.543Z"
   },
   {
    "duration": 52,
    "start_time": "2023-06-18T16:28:31.595Z"
   },
   {
    "duration": 299,
    "start_time": "2023-06-18T16:28:31.649Z"
   },
   {
    "duration": 252,
    "start_time": "2023-06-18T16:28:31.950Z"
   },
   {
    "duration": 20,
    "start_time": "2023-06-18T16:28:32.203Z"
   },
   {
    "duration": 360,
    "start_time": "2023-06-18T16:28:32.225Z"
   },
   {
    "duration": 315,
    "start_time": "2023-06-18T16:28:32.587Z"
   },
   {
    "duration": 13,
    "start_time": "2023-06-18T16:28:32.903Z"
   },
   {
    "duration": 42,
    "start_time": "2023-06-18T16:28:32.918Z"
   },
   {
    "duration": 16,
    "start_time": "2023-06-18T16:28:32.963Z"
   },
   {
    "duration": 14,
    "start_time": "2023-06-18T16:28:32.980Z"
   },
   {
    "duration": 20,
    "start_time": "2023-06-18T16:28:33.002Z"
   },
   {
    "duration": 269,
    "start_time": "2023-06-18T16:28:33.023Z"
   },
   {
    "duration": 15,
    "start_time": "2023-06-18T16:28:33.293Z"
   },
   {
    "duration": 367,
    "start_time": "2023-06-18T16:28:33.309Z"
   },
   {
    "duration": 30,
    "start_time": "2023-06-18T16:28:33.678Z"
   },
   {
    "duration": 15,
    "start_time": "2023-06-18T16:28:33.710Z"
   },
   {
    "duration": 24,
    "start_time": "2023-06-18T16:28:33.727Z"
   },
   {
    "duration": 15,
    "start_time": "2023-06-18T16:28:33.753Z"
   },
   {
    "duration": 314,
    "start_time": "2023-06-18T16:28:33.769Z"
   },
   {
    "duration": 33,
    "start_time": "2023-06-18T16:28:34.085Z"
   },
   {
    "duration": 14,
    "start_time": "2023-06-18T16:28:34.120Z"
   },
   {
    "duration": 24,
    "start_time": "2023-06-18T16:28:34.135Z"
   },
   {
    "duration": 23,
    "start_time": "2023-06-18T16:28:34.160Z"
   },
   {
    "duration": 34,
    "start_time": "2023-06-18T16:28:34.184Z"
   },
   {
    "duration": 22,
    "start_time": "2023-06-18T16:28:34.219Z"
   },
   {
    "duration": 34,
    "start_time": "2023-06-18T16:28:34.242Z"
   },
   {
    "duration": 28,
    "start_time": "2023-06-18T16:28:34.278Z"
   },
   {
    "duration": 25,
    "start_time": "2023-06-18T16:28:34.308Z"
   },
   {
    "duration": 34,
    "start_time": "2023-06-18T16:28:34.334Z"
   },
   {
    "duration": 37,
    "start_time": "2023-06-18T16:28:34.370Z"
   },
   {
    "duration": 12,
    "start_time": "2023-06-18T16:28:34.409Z"
   },
   {
    "duration": 19,
    "start_time": "2023-06-18T16:28:34.423Z"
   },
   {
    "duration": 25,
    "start_time": "2023-06-18T16:28:34.444Z"
   },
   {
    "duration": 22,
    "start_time": "2023-06-18T16:28:34.471Z"
   },
   {
    "duration": 26,
    "start_time": "2023-06-18T16:28:34.495Z"
   },
   {
    "duration": 69,
    "start_time": "2023-06-18T16:28:34.523Z"
   },
   {
    "duration": 330,
    "start_time": "2023-06-18T16:28:34.593Z"
   },
   {
    "duration": 365,
    "start_time": "2023-06-18T16:28:34.924Z"
   },
   {
    "duration": 140,
    "start_time": "2023-06-18T16:28:35.290Z"
   },
   {
    "duration": 185,
    "start_time": "2023-06-18T16:28:35.432Z"
   },
   {
    "duration": 3,
    "start_time": "2023-06-18T16:28:35.619Z"
   },
   {
    "duration": 125,
    "start_time": "2023-06-18T16:28:35.623Z"
   },
   {
    "duration": 222,
    "start_time": "2023-06-18T16:28:35.749Z"
   },
   {
    "duration": 133,
    "start_time": "2023-06-18T16:28:35.972Z"
   },
   {
    "duration": 13,
    "start_time": "2023-06-18T16:28:36.107Z"
   },
   {
    "duration": 84,
    "start_time": "2023-06-18T16:28:36.122Z"
   },
   {
    "duration": 516,
    "start_time": "2023-06-18T16:28:36.208Z"
   },
   {
    "duration": 156,
    "start_time": "2023-06-18T16:28:36.726Z"
   },
   {
    "duration": 0,
    "start_time": "2023-06-18T16:28:36.884Z"
   },
   {
    "duration": 0,
    "start_time": "2023-06-18T16:28:36.885Z"
   },
   {
    "duration": 0,
    "start_time": "2023-06-18T16:28:36.886Z"
   },
   {
    "duration": 0,
    "start_time": "2023-06-18T16:28:36.887Z"
   },
   {
    "duration": 0,
    "start_time": "2023-06-18T16:28:36.899Z"
   },
   {
    "duration": 0,
    "start_time": "2023-06-18T16:28:36.901Z"
   },
   {
    "duration": 0,
    "start_time": "2023-06-18T16:28:36.902Z"
   },
   {
    "duration": 0,
    "start_time": "2023-06-18T16:28:36.904Z"
   },
   {
    "duration": 0,
    "start_time": "2023-06-18T16:28:36.905Z"
   },
   {
    "duration": 0,
    "start_time": "2023-06-18T16:28:36.906Z"
   },
   {
    "duration": 0,
    "start_time": "2023-06-18T16:28:36.908Z"
   },
   {
    "duration": 0,
    "start_time": "2023-06-18T16:28:36.910Z"
   },
   {
    "duration": 0,
    "start_time": "2023-06-18T16:28:36.911Z"
   },
   {
    "duration": 0,
    "start_time": "2023-06-18T16:28:36.912Z"
   },
   {
    "duration": 0,
    "start_time": "2023-06-18T16:28:36.914Z"
   },
   {
    "duration": 0,
    "start_time": "2023-06-18T16:28:36.916Z"
   },
   {
    "duration": 11012,
    "start_time": "2023-06-18T18:57:31.245Z"
   },
   {
    "duration": 4,
    "start_time": "2023-06-18T18:57:42.259Z"
   },
   {
    "duration": 3192,
    "start_time": "2023-06-18T18:57:42.265Z"
   },
   {
    "duration": 1103,
    "start_time": "2023-06-18T18:57:45.459Z"
   },
   {
    "duration": 452,
    "start_time": "2023-06-18T18:57:46.564Z"
   },
   {
    "duration": 489,
    "start_time": "2023-06-18T18:57:47.017Z"
   },
   {
    "duration": 173,
    "start_time": "2023-06-18T18:57:47.508Z"
   },
   {
    "duration": 43,
    "start_time": "2023-06-18T18:57:47.682Z"
   },
   {
    "duration": 99,
    "start_time": "2023-06-18T18:57:47.727Z"
   },
   {
    "duration": 34,
    "start_time": "2023-06-18T18:57:47.828Z"
   },
   {
    "duration": 76,
    "start_time": "2023-06-18T18:57:47.864Z"
   },
   {
    "duration": 518,
    "start_time": "2023-06-18T18:57:47.942Z"
   },
   {
    "duration": 393,
    "start_time": "2023-06-18T18:57:48.462Z"
   },
   {
    "duration": 382,
    "start_time": "2023-06-18T18:57:48.858Z"
   },
   {
    "duration": 21,
    "start_time": "2023-06-18T18:57:49.241Z"
   },
   {
    "duration": 49,
    "start_time": "2023-06-18T18:57:49.264Z"
   },
   {
    "duration": 42,
    "start_time": "2023-06-18T18:57:49.315Z"
   },
   {
    "duration": 12,
    "start_time": "2023-06-18T18:57:49.359Z"
   },
   {
    "duration": 343,
    "start_time": "2023-06-18T18:57:49.372Z"
   },
   {
    "duration": 304,
    "start_time": "2023-06-18T18:57:49.717Z"
   },
   {
    "duration": 32,
    "start_time": "2023-06-18T18:57:50.023Z"
   },
   {
    "duration": 397,
    "start_time": "2023-06-18T18:57:50.057Z"
   },
   {
    "duration": 478,
    "start_time": "2023-06-18T18:57:50.456Z"
   },
   {
    "duration": 19,
    "start_time": "2023-06-18T18:57:50.935Z"
   },
   {
    "duration": 28,
    "start_time": "2023-06-18T18:57:50.956Z"
   },
   {
    "duration": 18,
    "start_time": "2023-06-18T18:57:50.986Z"
   },
   {
    "duration": 16,
    "start_time": "2023-06-18T18:57:51.006Z"
   },
   {
    "duration": 42,
    "start_time": "2023-06-18T18:57:51.026Z"
   },
   {
    "duration": 266,
    "start_time": "2023-06-18T18:57:51.070Z"
   },
   {
    "duration": 18,
    "start_time": "2023-06-18T18:57:51.337Z"
   },
   {
    "duration": 433,
    "start_time": "2023-06-18T18:57:51.357Z"
   },
   {
    "duration": 22,
    "start_time": "2023-06-18T18:57:51.791Z"
   },
   {
    "duration": 15,
    "start_time": "2023-06-18T18:57:51.815Z"
   },
   {
    "duration": 38,
    "start_time": "2023-06-18T18:57:51.831Z"
   },
   {
    "duration": 4,
    "start_time": "2023-06-18T18:57:51.870Z"
   },
   {
    "duration": 225,
    "start_time": "2023-06-18T18:57:51.876Z"
   },
   {
    "duration": 31,
    "start_time": "2023-06-18T18:57:52.103Z"
   },
   {
    "duration": 25,
    "start_time": "2023-06-18T18:57:52.136Z"
   },
   {
    "duration": 17,
    "start_time": "2023-06-18T18:57:52.162Z"
   },
   {
    "duration": 30,
    "start_time": "2023-06-18T18:57:52.181Z"
   },
   {
    "duration": 40,
    "start_time": "2023-06-18T18:57:52.213Z"
   },
   {
    "duration": 13,
    "start_time": "2023-06-18T18:57:52.254Z"
   },
   {
    "duration": 27,
    "start_time": "2023-06-18T18:57:52.269Z"
   },
   {
    "duration": 24,
    "start_time": "2023-06-18T18:57:52.298Z"
   },
   {
    "duration": 30,
    "start_time": "2023-06-18T18:57:52.324Z"
   },
   {
    "duration": 18,
    "start_time": "2023-06-18T18:57:52.356Z"
   },
   {
    "duration": 25,
    "start_time": "2023-06-18T18:57:52.375Z"
   },
   {
    "duration": 19,
    "start_time": "2023-06-18T18:57:52.402Z"
   },
   {
    "duration": 36,
    "start_time": "2023-06-18T18:57:52.423Z"
   },
   {
    "duration": 51,
    "start_time": "2023-06-18T18:57:52.461Z"
   },
   {
    "duration": 15,
    "start_time": "2023-06-18T18:57:52.514Z"
   },
   {
    "duration": 26,
    "start_time": "2023-06-18T18:57:52.530Z"
   },
   {
    "duration": 59,
    "start_time": "2023-06-18T18:57:52.557Z"
   },
   {
    "duration": 347,
    "start_time": "2023-06-18T18:57:52.618Z"
   },
   {
    "duration": 333,
    "start_time": "2023-06-18T18:57:52.967Z"
   },
   {
    "duration": 132,
    "start_time": "2023-06-18T18:57:53.302Z"
   },
   {
    "duration": 189,
    "start_time": "2023-06-18T18:57:53.436Z"
   },
   {
    "duration": 3,
    "start_time": "2023-06-18T18:57:53.626Z"
   },
   {
    "duration": 69,
    "start_time": "2023-06-18T18:57:53.631Z"
   },
   {
    "duration": 234,
    "start_time": "2023-06-18T18:57:53.702Z"
   },
   {
    "duration": 147,
    "start_time": "2023-06-18T18:57:53.938Z"
   },
   {
    "duration": 15,
    "start_time": "2023-06-18T18:57:54.086Z"
   },
   {
    "duration": 26,
    "start_time": "2023-06-18T18:57:54.103Z"
   },
   {
    "duration": 623,
    "start_time": "2023-06-18T18:57:54.131Z"
   },
   {
    "duration": 175,
    "start_time": "2023-06-18T18:57:54.756Z"
   },
   {
    "duration": 17,
    "start_time": "2023-06-18T18:57:54.933Z"
   },
   {
    "duration": 3,
    "start_time": "2023-06-18T18:57:54.952Z"
   },
   {
    "duration": 11,
    "start_time": "2023-06-18T18:57:54.957Z"
   },
   {
    "duration": 1256,
    "start_time": "2023-06-18T18:57:54.970Z"
   },
   {
    "duration": 139,
    "start_time": "2023-06-18T18:57:56.229Z"
   },
   {
    "duration": 5,
    "start_time": "2023-06-18T18:57:56.370Z"
   },
   {
    "duration": 434475,
    "start_time": "2023-06-18T18:57:56.377Z"
   },
   {
    "duration": 5,
    "start_time": "2023-06-18T19:05:10.854Z"
   },
   {
    "duration": 380384,
    "start_time": "2023-06-18T19:05:10.861Z"
   },
   {
    "duration": 17513,
    "start_time": "2023-06-18T19:11:31.250Z"
   },
   {
    "duration": 13,
    "start_time": "2023-06-18T19:11:48.851Z"
   },
   {
    "duration": 98,
    "start_time": "2023-06-18T19:11:48.865Z"
   },
   {
    "duration": 287,
    "start_time": "2023-06-18T19:11:48.967Z"
   },
   {
    "duration": 5,
    "start_time": "2023-06-18T19:11:49.256Z"
   },
   {
    "duration": 817,
    "start_time": "2023-06-18T19:11:49.263Z"
   },
   {
    "duration": 77,
    "start_time": "2023-06-18T19:11:50.082Z"
   },
   {
    "duration": 12,
    "start_time": "2023-06-18T19:14:48.295Z"
   }
  ],
  "colab": {
   "provenance": []
  },
  "kernelspec": {
   "display_name": "Python 3 (ipykernel)",
   "language": "python",
   "name": "python3"
  },
  "language_info": {
   "codemirror_mode": {
    "name": "ipython",
    "version": 3
   },
   "file_extension": ".py",
   "mimetype": "text/x-python",
   "name": "python",
   "nbconvert_exporter": "python",
   "pygments_lexer": "ipython3",
   "version": "3.9.5"
  },
  "toc": {
   "base_numbering": 1,
   "nav_menu": {},
   "number_sections": true,
   "sideBar": true,
   "skip_h1_title": true,
   "title_cell": "Table of Contents",
   "title_sidebar": "Contents",
   "toc_cell": false,
   "toc_position": {
    "height": "calc(100% - 180px)",
    "left": "10px",
    "top": "150px",
    "width": "254.545px"
   },
   "toc_section_display": true,
   "toc_window_display": true
  }
 },
 "nbformat": 4,
 "nbformat_minor": 1
}
