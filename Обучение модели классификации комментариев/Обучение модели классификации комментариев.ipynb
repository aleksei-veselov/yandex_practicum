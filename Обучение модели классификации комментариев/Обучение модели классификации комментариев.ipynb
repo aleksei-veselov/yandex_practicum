{
 "cells": [
  {
   "cell_type": "markdown",
   "metadata": {
    "toc": true
   },
   "source": [
    "<h1>Содержание<span class=\"tocSkip\"></span></h1>\n",
    "<div class=\"toc\"><ul class=\"toc-item\"><li><span><a href=\"#Подготовка\" data-toc-modified-id=\"Подготовка-1\"><span class=\"toc-item-num\">1&nbsp;&nbsp;</span>Подготовка</a></span></li><li><span><a href=\"#Обучение\" data-toc-modified-id=\"Обучение-2\"><span class=\"toc-item-num\">2&nbsp;&nbsp;</span>Обучение</a></span><ul class=\"toc-item\"><li><span><a href=\"#LogisticRegression\" data-toc-modified-id=\"LogisticRegression-2.1\"><span class=\"toc-item-num\">2.1&nbsp;&nbsp;</span>LogisticRegression</a></span></li><li><span><a href=\"#LGBMClassifier\" data-toc-modified-id=\"LGBMClassifier-2.2\"><span class=\"toc-item-num\">2.2&nbsp;&nbsp;</span>LGBMClassifier</a></span></li><li><span><a href=\"#CatBoostClassifier\" data-toc-modified-id=\"CatBoostClassifier-2.3\"><span class=\"toc-item-num\">2.3&nbsp;&nbsp;</span>CatBoostClassifier</a></span></li></ul></li><li><span><a href=\"#Тестирование\" data-toc-modified-id=\"Тестирование-3\"><span class=\"toc-item-num\">3&nbsp;&nbsp;</span>Тестирование</a></span><ul class=\"toc-item\"><li><span><a href=\"#LGBMClassifier\" data-toc-modified-id=\"LGBMClassifier-3.1\"><span class=\"toc-item-num\">3.1&nbsp;&nbsp;</span>LGBMClassifier</a></span></li></ul></li><li><span><a href=\"#Выводы\" data-toc-modified-id=\"Выводы-4\"><span class=\"toc-item-num\">4&nbsp;&nbsp;</span>Выводы</a></span></li><li><span><a href=\"#Чек-лист-проверки\" data-toc-modified-id=\"Чек-лист-проверки-5\"><span class=\"toc-item-num\">5&nbsp;&nbsp;</span>Чек-лист проверки</a></span></li></ul></div>"
   ]
  },
  {
   "cell_type": "markdown",
   "metadata": {},
   "source": [
    "# Проект для «Викишоп»"
   ]
  },
  {
   "cell_type": "markdown",
   "metadata": {},
   "source": [
    "Интернет-магазин «Викишоп» запускает новый сервис. Теперь пользователи могут редактировать и дополнять описания товаров, как в вики-сообществах. То есть клиенты предлагают свои правки и комментируют изменения других. Магазину нужен инструмент, который будет искать токсичные комментарии и отправлять их на модерацию. \n",
    "\n",
    "Обучите модель классифицировать комментарии на позитивные и негативные. В вашем распоряжении набор данных с разметкой о токсичности правок.\n",
    "\n",
    "Постройте модель со значением метрики качества *F1* не меньше 0.75. \n",
    "\n",
    "**Инструкция по выполнению проекта**\n",
    "\n",
    "1. Загрузите и подготовьте данные.\n",
    "2. Обучите разные модели. \n",
    "3. Сделайте выводы.\n",
    "\n",
    "Для выполнения проекта применять *BERT* необязательно, но вы можете попробовать.\n",
    "\n",
    "**Описание данных**\n",
    "\n",
    "Данные находятся в файле `toxic_comments.csv`. Столбец *text* в нём содержит текст комментария, а *toxic* — целевой признак."
   ]
  },
  {
   "cell_type": "markdown",
   "metadata": {},
   "source": [
    "## Подготовка"
   ]
  },
  {
   "cell_type": "code",
   "execution_count": 1,
   "metadata": {},
   "outputs": [],
   "source": [
    "import sys\n",
    "import time\n",
    "import re\n",
    "import warnings\n",
    "import torch\n",
    "import transformers\n",
    "from tqdm import (\n",
    "    notebook,\n",
    "    tqdm\n",
    ")\n",
    "import pandas as pd\n",
    "import numpy as np\n",
    "\n",
    "\n",
    "import nltk\n",
    "from nltk.stem import WordNetLemmatizer\n",
    "from nltk.corpus import(\n",
    "    wordnet, \n",
    "    stopwords as nltk_stopwords\n",
    ")\n",
    "from torch.nn.utils.rnn import pad_sequence\n",
    "from sklearn.feature_extraction.text import (\n",
    "    TfidfVectorizer\n",
    ")\n",
    "from sklearn.model_selection import (\n",
    "    train_test_split, \n",
    "    RandomizedSearchCV,\n",
    "    GridSearchCV\n",
    ")\n",
    "from catboost import CatBoostClassifier\n",
    "from sklearn.pipeline import Pipeline\n",
    "from sklearn.linear_model import LogisticRegression\n",
    "from lightgbm import LGBMClassifier\n",
    "from sklearn.metrics import f1_score\n",
    "\n",
    "warnings.filterwarnings('ignore')\n",
    "pd.set_option(\"display.float_format\", lambda x: \"%.4f\" % x)"
   ]
  },
  {
   "cell_type": "code",
   "execution_count": 2,
   "metadata": {},
   "outputs": [],
   "source": [
    "df = pd.read_csv('/datasets/toxic_comments.csv')"
   ]
  },
  {
   "cell_type": "code",
   "execution_count": 3,
   "metadata": {},
   "outputs": [
    {
     "data": {
      "text/html": [
       "<div>\n",
       "<style scoped>\n",
       "    .dataframe tbody tr th:only-of-type {\n",
       "        vertical-align: middle;\n",
       "    }\n",
       "\n",
       "    .dataframe tbody tr th {\n",
       "        vertical-align: top;\n",
       "    }\n",
       "\n",
       "    .dataframe thead th {\n",
       "        text-align: right;\n",
       "    }\n",
       "</style>\n",
       "<table border=\"1\" class=\"dataframe\">\n",
       "  <thead>\n",
       "    <tr style=\"text-align: right;\">\n",
       "      <th></th>\n",
       "      <th>Unnamed: 0</th>\n",
       "      <th>text</th>\n",
       "      <th>toxic</th>\n",
       "    </tr>\n",
       "  </thead>\n",
       "  <tbody>\n",
       "    <tr>\n",
       "      <th>0</th>\n",
       "      <td>0</td>\n",
       "      <td>Explanation\\nWhy the edits made under my usern...</td>\n",
       "      <td>0</td>\n",
       "    </tr>\n",
       "    <tr>\n",
       "      <th>1</th>\n",
       "      <td>1</td>\n",
       "      <td>D'aww! He matches this background colour I'm s...</td>\n",
       "      <td>0</td>\n",
       "    </tr>\n",
       "    <tr>\n",
       "      <th>2</th>\n",
       "      <td>2</td>\n",
       "      <td>Hey man, I'm really not trying to edit war. It...</td>\n",
       "      <td>0</td>\n",
       "    </tr>\n",
       "    <tr>\n",
       "      <th>3</th>\n",
       "      <td>3</td>\n",
       "      <td>\"\\nMore\\nI can't make any real suggestions on ...</td>\n",
       "      <td>0</td>\n",
       "    </tr>\n",
       "    <tr>\n",
       "      <th>4</th>\n",
       "      <td>4</td>\n",
       "      <td>You, sir, are my hero. Any chance you remember...</td>\n",
       "      <td>0</td>\n",
       "    </tr>\n",
       "  </tbody>\n",
       "</table>\n",
       "</div>"
      ],
      "text/plain": [
       "   Unnamed: 0                                               text  toxic\n",
       "0           0  Explanation\\nWhy the edits made under my usern...      0\n",
       "1           1  D'aww! He matches this background colour I'm s...      0\n",
       "2           2  Hey man, I'm really not trying to edit war. It...      0\n",
       "3           3  \"\\nMore\\nI can't make any real suggestions on ...      0\n",
       "4           4  You, sir, are my hero. Any chance you remember...      0"
      ]
     },
     "execution_count": 3,
     "metadata": {},
     "output_type": "execute_result"
    }
   ],
   "source": [
    "df.head()"
   ]
  },
  {
   "cell_type": "code",
   "execution_count": 4,
   "metadata": {},
   "outputs": [
    {
     "name": "stdout",
     "output_type": "stream",
     "text": [
      "<class 'pandas.core.frame.DataFrame'>\n",
      "RangeIndex: 159292 entries, 0 to 159291\n",
      "Data columns (total 3 columns):\n",
      " #   Column      Non-Null Count   Dtype \n",
      "---  ------      --------------   ----- \n",
      " 0   Unnamed: 0  159292 non-null  int64 \n",
      " 1   text        159292 non-null  object\n",
      " 2   toxic       159292 non-null  int64 \n",
      "dtypes: int64(2), object(1)\n",
      "memory usage: 3.6+ MB\n"
     ]
    }
   ],
   "source": [
    "df.info()"
   ]
  },
  {
   "cell_type": "code",
   "execution_count": 5,
   "metadata": {},
   "outputs": [
    {
     "data": {
      "text/plain": [
       "0    0\n",
       "1    1\n",
       "2    2\n",
       "3    3\n",
       "4    4\n",
       "5    5\n",
       "6    6\n",
       "7    7\n",
       "8    8\n",
       "9    9\n",
       "Name: Unnamed: 0, dtype: int64"
      ]
     },
     "execution_count": 5,
     "metadata": {},
     "output_type": "execute_result"
    }
   ],
   "source": [
    "df['Unnamed: 0'].head(10)"
   ]
  },
  {
   "cell_type": "markdown",
   "metadata": {},
   "source": [
    "Удалим данный столбец, как не представляющий ценности."
   ]
  },
  {
   "cell_type": "code",
   "execution_count": 6,
   "metadata": {},
   "outputs": [],
   "source": [
    "df = df.drop(['Unnamed: 0'], axis=1)"
   ]
  },
  {
   "cell_type": "code",
   "execution_count": 7,
   "metadata": {},
   "outputs": [
    {
     "data": {
      "text/plain": [
       "0"
      ]
     },
     "execution_count": 7,
     "metadata": {},
     "output_type": "execute_result"
    }
   ],
   "source": [
    "df.duplicated().sum()"
   ]
  },
  {
   "cell_type": "code",
   "execution_count": 8,
   "metadata": {},
   "outputs": [
    {
     "name": "stdout",
     "output_type": "stream",
     "text": [
      "<class 'pandas.core.frame.DataFrame'>\n",
      "RangeIndex: 159292 entries, 0 to 159291\n",
      "Data columns (total 2 columns):\n",
      " #   Column  Non-Null Count   Dtype \n",
      "---  ------  --------------   ----- \n",
      " 0   text    159292 non-null  object\n",
      " 1   toxic   159292 non-null  int64 \n",
      "dtypes: int64(1), object(1)\n",
      "memory usage: 2.4+ MB\n"
     ]
    }
   ],
   "source": [
    "df.info()"
   ]
  },
  {
   "cell_type": "markdown",
   "metadata": {},
   "source": [
    "По результатм предварительной оценки типы данных соответствуют, отсутствуют дубликаты и пропуски, а также произведено удаление ['Unnamed: 0']. \n",
    "\n",
    "Далее проверим распределение целевого признака. "
   ]
  },
  {
   "cell_type": "code",
   "execution_count": 9,
   "metadata": {},
   "outputs": [
    {
     "data": {
      "image/png": "[encoded data removed]",
      "text/plain": [
       "<Figure size 432x288 with 1 Axes>"
      ]
     },
     "metadata": {
      "needs_background": "light"
     },
     "output_type": "display_data"
    }
   ],
   "source": [
    "df['toxic'].value_counts().plot(\n",
    "    kind ='bar',\n",
    "    title='Баланс распределения классов целевого признака',\n",
    "    rot=0);"
   ]
  },
  {
   "cell_type": "markdown",
   "metadata": {},
   "source": [
    "При анализе графика выявлен дисбаланс классов. Для устранения дисбаланса будем использовать auto_class_weights или class_weights."
   ]
  },
  {
   "cell_type": "markdown",
   "metadata": {},
   "source": [
    "Далее будем очищать данные от ненужных символов и произвести его лемматизацию, а также загрузим пакет stopwords со списком стоп-слов. Передадим  функции stopwords.words() аргумент 'english', введу того, что комментарии на английском языке."
   ]
  },
  {
   "cell_type": "code",
   "execution_count": 10,
   "metadata": {},
   "outputs": [
    {
     "name": "stderr",
     "output_type": "stream",
     "text": [
      "[nltk_data] Downloading package stopwords to /home/jovyan/nltk_data...\n",
      "[nltk_data]   Package stopwords is already up-to-date!\n",
      "[nltk_data] Downloading package wordnet to /home/jovyan/nltk_data...\n",
      "[nltk_data]   Package wordnet is already up-to-date!\n",
      "[nltk_data] Downloading package averaged_perceptron_tagger to\n",
      "[nltk_data]     /home/jovyan/nltk_data...\n",
      "[nltk_data]   Package averaged_perceptron_tagger is already up-to-\n",
      "[nltk_data]       date!\n"
     ]
    }
   ],
   "source": [
    "nltk.download('stopwords')\n",
    "nltk.download('wordnet')\n",
    "nltk.download('averaged_perceptron_tagger')\n",
    "stopwords = set(nltk_stopwords.words('english'))"
   ]
  },
  {
   "cell_type": "code",
   "execution_count": 11,
   "metadata": {},
   "outputs": [],
   "source": [
    "tqdm.pandas()\n",
    "\n",
    "def clear_text(text):\n",
    "    text = text.lower()\n",
    "    text = re.sub(r'[^a-zA-Z]', ' ', text)   \n",
    "    text = ' '.join(text.split())\n",
    "    return text"
   ]
  },
  {
   "cell_type": "code",
   "execution_count": 12,
   "metadata": {},
   "outputs": [
    {
     "data": {
      "text/html": [
       "<div>\n",
       "<style scoped>\n",
       "    .dataframe tbody tr th:only-of-type {\n",
       "        vertical-align: middle;\n",
       "    }\n",
       "\n",
       "    .dataframe tbody tr th {\n",
       "        vertical-align: top;\n",
       "    }\n",
       "\n",
       "    .dataframe thead th {\n",
       "        text-align: right;\n",
       "    }\n",
       "</style>\n",
       "<table border=\"1\" class=\"dataframe\">\n",
       "  <thead>\n",
       "    <tr style=\"text-align: right;\">\n",
       "      <th></th>\n",
       "      <th>text</th>\n",
       "      <th>toxic</th>\n",
       "    </tr>\n",
       "  </thead>\n",
       "  <tbody>\n",
       "    <tr>\n",
       "      <th>0</th>\n",
       "      <td>explanation why the edits made under my userna...</td>\n",
       "      <td>0</td>\n",
       "    </tr>\n",
       "    <tr>\n",
       "      <th>1</th>\n",
       "      <td>d aww he matches this background colour i m se...</td>\n",
       "      <td>0</td>\n",
       "    </tr>\n",
       "    <tr>\n",
       "      <th>2</th>\n",
       "      <td>hey man i m really not trying to edit war it s...</td>\n",
       "      <td>0</td>\n",
       "    </tr>\n",
       "    <tr>\n",
       "      <th>3</th>\n",
       "      <td>more i can t make any real suggestions on impr...</td>\n",
       "      <td>0</td>\n",
       "    </tr>\n",
       "    <tr>\n",
       "      <th>4</th>\n",
       "      <td>you sir are my hero any chance you remember wh...</td>\n",
       "      <td>0</td>\n",
       "    </tr>\n",
       "  </tbody>\n",
       "</table>\n",
       "</div>"
      ],
      "text/plain": [
       "                                                text  toxic\n",
       "0  explanation why the edits made under my userna...      0\n",
       "1  d aww he matches this background colour i m se...      0\n",
       "2  hey man i m really not trying to edit war it s...      0\n",
       "3  more i can t make any real suggestions on impr...      0\n",
       "4  you sir are my hero any chance you remember wh...      0"
      ]
     },
     "execution_count": 12,
     "metadata": {},
     "output_type": "execute_result"
    }
   ],
   "source": [
    "df['text'] = df['text'].apply(clear_text)\n",
    "df.head()"
   ]
  },
  {
   "cell_type": "code",
   "execution_count": 13,
   "metadata": {},
   "outputs": [
    {
     "data": {
      "text/html": [
       "<div>\n",
       "<style scoped>\n",
       "    .dataframe tbody tr th:only-of-type {\n",
       "        vertical-align: middle;\n",
       "    }\n",
       "\n",
       "    .dataframe tbody tr th {\n",
       "        vertical-align: top;\n",
       "    }\n",
       "\n",
       "    .dataframe thead th {\n",
       "        text-align: right;\n",
       "    }\n",
       "</style>\n",
       "<table border=\"1\" class=\"dataframe\">\n",
       "  <thead>\n",
       "    <tr style=\"text-align: right;\">\n",
       "      <th></th>\n",
       "      <th>text</th>\n",
       "      <th>toxic</th>\n",
       "    </tr>\n",
       "  </thead>\n",
       "  <tbody>\n",
       "    <tr>\n",
       "      <th>0</th>\n",
       "      <td>explanation why the edits make under my userna...</td>\n",
       "      <td>0</td>\n",
       "    </tr>\n",
       "    <tr>\n",
       "      <th>1</th>\n",
       "      <td>d aww he match this background colour i m seem...</td>\n",
       "      <td>0</td>\n",
       "    </tr>\n",
       "    <tr>\n",
       "      <th>2</th>\n",
       "      <td>hey man i m really not try to edit war it s ju...</td>\n",
       "      <td>0</td>\n",
       "    </tr>\n",
       "    <tr>\n",
       "      <th>3</th>\n",
       "      <td>more i can t make any real suggestion on impro...</td>\n",
       "      <td>0</td>\n",
       "    </tr>\n",
       "    <tr>\n",
       "      <th>4</th>\n",
       "      <td>you sir be my hero any chance you remember wha...</td>\n",
       "      <td>0</td>\n",
       "    </tr>\n",
       "  </tbody>\n",
       "</table>\n",
       "</div>"
      ],
      "text/plain": [
       "                                                text  toxic\n",
       "0  explanation why the edits make under my userna...      0\n",
       "1  d aww he match this background colour i m seem...      0\n",
       "2  hey man i m really not try to edit war it s ju...      0\n",
       "3  more i can t make any real suggestion on impro...      0\n",
       "4  you sir be my hero any chance you remember wha...      0"
      ]
     },
     "execution_count": 13,
     "metadata": {},
     "output_type": "execute_result"
    }
   ],
   "source": [
    "tqdm.pandas()\n",
    "\n",
    "def get_wordnet_pos(word):\n",
    "    tag = nltk.pos_tag([word])[0][1][0].upper()\n",
    "    tag_dict = {\"J\": wordnet.ADJ,               #прилагательное\n",
    "                \"N\": wordnet.NOUN,              #существительное\n",
    "                \"V\": wordnet.VERB,              #глагол\n",
    "                \"R\": wordnet.ADV                #наречие\n",
    "               }  \n",
    "    return tag_dict.get(tag, wordnet.NOUN)\n",
    "\n",
    "lemmatizer = WordNetLemmatizer()\n",
    "\n",
    "#ввожу функцию леммализации тектов постов:\n",
    "def lemm_text(text):\n",
    "    text = [lemmatizer.lemmatize(w, get_wordnet_pos(w)) for w in nltk.word_tokenize(text)]\n",
    "    return ' '.join(text) \n",
    "\n",
    "df['text'] = df['text'].apply(lemm_text)\n",
    "\n",
    "df.head()"
   ]
  },
  {
   "cell_type": "markdown",
   "metadata": {},
   "source": [
    "Разделение выборок"
   ]
  },
  {
   "cell_type": "code",
   "execution_count": 14,
   "metadata": {},
   "outputs": [],
   "source": [
    "RANDOM_STATE = 12345"
   ]
  },
  {
   "cell_type": "code",
   "execution_count": 15,
   "metadata": {},
   "outputs": [],
   "source": [
    "features = df['text']\n",
    "target = df['toxic']\n",
    "\n",
    "X_train, X_test, y_train, y_test = train_test_split(\n",
    "    features,\n",
    "    target,\n",
    "    test_size=0.10,\n",
    "    random_state=RANDOM_STATE\n",
    ")"
   ]
  },
  {
   "cell_type": "code",
   "execution_count": 15,
   "metadata": {},
   "outputs": [
    {
     "name": "stdout",
     "output_type": "stream",
     "text": [
      "(119469,)\n",
      "(39823,)\n",
      "(119469,)\n"
     ]
    },
    {
     "data": {
      "text/plain": [
       "(39823,)"
      ]
     },
     "execution_count": 15,
     "metadata": {},
     "output_type": "execute_result"
    }
   ],
   "source": [
    "print(X_train.shape)\n",
    "print(X_test.shape)\n",
    "print(y_train.shape)\n",
    "y_test.shape"
   ]
  },
  {
   "cell_type": "markdown",
   "metadata": {},
   "source": [
    "## Обучение"
   ]
  },
  {
   "cell_type": "markdown",
   "metadata": {},
   "source": [
    "### LogisticRegression"
   ]
  },
  {
   "cell_type": "code",
   "execution_count": 16,
   "metadata": {},
   "outputs": [
    {
     "name": "stdout",
     "output_type": "stream",
     "text": [
      "Fitting 5 folds for each of 1 candidates, totalling 5 fits\n",
      "[CV 1/5] END ...................................logreg__C=10; total time=  58.2s\n",
      "[CV 2/5] END ...................................logreg__C=10; total time=  57.2s\n",
      "[CV 3/5] END ...................................logreg__C=10; total time=  54.5s\n",
      "[CV 4/5] END ...................................logreg__C=10; total time=  57.1s\n",
      "[CV 5/5] END ...................................logreg__C=10; total time=  56.6s\n",
      "Best гиперпараметры model_lr: 0.7714593733486435\n",
      "Best model_lr: {'logreg__C': 10}\n"
     ]
    }
   ],
   "source": [
    "pipe_lr_tfidf = Pipeline([\n",
    "    ('tfidf', TfidfVectorizer()),\n",
    "    ('logreg', LogisticRegression(class_weight='balanced',random_state=RANDOM_STATE))\n",
    "])\n",
    "     \n",
    "params_lr = {'logreg__C': [10]}\n",
    "\n",
    "lr_gscv = GridSearchCV(\n",
    "    pipe_lr_tfidf,\n",
    "    params_lr,\n",
    "    scoring='f1',\n",
    "    verbose=3\n",
    ")\n",
    "\n",
    "lr_gscv.fit(X_train, y_train)\n",
    "\n",
    "print(f'Best гиперпараметры model_lr: {lr_gscv.best_score_}')\n",
    "\n",
    "\n",
    "print(f'Best model_lr: {lr_gscv.best_params_}')"
   ]
  },
  {
   "cell_type": "markdown",
   "metadata": {},
   "source": [
    "### LGBMClassifier"
   ]
  },
  {
   "cell_type": "code",
   "execution_count": 19,
   "metadata": {},
   "outputs": [
    {
     "name": "stdout",
     "output_type": "stream",
     "text": [
      "Fitting 5 folds for each of 1 candidates, totalling 5 fits\n",
      "[CV 1/5] END lgbm__learning_rate=0.1, lgbm__max_depth=50, lgbm__n_estimators=500; total time= 6.6min\n",
      "[CV 2/5] END lgbm__learning_rate=0.1, lgbm__max_depth=50, lgbm__n_estimators=500; total time= 7.6min\n",
      "[CV 3/5] END lgbm__learning_rate=0.1, lgbm__max_depth=50, lgbm__n_estimators=500; total time= 7.3min\n",
      "[CV 4/5] END lgbm__learning_rate=0.1, lgbm__max_depth=50, lgbm__n_estimators=500; total time= 7.0min\n",
      "[CV 5/5] END lgbm__learning_rate=0.1, lgbm__max_depth=50, lgbm__n_estimators=500; total time= 6.3min\n",
      "Best гиперпараметры model_lr: 0.7879797909981203\n",
      "Best model_lr: {'lgbm__learning_rate': 0.1, 'lgbm__max_depth': 50, 'lgbm__n_estimators': 500}\n",
      "CPU times: user 41min 30s, sys: 12.6 s, total: 41min 42s\n",
      "Wall time: 41min 55s\n"
     ]
    }
   ],
   "source": [
    "%%time\n",
    "pipe_lgbm_tfidf = Pipeline([\n",
    "    ('tfidf', TfidfVectorizer()),\n",
    "    ('lgbm', LGBMClassifier(random_state=RANDOM_STATE))\n",
    "])\n",
    "params_lgbm_tfidf = {\n",
    "    'lgbm__n_estimators':[500],\n",
    "    'lgbm__learning_rate':[0.1],\n",
    "    'lgbm__max_depth':[50]\n",
    "}\n",
    "\n",
    "lgbm_gscv = GridSearchCV(\n",
    "    pipe_lgbm_tfidf,\n",
    "    params_lgbm_tfidf,\n",
    "    scoring='f1',\n",
    "    verbose=3\n",
    ")\n",
    "\n",
    "lgbm_gscv.fit(X_train, y_train)\n",
    "\n",
    "print(f'Best гиперпараметры model_lr: {lgbm_gscv.best_score_}')\n",
    "\n",
    "\n",
    "print(f'Best model_lr: {lgbm_gscv.best_params_}')\n"
   ]
  },
  {
   "cell_type": "markdown",
   "metadata": {},
   "source": [
    "### CatBoostClassifier"
   ]
  },
  {
   "cell_type": "code",
   "execution_count": 18,
   "metadata": {},
   "outputs": [
    {
     "name": "stdout",
     "output_type": "stream",
     "text": [
      "Fitting 5 folds for each of 1 candidates, totalling 5 fits\n",
      "[CV 1/5] END ........cbc__iterations=200, cbc__verbose=False; total time= 7.0min\n",
      "[CV 2/5] END ........cbc__iterations=200, cbc__verbose=False; total time= 7.1min\n",
      "[CV 3/5] END ........cbc__iterations=200, cbc__verbose=False; total time= 7.2min\n",
      "[CV 4/5] END ........cbc__iterations=200, cbc__verbose=False; total time= 7.4min\n",
      "[CV 5/5] END ........cbc__iterations=200, cbc__verbose=False; total time= 7.5min\n",
      "Best f1 model_cbc: 0.7464361982470517\n",
      "CPU times: user 44min 28s, sys: 29.7 s, total: 44min 58s\n",
      "Wall time: 45min 5s\n"
     ]
    }
   ],
   "source": [
    "%%time\n",
    "pipe_cbc_tfidf = Pipeline([\n",
    "    ('tfidf', TfidfVectorizer()),\n",
    "    ('cbc', CatBoostClassifier(random_state=RANDOM_STATE, class_weights=(1, 8)))\n",
    "])\n",
    "params_cbc_tfidf = {\n",
    "    'cbc__verbose': ([False]),\n",
    "    'cbc__iterations': ([200])\n",
    "}\n",
    "    \n",
    "cbc_gscv = GridSearchCV(\n",
    "    pipe_cbc_tfidf,\n",
    "    params_cbc_tfidf,\n",
    "    scoring='f1',\n",
    "    verbose=3\n",
    ")\n",
    "\n",
    "cbc_gscv.fit(X_train, y_train)\n",
    "\n",
    "print(f'Best f1 model_cbc: {cbc_gscv.best_score_}')"
   ]
  },
  {
   "cell_type": "code",
   "execution_count": 20,
   "metadata": {},
   "outputs": [
    {
     "data": {
      "text/html": [
       "<div>\n",
       "<style scoped>\n",
       "    .dataframe tbody tr th:only-of-type {\n",
       "        vertical-align: middle;\n",
       "    }\n",
       "\n",
       "    .dataframe tbody tr th {\n",
       "        vertical-align: top;\n",
       "    }\n",
       "\n",
       "    .dataframe thead th {\n",
       "        text-align: right;\n",
       "    }\n",
       "</style>\n",
       "<table border=\"1\" class=\"dataframe\">\n",
       "  <thead>\n",
       "    <tr style=\"text-align: right;\">\n",
       "      <th></th>\n",
       "      <th>Best F1 train</th>\n",
       "      <th>Best_params</th>\n",
       "    </tr>\n",
       "  </thead>\n",
       "  <tbody>\n",
       "    <tr>\n",
       "      <th>LogisticRegression</th>\n",
       "      <td>0.7715</td>\n",
       "      <td>{'logreg__C': 10}</td>\n",
       "    </tr>\n",
       "    <tr>\n",
       "      <th>LGBMClassifier</th>\n",
       "      <td>0.7880</td>\n",
       "      <td>{'lgbm__learning_rate': 0.1, 'lgbm__max_depth'...</td>\n",
       "    </tr>\n",
       "    <tr>\n",
       "      <th>CatBoostClassifier</th>\n",
       "      <td>0.7464</td>\n",
       "      <td>{'cbc__iterations': 200, 'cbc__verbose': False}</td>\n",
       "    </tr>\n",
       "  </tbody>\n",
       "</table>\n",
       "</div>"
      ],
      "text/plain": [
       "                    Best F1 train  \\\n",
       "LogisticRegression         0.7715   \n",
       "LGBMClassifier             0.7880   \n",
       "CatBoostClassifier         0.7464   \n",
       "\n",
       "                                                         Best_params   \n",
       "LogisticRegression                                  {'logreg__C': 10}  \n",
       "LGBMClassifier      {'lgbm__learning_rate': 0.1, 'lgbm__max_depth'...  \n",
       "CatBoostClassifier    {'cbc__iterations': 200, 'cbc__verbose': False}  "
      ]
     },
     "execution_count": 20,
     "metadata": {},
     "output_type": "execute_result"
    }
   ],
   "source": [
    "index = ['LogisticRegression','LGBMClassifier','CatBoostClassifier']\n",
    "data = {\n",
    "    'Best F1 train':[\n",
    "        lr_gscv.best_score_,\n",
    "        lgbm_gscv.best_score_,\n",
    "        cbc_gscv.best_score_],\n",
    "    'Best_params ':[\n",
    "        lr_gscv.best_params_,\n",
    "        lgbm_gscv.best_params_,\n",
    "        cbc_gscv.best_params_\n",
    "    ]\n",
    "        }\n",
    "\n",
    "scores_df = pd.DataFrame(data=data, index=index)\n",
    "scores_df"
   ]
  },
  {
   "cell_type": "markdown",
   "metadata": {},
   "source": [
    "**Вывод:** Рассматривая значения метрики F1, лучший результат показала модель LGBMClassifier (F1 = 0.7880) с гипераметрами представленными в таблице. Если рассматривать модели по времени обучения и значению метрики, то в данном случае лучшая оказалась модель LogisticRegression, а худшая CatBoostClassifier. Т.к. в требованиях ТЗ не указано время, следовательно будем отталкиваться от наилучшего значения метрики, следовательно для тестирования будет использована модель LGBMClassifier."
   ]
  },
  {
   "cell_type": "markdown",
   "metadata": {},
   "source": [
    "## Тестирование "
   ]
  },
  {
   "cell_type": "markdown",
   "metadata": {},
   "source": [
    "### LGBMClassifier"
   ]
  },
  {
   "cell_type": "code",
   "execution_count": 21,
   "metadata": {},
   "outputs": [
    {
     "name": "stdout",
     "output_type": "stream",
     "text": [
      "CPU times: user 5.89 s, sys: 0 ns, total: 5.89 s\n",
      "Wall time: 5.89 s\n"
     ]
    },
    {
     "data": {
      "text/plain": [
       "0.7983310152990264"
      ]
     },
     "execution_count": 21,
     "metadata": {},
     "output_type": "execute_result"
    }
   ],
   "source": [
    "%%time\n",
    "lgbm_prediction = lgbm_gscv.predict(X_test)\n",
    "metric_test_lgbm = f1_score(y_test, lgbm_prediction)\n",
    "metric_test_lgbm"
   ]
  },
  {
   "cell_type": "markdown",
   "metadata": {},
   "source": [
    "## Выводы"
   ]
  },
  {
   "cell_type": "code",
   "execution_count": 22,
   "metadata": {},
   "outputs": [
    {
     "data": {
      "text/html": [
       "<div>\n",
       "<style scoped>\n",
       "    .dataframe tbody tr th:only-of-type {\n",
       "        vertical-align: middle;\n",
       "    }\n",
       "\n",
       "    .dataframe tbody tr th {\n",
       "        vertical-align: top;\n",
       "    }\n",
       "\n",
       "    .dataframe thead th {\n",
       "        text-align: right;\n",
       "    }\n",
       "</style>\n",
       "<table border=\"1\" class=\"dataframe\">\n",
       "  <thead>\n",
       "    <tr style=\"text-align: right;\">\n",
       "      <th></th>\n",
       "      <th>Best F1 train</th>\n",
       "      <th>Best F1 test</th>\n",
       "    </tr>\n",
       "  </thead>\n",
       "  <tbody>\n",
       "    <tr>\n",
       "      <th>LGBMClassifier</th>\n",
       "      <td>0.7880</td>\n",
       "      <td>0.7983</td>\n",
       "    </tr>\n",
       "  </tbody>\n",
       "</table>\n",
       "</div>"
      ],
      "text/plain": [
       "                Best F1 train  Best F1 test\n",
       "LGBMClassifier         0.7880        0.7983"
      ]
     },
     "execution_count": 22,
     "metadata": {},
     "output_type": "execute_result"
    }
   ],
   "source": [
    "\n",
    "index = ['LGBMClassifier']\n",
    "data = {\n",
    "    'Best F1 train':[lgbm_gscv.best_score_],\n",
    "    'Best F1 test':[metric_test_lgbm]\n",
    "        }\n",
    "\n",
    "scores_df = pd.DataFrame(data=data, index=index)\n",
    "scores_df"
   ]
  },
  {
   "cell_type": "markdown",
   "metadata": {},
   "source": [
    "В результате выполнения проекта выполнены следующие шаги:\n",
    "\n",
    "- загружены и изучены данные;\n",
    "- проведена очистка, токенизация и лемматизация;\n",
    "- выявлен дисбаланс классов и использованы методы борьбы в моделях;\n",
    "- проведена кросс-валидация данных на разных моделях с перебором параметров;\n",
    "- проведено тестирование моделей.\n",
    "\n",
    "На основе полученных результатов на тестовых данных выбрана к дальнейшей эксплуатации модель LightGBMClassifier, удовлетворяющая требованиям ТЗ значения метрики F1 > 0.75 \n",
    "\n",
    "Для промышленной эксплуатации рекоммендована модель LightGBMClassifier."
   ]
  }
 ],
 "metadata": {
  "ExecuteTimeLog": [
   {
    "duration": 416,
    "start_time": "2023-07-01T14:20:09.921Z"
   },
   {
    "duration": 3234,
    "start_time": "2023-07-01T14:36:48.649Z"
   },
   {
    "duration": 16,
    "start_time": "2023-07-01T14:36:56.761Z"
   },
   {
    "duration": 7113,
    "start_time": "2023-07-01T18:33:59.920Z"
   },
   {
    "duration": 47,
    "start_time": "2023-07-01T18:34:36.241Z"
   },
   {
    "duration": 268,
    "start_time": "2023-07-01T18:35:49.994Z"
   },
   {
    "duration": 245,
    "start_time": "2023-07-01T18:35:56.988Z"
   },
   {
    "duration": 918,
    "start_time": "2023-07-01T18:39:22.831Z"
   },
   {
    "duration": 561,
    "start_time": "2023-07-01T18:39:57.151Z"
   },
   {
    "duration": 223,
    "start_time": "2023-07-01T18:40:04.942Z"
   },
   {
    "duration": 128,
    "start_time": "2023-07-01T18:40:25.800Z"
   },
   {
    "duration": 117,
    "start_time": "2023-07-01T18:41:01.878Z"
   },
   {
    "duration": 232,
    "start_time": "2023-07-01T18:42:02.303Z"
   },
   {
    "duration": 226,
    "start_time": "2023-07-01T18:45:27.141Z"
   },
   {
    "duration": 204,
    "start_time": "2023-07-01T18:46:26.755Z"
   },
   {
    "duration": 193,
    "start_time": "2023-07-01T18:46:59.661Z"
   },
   {
    "duration": 239,
    "start_time": "2023-07-01T18:47:04.865Z"
   },
   {
    "duration": 168,
    "start_time": "2023-07-01T18:47:48.901Z"
   },
   {
    "duration": 132,
    "start_time": "2023-07-01T18:47:55.149Z"
   },
   {
    "duration": 144,
    "start_time": "2023-07-01T18:47:58.634Z"
   },
   {
    "duration": 161,
    "start_time": "2023-07-01T18:48:20.892Z"
   },
   {
    "duration": 66,
    "start_time": "2023-07-01T18:50:43.200Z"
   },
   {
    "duration": 7,
    "start_time": "2023-07-01T19:00:34.295Z"
   },
   {
    "duration": 6947,
    "start_time": "2023-07-01T19:00:53.574Z"
   },
   {
    "duration": 2810744,
    "start_time": "2023-07-01T19:15:08.224Z"
   },
   {
    "duration": 15414,
    "start_time": "2023-07-02T13:53:58.215Z"
   },
   {
    "duration": 3375,
    "start_time": "2023-07-02T13:54:41.740Z"
   },
   {
    "duration": 5558,
    "start_time": "2023-07-02T13:54:45.121Z"
   },
   {
    "duration": 11,
    "start_time": "2023-07-02T13:54:50.680Z"
   },
   {
    "duration": 49,
    "start_time": "2023-07-02T13:54:50.692Z"
   },
   {
    "duration": 336,
    "start_time": "2023-07-02T13:54:50.744Z"
   },
   {
    "duration": 183,
    "start_time": "2023-07-02T13:54:51.083Z"
   },
   {
    "duration": 282,
    "start_time": "2023-07-02T13:54:51.267Z"
   },
   {
    "duration": 135,
    "start_time": "2023-07-02T13:54:51.550Z"
   },
   {
    "duration": 36298,
    "start_time": "2023-07-02T13:55:08.567Z"
   },
   {
    "duration": 7,
    "start_time": "2023-07-02T14:04:09.044Z"
   },
   {
    "duration": 3,
    "start_time": "2023-07-02T14:07:18.354Z"
   },
   {
    "duration": 26,
    "start_time": "2023-07-02T14:08:06.798Z"
   },
   {
    "duration": 33,
    "start_time": "2023-07-02T14:08:24.624Z"
   },
   {
    "duration": 2762,
    "start_time": "2023-07-02T14:10:12.532Z"
   },
   {
    "duration": 875,
    "start_time": "2023-07-02T14:10:15.296Z"
   },
   {
    "duration": 10,
    "start_time": "2023-07-02T14:10:16.173Z"
   },
   {
    "duration": 49,
    "start_time": "2023-07-02T14:10:16.184Z"
   },
   {
    "duration": 102,
    "start_time": "2023-07-02T14:10:16.240Z"
   },
   {
    "duration": 293,
    "start_time": "2023-07-02T14:10:16.344Z"
   },
   {
    "duration": 9,
    "start_time": "2023-07-02T14:10:16.638Z"
   },
   {
    "duration": 22,
    "start_time": "2023-07-02T14:10:16.648Z"
   },
   {
    "duration": 126,
    "start_time": "2023-07-02T14:10:16.671Z"
   },
   {
    "duration": 239,
    "start_time": "2023-07-02T14:10:16.798Z"
   },
   {
    "duration": 28536,
    "start_time": "2023-07-02T14:10:17.039Z"
   },
   {
    "duration": 2,
    "start_time": "2023-07-02T14:10:45.577Z"
   },
   {
    "duration": 41,
    "start_time": "2023-07-02T14:10:45.580Z"
   },
   {
    "duration": 5,
    "start_time": "2023-07-02T14:12:07.920Z"
   },
   {
    "duration": 5,
    "start_time": "2023-07-02T14:13:20.362Z"
   },
   {
    "duration": 1845,
    "start_time": "2023-07-02T15:21:57.026Z"
   },
   {
    "duration": 6133,
    "start_time": "2023-07-02T17:59:54.978Z"
   },
   {
    "duration": 3799,
    "start_time": "2023-07-02T18:00:01.113Z"
   },
   {
    "duration": 10,
    "start_time": "2023-07-02T18:00:04.914Z"
   },
   {
    "duration": 35,
    "start_time": "2023-07-02T18:00:04.926Z"
   },
   {
    "duration": 6,
    "start_time": "2023-07-02T18:00:04.963Z"
   },
   {
    "duration": 20,
    "start_time": "2023-07-02T18:00:04.972Z"
   },
   {
    "duration": 235,
    "start_time": "2023-07-02T18:00:04.994Z"
   },
   {
    "duration": 29,
    "start_time": "2023-07-02T18:00:05.231Z"
   },
   {
    "duration": 133,
    "start_time": "2023-07-02T18:00:05.270Z"
   },
   {
    "duration": 309,
    "start_time": "2023-07-02T18:00:05.405Z"
   },
   {
    "duration": 2,
    "start_time": "2023-07-02T18:00:05.716Z"
   },
   {
    "duration": 279,
    "start_time": "2023-07-02T18:00:05.720Z"
   },
   {
    "duration": 4,
    "start_time": "2023-07-02T18:00:06.001Z"
   },
   {
    "duration": 124,
    "start_time": "2023-07-02T18:00:06.008Z"
   },
   {
    "duration": 2,
    "start_time": "2023-07-02T18:00:06.134Z"
   },
   {
    "duration": 67,
    "start_time": "2023-07-02T18:00:06.137Z"
   },
   {
    "duration": 4,
    "start_time": "2023-07-02T18:00:06.206Z"
   },
   {
    "duration": 72,
    "start_time": "2023-07-02T18:00:06.212Z"
   },
   {
    "duration": 3118,
    "start_time": "2023-07-02T18:01:05.246Z"
   },
   {
    "duration": 962,
    "start_time": "2023-07-02T18:01:08.366Z"
   },
   {
    "duration": 12,
    "start_time": "2023-07-02T18:01:09.330Z"
   },
   {
    "duration": 56,
    "start_time": "2023-07-02T18:01:09.343Z"
   },
   {
    "duration": 7,
    "start_time": "2023-07-02T18:01:09.402Z"
   },
   {
    "duration": 11,
    "start_time": "2023-07-02T18:01:09.411Z"
   },
   {
    "duration": 276,
    "start_time": "2023-07-02T18:01:09.424Z"
   },
   {
    "duration": 33,
    "start_time": "2023-07-02T18:01:09.702Z"
   },
   {
    "duration": 167,
    "start_time": "2023-07-02T18:01:09.736Z"
   },
   {
    "duration": 251,
    "start_time": "2023-07-02T18:01:09.905Z"
   },
   {
    "duration": 3,
    "start_time": "2023-07-02T18:01:10.158Z"
   },
   {
    "duration": 4781,
    "start_time": "2023-07-02T18:01:10.163Z"
   },
   {
    "duration": 4,
    "start_time": "2023-07-02T18:01:14.946Z"
   },
   {
    "duration": 902,
    "start_time": "2023-07-02T18:01:14.953Z"
   },
   {
    "duration": 3,
    "start_time": "2023-07-02T18:01:15.857Z"
   },
   {
    "duration": 57,
    "start_time": "2023-07-02T18:01:15.863Z"
   },
   {
    "duration": 5,
    "start_time": "2023-07-02T18:01:15.921Z"
   },
   {
    "duration": 82,
    "start_time": "2023-07-02T18:02:29.442Z"
   },
   {
    "duration": 171,
    "start_time": "2023-07-02T18:03:57.620Z"
   },
   {
    "duration": 495,
    "start_time": "2023-07-02T18:04:11.934Z"
   },
   {
    "duration": 6,
    "start_time": "2023-07-02T18:04:14.151Z"
   },
   {
    "duration": 5,
    "start_time": "2023-07-02T18:04:16.940Z"
   },
   {
    "duration": 538,
    "start_time": "2023-07-02T18:04:19.333Z"
   },
   {
    "duration": 6,
    "start_time": "2023-07-02T18:05:54.448Z"
   },
   {
    "duration": 5,
    "start_time": "2023-07-02T18:08:35.431Z"
   },
   {
    "duration": 3107,
    "start_time": "2023-07-02T18:10:16.526Z"
   },
   {
    "duration": 847,
    "start_time": "2023-07-02T18:10:19.635Z"
   },
   {
    "duration": 17,
    "start_time": "2023-07-02T18:10:20.487Z"
   },
   {
    "duration": 43,
    "start_time": "2023-07-02T18:10:20.506Z"
   },
   {
    "duration": 10,
    "start_time": "2023-07-02T18:10:20.551Z"
   },
   {
    "duration": 29,
    "start_time": "2023-07-02T18:10:20.562Z"
   },
   {
    "duration": 220,
    "start_time": "2023-07-02T18:10:20.597Z"
   },
   {
    "duration": 29,
    "start_time": "2023-07-02T18:10:20.818Z"
   },
   {
    "duration": 175,
    "start_time": "2023-07-02T18:10:20.849Z"
   },
   {
    "duration": 246,
    "start_time": "2023-07-02T18:10:21.027Z"
   },
   {
    "duration": 4,
    "start_time": "2023-07-02T18:10:21.275Z"
   },
   {
    "duration": 4558,
    "start_time": "2023-07-02T18:10:21.281Z"
   },
   {
    "duration": 7,
    "start_time": "2023-07-02T18:10:25.841Z"
   },
   {
    "duration": 5,
    "start_time": "2023-07-02T18:10:25.850Z"
   },
   {
    "duration": 108546,
    "start_time": "2023-07-02T18:10:25.856Z"
   },
   {
    "duration": 3,
    "start_time": "2023-07-02T18:12:14.404Z"
   },
   {
    "duration": 32,
    "start_time": "2023-07-02T18:12:14.408Z"
   },
   {
    "duration": 5,
    "start_time": "2023-07-02T18:12:14.442Z"
   },
   {
    "duration": 6,
    "start_time": "2023-07-02T18:15:32.801Z"
   },
   {
    "duration": 7,
    "start_time": "2023-07-02T18:17:38.241Z"
   },
   {
    "duration": 860,
    "start_time": "2023-07-02T18:17:38.249Z"
   },
   {
    "duration": 12,
    "start_time": "2023-07-02T18:17:39.112Z"
   },
   {
    "duration": 35,
    "start_time": "2023-07-02T18:17:39.128Z"
   },
   {
    "duration": 5,
    "start_time": "2023-07-02T18:17:39.172Z"
   },
   {
    "duration": 22,
    "start_time": "2023-07-02T18:17:39.179Z"
   },
   {
    "duration": 223,
    "start_time": "2023-07-02T18:17:39.203Z"
   },
   {
    "duration": 30,
    "start_time": "2023-07-02T18:17:39.428Z"
   },
   {
    "duration": 130,
    "start_time": "2023-07-02T18:17:39.460Z"
   },
   {
    "duration": 4,
    "start_time": "2023-07-02T18:17:39.593Z"
   },
   {
    "duration": 4,
    "start_time": "2023-07-02T18:17:39.599Z"
   },
   {
    "duration": 526,
    "start_time": "2023-07-02T18:17:39.605Z"
   },
   {
    "duration": 6,
    "start_time": "2023-07-02T18:17:40.132Z"
   },
   {
    "duration": 11,
    "start_time": "2023-07-02T18:17:40.140Z"
   },
   {
    "duration": 106411,
    "start_time": "2023-07-02T18:17:40.152Z"
   },
   {
    "duration": 17,
    "start_time": "2023-07-02T18:19:26.565Z"
   },
   {
    "duration": 4,
    "start_time": "2023-07-02T18:19:26.584Z"
   },
   {
    "duration": 36,
    "start_time": "2023-07-02T18:19:26.589Z"
   },
   {
    "duration": 5,
    "start_time": "2023-07-02T18:19:26.626Z"
   },
   {
    "duration": 6,
    "start_time": "2023-07-02T18:21:40.732Z"
   },
   {
    "duration": 855,
    "start_time": "2023-07-02T18:21:40.741Z"
   },
   {
    "duration": 7,
    "start_time": "2023-07-02T18:21:41.598Z"
   },
   {
    "duration": 33,
    "start_time": "2023-07-02T18:21:41.606Z"
   },
   {
    "duration": 5,
    "start_time": "2023-07-02T18:21:41.640Z"
   },
   {
    "duration": 34,
    "start_time": "2023-07-02T18:21:41.646Z"
   },
   {
    "duration": 240,
    "start_time": "2023-07-02T18:21:41.684Z"
   },
   {
    "duration": 31,
    "start_time": "2023-07-02T18:21:41.925Z"
   },
   {
    "duration": 121,
    "start_time": "2023-07-02T18:21:41.968Z"
   },
   {
    "duration": 6,
    "start_time": "2023-07-02T18:21:42.091Z"
   },
   {
    "duration": 8,
    "start_time": "2023-07-02T18:21:42.098Z"
   },
   {
    "duration": 27799,
    "start_time": "2023-07-02T18:21:42.107Z"
   },
   {
    "duration": 6,
    "start_time": "2023-07-02T18:22:09.909Z"
   },
   {
    "duration": 9,
    "start_time": "2023-07-02T18:22:09.917Z"
   },
   {
    "duration": 51,
    "start_time": "2023-07-02T18:22:09.928Z"
   },
   {
    "duration": 6,
    "start_time": "2023-07-02T18:22:09.983Z"
   },
   {
    "duration": 3,
    "start_time": "2023-07-02T18:26:25.929Z"
   },
   {
    "duration": 161592,
    "start_time": "2023-07-02T18:27:00.592Z"
   },
   {
    "duration": 307360,
    "start_time": "2023-07-02T18:30:29.818Z"
   },
   {
    "duration": 2630238,
    "start_time": "2023-07-02T18:36:02.565Z"
   },
   {
    "duration": 848635,
    "start_time": "2023-07-02T19:30:38.275Z"
   },
   {
    "duration": 10,
    "start_time": "2023-07-02T19:52:12.300Z"
   },
   {
    "duration": 15988,
    "start_time": "2023-07-02T19:53:22.411Z"
   },
   {
    "duration": 15791,
    "start_time": "2023-07-02T19:54:09.694Z"
   },
   {
    "duration": 3946,
    "start_time": "2023-07-03T18:18:53.624Z"
   },
   {
    "duration": 2324,
    "start_time": "2023-07-03T18:18:57.572Z"
   },
   {
    "duration": 12,
    "start_time": "2023-07-03T18:18:59.897Z"
   },
   {
    "duration": 52,
    "start_time": "2023-07-03T18:18:59.911Z"
   },
   {
    "duration": 15,
    "start_time": "2023-07-03T18:18:59.966Z"
   },
   {
    "duration": 44,
    "start_time": "2023-07-03T18:18:59.983Z"
   },
   {
    "duration": 270,
    "start_time": "2023-07-03T18:19:00.028Z"
   },
   {
    "duration": 31,
    "start_time": "2023-07-03T18:19:00.299Z"
   },
   {
    "duration": 163,
    "start_time": "2023-07-03T18:19:00.331Z"
   },
   {
    "duration": 596,
    "start_time": "2023-07-03T18:19:00.496Z"
   },
   {
    "duration": 5,
    "start_time": "2023-07-03T18:19:01.094Z"
   },
   {
    "duration": 28312,
    "start_time": "2023-07-03T18:19:01.100Z"
   },
   {
    "duration": 3,
    "start_time": "2023-07-03T18:19:29.413Z"
   },
   {
    "duration": 52,
    "start_time": "2023-07-03T18:19:29.418Z"
   },
   {
    "duration": 9,
    "start_time": "2023-07-03T18:19:29.472Z"
   },
   {
    "duration": 69,
    "start_time": "2023-07-03T18:19:29.483Z"
   },
   {
    "duration": 0,
    "start_time": "2023-07-03T18:19:29.554Z"
   },
   {
    "duration": 0,
    "start_time": "2023-07-03T18:19:29.555Z"
   },
   {
    "duration": 0,
    "start_time": "2023-07-03T18:19:29.557Z"
   },
   {
    "duration": 0,
    "start_time": "2023-07-03T18:19:29.557Z"
   },
   {
    "duration": 0,
    "start_time": "2023-07-03T18:19:29.559Z"
   },
   {
    "duration": 0,
    "start_time": "2023-07-03T18:19:29.560Z"
   },
   {
    "duration": 0,
    "start_time": "2023-07-03T18:19:29.561Z"
   },
   {
    "duration": 167,
    "start_time": "2023-07-03T18:19:54.749Z"
   },
   {
    "duration": 15,
    "start_time": "2023-07-03T18:20:51.175Z"
   },
   {
    "duration": 5,
    "start_time": "2023-07-03T18:21:21.534Z"
   },
   {
    "duration": 56,
    "start_time": "2023-07-03T18:21:27.946Z"
   },
   {
    "duration": 45,
    "start_time": "2023-07-03T18:22:44.627Z"
   },
   {
    "duration": 48,
    "start_time": "2023-07-03T18:23:39.236Z"
   },
   {
    "duration": 6,
    "start_time": "2023-07-03T18:33:32.637Z"
   },
   {
    "duration": 41,
    "start_time": "2023-07-03T18:33:56.611Z"
   },
   {
    "duration": 3157,
    "start_time": "2023-07-03T18:38:50.391Z"
   },
   {
    "duration": 882,
    "start_time": "2023-07-03T18:38:53.553Z"
   },
   {
    "duration": 19,
    "start_time": "2023-07-03T18:38:54.438Z"
   },
   {
    "duration": 33,
    "start_time": "2023-07-03T18:38:54.459Z"
   },
   {
    "duration": 17,
    "start_time": "2023-07-03T18:38:54.494Z"
   },
   {
    "duration": 28,
    "start_time": "2023-07-03T18:38:54.512Z"
   },
   {
    "duration": 238,
    "start_time": "2023-07-03T18:38:54.542Z"
   },
   {
    "duration": 31,
    "start_time": "2023-07-03T18:38:54.782Z"
   },
   {
    "duration": 150,
    "start_time": "2023-07-03T18:38:54.815Z"
   },
   {
    "duration": 276,
    "start_time": "2023-07-03T18:38:54.968Z"
   },
   {
    "duration": 5,
    "start_time": "2023-07-03T18:38:55.246Z"
   },
   {
    "duration": 29424,
    "start_time": "2023-07-03T18:38:55.252Z"
   },
   {
    "duration": 3,
    "start_time": "2023-07-03T18:39:24.678Z"
   },
   {
    "duration": 34,
    "start_time": "2023-07-03T18:39:24.682Z"
   },
   {
    "duration": 5,
    "start_time": "2023-07-03T18:39:24.718Z"
   },
   {
    "duration": 244,
    "start_time": "2023-07-03T18:39:24.724Z"
   },
   {
    "duration": 0,
    "start_time": "2023-07-03T18:39:24.971Z"
   },
   {
    "duration": 0,
    "start_time": "2023-07-03T18:39:24.972Z"
   },
   {
    "duration": 0,
    "start_time": "2023-07-03T18:39:24.973Z"
   },
   {
    "duration": 0,
    "start_time": "2023-07-03T18:39:24.974Z"
   },
   {
    "duration": 0,
    "start_time": "2023-07-03T18:39:24.975Z"
   },
   {
    "duration": 0,
    "start_time": "2023-07-03T18:39:24.976Z"
   },
   {
    "duration": 0,
    "start_time": "2023-07-03T18:39:24.977Z"
   },
   {
    "duration": 45,
    "start_time": "2023-07-03T18:40:08.424Z"
   },
   {
    "duration": 45,
    "start_time": "2023-07-03T18:40:31.947Z"
   },
   {
    "duration": 183329,
    "start_time": "2023-07-03T18:49:23.864Z"
   },
   {
    "duration": 180374,
    "start_time": "2023-07-03T19:08:22.421Z"
   },
   {
    "duration": 30,
    "start_time": "2023-07-03T19:21:12.149Z"
   },
   {
    "duration": 106,
    "start_time": "2023-07-03T19:27:02.713Z"
   },
   {
    "duration": 45,
    "start_time": "2023-07-03T19:30:04.971Z"
   },
   {
    "duration": 39,
    "start_time": "2023-07-03T19:30:44.334Z"
   },
   {
    "duration": 165275,
    "start_time": "2023-07-03T19:36:44.469Z"
   },
   {
    "duration": 3155,
    "start_time": "2023-07-03T19:46:17.180Z"
   },
   {
    "duration": 891,
    "start_time": "2023-07-03T19:46:20.337Z"
   },
   {
    "duration": 13,
    "start_time": "2023-07-03T19:46:21.229Z"
   },
   {
    "duration": 63,
    "start_time": "2023-07-03T19:46:21.244Z"
   },
   {
    "duration": 8,
    "start_time": "2023-07-03T19:46:21.310Z"
   },
   {
    "duration": 47,
    "start_time": "2023-07-03T19:46:21.320Z"
   },
   {
    "duration": 256,
    "start_time": "2023-07-03T19:46:21.369Z"
   },
   {
    "duration": 41,
    "start_time": "2023-07-03T19:46:21.627Z"
   },
   {
    "duration": 148,
    "start_time": "2023-07-03T19:46:21.670Z"
   },
   {
    "duration": 246,
    "start_time": "2023-07-03T19:46:21.821Z"
   },
   {
    "duration": 5,
    "start_time": "2023-07-03T19:46:22.070Z"
   },
   {
    "duration": 31895,
    "start_time": "2023-07-03T19:46:22.076Z"
   },
   {
    "duration": 3,
    "start_time": "2023-07-03T19:46:53.973Z"
   },
   {
    "duration": 52,
    "start_time": "2023-07-03T19:46:53.979Z"
   },
   {
    "duration": 6,
    "start_time": "2023-07-03T19:46:54.032Z"
   },
   {
    "duration": 168660,
    "start_time": "2023-07-03T19:46:54.039Z"
   },
   {
    "duration": 173486,
    "start_time": "2023-07-03T19:49:42.701Z"
   },
   {
    "duration": 174452,
    "start_time": "2023-07-03T19:52:36.189Z"
   },
   {
    "duration": 4,
    "start_time": "2023-07-03T19:55:30.643Z"
   },
   {
    "duration": 55,
    "start_time": "2023-07-03T19:55:30.648Z"
   },
   {
    "duration": 46,
    "start_time": "2023-07-03T19:55:30.705Z"
   },
   {
    "duration": 51,
    "start_time": "2023-07-03T19:55:30.753Z"
   },
   {
    "duration": 42,
    "start_time": "2023-07-03T19:55:30.806Z"
   },
   {
    "duration": 49,
    "start_time": "2023-07-03T19:55:30.851Z"
   },
   {
    "duration": 26,
    "start_time": "2023-07-03T19:55:30.902Z"
   },
   {
    "duration": 139,
    "start_time": "2023-07-03T19:58:17.495Z"
   },
   {
    "duration": 123,
    "start_time": "2023-07-03T19:58:40.535Z"
   },
   {
    "duration": 134,
    "start_time": "2023-07-03T19:59:54.697Z"
   },
   {
    "duration": 3649,
    "start_time": "2023-07-03T20:00:05.193Z"
   },
   {
    "duration": 939,
    "start_time": "2023-07-03T20:00:08.844Z"
   },
   {
    "duration": 11,
    "start_time": "2023-07-03T20:00:09.785Z"
   },
   {
    "duration": 39,
    "start_time": "2023-07-03T20:00:09.798Z"
   },
   {
    "duration": 8,
    "start_time": "2023-07-03T20:00:09.862Z"
   },
   {
    "duration": 22,
    "start_time": "2023-07-03T20:00:09.871Z"
   },
   {
    "duration": 238,
    "start_time": "2023-07-03T20:00:09.895Z"
   },
   {
    "duration": 43,
    "start_time": "2023-07-03T20:00:10.135Z"
   },
   {
    "duration": 145,
    "start_time": "2023-07-03T20:00:10.180Z"
   },
   {
    "duration": 150,
    "start_time": "2023-07-03T20:00:10.327Z"
   },
   {
    "duration": 5,
    "start_time": "2023-07-03T20:00:10.479Z"
   },
   {
    "duration": 32503,
    "start_time": "2023-07-03T20:00:10.486Z"
   },
   {
    "duration": 3,
    "start_time": "2023-07-03T20:00:42.991Z"
   },
   {
    "duration": 50,
    "start_time": "2023-07-03T20:00:42.997Z"
   },
   {
    "duration": 7,
    "start_time": "2023-07-03T20:00:43.060Z"
   },
   {
    "duration": 163809,
    "start_time": "2023-07-03T20:00:43.068Z"
   },
   {
    "duration": 375,
    "start_time": "2023-07-03T20:03:26.880Z"
   },
   {
    "duration": 165,
    "start_time": "2023-07-03T20:03:27.256Z"
   },
   {
    "duration": 4,
    "start_time": "2023-07-03T20:03:27.423Z"
   },
   {
    "duration": 15,
    "start_time": "2023-07-03T20:03:27.430Z"
   },
   {
    "duration": 14,
    "start_time": "2023-07-03T20:03:27.447Z"
   },
   {
    "duration": 69,
    "start_time": "2023-07-03T20:03:27.464Z"
   },
   {
    "duration": 20,
    "start_time": "2023-07-03T20:03:27.536Z"
   },
   {
    "duration": 32,
    "start_time": "2023-07-03T20:03:27.562Z"
   },
   {
    "duration": 12,
    "start_time": "2023-07-03T20:03:27.596Z"
   },
   {
    "duration": 3032196,
    "start_time": "2023-07-03T20:09:27.487Z"
   },
   {
    "duration": 2993429,
    "start_time": "2023-07-03T21:00:45.739Z"
   },
   {
    "duration": 591,
    "start_time": "2023-07-04T17:46:40.561Z"
   },
   {
    "duration": 3355,
    "start_time": "2023-07-04T17:46:48.663Z"
   },
   {
    "duration": 2812,
    "start_time": "2023-07-04T17:46:52.020Z"
   },
   {
    "duration": 13,
    "start_time": "2023-07-04T17:46:54.833Z"
   },
   {
    "duration": 52,
    "start_time": "2023-07-04T17:46:54.848Z"
   },
   {
    "duration": 6,
    "start_time": "2023-07-04T17:46:54.903Z"
   },
   {
    "duration": 18,
    "start_time": "2023-07-04T17:46:54.912Z"
   },
   {
    "duration": 282,
    "start_time": "2023-07-04T17:46:54.932Z"
   },
   {
    "duration": 33,
    "start_time": "2023-07-04T17:46:55.216Z"
   },
   {
    "duration": 155,
    "start_time": "2023-07-04T17:46:55.251Z"
   },
   {
    "duration": 174,
    "start_time": "2023-07-04T17:46:55.408Z"
   },
   {
    "duration": 7,
    "start_time": "2023-07-04T17:46:55.586Z"
   },
   {
    "duration": 30102,
    "start_time": "2023-07-04T17:46:55.595Z"
   },
   {
    "duration": 3,
    "start_time": "2023-07-04T17:47:25.703Z"
   },
   {
    "duration": 40,
    "start_time": "2023-07-04T17:47:25.714Z"
   },
   {
    "duration": 5,
    "start_time": "2023-07-04T17:47:25.756Z"
   },
   {
    "duration": 158426,
    "start_time": "2023-07-04T17:47:25.763Z"
   },
   {
    "duration": 2977493,
    "start_time": "2023-07-04T17:50:04.194Z"
   },
   {
    "duration": 2880,
    "start_time": "2023-07-04T19:16:08.621Z"
   },
   {
    "duration": 837,
    "start_time": "2023-07-04T19:16:11.503Z"
   },
   {
    "duration": 11,
    "start_time": "2023-07-04T19:16:12.341Z"
   },
   {
    "duration": 52,
    "start_time": "2023-07-04T19:16:12.353Z"
   },
   {
    "duration": 5,
    "start_time": "2023-07-04T19:16:12.408Z"
   },
   {
    "duration": 18,
    "start_time": "2023-07-04T19:16:12.414Z"
   },
   {
    "duration": 249,
    "start_time": "2023-07-04T19:16:12.434Z"
   },
   {
    "duration": 36,
    "start_time": "2023-07-04T19:16:12.684Z"
   },
   {
    "duration": 125,
    "start_time": "2023-07-04T19:16:12.722Z"
   },
   {
    "duration": 199,
    "start_time": "2023-07-04T19:16:12.849Z"
   },
   {
    "duration": 4,
    "start_time": "2023-07-04T19:16:13.050Z"
   },
   {
    "duration": 27539,
    "start_time": "2023-07-04T19:16:13.056Z"
   },
   {
    "duration": 3,
    "start_time": "2023-07-04T19:16:40.597Z"
   },
   {
    "duration": 45,
    "start_time": "2023-07-04T19:16:40.602Z"
   },
   {
    "duration": 13,
    "start_time": "2023-07-04T19:16:40.649Z"
   },
   {
    "duration": 167043,
    "start_time": "2023-07-04T19:16:40.663Z"
   },
   {
    "duration": 2920515,
    "start_time": "2023-07-04T19:19:27.708Z"
   },
   {
    "duration": 271,
    "start_time": "2023-07-04T20:08:08.225Z"
   },
   {
    "duration": 3,
    "start_time": "2023-07-04T20:08:08.498Z"
   },
   {
    "duration": 28,
    "start_time": "2023-07-04T20:08:08.503Z"
   },
   {
    "duration": 6,
    "start_time": "2023-07-04T20:08:08.532Z"
   },
   {
    "duration": 6,
    "start_time": "2023-07-04T20:08:08.539Z"
   },
   {
    "duration": 6,
    "start_time": "2023-07-04T20:08:08.546Z"
   },
   {
    "duration": 7,
    "start_time": "2023-07-04T20:08:08.553Z"
   },
   {
    "duration": 6,
    "start_time": "2023-07-04T20:08:08.562Z"
   },
   {
    "duration": 2633361,
    "start_time": "2023-07-04T20:30:13.259Z"
   },
   {
    "duration": 1448,
    "start_time": "2023-07-04T21:14:35.737Z"
   },
   {
    "duration": 1499,
    "start_time": "2023-07-04T21:14:55.020Z"
   },
   {
    "duration": 17612,
    "start_time": "2023-07-04T21:15:15.529Z"
   },
   {
    "duration": 1957,
    "start_time": "2023-07-04T21:15:41.553Z"
   },
   {
    "duration": 2000,
    "start_time": "2023-07-04T21:15:55.250Z"
   },
   {
    "duration": 14,
    "start_time": "2023-07-04T21:16:16.700Z"
   },
   {
    "duration": 9,
    "start_time": "2023-07-04T21:16:58.316Z"
   },
   {
    "duration": 3094,
    "start_time": "2023-07-05T15:54:45.488Z"
   },
   {
    "duration": 2675,
    "start_time": "2023-07-05T15:54:48.795Z"
   },
   {
    "duration": 20,
    "start_time": "2023-07-05T15:54:51.472Z"
   },
   {
    "duration": 32,
    "start_time": "2023-07-05T15:54:58.398Z"
   },
   {
    "duration": 5,
    "start_time": "2023-07-05T15:55:01.308Z"
   },
   {
    "duration": 11,
    "start_time": "2023-07-05T15:55:05.452Z"
   },
   {
    "duration": 223,
    "start_time": "2023-07-05T15:55:11.789Z"
   },
   {
    "duration": 34,
    "start_time": "2023-07-05T15:55:15.791Z"
   },
   {
    "duration": 474,
    "start_time": "2023-07-05T15:55:21.308Z"
   },
   {
    "duration": 335,
    "start_time": "2023-07-05T15:55:26.693Z"
   },
   {
    "duration": 82,
    "start_time": "2023-07-05T15:55:32.279Z"
   },
   {
    "duration": 128,
    "start_time": "2023-07-05T15:55:44.797Z"
   },
   {
    "duration": 845,
    "start_time": "2023-07-05T15:55:54.918Z"
   },
   {
    "duration": 1575,
    "start_time": "2023-07-05T15:58:25.151Z"
   },
   {
    "duration": 3,
    "start_time": "2023-07-05T16:01:16.600Z"
   },
   {
    "duration": 11,
    "start_time": "2023-07-05T16:01:18.720Z"
   },
   {
    "duration": 736,
    "start_time": "2023-07-05T16:01:36.128Z"
   },
   {
    "duration": 3,
    "start_time": "2023-07-05T16:01:40.656Z"
   },
   {
    "duration": 597,
    "start_time": "2023-07-05T16:01:43.160Z"
   },
   {
    "duration": 4,
    "start_time": "2023-07-05T16:02:03.808Z"
   },
   {
    "duration": 5121,
    "start_time": "2023-07-05T16:02:06.705Z"
   },
   {
    "duration": 4279,
    "start_time": "2023-07-05T16:02:33.913Z"
   },
   {
    "duration": 5,
    "start_time": "2023-07-05T16:04:11.298Z"
   },
   {
    "duration": 4,
    "start_time": "2023-07-05T16:04:21.419Z"
   },
   {
    "duration": 724,
    "start_time": "2023-07-05T16:04:24.843Z"
   },
   {
    "duration": 5,
    "start_time": "2023-07-05T16:05:26.591Z"
   },
   {
    "duration": 2743,
    "start_time": "2023-07-05T16:06:55.428Z"
   },
   {
    "duration": 882,
    "start_time": "2023-07-05T16:06:59.028Z"
   },
   {
    "duration": 14,
    "start_time": "2023-07-05T16:07:01.387Z"
   },
   {
    "duration": 35,
    "start_time": "2023-07-05T16:07:07.259Z"
   },
   {
    "duration": 5,
    "start_time": "2023-07-05T16:07:08.659Z"
   },
   {
    "duration": 11,
    "start_time": "2023-07-05T16:07:11.403Z"
   },
   {
    "duration": 225,
    "start_time": "2023-07-05T16:07:13.423Z"
   },
   {
    "duration": 31,
    "start_time": "2023-07-05T16:07:15.396Z"
   },
   {
    "duration": 227,
    "start_time": "2023-07-05T16:07:17.724Z"
   },
   {
    "duration": 270,
    "start_time": "2023-07-05T16:07:21.548Z"
   },
   {
    "duration": 3,
    "start_time": "2023-07-05T16:07:24.128Z"
   },
   {
    "duration": 5624,
    "start_time": "2023-07-05T16:07:26.023Z"
   },
   {
    "duration": 625,
    "start_time": "2023-07-05T16:07:36.291Z"
   },
   {
    "duration": 689,
    "start_time": "2023-07-05T16:10:26.333Z"
   },
   {
    "duration": 484,
    "start_time": "2023-07-05T16:14:42.802Z"
   },
   {
    "duration": 92249,
    "start_time": "2023-07-05T16:15:05.298Z"
   },
   {
    "duration": 6,
    "start_time": "2023-07-05T16:18:00.183Z"
   },
   {
    "duration": 864,
    "start_time": "2023-07-05T16:18:00.191Z"
   },
   {
    "duration": 9,
    "start_time": "2023-07-05T16:18:01.057Z"
   },
   {
    "duration": 73,
    "start_time": "2023-07-05T16:18:01.067Z"
   },
   {
    "duration": 23,
    "start_time": "2023-07-05T16:18:01.142Z"
   },
   {
    "duration": 66,
    "start_time": "2023-07-05T16:18:01.167Z"
   },
   {
    "duration": 250,
    "start_time": "2023-07-05T16:18:01.235Z"
   },
   {
    "duration": 32,
    "start_time": "2023-07-05T16:18:01.487Z"
   },
   {
    "duration": 126,
    "start_time": "2023-07-05T16:18:01.521Z"
   },
   {
    "duration": 4,
    "start_time": "2023-07-05T16:18:01.649Z"
   },
   {
    "duration": 62,
    "start_time": "2023-07-05T16:18:01.655Z"
   },
   {
    "duration": 5224,
    "start_time": "2023-07-05T16:18:01.719Z"
   },
   {
    "duration": 95521,
    "start_time": "2023-07-05T16:18:12.709Z"
   },
   {
    "duration": 5,
    "start_time": "2023-07-05T16:21:41.507Z"
   },
   {
    "duration": 776,
    "start_time": "2023-07-05T16:21:41.514Z"
   },
   {
    "duration": 8,
    "start_time": "2023-07-05T16:21:42.292Z"
   },
   {
    "duration": 38,
    "start_time": "2023-07-05T16:21:42.302Z"
   },
   {
    "duration": 4,
    "start_time": "2023-07-05T16:21:42.341Z"
   },
   {
    "duration": 17,
    "start_time": "2023-07-05T16:21:42.347Z"
   },
   {
    "duration": 207,
    "start_time": "2023-07-05T16:21:42.375Z"
   },
   {
    "duration": 29,
    "start_time": "2023-07-05T16:21:42.584Z"
   },
   {
    "duration": 117,
    "start_time": "2023-07-05T16:21:42.615Z"
   },
   {
    "duration": 5,
    "start_time": "2023-07-05T16:21:42.734Z"
   },
   {
    "duration": 19,
    "start_time": "2023-07-05T16:21:42.740Z"
   },
   {
    "duration": 5103,
    "start_time": "2023-07-05T16:21:42.761Z"
   },
   {
    "duration": 565,
    "start_time": "2023-07-05T16:21:47.866Z"
   },
   {
    "duration": 5,
    "start_time": "2023-07-05T16:25:34.264Z"
   },
   {
    "duration": 813,
    "start_time": "2023-07-05T16:25:34.271Z"
   },
   {
    "duration": 7,
    "start_time": "2023-07-05T16:25:35.086Z"
   },
   {
    "duration": 42,
    "start_time": "2023-07-05T16:25:35.095Z"
   },
   {
    "duration": 13,
    "start_time": "2023-07-05T16:25:35.140Z"
   },
   {
    "duration": 19,
    "start_time": "2023-07-05T16:25:35.155Z"
   },
   {
    "duration": 227,
    "start_time": "2023-07-05T16:25:35.177Z"
   },
   {
    "duration": 30,
    "start_time": "2023-07-05T16:25:35.405Z"
   },
   {
    "duration": 109,
    "start_time": "2023-07-05T16:25:35.436Z"
   },
   {
    "duration": 336,
    "start_time": "2023-07-05T16:25:35.547Z"
   },
   {
    "duration": 5,
    "start_time": "2023-07-05T16:25:35.884Z"
   },
   {
    "duration": 5064,
    "start_time": "2023-07-05T16:25:35.890Z"
   },
   {
    "duration": 4526993,
    "start_time": "2023-07-05T16:25:40.956Z"
   },
   {
    "duration": 7,
    "start_time": "2023-07-05T17:45:56.477Z"
   },
   {
    "duration": 6,
    "start_time": "2023-07-05T17:50:09.868Z"
   },
   {
    "duration": 4,
    "start_time": "2023-07-05T17:50:18.910Z"
   },
   {
    "duration": 2831,
    "start_time": "2023-07-05T17:52:10.799Z"
   },
   {
    "duration": 809,
    "start_time": "2023-07-05T17:52:13.632Z"
   },
   {
    "duration": 15,
    "start_time": "2023-07-05T17:52:14.443Z"
   },
   {
    "duration": 48,
    "start_time": "2023-07-05T17:52:14.459Z"
   },
   {
    "duration": 4,
    "start_time": "2023-07-05T17:52:14.510Z"
   },
   {
    "duration": 19,
    "start_time": "2023-07-05T17:52:14.515Z"
   },
   {
    "duration": 221,
    "start_time": "2023-07-05T17:52:14.535Z"
   },
   {
    "duration": 36,
    "start_time": "2023-07-05T17:52:14.758Z"
   },
   {
    "duration": 256,
    "start_time": "2023-07-05T17:52:14.795Z"
   },
   {
    "duration": 241,
    "start_time": "2023-07-05T17:52:15.052Z"
   },
   {
    "duration": 5,
    "start_time": "2023-07-05T17:52:15.294Z"
   },
   {
    "duration": 3836,
    "start_time": "2023-07-05T17:52:15.301Z"
   },
   {
    "duration": 4,
    "start_time": "2023-07-05T17:52:19.139Z"
   },
   {
    "duration": 17,
    "start_time": "2023-07-05T17:52:19.145Z"
   },
   {
    "duration": 187,
    "start_time": "2023-07-05T17:52:19.163Z"
   },
   {
    "duration": 1272,
    "start_time": "2023-07-05T17:52:50.758Z"
   },
   {
    "duration": 2539,
    "start_time": "2023-07-05T17:55:08.693Z"
   },
   {
    "duration": 837,
    "start_time": "2023-07-05T17:55:11.234Z"
   },
   {
    "duration": 13,
    "start_time": "2023-07-05T17:55:12.073Z"
   },
   {
    "duration": 36,
    "start_time": "2023-07-05T17:55:12.087Z"
   },
   {
    "duration": 5,
    "start_time": "2023-07-05T17:55:12.125Z"
   },
   {
    "duration": 18,
    "start_time": "2023-07-05T17:55:12.131Z"
   },
   {
    "duration": 233,
    "start_time": "2023-07-05T17:55:12.151Z"
   },
   {
    "duration": 30,
    "start_time": "2023-07-05T17:55:12.385Z"
   },
   {
    "duration": 237,
    "start_time": "2023-07-05T17:55:12.417Z"
   },
   {
    "duration": 202,
    "start_time": "2023-07-05T17:55:12.656Z"
   },
   {
    "duration": 4,
    "start_time": "2023-07-05T17:55:12.860Z"
   },
   {
    "duration": 3957,
    "start_time": "2023-07-05T17:55:12.865Z"
   },
   {
    "duration": 6,
    "start_time": "2023-07-05T17:55:16.824Z"
   },
   {
    "duration": 21,
    "start_time": "2023-07-05T17:55:16.832Z"
   },
   {
    "duration": 1339,
    "start_time": "2023-07-05T17:55:16.855Z"
   },
   {
    "duration": 2670,
    "start_time": "2023-07-05T17:58:06.653Z"
   },
   {
    "duration": 823,
    "start_time": "2023-07-05T17:58:09.325Z"
   },
   {
    "duration": 16,
    "start_time": "2023-07-05T17:58:10.149Z"
   },
   {
    "duration": 39,
    "start_time": "2023-07-05T17:58:10.175Z"
   },
   {
    "duration": 11,
    "start_time": "2023-07-05T17:58:10.216Z"
   },
   {
    "duration": 50,
    "start_time": "2023-07-05T17:58:10.229Z"
   },
   {
    "duration": 243,
    "start_time": "2023-07-05T17:58:10.281Z"
   },
   {
    "duration": 31,
    "start_time": "2023-07-05T17:58:10.526Z"
   },
   {
    "duration": 265,
    "start_time": "2023-07-05T17:58:10.559Z"
   },
   {
    "duration": 155,
    "start_time": "2023-07-05T17:58:10.826Z"
   },
   {
    "duration": 3,
    "start_time": "2023-07-05T17:58:10.983Z"
   },
   {
    "duration": 3892,
    "start_time": "2023-07-05T17:58:10.988Z"
   },
   {
    "duration": 1073404,
    "start_time": "2023-07-05T17:58:14.881Z"
   },
   {
    "duration": 3,
    "start_time": "2023-07-05T18:23:11.275Z"
   },
   {
    "duration": 32,
    "start_time": "2023-07-05T18:23:18.915Z"
   },
   {
    "duration": 344722,
    "start_time": "2023-07-05T18:25:46.454Z"
   },
   {
    "duration": 104,
    "start_time": "2023-07-05T18:31:31.179Z"
   },
   {
    "duration": 0,
    "start_time": "2023-07-05T18:31:31.284Z"
   },
   {
    "duration": 2705585,
    "start_time": "2023-07-05T18:34:22.340Z"
   },
   {
    "duration": 2515025,
    "start_time": "2023-07-05T19:21:18.089Z"
   },
   {
    "duration": 10,
    "start_time": "2023-07-05T20:09:47.909Z"
   },
   {
    "duration": 5897,
    "start_time": "2023-07-05T20:18:00.394Z"
   },
   {
    "duration": 8,
    "start_time": "2023-07-05T20:19:28.886Z"
   }
  ],
  "kernelspec": {
   "display_name": "Python 3 (ipykernel)",
   "language": "python",
   "name": "python3"
  },
  "language_info": {
   "codemirror_mode": {
    "name": "ipython",
    "version": 3
   },
   "file_extension": ".py",
   "mimetype": "text/x-python",
   "name": "python",
   "nbconvert_exporter": "python",
   "pygments_lexer": "ipython3",
   "version": "3.9.5"
  },
  "toc": {
   "base_numbering": 1,
   "nav_menu": {},
   "number_sections": true,
   "sideBar": true,
   "skip_h1_title": true,
   "title_cell": "Содержание",
   "title_sidebar": "Contents",
   "toc_cell": true,
   "toc_position": {
    "height": "calc(100% - 180px)",
    "left": "10px",
    "top": "150px",
    "width": "302.391px"
   },
   "toc_section_display": true,
   "toc_window_display": false
  }
 },
 "nbformat": 4,
 "nbformat_minor": 2
}
